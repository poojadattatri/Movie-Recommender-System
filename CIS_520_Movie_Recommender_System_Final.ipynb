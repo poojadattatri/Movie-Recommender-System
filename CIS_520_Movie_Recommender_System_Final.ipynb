{
  "nbformat": 4,
  "nbformat_minor": 0,
  "metadata": {
    "colab": {
      "provenance": []
    },
    "kernelspec": {
      "name": "python3",
      "display_name": "Python 3"
    },
    "language_info": {
      "name": "python"
    }
  },
  "cells": [
    {
      "cell_type": "markdown",
      "source": [
        "## Ensemble Learning for Movie Recommendation System"
      ],
      "metadata": {
        "id": "zd47ThLubQ1C"
      }
    },
    {
      "cell_type": "code",
      "execution_count": null,
      "metadata": {
        "id": "j7IVuKohcPYy"
      },
      "outputs": [],
      "source": [
        "import pandas as pd\n",
        "import numpy as np\n",
        "from sklearn.model_selection import train_test_split\n",
        "from sklearn.neighbors import NearestNeighbors\n",
        "from scipy.sparse import csr_matrix\n",
        "import matplotlib.pyplot as plt\n",
        "import sklearn\n",
        "from sklearn import linear_model\n",
        "from sklearn.ensemble import GradientBoostingRegressor\n",
        "from sklearn.svm import SVR\n",
        "import torch\n",
        "import torch.nn as nn"
      ]
    },
    {
      "cell_type": "markdown",
      "source": [
        "## Dataset Description and Visualtion"
      ],
      "metadata": {
        "id": "P5JGJaFoTVCq"
      }
    },
    {
      "cell_type": "markdown",
      "source": [
        "### Ratings"
      ],
      "metadata": {
        "id": "ARExDK64m0RT"
      }
    },
    {
      "cell_type": "code",
      "execution_count": null,
      "metadata": {
        "colab": {
          "base_uri": "https://localhost:8080/"
        },
        "id": "StQNFuHHcCkT",
        "outputId": "9b905a33-c53a-42f1-f6c6-147709dacceb"
      },
      "outputs": [
        {
          "output_type": "stream",
          "name": "stdout",
          "text": [
            "Number of users: 610\n",
            "Number of movies: 9724\n",
            "Number of user ratings: 100836\n"
          ]
        }
      ],
      "source": [
        "ratings_df = pd.read_csv('ratings_small.csv',index_col=False,usecols=['userId','movieId','rating'],dtype={'userId':'int32','movieId':'int32','rating':'float32'})\n",
        "n_users = ratings_df['userId'].nunique()\n",
        "n_movies = ratings_df['movieId'].nunique()\n",
        "print('Number of users: '+str(ratings_df['userId'].nunique()))\n",
        "print('Number of movies: '+str(ratings_df['movieId'].nunique()))\n",
        "print('Number of user ratings: '+str(len(ratings_df)))"
      ]
    },
    {
      "cell_type": "code",
      "source": [
        "ratings_df.head(10)"
      ],
      "metadata": {
        "colab": {
          "base_uri": "https://localhost:8080/",
          "height": 363
        },
        "id": "eKzURDzgTfi6",
        "outputId": "30158a75-7cb4-4489-b0ca-ef81cce1138b"
      },
      "execution_count": null,
      "outputs": [
        {
          "output_type": "execute_result",
          "data": {
            "text/html": [
              "<div>\n",
              "<style scoped>\n",
              "    .dataframe tbody tr th:only-of-type {\n",
              "        vertical-align: middle;\n",
              "    }\n",
              "\n",
              "    .dataframe tbody tr th {\n",
              "        vertical-align: top;\n",
              "    }\n",
              "\n",
              "    .dataframe thead th {\n",
              "        text-align: right;\n",
              "    }\n",
              "</style>\n",
              "<table border=\"1\" class=\"dataframe\">\n",
              "  <thead>\n",
              "    <tr style=\"text-align: right;\">\n",
              "      <th></th>\n",
              "      <th>userId</th>\n",
              "      <th>movieId</th>\n",
              "      <th>rating</th>\n",
              "    </tr>\n",
              "  </thead>\n",
              "  <tbody>\n",
              "    <tr>\n",
              "      <th>0</th>\n",
              "      <td>1</td>\n",
              "      <td>1</td>\n",
              "      <td>4.0</td>\n",
              "    </tr>\n",
              "    <tr>\n",
              "      <th>1</th>\n",
              "      <td>1</td>\n",
              "      <td>3</td>\n",
              "      <td>4.0</td>\n",
              "    </tr>\n",
              "    <tr>\n",
              "      <th>2</th>\n",
              "      <td>1</td>\n",
              "      <td>6</td>\n",
              "      <td>4.0</td>\n",
              "    </tr>\n",
              "    <tr>\n",
              "      <th>3</th>\n",
              "      <td>1</td>\n",
              "      <td>47</td>\n",
              "      <td>5.0</td>\n",
              "    </tr>\n",
              "    <tr>\n",
              "      <th>4</th>\n",
              "      <td>1</td>\n",
              "      <td>50</td>\n",
              "      <td>5.0</td>\n",
              "    </tr>\n",
              "    <tr>\n",
              "      <th>5</th>\n",
              "      <td>1</td>\n",
              "      <td>70</td>\n",
              "      <td>3.0</td>\n",
              "    </tr>\n",
              "    <tr>\n",
              "      <th>6</th>\n",
              "      <td>1</td>\n",
              "      <td>101</td>\n",
              "      <td>5.0</td>\n",
              "    </tr>\n",
              "    <tr>\n",
              "      <th>7</th>\n",
              "      <td>1</td>\n",
              "      <td>110</td>\n",
              "      <td>4.0</td>\n",
              "    </tr>\n",
              "    <tr>\n",
              "      <th>8</th>\n",
              "      <td>1</td>\n",
              "      <td>151</td>\n",
              "      <td>5.0</td>\n",
              "    </tr>\n",
              "    <tr>\n",
              "      <th>9</th>\n",
              "      <td>1</td>\n",
              "      <td>157</td>\n",
              "      <td>5.0</td>\n",
              "    </tr>\n",
              "  </tbody>\n",
              "</table>\n",
              "</div>"
            ],
            "text/plain": [
              "   userId  movieId  rating\n",
              "0       1        1     4.0\n",
              "1       1        3     4.0\n",
              "2       1        6     4.0\n",
              "3       1       47     5.0\n",
              "4       1       50     5.0\n",
              "5       1       70     3.0\n",
              "6       1      101     5.0\n",
              "7       1      110     4.0\n",
              "8       1      151     5.0\n",
              "9       1      157     5.0"
            ]
          },
          "metadata": {},
          "execution_count": 8
        }
      ]
    },
    {
      "cell_type": "markdown",
      "source": [
        "Data Sparsity: Only 1.6% ratings"
      ],
      "metadata": {
        "id": "P0R9lxqYoP-W"
      }
    },
    {
      "cell_type": "code",
      "source": [
        "ratings_df.shape[0]/(n_movies*n_users)"
      ],
      "metadata": {
        "colab": {
          "base_uri": "https://localhost:8080/"
        },
        "id": "uCgEIcpdn-GN",
        "outputId": "ad5d071b-9ee4-47d8-9985-8a9429e267b0"
      },
      "execution_count": null,
      "outputs": [
        {
          "output_type": "execute_result",
          "data": {
            "text/plain": [
              "0.016999683055613623"
            ]
          },
          "metadata": {},
          "execution_count": 6
        }
      ]
    },
    {
      "cell_type": "markdown",
      "source": [
        "### Movies"
      ],
      "metadata": {
        "id": "F8CvZF1KXPTp"
      }
    },
    {
      "cell_type": "code",
      "source": [
        "movies_df = pd.read_csv('movies.csv')\n",
        "movies_df.head()"
      ],
      "metadata": {
        "colab": {
          "base_uri": "https://localhost:8080/",
          "height": 206
        },
        "id": "9EzS-f9wXT_s",
        "outputId": "9ec88d5e-8fdd-4bc8-fbec-2ec0bf8ee611"
      },
      "execution_count": null,
      "outputs": [
        {
          "output_type": "execute_result",
          "data": {
            "text/html": [
              "<div>\n",
              "<style scoped>\n",
              "    .dataframe tbody tr th:only-of-type {\n",
              "        vertical-align: middle;\n",
              "    }\n",
              "\n",
              "    .dataframe tbody tr th {\n",
              "        vertical-align: top;\n",
              "    }\n",
              "\n",
              "    .dataframe thead th {\n",
              "        text-align: right;\n",
              "    }\n",
              "</style>\n",
              "<table border=\"1\" class=\"dataframe\">\n",
              "  <thead>\n",
              "    <tr style=\"text-align: right;\">\n",
              "      <th></th>\n",
              "      <th>movieId</th>\n",
              "      <th>title</th>\n",
              "      <th>genres</th>\n",
              "    </tr>\n",
              "  </thead>\n",
              "  <tbody>\n",
              "    <tr>\n",
              "      <th>0</th>\n",
              "      <td>1</td>\n",
              "      <td>Toy Story (1995)</td>\n",
              "      <td>Adventure|Animation|Children|Comedy|Fantasy</td>\n",
              "    </tr>\n",
              "    <tr>\n",
              "      <th>1</th>\n",
              "      <td>2</td>\n",
              "      <td>Jumanji (1995)</td>\n",
              "      <td>Adventure|Children|Fantasy</td>\n",
              "    </tr>\n",
              "    <tr>\n",
              "      <th>2</th>\n",
              "      <td>3</td>\n",
              "      <td>Grumpier Old Men (1995)</td>\n",
              "      <td>Comedy|Romance</td>\n",
              "    </tr>\n",
              "    <tr>\n",
              "      <th>3</th>\n",
              "      <td>4</td>\n",
              "      <td>Waiting to Exhale (1995)</td>\n",
              "      <td>Comedy|Drama|Romance</td>\n",
              "    </tr>\n",
              "    <tr>\n",
              "      <th>4</th>\n",
              "      <td>5</td>\n",
              "      <td>Father of the Bride Part II (1995)</td>\n",
              "      <td>Comedy</td>\n",
              "    </tr>\n",
              "  </tbody>\n",
              "</table>\n",
              "</div>"
            ],
            "text/plain": [
              "   movieId  ...                                       genres\n",
              "0        1  ...  Adventure|Animation|Children|Comedy|Fantasy\n",
              "1        2  ...                   Adventure|Children|Fantasy\n",
              "2        3  ...                               Comedy|Romance\n",
              "3        4  ...                         Comedy|Drama|Romance\n",
              "4        5  ...                                       Comedy\n",
              "\n",
              "[5 rows x 3 columns]"
            ]
          },
          "metadata": {},
          "execution_count": 12
        }
      ]
    },
    {
      "cell_type": "markdown",
      "source": [
        "Top-10 Rated Movies"
      ],
      "metadata": {
        "id": "Vu8Kyb5BXpmy"
      }
    },
    {
      "cell_type": "code",
      "source": [
        "x = ratings_df.groupby('movieId',as_index=False).userId.count()\n",
        "movie = pd.merge(movies_df,x,how='outer',on='movieId')\n",
        "movie.sort_values('userId',ascending=False,inplace=True)\n",
        "movie = movie.rename({'userId': 'no_of_ratings'}, axis=1)\n",
        "movie.head(10)"
      ],
      "metadata": {
        "colab": {
          "base_uri": "https://localhost:8080/",
          "height": 363
        },
        "id": "5YaKT-w7XboV",
        "outputId": "f12d33f7-d3ef-44c2-fe62-d897d52fddcb"
      },
      "execution_count": null,
      "outputs": [
        {
          "output_type": "execute_result",
          "data": {
            "text/html": [
              "<div>\n",
              "<style scoped>\n",
              "    .dataframe tbody tr th:only-of-type {\n",
              "        vertical-align: middle;\n",
              "    }\n",
              "\n",
              "    .dataframe tbody tr th {\n",
              "        vertical-align: top;\n",
              "    }\n",
              "\n",
              "    .dataframe thead th {\n",
              "        text-align: right;\n",
              "    }\n",
              "</style>\n",
              "<table border=\"1\" class=\"dataframe\">\n",
              "  <thead>\n",
              "    <tr style=\"text-align: right;\">\n",
              "      <th></th>\n",
              "      <th>movieId</th>\n",
              "      <th>title</th>\n",
              "      <th>genres</th>\n",
              "      <th>no_of_ratings</th>\n",
              "    </tr>\n",
              "  </thead>\n",
              "  <tbody>\n",
              "    <tr>\n",
              "      <th>314</th>\n",
              "      <td>356</td>\n",
              "      <td>Forrest Gump (1994)</td>\n",
              "      <td>Comedy|Drama|Romance|War</td>\n",
              "      <td>329.0</td>\n",
              "    </tr>\n",
              "    <tr>\n",
              "      <th>277</th>\n",
              "      <td>318</td>\n",
              "      <td>Shawshank Redemption, The (1994)</td>\n",
              "      <td>Crime|Drama</td>\n",
              "      <td>317.0</td>\n",
              "    </tr>\n",
              "    <tr>\n",
              "      <th>257</th>\n",
              "      <td>296</td>\n",
              "      <td>Pulp Fiction (1994)</td>\n",
              "      <td>Comedy|Crime|Drama|Thriller</td>\n",
              "      <td>307.0</td>\n",
              "    </tr>\n",
              "    <tr>\n",
              "      <th>510</th>\n",
              "      <td>593</td>\n",
              "      <td>Silence of the Lambs, The (1991)</td>\n",
              "      <td>Crime|Horror|Thriller</td>\n",
              "      <td>279.0</td>\n",
              "    </tr>\n",
              "    <tr>\n",
              "      <th>1939</th>\n",
              "      <td>2571</td>\n",
              "      <td>Matrix, The (1999)</td>\n",
              "      <td>Action|Sci-Fi|Thriller</td>\n",
              "      <td>278.0</td>\n",
              "    </tr>\n",
              "    <tr>\n",
              "      <th>224</th>\n",
              "      <td>260</td>\n",
              "      <td>Star Wars: Episode IV - A New Hope (1977)</td>\n",
              "      <td>Action|Adventure|Sci-Fi</td>\n",
              "      <td>251.0</td>\n",
              "    </tr>\n",
              "    <tr>\n",
              "      <th>418</th>\n",
              "      <td>480</td>\n",
              "      <td>Jurassic Park (1993)</td>\n",
              "      <td>Action|Adventure|Sci-Fi|Thriller</td>\n",
              "      <td>238.0</td>\n",
              "    </tr>\n",
              "    <tr>\n",
              "      <th>97</th>\n",
              "      <td>110</td>\n",
              "      <td>Braveheart (1995)</td>\n",
              "      <td>Action|Drama|War</td>\n",
              "      <td>237.0</td>\n",
              "    </tr>\n",
              "    <tr>\n",
              "      <th>507</th>\n",
              "      <td>589</td>\n",
              "      <td>Terminator 2: Judgment Day (1991)</td>\n",
              "      <td>Action|Sci-Fi</td>\n",
              "      <td>224.0</td>\n",
              "    </tr>\n",
              "    <tr>\n",
              "      <th>461</th>\n",
              "      <td>527</td>\n",
              "      <td>Schindler's List (1993)</td>\n",
              "      <td>Drama|War</td>\n",
              "      <td>220.0</td>\n",
              "    </tr>\n",
              "  </tbody>\n",
              "</table>\n",
              "</div>"
            ],
            "text/plain": [
              "      movieId  ... no_of_ratings\n",
              "314       356  ...         329.0\n",
              "277       318  ...         317.0\n",
              "257       296  ...         307.0\n",
              "510       593  ...         279.0\n",
              "1939     2571  ...         278.0\n",
              "224       260  ...         251.0\n",
              "418       480  ...         238.0\n",
              "97        110  ...         237.0\n",
              "507       589  ...         224.0\n",
              "461       527  ...         220.0\n",
              "\n",
              "[10 rows x 4 columns]"
            ]
          },
          "metadata": {},
          "execution_count": 9
        }
      ]
    },
    {
      "cell_type": "markdown",
      "source": [
        "Top rated movie is Forest Gump (1994) with 329 ratings"
      ],
      "metadata": {
        "id": "L0U1WUUVXfSx"
      }
    },
    {
      "cell_type": "markdown",
      "source": [
        "Movie distribution by Rating count"
      ],
      "metadata": {
        "id": "q3A0lxMTXife"
      }
    },
    {
      "cell_type": "code",
      "source": [
        "p = sorted(list(x['userId']), reverse=True)[:5000]\n",
        "plt.figure(figsize=(9, 3), dpi=100)\n",
        "ax = plt.subplot(111)\n",
        "ax.bar(range(5000), p)\n",
        "plt.xlabel('Movie')\n",
        "plt.ylabel('No. of ratings')\n",
        "plt.title(\"Movie distribution by Rating count\")\n",
        "plt.show()"
      ],
      "metadata": {
        "colab": {
          "base_uri": "https://localhost:8080/",
          "height": 329
        },
        "id": "GAUMjUM1Xlhk",
        "outputId": "a24c1ac7-0160-4f00-c7fe-a1df20f7829e"
      },
      "execution_count": null,
      "outputs": [
        {
          "output_type": "display_data",
          "data": {
            "image/png": "[encoded data removed]",
            "text/plain": [
              "<Figure size 900x300 with 1 Axes>"
            ]
          },
          "metadata": {
            "needs_background": "light"
          }
        }
      ]
    },
    {
      "cell_type": "markdown",
      "source": [
        "## Data Pre-processing"
      ],
      "metadata": {
        "id": "KB6OSNYbnsSp"
      }
    },
    {
      "cell_type": "markdown",
      "source": [
        "Train-test Split"
      ],
      "metadata": {
        "id": "SRpCH4TonF1k"
      }
    },
    {
      "cell_type": "code",
      "execution_count": null,
      "metadata": {
        "id": "b9PFY7m8cKbj"
      },
      "outputs": [],
      "source": [
        "X_train, X_test = train_test_split(ratings_df, test_size=0.10)"
      ]
    },
    {
      "cell_type": "code",
      "source": [
        "unique_movies_train = sorted(X_train['movieId'].unique())\n",
        "X_train_movieid_to_index_map = {unique_movies_train[index]: index for index in range(0,len(unique_movies_train))}\n",
        "unique_movies_test = sorted(X_test['movieId'].unique())\n",
        "X_test_movieid_to_index_map = {unique_movies_test[index]: index for index in range(0,len(unique_movies_test))}\n",
        "\n",
        "unique_users_train = sorted(X_train['userId'].unique())\n",
        "X_train_userid_to_index_map = {unique_users_train[index]: index for index in range(0,len(unique_users_train))}\n",
        "unique_users_test = sorted(X_test['userId'].unique())\n",
        "X_test_userid_to_index_map = {unique_users_test[index]: index for index in range(0,len(unique_users_test))}\n",
        "\n",
        "X_test_updated = [row for idx, row in X_test.iterrows() if row[0] in X_train_userid_to_index_map and row[1] in X_train_movieid_to_index_map]"
      ],
      "metadata": {
        "id": "xr9gqymyTx47"
      },
      "execution_count": null,
      "outputs": []
    },
    {
      "cell_type": "markdown",
      "source": [
        "Convert the dataset into a (movie x user) matrix\n"
      ],
      "metadata": {
        "id": "Vl5jaoryT11y"
      }
    },
    {
      "cell_type": "markdown",
      "source": [
        "Handling Sparsity: Replace n/a values in the (movie x user) matrix with zeros"
      ],
      "metadata": {
        "id": "Y3lgO95IUJYt"
      }
    },
    {
      "cell_type": "code",
      "execution_count": null,
      "metadata": {
        "id": "LvL7dWwBn0zQ"
      },
      "outputs": [],
      "source": [
        "def convert_to_matrix(X_data, n_users, n_movies, X_movieid_to_index_map, X_userid_to_index_map):\n",
        "  data_matrix = np.zeros((n_movies, n_users))\n",
        "  for line in X_data.itertuples():\n",
        "    data_matrix[X_movieid_to_index_map[line[2]], X_userid_to_index_map[line[1]]] = line[3] \n",
        "  return data_matrix"
      ]
    },
    {
      "cell_type": "code",
      "source": [
        "train_data_matrix = convert_to_matrix(X_train, n_users, n_movies, X_train_movieid_to_index_map, X_train_userid_to_index_map)\n",
        "test_data_matrix = convert_to_matrix(X_test, n_users, n_movies, X_test_movieid_to_index_map, X_test_userid_to_index_map)"
      ],
      "metadata": {
        "id": "356CAZoruBBO"
      },
      "execution_count": null,
      "outputs": []
    },
    {
      "cell_type": "markdown",
      "source": [
        "## Base Models"
      ],
      "metadata": {
        "id": "zOaZgd-Va9JZ"
      }
    },
    {
      "cell_type": "markdown",
      "source": [
        "### User Based Collaborative Filtering (UBCF)"
      ],
      "metadata": {
        "id": "GieS7CmPaoSK"
      }
    },
    {
      "cell_type": "markdown",
      "source": [
        "Given a user and a movie, predict what rating the user would give the movie"
      ],
      "metadata": {
        "id": "DWO7rM4RW6u0"
      }
    },
    {
      "cell_type": "code",
      "execution_count": null,
      "metadata": {
        "id": "TM-CWlMkVq7K"
      },
      "outputs": [],
      "source": [
        "def get_average_rating(movie_idxs, user_id, X_train):\n",
        "  ratings = [X_train[movie_idx, user_id] for movie_idx in movie_idxs[0] if X_train[movie_idx, user_id] != 0.0]\n",
        "  if not ratings:\n",
        "    return 0.0\n",
        "  return sum(ratings)/len(ratings)\n",
        "\n",
        "def filter_movies_by_user(user_id, X_train):\n",
        "  # get all movie indices rated by a user\n",
        "  idxs = np.where(X_train[:,user_id] != 0)\n",
        "  return idxs\n",
        "\n",
        "def knn_user_based(train_data_matrix, X_test_csr, k, userId, movieId, num_recommendations, test=True):\n",
        "\n",
        "  # if the user is new, no recommendation is given\n",
        "  if userId not in X_train_userid_to_index_map:\n",
        "    # print(\"No recommmendation (New user)!!\")\n",
        "    return np.nan\n",
        "\n",
        "  # if the movie is new, no recommendation is given\n",
        "  if movieId not in X_train_movieid_to_index_map:\n",
        "    # print(\"No recommmendation (New movie)!!\")\n",
        "    return np.nan\n",
        "\n",
        "  # get all movie indices rated by the user\n",
        "  user_index = X_train_userid_to_index_map[userId]\n",
        "  movie_idxs_rated_by_user = filter_movies_by_user(user_index, train_data_matrix)[0]\n",
        "\n",
        "  # if the user has not rated sufficient movies (atleast k), no recommendation is given\n",
        "  if (len(movie_idxs_rated_by_user) < k):\n",
        "    # print(\"No recommmendation (not enough ratings)!!\")\n",
        "    return np.nan\n",
        "\n",
        "  # filter x_train and keep movies rated by user\n",
        "  X_train_filtered = train_data_matrix[movie_idxs_rated_by_user, :]\n",
        "  \n",
        "  # csr_matrix: ignore zeroes\n",
        "  X_train_csr = csr_matrix(X_train_filtered)\n",
        "  \n",
        "  # fit the model\n",
        "  recommender_knn = NearestNeighbors(metric='cosine',algorithm='brute',n_neighbors=k)\n",
        "  recommender_knn.fit(X_train_csr)\n",
        "\n",
        "  # get the top nearest neighbors for the given movie\n",
        "  # (movie vector as input) -> NN should give num_recommendations which are the most similar to this movie\n",
        "  if test: \n",
        "    movie_idx = X_test_movieid_to_index_map[movieId]\n",
        "    similarity, idxs = recommender_knn.kneighbors(X_test_csr[movie_idx],n_neighbors=num_recommendations+1)\n",
        "  else:\n",
        "    X_train_csr_unfiltered = csr_matrix(train_data_matrix)\n",
        "    movie_idx = X_train_movieid_to_index_map[movieId]\n",
        "    similarity, idxs = recommender_knn.kneighbors(X_train_csr_unfiltered[movie_idx],n_neighbors=num_recommendations+1)\n",
        "  \n",
        "  # return average rating\n",
        "  return get_average_rating(idxs, user_index, X_train_csr)"
      ]
    },
    {
      "cell_type": "markdown",
      "source": [
        "Evaluation using Mean Square Error(MSE)"
      ],
      "metadata": {
        "id": "yhlu_kYwY79m"
      }
    },
    {
      "cell_type": "code",
      "source": [
        "def mse_user_based(train_data_matrix, X_test, test_data_matrix, k, num_recommendations):\n",
        "  X_test_csr = csr_matrix(test_data_matrix)\n",
        "  knn_user_based_ratings = [knn_user_based(train_data_matrix, X_test_csr, k=k, userId=row[0], movieId=row[1], num_recommendations = num_recommendations) for (idx, row) in X_test.iterrows()]\n",
        "  return np.mean([(knn_user_based_ratings[i] - X_test.iloc[[i]]['rating'])**2 for i in range(len(X_test)) if not np.isnan(knn_user_based_ratings[i])])"
      ],
      "metadata": {
        "id": "eDwyYuOLYOzy"
      },
      "execution_count": null,
      "outputs": []
    },
    {
      "cell_type": "code",
      "source": [
        "mse_user_based(train_data_matrix, X_test, test_data_matrix, k = 10, num_recommendations = 5)"
      ],
      "metadata": {
        "id": "z6aSNxpFYfC2",
        "colab": {
          "base_uri": "https://localhost:8080/"
        },
        "outputId": "ea65aaaf-ed07-4b9b-b97e-a85fd0abb8ae"
      },
      "execution_count": null,
      "outputs": [
        {
          "output_type": "execute_result",
          "data": {
            "text/plain": [
              "1.0813273"
            ]
          },
          "metadata": {},
          "execution_count": 34
        }
      ]
    },
    {
      "cell_type": "markdown",
      "source": [
        "Hyperparameter Tuning for k"
      ],
      "metadata": {
        "id": "ib1gYV7WZIYJ"
      }
    },
    {
      "cell_type": "code",
      "source": [
        "mse_user = []\n",
        "for k in range(1, 80, 5):\n",
        "    print(k)\n",
        "    u = mse_user_based(train_data_matrix, X_test, test_data_matrix, k=k, num_recommendations=5)\n",
        "    mse_user.append(u)\n",
        "    print(u)\n",
        "    print(\"----\")"
      ],
      "metadata": {
        "id": "oBhxubAIYuwp",
        "colab": {
          "base_uri": "https://localhost:8080/"
        },
        "outputId": "7da08460-18b1-4b2b-8170-6c8a41f6627b"
      },
      "execution_count": null,
      "outputs": [
        {
          "output_type": "stream",
          "name": "stdout",
          "text": [
            "1\n",
            "1.0746859\n",
            "----\n",
            "6\n",
            "1.0746859\n",
            "----\n",
            "11\n",
            "1.0746859\n",
            "----\n",
            "16\n",
            "1.0746859\n",
            "----\n",
            "21\n",
            "1.0740201\n",
            "----\n",
            "26\n",
            "1.0707664\n",
            "----\n",
            "31\n",
            "1.0699015\n",
            "----\n",
            "36\n",
            "1.0701215\n",
            "----\n",
            "41\n",
            "1.0717214\n",
            "----\n",
            "46\n",
            "1.0756065\n",
            "----\n",
            "51\n",
            "1.0762095\n",
            "----\n",
            "56\n",
            "1.0786185\n",
            "----\n",
            "61\n",
            "1.0766381\n",
            "----\n",
            "66\n",
            "1.0733397\n",
            "----\n",
            "71\n",
            "1.0764004\n",
            "----\n",
            "76\n",
            "1.0728385\n",
            "----\n"
          ]
        }
      ]
    },
    {
      "cell_type": "code",
      "source": [
        "x = [i for i in range(1, 80, 5)]\n",
        "plt.figure()\n",
        "ax = plt.subplot(111)\n",
        "ax.plot(x,mse_user,linewidth=1.5,color='blue')\n",
        "plt.xlabel('K')\n",
        "plt.ylabel('MSE')\n",
        "plt.title(\"Hyperparameter Tuning for UBCF\")\n",
        "plt.show()"
      ],
      "metadata": {
        "id": "CakMSlkcZXXP",
        "colab": {
          "base_uri": "https://localhost:8080/",
          "height": 295
        },
        "outputId": "abc433c7-df1a-446d-eda9-5386de4181a9"
      },
      "execution_count": null,
      "outputs": [
        {
          "output_type": "display_data",
          "data": {
            "image/png": "[encoded data removed]",
            "text/plain": [
              "<Figure size 432x288 with 1 Axes>"
            ]
          },
          "metadata": {
            "needs_background": "light"
          }
        }
      ]
    },
    {
      "cell_type": "markdown",
      "source": [
        "Optimal K (UBCF): 35"
      ],
      "metadata": {
        "id": "plOsXErBs-Zv"
      }
    },
    {
      "cell_type": "markdown",
      "source": [
        "### Movie Based Collaborative Filtering (IBCF)"
      ],
      "metadata": {
        "id": "t6uq1mzgpqoP"
      }
    },
    {
      "cell_type": "markdown",
      "source": [
        "Given a user and a movie, predict what rating the user would give the movie"
      ],
      "metadata": {
        "id": "eEgrc6bxpqob"
      }
    },
    {
      "cell_type": "code",
      "source": [
        "def filter_users_by_movie(movie_index, X_train):\n",
        "  # get all user indices who have rated a movie\n",
        "  idxs = np.where(X_train[movie_index,:] != 0)\n",
        "  return idxs\n",
        "\n",
        "def get_average_rating_user(user_idxs, movie_index, X_train):\n",
        "  ratings = [X_train[user_index, movie_index] for user_index in user_idxs[0] if X_train[user_index, movie_index] != 0.0]\n",
        "  if not ratings:\n",
        "    return 0.0\n",
        "  return sum(ratings)/len(ratings)\n",
        "\n",
        "def knn_movie_based(train_data_matrix, X_test_csr, k, userId, movieId, num_recommendations, test=True):\n",
        "\n",
        "  # if the user is new, no recommendation is given\n",
        "  if userId not in X_train_userid_to_index_map:\n",
        "    # print(\"No recommmendation (New user)!!\")\n",
        "    return np.nan\n",
        "\n",
        "  # if the movie is new, no recommendation is given\n",
        "  if movieId not in X_train_movieid_to_index_map:\n",
        "    # print(\"No recommmendation (New movie)!!\")\n",
        "    return np.nan\n",
        "\n",
        "  # get all user indices who have rated a movie\n",
        "  movie_idx = X_train_movieid_to_index_map[movieId]\n",
        "  user_idxs = filter_users_by_movie(movie_idx, train_data_matrix)[0]\n",
        "\n",
        "  # if not enough users have rated the movie (atleast k), no recommendation is given\n",
        "  if (len(user_idxs) < k):\n",
        "    # print(\"No recommmendation (not enough ratings)!!\")\n",
        "    return np.nan\n",
        "\n",
        "  # filter x_train and keep users who have rated the movie\n",
        "  X_train_filtered = train_data_matrix[:, user_idxs]\n",
        "  \n",
        "  # csr_matrix: ignore zeroes\n",
        "  X_train_csr = csr_matrix(X_train_filtered.T)\n",
        "  \n",
        "  # fit the model\n",
        "  recommender_knn = NearestNeighbors(metric='cosine',algorithm='brute',n_neighbors=k)\n",
        "  recommender_knn.fit(X_train_csr)\n",
        "\n",
        "  # get the top nearest neighbors for the given user\n",
        "  # (user vector as input) -> NN should give num_recommendations which are the most similar to this user\n",
        "  if test:\n",
        "    user_index_test = X_test_userid_to_index_map[userId]\n",
        "    try:\n",
        "      similarity, idxs = recommender_knn.kneighbors(X_test_csr[user_index_test],n_neighbors=num_recommendations+1)\n",
        "    except:\n",
        "      return np.nan\n",
        "  else:\n",
        "    X_train_csr_unfiltered = csr_matrix(train_data_matrix)\n",
        "    user_index_test = X_train_movieid_to_index_map[movieId]\n",
        "    try:\n",
        "      similarity, idxs = recommender_knn.kneighbors(X_train_csr_unfiltered[user_index_test],n_neighbors=num_recommendations+1)\n",
        "    except:\n",
        "      return np.nan\n",
        "  \n",
        "  # return average rating\n",
        "  return get_average_rating_user(idxs, movie_idx, X_train_csr)"
      ],
      "metadata": {
        "id": "dJ5F_9x8qDgl"
      },
      "execution_count": null,
      "outputs": []
    },
    {
      "cell_type": "markdown",
      "source": [
        "Evaluation using Mean Square Error(MSE)"
      ],
      "metadata": {
        "id": "RSc5zpx0sKgB"
      }
    },
    {
      "cell_type": "code",
      "source": [
        "def mse_movie_based(train_data_matrix, X_test, test_data_matrix, k, num_recommendations):\n",
        "  X_test_csr = csr_matrix(test_data_matrix.T)\n",
        "  knn_movie_based_ratings = [knn_movie_based(train_data_matrix, X_test_csr, k=k, userId=row[0], movieId=row[1], num_recommendations = num_recommendations) for (idx, row) in X_test.iterrows()]\n",
        "  return np.mean([(knn_movie_based_ratings[i] - X_test.iloc[[i]]['rating'])**2 for i in range(len(X_test)) if not np.isnan(knn_movie_based_ratings[i])])"
      ],
      "metadata": {
        "id": "m-31J8hrsSGZ"
      },
      "execution_count": null,
      "outputs": []
    },
    {
      "cell_type": "code",
      "source": [
        "mse_movie_based(train_data_matrix, X_test, test_data_matrix, k = 10, num_recommendations = 5)"
      ],
      "metadata": {
        "id": "Ddsnr3j9sb-j",
        "colab": {
          "base_uri": "https://localhost:8080/"
        },
        "outputId": "3de0e773-e55a-47e9-a6d5-e6bb99d96b96"
      },
      "execution_count": null,
      "outputs": [
        {
          "output_type": "execute_result",
          "data": {
            "text/plain": [
              "0.97582155"
            ]
          },
          "metadata": {},
          "execution_count": 33
        }
      ]
    },
    {
      "cell_type": "markdown",
      "source": [
        "Hyperparameter Tuning for k"
      ],
      "metadata": {
        "id": "1HG0NGzpsjUg"
      }
    },
    {
      "cell_type": "code",
      "source": [
        "mse_movie = []\n",
        "for k in range(1, 80, 5):\n",
        "    print(k)\n",
        "    u = mse_movie_based(train_data_matrix, X_test, test_data_matrix, k=k, num_recommendations=5)\n",
        "    mse_movie.append(u)\n",
        "    print(u)\n",
        "    print(\"----\")"
      ],
      "metadata": {
        "id": "2VBjxNPosjUh",
        "colab": {
          "base_uri": "https://localhost:8080/"
        },
        "outputId": "d25be902-a75c-461f-e5b8-68b603598f88"
      },
      "execution_count": null,
      "outputs": [
        {
          "output_type": "stream",
          "name": "stdout",
          "text": [
            "1\n",
            "0.99947524\n",
            "----\n",
            "6\n",
            "0.99947524\n",
            "----\n",
            "11\n",
            "1.0090054\n",
            "----\n",
            "16\n",
            "1.0088135\n",
            "----\n",
            "21\n",
            "1.0121392\n",
            "----\n",
            "26\n",
            "1.010689\n",
            "----\n",
            "31\n",
            "1.0135125\n",
            "----\n",
            "36\n",
            "1.0167755\n",
            "----\n",
            "41\n",
            "1.0153508\n",
            "----\n",
            "46\n",
            "1.0199274\n",
            "----\n",
            "51\n",
            "1.0296712\n",
            "----\n",
            "56\n",
            "1.0326494\n",
            "----\n",
            "61\n",
            "1.0220529\n",
            "----\n",
            "66\n",
            "1.0139055\n",
            "----\n",
            "71\n",
            "1.0038409\n",
            "----\n",
            "76\n",
            "1.0016366\n",
            "----\n"
          ]
        }
      ]
    },
    {
      "cell_type": "code",
      "source": [
        "x = [i for i in range(1, 80, 5)]\n",
        "plt.figure()\n",
        "ax = plt.subplot(111)\n",
        "ax.plot(x,mse_movie,linewidth=1.5,color='blue')\n",
        "plt.xlabel('K')\n",
        "plt.ylabel('MSE')\n",
        "plt.title(\"Hyperparameter Tuning for IBCF\")\n",
        "plt.show()"
      ],
      "metadata": {
        "id": "wEwx4M5gsjUh",
        "colab": {
          "base_uri": "https://localhost:8080/",
          "height": 295
        },
        "outputId": "6b32b2a6-96a6-46c1-a8e1-44017258a52a"
      },
      "execution_count": null,
      "outputs": [
        {
          "output_type": "display_data",
          "data": {
            "image/png": "[encoded data removed]",
            "text/plain": [
              "<Figure size 432x288 with 1 Axes>"
            ]
          },
          "metadata": {
            "needs_background": "light"
          }
        }
      ]
    },
    {
      "cell_type": "markdown",
      "source": [
        "Optimal K (IBCF): 5"
      ],
      "metadata": {
        "id": "B-2i_97rtPHt"
      }
    },
    {
      "cell_type": "markdown",
      "source": [
        "### Matrix Factorization"
      ],
      "metadata": {
        "id": "xrDBg52uxcI2"
      }
    },
    {
      "cell_type": "markdown",
      "source": [
        "Matrix Factorization:  In this approach, the ratings matrix is decomposed into the product of two lower dimensionality rectangular matrices. "
      ],
      "metadata": {
        "id": "cE73LuFXHacO"
      }
    },
    {
      "cell_type": "code",
      "source": [
        "def get_error(R, P, Q, K, beta):\n",
        "        \"\"\"\n",
        "        Calculates the error for the function\n",
        "        :param R:\n",
        "        :param P:\n",
        "        :param Q:\n",
        "        :param K:\n",
        "        :param beta:\n",
        "        :return:\n",
        "        \"\"\"\n",
        "        e = 0\n",
        "        for i in range(len(R)):\n",
        "            for j in range(len(R[i])):\n",
        "                if R[i][j] > 0:\n",
        "\n",
        "                    # loss function error sum( (y-y_hat)^2 )\n",
        "                    e = e + pow(R[i][j]-np.dot(P[i,:],Q[:,j]), 2)\n",
        "\n",
        "                    # add regularization\n",
        "                    for k in range(K):\n",
        "\n",
        "                        # error + ||P||^2 + ||Q||^2\n",
        "                        e = e + (beta/2) * ( pow(P[i][k], 2) + pow(Q[k][j], 2) )\n",
        "        return e"
      ],
      "metadata": {
        "id": "9VlwPuh9xpBF"
      },
      "execution_count": null,
      "outputs": []
    },
    {
      "cell_type": "code",
      "source": [
        "def factor_matrix(R, K=20, alpha=0.0002, steps=5000, beta=0.02, error_limit=0.001):\n",
        "        \"\"\"\n",
        "        R = user x product matrix\n",
        "        K = latent features count (how many features we think the model should derive)\n",
        "        alpha = learning rate\n",
        "        beta = regularization penalty (minimize over/under fitting)\n",
        "        step = logistic regression steps\n",
        "        error_limit = algo finishes when error reaches this level\n",
        "        Returns:\n",
        "        P = User x features matrix. (How strongly a user is associated with a feature)\n",
        "        Q = Product x feature matrix. (How strongly a product is associated with a feature)\n",
        "        To predict, use dot product of P, Q\n",
        "        \"\"\"\n",
        "        # Transform regular array to numpy array\n",
        "        R = np.array(R)\n",
        "\n",
        "        # Generate P - N x K\n",
        "        # Use random values to start. Best performance\n",
        "        N = len(R)\n",
        "        M = len(R[0])\n",
        "        P = np.random.rand(N, K)\n",
        "\n",
        "        # Generate Q - M x K\n",
        "        # Use random values to start. Best performance\n",
        "        Q = np.random.rand(M, K)\n",
        "        Q = Q.T\n",
        "\n",
        "        error = 0\n",
        "\n",
        "        # iterate through max # of steps\n",
        "        for step in range(steps):\n",
        "\n",
        "            # iterate each cell in r\n",
        "            for i in range(len(R)):\n",
        "                for j in range(len(R[i])):\n",
        "                    if R[i][j] > 0:\n",
        "\n",
        "                        # get the eij (error) side of the equation\n",
        "                        eij = R[i][j] - np.dot(P[i, :], Q[:, j])\n",
        "\n",
        "                        for k in range(K):\n",
        "                            # (*update_rule) update pik_hat\n",
        "                            P[i][k] = P[i][k] + alpha * (2 * eij * Q[k][j] - beta * P[i][k])\n",
        "\n",
        "                            # (*update_rule) update qkj_hat\n",
        "                            Q[k][j] = Q[k][j] + alpha * ( 2 * eij * P[i][k] - beta * Q[k][j] )\n",
        "\n",
        "            # Measure error\n",
        "            error = get_error(R, P, Q, K, beta)\n",
        "            print(\"Error {}, step {}, k {}\".format(error, step, K))\n",
        "            # if step%100 == 0:\n",
        "            #   print_fit_stats(error, N, M)\n",
        "\n",
        "            # Terminate when we converge\n",
        "            if error < error_limit:\n",
        "                break\n",
        "\n",
        "        # track Q, P (learned params)\n",
        "        # Q = Products x feature strength\n",
        "        # P = Users x feature strength\n",
        "        Q = Q.T\n",
        "        P = P\n",
        "        return P @ Q.T"
      ],
      "metadata": {
        "id": "sTCfLgEIG9Jj"
      },
      "execution_count": null,
      "outputs": []
    },
    {
      "cell_type": "code",
      "source": [
        "def rmse_mf(X_data, x_pred):\n",
        "  # 36744     249     6754     3.5\n",
        "  X_data_updated = [row for idx, row in X_data.iterrows() if row[0] in X_train_userid_to_index_map and row[1] in X_train_movieid_to_index_map]\n",
        "  return np.mean([(x_pred[X_train_movieid_to_index_map[row[1]]][X_train_userid_to_index_map[row[0]]] - row[2])**2  for row in X_data_updated])"
      ],
      "metadata": {
        "id": "-ADszcJ64-k4"
      },
      "execution_count": null,
      "outputs": []
    },
    {
      "cell_type": "code",
      "source": [
        "x_pred_mf = factor_matrix(R=train_data_matrix, K=60, alpha=0.002, steps=100, beta=0.02, error_limit=0.001)\n"
      ],
      "metadata": {
        "colab": {
          "base_uri": "https://localhost:8080/"
        },
        "id": "GUL0S56i5MeS",
        "outputId": "fd9f2741-5b36-461e-9aa0-2bc1506ed6a1"
      },
      "execution_count": null,
      "outputs": [
        {
          "output_type": "stream",
          "name": "stdout",
          "text": [
            "Error 260804.19127135506, step 0, k 60\n",
            "Error 176489.98071101104, step 1, k 60\n",
            "Error 146341.8023232675, step 2, k 60\n",
            "Error 128968.36959931992, step 3, k 60\n",
            "Error 117281.04176701125, step 4, k 60\n",
            "Error 108793.78767595722, step 5, k 60\n",
            "Error 102302.25841142882, step 6, k 60\n",
            "Error 97120.53402000359, step 7, k 60\n",
            "Error 92832.83180332047, step 8, k 60\n",
            "Error 89179.71950142815, step 9, k 60\n",
            "Error 85994.54394451097, step 10, k 60\n",
            "Error 83166.53362291386, step 11, k 60\n",
            "Error 80619.43698808351, step 12, k 60\n",
            "Error 78299.04359495909, step 13, k 60\n",
            "Error 76165.7101676259, step 14, k 60\n",
            "Error 74189.73318889491, step 15, k 60\n",
            "Error 72348.38325455195, step 16, k 60\n",
            "Error 70623.9421150098, step 17, k 60\n",
            "Error 69002.3654636582, step 18, k 60\n",
            "Error 67472.34881054016, step 19, k 60\n",
            "Error 66024.66065266762, step 20, k 60\n",
            "Error 64651.65762195008, step 21, k 60\n",
            "Error 63346.92648557242, step 22, k 60\n",
            "Error 62105.016431484946, step 23, k 60\n",
            "Error 60921.23677040051, step 24, k 60\n",
            "Error 59791.502750099775, step 25, k 60\n",
            "Error 58712.2171928601, step 26, k 60\n",
            "Error 57680.17907679545, step 27, k 60\n",
            "Error 56692.512552365595, step 28, k 60\n",
            "Error 55746.61156718509, step 29, k 60\n",
            "Error 54840.0964827965, step 30, k 60\n",
            "Error 53970.77994983443, step 31, k 60\n",
            "Error 53136.6399572594, step 32, k 60\n",
            "Error 52335.79845332957, step 33, k 60\n",
            "Error 51566.504297359796, step 34, k 60\n",
            "Error 50827.11957454094, step 35, k 60\n",
            "Error 50116.10851653517, step 36, k 60\n",
            "Error 49432.028433439096, step 37, k 60\n",
            "Error 48773.522191266646, step 38, k 60\n",
            "Error 48139.31187154913, step 39, k 60\n",
            "Error 47528.193330836286, step 40, k 60\n",
            "Error 46939.031444120956, step 41, k 60\n",
            "Error 46370.755867948224, step 42, k 60\n",
            "Error 45822.357201004896, step 43, k 60\n",
            "Error 45292.8834523942, step 44, k 60\n",
            "Error 44781.43675327821, step 45, k 60\n",
            "Error 44287.17026651205, step 46, k 60\n",
            "Error 43809.28526360805, step 47, k 60\n",
            "Error 43347.02834822415, step 48, k 60\n",
            "Error 42899.6888132126, step 49, k 60\n",
            "Error 42466.59612274919, step 50, k 60\n",
            "Error 42047.11751459336, step 51, k 60\n",
            "Error 41640.65571910291, step 52, k 60\n",
            "Error 41246.64679278498, step 53, k 60\n",
            "Error 40864.558064459954, step 54, k 60\n",
            "Error 40493.88619208497, step 55, k 60\n",
            "Error 40134.15532794088, step 56, k 60\n",
            "Error 39784.91538963297, step 57, k 60\n",
            "Error 39445.74043387106, step 58, k 60\n",
            "Error 39116.22712954247, step 59, k 60\n",
            "Error 38795.993326366464, step 60, k 60\n",
            "Error 38484.67671509814, step 61, k 60\n",
            "Error 38181.93357498395, step 62, k 60\n",
            "Error 37887.43760411393, step 63, k 60\n",
            "Error 37600.87882822723, step 64, k 60\n",
            "Error 37321.962583518485, step 65, k 60\n",
            "Error 37050.40856903345, step 66, k 60\n",
            "Error 36785.94996440635, step 67, k 60\n",
            "Error 36528.33260856598, step 68, k 60\n",
            "Error 36277.31423560406, step 69, k 60\n",
            "Error 36032.663763809476, step 70, k 60\n",
            "Error 35794.16063415487, step 71, k 60\n",
            "Error 35561.59419484358, step 72, k 60\n",
            "Error 35334.76312851758, step 73, k 60\n",
            "Error 35113.47491915591, step 74, k 60\n",
            "Error 34897.54535556491, step 75, k 60\n",
            "Error 34686.79806897276, step 76, k 60\n",
            "Error 34481.06410204768, step 77, k 60\n",
            "Error 34280.181507031084, step 78, k 60\n",
            "Error 34083.994970814805, step 79, k 60\n",
            "Error 33892.355464934604, step 80, k 60\n",
            "Error 33705.1199186159, step 81, k 60\n",
            "Error 33522.1509131081, step 82, k 60\n",
            "Error 33343.31639577668, step 83, k 60\n",
            "Error 33168.48941241812, step 84, k 60\n",
            "Error 32997.54785647691, step 85, k 60\n",
            "Error 32830.3742339047, step 86, k 60\n",
            "Error 32666.855442493586, step 87, k 60\n",
            "Error 32506.88256463651, step 88, k 60\n",
            "Error 32350.35067258891, step 89, k 60\n",
            "Error 32197.15864520604, step 90, k 60\n",
            "Error 32047.20899547306, step 91, k 60\n",
            "Error 31900.407707947936, step 92, k 60\n",
            "Error 31756.66408549167, step 93, k 60\n",
            "Error 31615.89060463977, step 94, k 60\n",
            "Error 31478.002778909715, step 95, k 60\n",
            "Error 31342.919029692814, step 96, k 60\n",
            "Error 31210.560564015504, step 97, k 60\n",
            "Error 31080.851258841405, step 98, k 60\n",
            "Error 30953.71755145148, step 99, k 60\n"
          ]
        }
      ]
    },
    {
      "cell_type": "code",
      "source": [
        "# get accuracy on training data with steps = 100\n",
        "\n",
        "train_accuracy = rmse_mf(X_train, x_pred_mf)\n",
        "print(\"Matrix factorization train accuracy {}\".format(train_accuracy))\n",
        "\n",
        "# get accuracy on test data\n",
        "\n",
        "test_accuracy = rmse_mf(X_test, x_pred_mf)\n",
        "print(\"Matrix factorization test accuracy {}\".format(test_accuracy))"
      ],
      "metadata": {
        "colab": {
          "base_uri": "https://localhost:8080/"
        },
        "id": "CySt-FpS5nzY",
        "outputId": "94569e63-e1c0-4dbf-c49f-fee69b1f2d74"
      },
      "execution_count": null,
      "outputs": [
        {
          "output_type": "stream",
          "name": "stdout",
          "text": [
            "Matrix factorization train accuracy 0.11576250135919434\n",
            "Matrix factorization test accuracy 1.1033385214902396\n"
          ]
        }
      ]
    },
    {
      "cell_type": "code",
      "source": [
        "rmse_with_steps = []\n",
        "rmse_with_alpha = []\n",
        "rmse_with_k = []\n",
        "\n",
        "for step in range(1, 1000, 200):\n",
        "  x_pred_mf = factor_matrix(R=train_data_matrix, K=5, alpha=0.0002, steps=step, beta=0.02, error_limit=0.001)\n",
        "  rmse_with_steps.append(rmse_mf(X_test, x_pred_mf))\n",
        "\n",
        "alpha = 0.0001\n",
        "for alpha in range(5):\n",
        "  x_pred_mf = factor_matrix(R=train_data_matrix, K=5, alpha=alpha, steps=1000, beta=0.02, error_limit=0.001)\n",
        "  rmse_with_alpha.append(rmse_mf(X_test, x_pred_mf))\n",
        "  alpha = alpha * 5\n",
        "\n",
        "\n",
        "print(rmse_with_steps)\n",
        "print(rmse_with_alpha)\n",
        "print(rmse_with_k)\n"
      ],
      "metadata": {
        "id": "_Lybx4C3HE9i"
      },
      "execution_count": null,
      "outputs": []
    },
    {
      "cell_type": "markdown",
      "source": [
        "## Ensemble Learning"
      ],
      "metadata": {
        "id": "Y_GlRj_Ptcb2"
      }
    },
    {
      "cell_type": "markdown",
      "source": [
        "### Data Preparation"
      ],
      "metadata": {
        "id": "67v6-Mv8z8sk"
      }
    },
    {
      "cell_type": "markdown",
      "source": [
        "Prepare Training and Test Data for the Ensemble: Run the Base Models on the Training and Test Data\n"
      ],
      "metadata": {
        "id": "C3_h9q1atjX0"
      }
    },
    {
      "cell_type": "markdown",
      "source": [
        "UBCF"
      ],
      "metadata": {
        "id": "rj62iyY1xCVB"
      }
    },
    {
      "cell_type": "code",
      "source": [
        "k = 35\n",
        "\n",
        "# knn_user_based_ratings_train = []\n",
        "X_test_csr = csr_matrix(test_data_matrix)\n",
        "# for (idx, row) in X_train.iterrows():\n",
        "#   knn_user_based_ratings_train.append(knn_user_based(train_data_matrix, X_test_csr, k=k, userId=row[0], movieId=row[1], num_recommendations = 5, test=False))\n",
        "# X_train['ubcf_rating'] = knn_user_based_ratings_train\n",
        "\n",
        "knn_user_based_ratings_test = []\n",
        "for (idx, row) in X_test.iterrows():\n",
        "  knn_user_based_ratings_test.append(knn_user_based(train_data_matrix, X_test_csr, k=k, userId=row[0], movieId=row[1], num_recommendations = 5, test=False))\n",
        "X_test['ubcf_rating'] = knn_user_based_ratings_test"
      ],
      "metadata": {
        "id": "FBPcw-3Ttf8p"
      },
      "execution_count": null,
      "outputs": []
    },
    {
      "cell_type": "markdown",
      "source": [
        "IBCF"
      ],
      "metadata": {
        "id": "SjOBmgC-xFTH"
      }
    },
    {
      "cell_type": "code",
      "source": [
        "k = 25\n",
        "\n",
        "X_test_csr = csr_matrix(test_data_matrix.T)\n",
        "# knn_movie_based_ratings_train = []\n",
        "# for (idx, row) in X_train.iterrows():\n",
        "#   knn_movie_based_ratings_train.append(knn_movie_based(train_data_matrix, X_test_csr, k=k, userId=row[0], movieId=row[1], num_recommendations = 5))\n",
        "# X_train['ibcf_rating'] = knn_movie_based_ratings_train\n",
        "\n",
        "knn_movie_based_ratings_test = []\n",
        "for (idx, row) in X_test.iterrows():\n",
        "  knn_movie_based_ratings_test.append(knn_movie_based(train_data_matrix, X_test_csr, k=k, userId=row[0], movieId=row[1], num_recommendations = 5))\n",
        "X_test['ibcf_rating'] = knn_movie_based_ratings_test"
      ],
      "metadata": {
        "id": "veD0vMM8vWq0"
      },
      "execution_count": null,
      "outputs": []
    },
    {
      "cell_type": "markdown",
      "source": [
        "Matrix Factorization"
      ],
      "metadata": {
        "id": "3Wz3HnDdxG-L"
      }
    },
    {
      "cell_type": "code",
      "source": [
        "predicted_ratings = []\n",
        "actual_ratings = []\n",
        "ratings = []\n",
        "\n",
        "# run matrix factorization to decompose the ratings matrix\n",
        "k = 60\n",
        "x_pred_mf = factor_matrix(R=train_data_matrix, K=k, alpha=0.001, steps=100, beta=0.02, error_limit=0.01)\n",
        "\n",
        "# get matrix_factorization prediction on training data\n",
        "for (i,row) in X_train.iterrows():\n",
        "  userIndex = X_train_userid_to_index_map[row[0]]\n",
        "  movieIndex = X_train_movieid_to_index_map[row[1]]\n",
        "  rating_predicted = x_pred_mf[movieIndex][userIndex]\n",
        "  predicted_ratings.append(rating_predicted)\n",
        "  actual_ratings.append(row[2])\n",
        "  ratings.append([rating_predicted, row[2]])"
      ],
      "metadata": {
        "id": "Hgm9uXBtxRiD"
      },
      "execution_count": null,
      "outputs": []
    },
    {
      "cell_type": "code",
      "source": [
        "predicted_ratings = []\n",
        "actual_ratings = []\n",
        "ratings = []\n",
        "\n",
        "# run matrix factorization to decompose the ratings matrix\n",
        "k = 60\n",
        "x_pred_mf = factor_matrix(R=train_data_matrix, K=k, alpha=0.001, steps=100, beta=0.02, error_limit=0.01)\n",
        "\n",
        "# get matrix_factorization prediction on test data\n",
        "for (i,row) in X_test.iterrows():\n",
        "  userIndex = X_test_userid_to_index_map[row[0]]\n",
        "  movieIndex = X_test_movieid_to_index_map[row[1]]\n",
        "  rating_predicted = x_pred_mf[movieIndex][userIndex]\n",
        "  predicted_ratings.append(rating_predicted)\n",
        "  actual_ratings.append(row[2])\n",
        "  ratings.append([rating_predicted, row[2]])\n",
        "\n",
        "print(ratings)"
      ],
      "metadata": {
        "id": "PMLntXpT2Cos",
        "colab": {
          "base_uri": "https://localhost:8080/"
        },
        "outputId": "96292246-d0ca-4c18-8df2-1dab9f2036d8"
      },
      "execution_count": null,
      "outputs": [
        {
          "output_type": "stream",
          "name": "stdout",
          "text": [
            "Error 330703.7737318557, step 0, k 60\n",
            "Error 220005.48641007833, step 1, k 60\n",
            "Error 179658.3458618795, step 2, k 60\n",
            "Error 157444.3511269315, step 3, k 60\n",
            "Error 142702.3321958601, step 4, k 60\n",
            "Error 131902.71982926628, step 5, k 60\n",
            "Error 123529.37428581664, step 6, k 60\n",
            "Error 116805.52650691898, step 7, k 60\n",
            "Error 111276.49672758809, step 8, k 60\n",
            "Error 106647.31279794736, step 9, k 60\n",
            "Error 102711.88306639977, step 10, k 60\n",
            "Error 99319.2577383399, step 11, k 60\n",
            "Error 96355.96191758392, step 12, k 60\n",
            "Error 93735.600739045, step 13, k 60\n",
            "Error 91391.97609635649, step 14, k 60\n",
            "Error 89274.12455832756, step 15, k 60\n",
            "Error 87342.59183192444, step 16, k 60\n",
            "Error 85566.60941021169, step 17, k 60\n",
            "Error 83921.96588273712, step 18, k 60\n",
            "Error 82389.41549509841, step 19, k 60\n",
            "Error 80953.49584914032, step 20, k 60\n",
            "Error 79601.6514981396, step 21, k 60\n",
            "Error 78323.5829637994, step 22, k 60\n",
            "Error 77110.76046191968, step 23, k 60\n",
            "Error 75956.05764642959, step 24, k 60\n",
            "Error 74853.47298759028, step 25, k 60\n",
            "Error 73797.91550259119, step 26, k 60\n",
            "Error 72785.03812936596, step 27, k 60\n",
            "Error 71811.10671673642, step 28, k 60\n",
            "Error 70872.89592071787, step 29, k 60\n",
            "Error 69967.6056476903, step 30, k 60\n",
            "Error 69092.79335868427, step 31, k 60\n",
            "Error 68246.31874670958, step 32, k 60\n",
            "Error 67426.29816674776, step 33, k 60\n",
            "Error 66631.06682817487, step 34, k 60\n",
            "Error 65859.14722517562, step 35, k 60\n",
            "Error 65109.2226253387, step 36, k 60\n",
            "Error 64380.11469490157, step 37, k 60\n",
            "Error 63670.7645346243, step 38, k 60\n",
            "Error 62980.21654853003, step 39, k 60\n",
            "Error 62307.60468155705, step 40, k 60\n",
            "Error 61652.14065047875, step 41, k 60\n",
            "Error 61013.10386071777, step 42, k 60\n",
            "Error 60389.83275572189, step 43, k 60\n",
            "Error 59781.71738798172, step 44, k 60\n",
            "Error 59188.19303507684, step 45, k 60\n",
            "Error 58608.73471148442, step 46, k 60\n",
            "Error 58042.85244943274, step 47, k 60\n",
            "Error 57490.08724037132, step 48, k 60\n",
            "Error 56950.007544317974, step 49, k 60\n",
            "Error 56422.20628705743, step 50, k 60\n",
            "Error 55906.29827616729, step 51, k 60\n",
            "Error 55401.91797637753, step 52, k 60\n",
            "Error 54908.71759284299, step 53, k 60\n",
            "Error 54426.365417698544, step 54, k 60\n",
            "Error 53954.54440180444, step 55, k 60\n",
            "Error 53492.95091840324, step 56, k 60\n",
            "Error 53041.293690429215, step 57, k 60\n",
            "Error 52599.292857114124, step 58, k 60\n",
            "Error 52166.67915905236, step 59, k 60\n",
            "Error 51743.19322382335, step 60, k 60\n",
            "Error 51328.58493735702, step 61, k 60\n",
            "Error 50922.612887828625, step 62, k 60\n",
            "Error 50525.04387159888, step 63, k 60\n",
            "Error 50135.65245181218, step 64, k 60\n",
            "Error 49754.22056198082, step 65, k 60\n",
            "Error 49380.537148122035, step 66, k 60\n",
            "Error 49014.397843930725, step 67, k 60\n",
            "Error 48655.60467441994, step 68, k 60\n",
            "Error 48303.965784220905, step 69, k 60\n",
            "Error 47959.295187183074, step 70, k 60\n",
            "Error 47621.412534741714, step 71, k 60\n",
            "Error 47290.14290061877, step 72, k 60\n",
            "Error 46965.31657984347, step 73, k 60\n",
            "Error 46646.76890063175, step 74, k 60\n",
            "Error 46334.34004758515, step 75, k 60\n",
            "Error 46027.87489499875, step 76, k 60\n",
            "Error 45727.22284926168, step 77, k 60\n",
            "Error 45432.2376994416, step 78, k 60\n",
            "Error 45142.7774752439, step 79, k 60\n",
            "Error 44858.704311731395, step 80, k 60\n",
            "Error 44579.88432008833, step 81, k 60\n",
            "Error 44306.187463942144, step 82, k 60\n",
            "Error 44037.48744085258, step 83, k 60\n",
            "Error 43773.661568447256, step 84, k 60\n",
            "Error 43514.590674830535, step 85, k 60\n",
            "Error 43260.15899306048, step 86, k 60\n",
            "Error 43010.25405924651, step 87, k 60\n",
            "Error 42764.76661417098, step 88, k 60\n",
            "Error 42523.59050801739, step 89, k 60\n",
            "Error 42286.62260823454, step 90, k 60\n",
            "Error 42053.76271011009, step 91, k 60\n",
            "Error 41824.913450108346, step 92, k 60\n",
            "Error 41599.98022173265, step 93, k 60\n",
            "Error 41378.87109375012, step 94, k 60\n",
            "Error 41161.49673079744, step 95, k 60\n",
            "Error 40947.770316127506, step 96, k 60\n",
            "Error 40737.607476569814, step 97, k 60\n",
            "Error 40530.92620947358, step 98, k 60\n",
            "Error 40327.64681166707, step 99, k 60\n",
            "[[3.329404395552479, 2.0], [2.367211180290529, 4.0], [3.593426696354962, 4.0], [3.635401035068992, 1.0], [5.737500301248638, 4.0], [5.840060989418655, 4.0], [4.77760065587309, 4.5], [3.8344246515662066, 3.0], [3.9954794773206834, 4.0], [4.3708160341043305, 3.5], [3.746904553927051, 4.5], [5.227596364318268, 4.0], [3.6532283731076056, 4.5], [5.605045520676472, 3.5], [4.34660342277616, 4.0], [3.220753334791068, 5.0], [3.917634983148924, 0.5], [3.3439903537489246, 4.0], [6.408537112812106, 3.5], [3.016494241394254, 2.0], [4.433873700133888, 5.0], [5.132172503906247, 3.0], [3.2974076140537356, 5.0], [3.2440316621781236, 3.5], [2.293869551301529, 5.0], [2.3160235231490676, 4.5], [3.2020434772567987, 3.0], [5.354225848611079, 3.5], [3.1685664278325327, 2.5], [3.6046502926565713, 4.0], [2.187056156856132, 3.0], [4.045044736678979, 4.5], [4.713810987247942, 4.5], [4.102128024204931, 4.0], [3.456183844756648, 5.0], [2.8755698618712895, 3.0], [2.1294419985202335, 3.5], [2.9658817585838455, 3.0], [5.237450270044318, 3.0], [3.129044498502978, 3.0], [6.80007999033945, 1.5], [4.502811485526602, 5.0], [3.283995213768396, 3.5], [2.9557113425453028, 4.0], [3.466271261355258, 4.0], [3.330774805886328, 4.0], [6.683961844602154, 3.0], [5.251954100356806, 2.5], [3.281478959315328, 2.0], [5.172988801423065, 5.0], [2.7858719035686854, 5.0], [4.131155033363544, 2.0], [4.5706287658643046, 3.5], [4.490836217191153, 3.0], [4.447414401969916, 4.0], [4.764107406748725, 3.5], [3.154658181733261, 4.0], [3.8895191302477543, 3.5], [4.477477455687816, 4.5], [3.5865988240011815, 3.0], [4.089667285622218, 3.0], [2.755194271624761, 4.0], [5.134672972266669, 5.0], [2.4783625072473163, 5.0], [3.8812834815767587, 4.0], [5.675410817071866, 3.5], [3.8512842673362355, 3.0], [3.610529165028876, 4.0], [1.7333499343929635, 4.0], [3.336932273441455, 5.0], [4.172681163798673, 4.5], [4.751221709506493, 2.0], [3.5679283027617696, 3.0], [3.7153971662590237, 4.0], [5.050238505494412, 5.0], [4.525366113394874, 4.0], [4.522633212969724, 4.0], [3.573928733000897, 3.5], [5.1925828848004825, 0.5], [2.646171162837363, 4.0], [4.052868995888835, 4.0], [5.458084191183064, 5.0], [4.4375696275291725, 4.0], [4.2258514309289605, 2.0], [2.3525064464990275, 3.0], [1.5874403409084872, 5.0], [3.2548399110483692, 1.0], [2.869274838261882, 3.5], [5.431432565879945, 2.0], [3.4425941968937934, 3.0], [3.819147569700737, 1.5], [6.433404303503628, 4.0], [3.321881880474459, 4.0], [4.525105332135145, 4.0], [4.96760658298503, 3.0], [3.772740970514141, 3.0], [2.4176660210111094, 2.0], [3.783064484677712, 2.0], [4.458569999447092, 0.5], [2.499111889383603, 4.0], [3.3631855278362908, 3.0], [2.577236298304905, 2.0], [4.554451355113121, 1.5], [4.249812540463274, 4.0], [3.8816467599843256, 4.0], [2.079889438722589, 4.0], [4.978649192904066, 4.0], [4.228731455086846, 3.5], [3.810259891429807, 5.0], [4.607976312947084, 3.0], [3.7950155357135382, 3.0], [5.275664076600388, 2.0], [5.197098111913565, 4.0], [3.638920869020015, 5.0], [4.0271037138776995, 1.0], [4.943258521442952, 4.5], [4.07874964725601, 2.0], [6.241525241162878, 3.5], [4.503007668946551, 4.0], [3.20209537990646, 4.0], [4.8727860417761715, 5.0], [4.664314592470994, 2.0], [2.906930171387673, 0.5], [4.907845923213692, 3.5], [2.991632420368032, 4.0], [5.059556721675008, 5.0], [4.984870871397972, 4.5], [4.401588459052491, 2.0], [3.9468615786788535, 3.5], [3.2834823761317873, 4.0], [2.834551816090865, 3.5], [4.43019393402591, 4.5], [4.991089924481656, 4.5], [3.0949026334632737, 2.0], [2.263940728423211, 1.0], [4.492149263682013, 2.5], [2.953943335947227, 4.0], [4.292894393002996, 2.5], [4.277520632069498, 3.0], [4.226437758573997, 3.5], [3.4786479687532648, 4.0], [2.907682858385982, 3.0], [3.371034420694876, 3.0], [4.3404176941898465, 4.5], [3.900443167029029, 4.5], [2.946377435429474, 4.0], [3.507331761287168, 4.0], [4.382423742539166, 1.5], [4.9461607777217536, 3.5], [3.5030736516344625, 3.5], [3.553651811341385, 4.0], [2.870302457608269, 3.0], [3.436051921084052, 5.0], [2.09131793223157, 4.0], [4.114191767401558, 4.0], [3.7309817520902895, 4.0], [3.2972613222054763, 3.5], [4.320772007253602, 2.0], [6.2209520719013724, 3.0], [4.216339538199102, 5.0], [4.285521338026956, 4.0], [4.11617390735332, 5.0], [4.788815187465309, 2.5], [5.4686583728265745, 5.0], [3.520447223235902, 4.0], [4.332839987342071, 3.5], [4.152203776974767, 5.0], [3.447337628472674, 2.0], [3.6339978727660416, 4.0], [3.994253728629722, 3.5], [3.373326305461151, 3.5], [3.5426932511417704, 2.0], [5.682097866861286, 4.5], [4.22522783905062, 4.0], [3.868943269159192, 2.0], [4.777242477571656, 1.5], [4.365562342530367, 2.0], [3.2449814696952477, 2.0], [2.4328507912494968, 5.0], [4.908086002190215, 4.5], [2.3433066496741186, 1.5], [3.4075990392624442, 2.0], [3.067619737855296, 4.5], [3.59397671600613, 5.0], [2.860439765966537, 3.5], [3.4950330017984137, 3.0], [1.7800762764462015, 2.0], [4.964912521809368, 4.0], [3.6530376615497135, 3.0], [4.946298603365865, 2.0], [4.671423596276598, 4.0], [3.5586654785698175, 4.0], [3.5539092320162093, 5.0], [4.176830042693706, 2.5], [4.715103256870668, 2.5], [3.546469346433096, 5.0], [5.529772202254243, 3.5], [4.122929143184149, 5.0], [3.4608140906324443, 4.5], [4.519342787982227, 4.0], [2.953507879411322, 3.5], [2.7937652281733616, 2.0], [4.6235523992168215, 3.0], [4.308237887699665, 4.0], [2.3941015636892646, 5.0], [3.4045998813836715, 4.0], [3.816563554750805, 2.5], [3.9991768897566025, 2.5], [5.42035888561243, 4.5], [3.766150630188727, 4.0], [4.328404359408055, 3.0], [4.252773955797715, 1.5], [2.965813590790119, 3.5], [2.2626518065375487, 5.0], [3.872679239710094, 3.5], [3.5685740049571937, 3.0], [2.1474686223333945, 4.0], [5.1177763003117835, 4.0], [3.7144136656933577, 4.0], [3.6601818605798853, 4.0], [5.014179305947548, 4.5], [4.6011630324328685, 4.0], [2.8590543392248158, 4.0], [3.3682123100145787, 4.0], [3.0872198806980666, 3.0], [4.453837005761379, 2.0], [3.364604985894749, 3.5], [4.845045130349523, 2.0], [3.2957971918060815, 4.0], [5.568444975420345, 3.0], [4.392394759540138, 2.0], [4.210595736617818, 4.0], [4.117741500695851, 3.0], [4.863428754062784, 3.0], [4.497437147564477, 4.0], [4.594962605431956, 4.5], [5.102595482586825, 1.5], [2.702499555729755, 2.0], [2.5407227413595233, 3.0], [3.817000380167076, 4.0], [3.274072015800517, 5.0], [4.072350516100866, 2.5], [2.0654665141491213, 2.5], [1.812609304437177, 3.0], [2.6774837766732817, 4.0], [6.170807552829271, 4.5], [3.4461261421327265, 4.5], [3.847520777149398, 5.0], [5.593651030756599, 4.0], [6.446970274710144, 2.0], [4.408198924627709, 4.0], [4.576095324606444, 2.5], [4.756748922333502, 2.5], [3.60591061104326, 4.0], [3.8852021930637717, 3.5], [3.1134719198512677, 3.0], [-0.2230117249322601, 4.5], [2.1757659766539392, 4.0], [3.5669890237871917, 3.0], [2.0517438368061196, 4.0], [3.7628481559689284, 4.0], [4.877353767321767, 3.5], [4.953390634505309, 4.0], [2.8242836590869085, 3.5], [5.004456120309262, 3.5], [3.574374164588071, 3.5], [4.956476752360279, 3.0], [4.476859933290061, 4.0], [3.7235411927664233, 4.5], [4.858063282765272, 2.0], [3.9205965999012706, 3.0], [4.060415731434632, 3.5], [3.967270001971505, 0.5], [1.0299785107584576, 5.0], [2.8608078284755485, 4.0], [3.7990628014064356, 4.0], [2.2589535519093626, 4.0], [4.824151540189447, 3.0], [4.603091196336815, 3.5], [2.5022981616614035, 4.0], [3.0847434254137833, 3.5], [3.004451025075712, 3.0], [3.7467561882188516, 4.0], [3.75979699097266, 4.0], [2.9552499708994002, 3.0], [3.9692059665579693, 4.0], [1.0064859928647136, 3.0], [4.080203671001089, 3.5], [4.87810054590333, 5.0], [3.2160607470729916, 4.0], [5.417894565353731, 3.0], [3.403085567241921, 5.0], [4.789127928295796, 4.0], [3.4610400285316913, 4.0], [3.3102423411096593, 3.5], [2.3345110853981503, 4.0], [6.267879134256955, 4.0], [3.3560751609415753, 3.0], [1.4875044805891757, 4.0], [3.0128608092907387, 3.0], [3.8823104050403323, 4.5], [4.425806310035718, 3.5], [4.669068539512825, 3.0], [4.008320256995168, 3.0], [3.6354494825235935, 5.0], [1.4739920621623925, 3.0], [3.032597136710773, 4.5], [3.2059109186791512, 2.5], [1.5568256459395156, 4.0], [4.42884791000766, 3.5], [3.9799957156403605, 3.0], [4.57617641256399, 3.5], [3.2583229702468803, 2.5], [5.18656609802763, 3.5], [4.2248790767697315, 0.5], [4.516387897780876, 3.0], [2.3489351824532196, 3.5], [5.413015891269655, 2.5], [6.0850834388512, 5.0], [3.0704331896768755, 5.0], [3.8003457618309877, 4.0], [4.962245675979313, 2.5], [4.5044679271862105, 4.0], [2.9769146719853072, 5.0], [3.1337868250061116, 3.5], [3.7914877410314185, 5.0], [1.2589712434935518, 2.0], [2.5129199919706404, 4.0], [3.462685012766871, 3.5], [4.094804145113628, 4.0], [4.877282401161067, 4.0], [2.63608882990647, 3.0], [3.086677240473416, 4.0], [3.370241245435684, 5.0], [4.283236796732376, 4.0], [3.321724833471766, 4.0], [4.752939129786309, 2.0], [4.035382505072799, 5.0], [5.003825650836046, 3.0], [3.252940869517293, 4.0], [3.7247321094197927, 4.0], [4.924375957233276, 5.0], [2.4416649394145375, 3.5], [4.048253437059898, 1.0], [2.5069508565235963, 4.0], [3.952271318106578, 4.5], [5.0670750345031585, 5.0], [4.299267894280112, 3.0], [3.8538986415410825, 1.5], [3.5098455291110873, 3.0], [4.288663425923127, 3.5], [3.784727271557801, 4.0], [4.108247981689969, 3.0], [2.7805507726666083, 3.0], [4.7645789578258295, 4.0], [3.066819697492393, 4.5], [3.898755046641363, 1.0], [1.9779616791243206, 2.0], [4.67986789828319, 3.0], [3.9167221907745304, 5.0], [3.331183678589284, 5.0], [3.989616073051856, 4.0], [3.7743977303165357, 4.0], [1.268268150630093, 5.0], [5.326156660749682, 5.0], [4.412598195207759, 5.0], [6.752391489163868, 3.0], [4.1316292464917534, 4.0], [3.2243173221753625, 2.0], [4.0359420717978765, 3.0], [4.398251483079173, 5.0], [3.467819235082232, 0.5], [3.9131486262824606, 3.0], [3.9116494424767607, 5.0], [3.9753986850880327, 4.0], [4.433295958126109, 4.0], [2.6801900627991992, 4.5], [4.148488960538247, 2.5], [3.922545371947248, 4.5], [5.55224351272355, 4.5], [3.627923711577216, 3.0], [3.4816071383854386, 4.0], [3.7297265126709576, 3.5], [4.3121464085519, 5.0], [3.5596445751787194, 5.0], [1.5800630780825937, 1.0], [4.022359504148776, 4.0], [2.478373660669734, 3.0], [4.050519840669259, 3.5], [2.4489908501451034, 4.5], [3.783843123450535, 2.0], [3.8070059722415777, 4.0], [2.341901638519878, 4.5], [2.073642523659918, 4.5], [3.6529644805241923, 3.5], [4.041284965649979, 3.5], [3.311454188582571, 2.0], [4.749056466160426, 2.0], [3.092522613786876, 4.0], [5.050014089229359, 2.5], [4.047258836477291, 4.0], [4.685914934537041, 4.0], [5.335830700568994, 3.5], [6.046964761477135, 3.5], [2.2936640552769996, 3.0], [3.861921867113622, 4.0], [4.2138772598639775, 2.5], [4.0847328298783605, 1.5], [4.271565915768571, 5.0], [2.939767628388788, 2.0], [4.264115052051504, 4.5], [3.7330666306477145, 4.0], [3.887466789389143, 3.0], [2.3217931995044667, 0.5], [3.7466681006510862, 4.0], [3.6498601654714418, 1.0], [3.0554652697330855, 5.0], [2.1236312199717378, 3.0], [3.8782871632958353, 4.0], [3.0590515976604764, 4.5], [2.608649351879867, 2.0], [5.312252446204627, 4.5], [4.151403851928605, 4.0], [3.251653256207828, 4.0], [3.3561708592603616, 2.0], [2.982481921155414, 2.0], [5.115935717307842, 2.5], [4.778904520376967, 4.5], [5.270562551069851, 1.5], [3.319461743362715, 4.0], [5.022520646888369, 3.5], [4.392245509287406, 2.0], [4.039947968940757, 4.0], [6.058838680053968, 3.5], [3.1781671338692243, 3.5], [4.684246983093649, 4.0], [4.725514270615756, 4.0], [4.963595757938296, 3.0], [2.661616909742635, 4.0], [2.7892805984278124, 3.0], [3.56517273191087, 4.0], [5.032079168578732, 4.5], [3.389167312594374, 2.0], [5.3078931279593, 2.0], [4.806742423111272, 2.0], [5.479841936993458, 3.5], [3.690196632861544, 4.0], [3.740799537520276, 3.5], [4.961606033284994, 4.0], [4.6347889536591484, 3.5], [3.043003063596456, 3.0], [4.215561504296374, 3.5], [4.848938119301882, 1.5], [4.467815972043503, 4.0], [4.226082410921048, 3.0], [2.7127442409487905, 4.0], [4.832868769461436, 2.5], [2.595355998014467, 4.0], [2.647699018903771, 1.5], [4.064732682961563, 3.5], [4.538261539006851, 3.5], [4.016191864541639, 1.0], [2.8202579919510167, 3.0], [4.548671133036338, 5.0], [3.823897351211132, 3.0], [4.23564197518962, 3.0], [1.4711397882525186, 5.0], [4.332741042236541, 5.0], [4.015883915990413, 5.0], [2.8666847362710333, 1.5], [2.95780152480065, 3.0], [3.5638746230112437, 3.0], [4.026046554810297, 5.0], [2.8354565770940936, 3.0], [3.771924121670854, 3.5], [4.48349626114351, 3.0], [1.6033948041527264, 3.5], [2.8778197996411423, 3.5], [3.238398136213049, 3.5], [1.8453671710213042, 5.0], [5.02263499245544, 4.0], [3.8124111768033204, 5.0], [3.763376159770396, 2.0], [4.509818354654699, 4.0], [4.263614171335062, 4.0], [4.149416475148089, 4.0], [3.178219008277125, 5.0], [2.381708954662463, 4.0], [4.449071553050789, 3.0], [5.9337544204950605, 3.0], [3.501286173173233, 4.0], [4.884712510546637, 3.0], [4.290000812844577, 2.0], [2.604663380138257, 4.0], [3.630832680156757, 3.5], [1.8076667060905565, 3.5], [5.162846977696653, 3.0], [4.101042231429909, 3.5], [4.040910395506141, 5.0], [5.90207159545031, 2.5], [3.800002944274601, 4.0], [3.2596011484966043, 4.0], [3.9962568816356807, 3.0], [4.327395542869, 3.0], [3.3801168778501207, 2.0], [4.557950519798611, 4.0], [3.6237526363284234, 1.0], [3.7363148888721773, 4.0], [2.291406302679417, 3.0], [3.804956321934001, 3.5], [4.396439321802724, 4.0], [4.287259490328967, 4.0], [3.909978538376796, 4.0], [5.1230848280878805, 3.0], [3.7876288636482465, 3.0], [3.3031099242329627, 3.5], [3.410140071960245, 3.0], [4.392682349260371, 3.0], [3.6427823190658, 4.5], [3.8442861738410796, 2.0], [3.9517422097951647, 1.0], [4.339187167365715, 4.0], [4.692578882334014, 4.0], [3.2269369290556384, 2.0], [4.6132704947707515, 4.0], [3.4412653314260253, 3.5], [6.265557838248405, 5.0], [5.2378263028701975, 3.0], [3.8358236589973163, 1.0], [4.410245678928007, 4.0], [5.44046654859685, 2.0], [2.899651294110806, 4.0], [3.1762148390590847, 4.0], [4.526350665362911, 5.0], [4.818260333537027, 1.0], [3.4317430546540435, 4.0], [2.8031924896984703, 3.0], [4.2240557867816015, 4.0], [4.142088516932943, 3.0], [5.375442874404734, 2.0], [4.720585397582493, 5.0], [3.59630457297436, 4.5], [5.928869602555695, 3.5], [3.4638129283368864, 3.5], [5.514546532844505, 4.5], [4.500585191078422, 3.0], [3.0228815256445323, 4.0], [3.114895042679696, 3.5], [2.6184969762144243, 2.0], [3.68194645245032, 3.5], [5.0958474825563425, 3.5], [4.953131553634638, 4.0], [2.1287216321306333, 2.0], [4.18472299229718, 3.0], [3.537016868294559, 4.0], [3.047985432510003, 3.0], [2.881758804365532, 3.0], [3.414200108687994, 3.0], [4.963607554945467, 3.0], [2.4672379847803008, 3.0], [3.263496382073762, 2.0], [5.74206154736771, 4.0], [4.546718141768934, 4.0], [5.284387907044506, 4.0], [2.428216021959528, 3.5], [3.160845602528016, 4.0], [4.866207275472873, 4.0], [2.196097228268621, 2.0], [4.547596348873811, 3.5], [3.8310611731373605, 4.0], [3.957907365143363, 5.0], [5.84436870430013, 5.0], [3.7248073255971157, 5.0], [1.7326920430849302, 2.0], [3.464899231741841, 4.5], [5.34038052602747, 4.0], [4.751388043152764, 4.5], [5.251090551487315, 4.0], [4.766735940409236, 3.0], [3.152362000572186, 3.0], [3.9803555761867964, 5.0], [3.417621780975435, 4.0], [4.2546337025952266, 3.0], [3.9443967070909793, 4.0], [3.7499969737434493, 2.5], [3.415362871075342, 5.0], [5.023469283451216, 3.0], [3.7970645136428147, 4.0], [3.715608779895114, 3.0], [4.171024465564583, 3.0], [3.1488901426904525, 5.0], [4.28662869262421, 1.0], [4.774019568692698, 3.5], [3.883694429109737, 3.5], [5.753514212558687, 4.5], [3.9956527137192297, 1.0], [4.4176683684834, 3.0], [3.424823501017262, 5.0], [3.2165083737694284, 3.5], [4.481338292177993, 2.5], [3.5671640571377283, 3.0], [3.9003244219284423, 1.5], [5.854641947632488, 4.0], [3.1917246489914803, 4.0], [3.965249455730894, 0.5], [3.522820641195042, 5.0], [2.2787956176086026, 2.0], [4.062809321821389, 3.0], [3.5238327843851986, 4.5], [6.777967147187712, 4.0], [4.669757598504403, 1.0], [4.936478876573334, 5.0], [4.050180472168888, 3.5], [2.2568390700409724, 5.0], [4.512937697381341, 1.5], [4.831456131242246, 3.0], [5.646990726331863, 4.5], [3.820134304416978, 4.5], [4.88872329666829, 5.0], [4.127320097089341, 2.0], [5.730309854128469, 3.5], [3.5697251890726838, 3.5], [5.114360084918073, 2.5], [5.151978872586788, 3.0], [4.559310997679912, 4.0], [4.25898197723842, 4.0], [3.7467748770566494, 3.5], [4.565154440406598, 3.5], [3.0254884805699556, 4.0], [2.5662243422698983, 3.0], [3.740884064727101, 4.0], [3.491872090798674, 4.0], [1.486939504486751, 3.0], [4.4021920650466715, 4.0], [2.678300741348805, 3.0], [3.6748894299989776, 3.5], [3.124535959833711, 5.0], [4.638823311493909, 3.5], [2.457181807912702, 3.0], [4.276955440587247, 2.0], [2.348637335936571, 3.5], [4.445601966644086, 4.0], [4.0251945160690195, 2.0], [2.7608418533883143, 3.5], [5.063980540601987, 2.5], [4.8387745648005485, 3.5], [4.187768298087136, 4.0], [4.0170807357875375, 4.0], [3.422408405160635, 3.5], [3.80552377065773, 4.0], [3.7176785505263776, 1.5], [5.542883707624729, 4.0], [3.83793479492922, 3.0], [3.381196311398885, 3.0], [4.058694844032688, 2.5], [3.528486054330487, 4.0], [4.930184064739862, 5.0], [2.7727868735676178, 2.0], [3.3386374799194827, 4.0], [3.212184965454233, 3.5], [4.779989181968924, 4.0], [2.8452560490241043, 1.5], [3.3385583886075025, 3.0], [3.5201456422557595, 3.0], [4.858762854736288, 3.5], [3.9588015383706003, 2.5], [4.294350512748908, 3.5], [3.0224666915910565, 3.5], [4.210400703679614, 4.0], [3.5151510332226246, 4.0], [4.465651825069566, 3.5], [3.4056507173739687, 5.0], [3.9154735549647657, 1.5], [3.6613321626136828, 4.5], [3.049768142968991, 5.0], [5.451583779002096, 3.0], [4.823696121283763, 3.5], [4.994318435838045, 3.0], [3.294952809572692, 3.5], [3.8566387503353345, 3.0], [4.166876289480981, 3.5], [4.3104964222174, 2.0], [3.5523043535049244, 3.0], [5.6173065850432495, 3.0], [3.793142004469158, 4.0], [3.358866121079507, 5.0], [3.615561812562944, 3.5], [4.014716206212731, 2.5], [3.5638101455218445, 3.0], [4.563345866105528, 5.0], [4.325431483966887, 4.0], [4.0230584584313265, 5.0], [4.226765178504756, 5.0], [3.347659950419754, 4.5], [2.6365307733902412, 2.0], [4.449516130489191, 4.0], [5.209709055468417, 2.0], [4.653227440705434, 3.0], [3.8659514259955907, 4.0], [6.1990370818828655, 3.0], [3.932121377844126, 4.0], [4.298127106711289, 2.5], [5.30708308674918, 5.0], [2.7848739107488263, 4.0], [3.3947182200193597, 3.0], [3.8749900614329453, 4.0], [4.7627408090300225, 5.0], [2.996473297189068, 4.0], [4.5428724594649665, 4.0], [3.9473637556044148, 4.0], [2.6930004114697557, 4.0], [2.6096871712164433, 1.5], [2.1920103662663357, 3.0], [4.046516169364856, 4.0], [4.025669430152529, 2.5], [3.483711271559962, 3.0], [3.4305202891649973, 3.0], [4.581458832276063, 3.5], [4.980361608850147, 5.0], [3.2561021918382167, 2.0], [2.45098333537755, 5.0], [3.7805428632980895, 4.5], [7.8833796553160145, 4.0], [3.9537543272893254, 4.0], [3.1920041942691837, 4.0], [4.756811524093424, 3.0], [4.4657538805279025, 3.5], [-0.8644770743485484, 3.0], [5.097618095866387, 4.5], [4.823989993576903, 2.0], [3.4529173821315804, 4.0], [5.316979069163855, 4.5], [3.4491530775004473, 3.0], [2.6230163659529957, 4.0], [2.8901720096483428, 3.0], [4.092735596407218, 3.0], [5.065093051233342, 2.0], [3.346420027246993, 4.0], [3.9489332458474324, 4.5], [5.44168529148091, 4.0], [1.982484248853482, 5.0], [4.033725166762025, 4.0], [3.333543548943679, 0.5], [5.173689136030217, 2.5], [3.768535245740756, 3.5], [5.114225389928235, 5.0], [2.38703235934771, 2.0], [5.497943109485318, 2.5], [5.1105870020009805, 3.0], [5.742973181654456, 5.0], [4.0391837425313275, 4.0], [3.786135068967583, 4.0], [3.043123624512397, 4.5], [3.2688948587710693, 4.0], [4.9848654480038785, 4.0], [5.879294031655557, 3.5], [1.6567192823075514, 4.0], [2.2890766837209857, 4.0], [3.4701927056760056, 3.0], [4.458181259264421, 5.0], [2.529121332673744, 4.0], [4.800990889300134, 2.0], [2.2124630156118656, 1.0], [2.9264098990005305, 3.5], [4.429284904666111, 5.0], [3.6958835988787633, 4.0], [4.507011523460942, 3.0], [5.030271452435144, 3.0], [6.1443804189478035, 3.5], [4.765990638795572, 5.0], [2.7278342796932717, 1.0], [3.3073037414191493, 3.0], [4.088145510726531, 4.0], [3.458041007880123, 3.5], [4.289408304574017, 2.5], [4.708231279202794, 3.0], [3.362112407716695, 5.0], [2.756270040913543, 3.0], [4.2741000049241995, 3.5], [5.416291744495699, 2.5], [2.6743356644314153, 5.0], [3.749475467762045, 5.0], [3.1498420406279317, 3.5], [3.65542729853089, 4.0], [4.593706141833553, 2.5], [4.175887344303655, 5.0], [4.51777054057969, 2.0], [3.980228117943306, 5.0], [3.876151627985557, 3.0], [4.343990742651156, 3.0], [5.893261864531418, 3.0], [4.313804284406106, 3.5], [2.422546032670418, 3.0], [3.1208850296282598, 2.5], [1.4119887933360848, 5.0], [3.359534005309346, 3.0], [4.464894639239502, 3.0], [2.4386242646596172, 3.0], [3.0293644556636683, 3.5], [4.912784387543855, 3.0], [2.221669029489637, 4.0], [3.0693052896361417, 4.0], [5.8983710594823275, 5.0], [4.883423738560649, 1.5], [5.3814521370330155, 3.0], [4.200579258908938, 3.0], [3.0160998990960715, 4.0], [4.349349053107459, 3.5], [4.108548555130726, 3.0], [4.794617462916681, 3.0], [2.1057006663494153, 3.5], [3.0207762774523905, 4.0], [4.4114098987268315, 3.0], [2.8763213524643017, 4.5], [4.385587628408931, 1.5], [2.3709355597431574, 4.5], [4.436756181019226, 4.0], [4.472266544580543, 3.5], [4.021462190911625, 4.5], [5.093147844492163, 3.0], [2.9320833120657204, 3.5], [4.885297850711574, 3.5], [4.048039571978429, 4.5], [2.534320942942829, 4.0], [2.49733654988558, 1.5], [4.648894531556049, 3.0], [4.409886021208495, 5.0], [2.8442956081389745, 4.0], [4.684495792647189, 4.0], [2.5455926505454305, 2.0], [4.202360466078334, 5.0], [4.570673096530506, 5.0], [4.846451677691023, 2.5], [3.6697662098846573, 4.0], [3.6053331698374147, 2.5], [2.5730879089605962, 5.0], [5.031846554277214, 4.0], [3.886069169580941, 3.5], [3.8792045587658492, 4.0], [3.932316540107383, 2.5], [2.199129675484945, 4.0], [4.565249180542041, 5.0], [2.5026157427658124, 4.0], [3.6539442064937115, 5.0], [3.185577581196098, 4.0], [2.389355628272368, 3.5], [2.4790830850794614, 3.0], [4.857001520467682, 3.0], [3.2552720631169576, 4.5], [3.4038861267901597, 4.0], [4.349595187980727, 2.0], [3.142270339186394, 0.5], [4.038307279548174, 1.0], [3.034025243788952, 1.0], [4.959352143275776, 4.0], [5.308924845937073, 5.0], [4.456044247740096, 4.0], [4.110885877265968, 1.0], [3.471649009538107, 1.0], [3.476063899937905, 4.0], [5.156446605699902, 4.0], [3.234065382330164, 5.0], [5.069595708442276, 3.0], [3.6769505111311376, 3.0], [4.042057260807505, 2.0], [3.2782017603217977, 3.0], [3.1761572824866633, 5.0], [3.8387579430382495, 5.0], [4.2229045276904875, 4.0], [4.627564236110796, 3.5], [5.646532469771509, 4.5], [3.857425284491492, 3.5], [4.587289927568459, 3.0], [3.7480436709786344, 3.0], [4.393397880154305, 2.5], [2.9417225876048247, 4.0], [4.077161113061725, 5.0], [5.939175050377118, 5.0], [2.8810693006791728, 4.0], [3.3147082357676854, 4.0], [3.3456780016291257, 3.0], [2.6531467475460544, 4.0], [4.745634490927866, 2.0], [3.029729063119988, 3.0], [3.567088477154001, 5.0], [3.777083106364399, 3.5], [2.7208360326679393, 3.5], [0.41412358033117647, 4.0], [4.390327091223628, 4.0], [3.246704744181911, 5.0], [3.7890275824312596, 5.0], [3.3097135323189137, 4.0], [6.653993130506186, 2.5], [2.837067783093651, 3.0], [2.1512105603338476, 5.0], [3.7468970914458044, 2.5], [2.9508813990549325, 3.0], [5.639546471255619, 2.0], [4.585092309485028, 4.5], [4.564155208515592, 3.5], [4.1418184827865465, 4.5], [3.9160465021799093, 4.0], [4.2023674829893665, 4.0], [2.8440066572331384, 2.0], [2.650598932307605, 2.5], [5.340549165601354, 5.0], [3.065455727082331, 3.5], [3.0218764104501235, 2.5], [4.183725523202464, 3.5], [4.132930013387888, 3.0], [4.818881637133454, 5.0], [4.575357806159999, 2.0], [4.984851244259866, 4.0], [4.84607498478828, 3.5], [4.129961051695481, 2.0], [4.430616607002744, 1.5], [1.6457976493360242, 4.5], [3.5480337698360436, 4.0], [5.810241914123593, 3.5], [4.922632683472091, 4.0], [2.6770833828998564, 3.0], [4.16883314685244, 3.5], [3.8701373880000456, 4.5], [2.8024915413464218, 3.5], [4.242892650905299, 4.0], [3.3606964886309347, 5.0], [3.796776433546729, 4.5], [4.9823331949374685, 3.0], [1.9119576208281537, 2.5], [3.8129121309902176, 4.5], [4.047857333098606, 3.5], [3.7859475920776013, 5.0], [5.028292700911281, 4.0], [4.243965830377012, 3.5], [3.499346348266265, 4.0], [3.6610658631945756, 4.0], [4.54831050237129, 5.0], [4.709473304892717, 3.5], [3.2383920314983046, 5.0], [3.4469249890741884, 3.5], [1.0786025644657666, 3.0], [4.270315199693261, 2.0], [3.824167631226063, 4.0], [3.8871308667328455, 3.5], [3.0218235676908574, 5.0], [3.8205960357325446, 4.0], [4.48747186478477, 2.0], [3.3709359496275586, 4.5], [3.15947141787836, 4.0], [5.943357835187157, 5.0], [4.852621123847447, 4.0], [4.26169721085233, 4.5], [4.211128247185017, 2.5], [2.8998726818769667, 4.5], [5.4607345134649625, 5.0], [5.074257725198072, 1.0], [3.156938096718301, 4.5], [2.221023111604493, 5.0], [4.642633578443051, 4.0], [1.5066581372117918, 4.0], [4.274336621110573, 2.0], [4.510668322247499, 2.0], [3.984622564791731, 2.5], [2.371165226248899, 3.0], [3.8546729367452075, 2.0], [4.559016983411697, 3.5], [3.6159145764270537, 1.0], [4.894382851641222, 4.0], [3.496066039937943, 3.0], [4.148734774754239, 3.0], [4.923360659223812, 3.5], [4.1586722560672245, 4.5], [5.270594858974813, 3.5], [4.317172293162538, 2.0], [3.01442201352337, 4.5], [3.4516347348357166, 4.0], [4.531836573075639, 5.0], [5.045245966681684, 3.0], [3.182890317575929, 3.0], [2.6945599852309625, 3.0], [3.279877214473489, 3.0], [4.028814989519303, 3.0], [2.7400736439433357, 3.5], [3.5613653379368584, 5.0], [2.7569031191292424, 4.0], [3.658766913391634, 2.0], [4.245085281072695, 5.0], [3.1601329136090133, 4.0], [2.341933202533264, 4.5], [3.8274993585574344, 4.0], [2.6474541833077434, 5.0], [4.2286060376370695, 4.0], [3.7843558753269115, 3.0], [2.969471468545129, 3.0], [4.651082310639532, 4.0], [3.7863725262204406, 3.5], [4.413177866507477, 3.0], [4.244300036873504, 3.0], [4.252178908666059, 2.5], [4.183991345888084, 4.0], [0.8389887683980009, 5.0], [1.4268635626929207, 4.0], [3.133798776752253, 3.5], [5.086999129532084, 5.0], [2.985436589164689, 3.5], [3.907086001348311, 3.0], [4.849691199128755, 4.5], [2.18340730324996, 4.0], [5.266674289381484, 4.0], [2.809345084201025, 4.5], [5.424785698032761, 4.0], [3.5904585493219066, 2.0], [5.241403767097839, 2.5], [5.293670245912168, 4.0], [3.579938464122921, 4.0], [3.6257850758815207, 2.5], [3.915411593175562, 3.5], [4.442389936983436, 3.0], [5.915228147548689, 4.5], [4.561311207202802, 4.0], [4.902796482320995, 2.0], [4.504582571397676, 3.5], [4.33910332005026, 4.0], [2.5855241066858228, 4.0], [3.409288038138321, 3.0], [3.581896214651681, 3.5], [3.45741773519708, 2.0], [4.435184331608095, 0.5], [3.9729731154630765, 5.0], [3.8472027366521098, 3.0], [3.721398604891915, 5.0], [2.7256367870363967, 4.0], [6.760636369258787, 5.0], [4.165550307011957, 2.5], [5.272456229782207, 4.5], [4.652771186458756, 2.0], [4.972233179528431, 3.5], [4.581887055834675, 3.0], [2.8539825572574946, 3.0], [4.032175579766051, 5.0], [3.7721013499352787, 4.0], [4.903371742438259, 4.0], [5.406392390097521, 3.5], [4.922900567321638, 3.5], [5.327934271022996, 4.0], [3.679967101442119, 3.0], [3.8652541944428895, 4.5], [4.192934570311775, 4.0], [3.342196312629194, 3.0], [2.309016066996154, 3.0], [3.3650874172252196, 4.0], [2.849866312894975, 4.0], [2.624083082163771, 3.0], [3.495694403067888, 5.0], [4.679695105070002, 2.5], [3.3381534591143622, 2.0], [3.454291901437241, 5.0], [4.881361022532521, 3.0], [3.700117944285824, 4.5], [5.450034708449276, 4.0], [3.172150561776211, 3.5], [6.296679438187743, 3.0], [3.6275694564040157, 3.0], [2.7204819697368294, 4.5], [1.2231792148070457, 4.0], [2.534699471606124, 4.0], [3.5199508597063462, 3.5], [3.547618461366777, 3.0], [4.450541384115972, 4.5], [3.0947006084601743, 3.0], [3.6212893347552826, 4.0], [3.4426343887713386, 0.5], [5.3501099612394905, 4.0], [5.577160556131364, 2.0], [2.5275607365852775, 3.0], [3.7845279384305033, 5.0], [6.457989515751871, 5.0], [4.438953017931915, 4.0], [4.888157833609236, 2.5], [3.9787128665886975, 3.0], [3.070386903719209, 2.0], [3.8694061354518015, 3.0], [3.6102022775983533, 4.0], [2.7071343044153036, 4.0], [5.176015713126023, 4.0], [4.019890923406514, 5.0], [4.626894782053847, 2.5], [4.968180800323343, 3.0], [2.3633680171248757, 2.0], [4.070450666341815, 3.0], [4.159040684691743, 4.0], [4.162282326538585, 2.0], [4.512403017039127, 4.0], [3.979671922928287, 4.5], [3.3673646427800077, 2.0], [3.3855685453563096, 3.0], [3.7593731959640397, 2.5], [4.169322507333682, 2.0], [1.8150268214442857, 1.0], [2.722682759368443, 5.0], [4.725538919515652, 3.5], [4.195592545568487, 5.0], [3.1660483350527984, 4.5], [3.622300372871959, 4.5], [2.044439194370346, 5.0], [4.059485156417303, 2.5], [2.990854587020204, 3.5], [2.0703345707042486, 4.0], [6.0323781996367245, 0.5], [3.7535725276096255, 3.5], [4.303309653362203, 2.0], [2.7491240974930755, 4.0], [5.677596717354481, 4.0], [4.259724460629715, 3.5], [1.7392363209831019, 5.0], [4.301334426986871, 4.0], [3.5471934580031514, 1.5], [3.653449210837114, 1.0], [3.8327764026865063, 3.5], [4.147430849971976, 3.0], [3.788764745935137, 2.5], [2.7964297354610443, 4.0], [4.18199081048825, 4.0], [5.2065939390030636, 3.5], [3.542557070281997, 3.0], [2.5049184782355005, 3.5], [4.598622888220738, 3.5], [2.8456424607528716, 2.0], [3.2871253120283823, 3.0], [4.156340209733327, 3.5], [4.313630118989465, 4.0], [6.379385961875714, 3.5], [3.310216035569382, 4.0], [2.951156011134321, 3.0], [3.16619518910989, 3.0], [3.1978563704902827, 4.0], [3.1199035716596697, 4.5], [4.5119833250225865, 2.5], [4.50028921309991, 4.0], [4.108129412586323, 3.5], [2.586931957603409, 3.0], [3.075525196286658, 3.0], [2.8096991203725694, 2.0], [4.84762216556611, 4.5], [4.6818451511318955, 3.5], [4.003906485497914, 5.0], [3.2320334291032404, 3.5], [3.3872953054849426, 4.0], [3.348854261957421, 4.0], [5.928945212803726, 4.5], [3.3119721213541946, 5.0], [3.526072004904218, 5.0], [2.7504834639160456, 2.0], [4.620603908166373, 3.5], [5.014578746403073, 3.0], [5.267556926342552, 4.0], [2.946678585535202, 5.0], [2.402681713856263, 4.0], [2.832592619320268, 1.5], [4.192792565649457, 4.0], [3.9965847738776543, 3.0], [3.66406873750764, 3.5], [3.2066069146330496, 4.5], [4.811352762816196, 2.0], [3.8254518342751607, 3.5], [4.615152845732513, 2.0], [2.3218311085455987, 4.0], [2.9993199916721918, 3.5], [2.964420535081212, 5.0], [2.998796920583354, 4.0], [4.5967223611417305, 3.5], [2.650405780026417, 4.0], [5.360495333301925, 4.0], [4.97001776623774, 3.0], [4.169820465534735, 4.0], [2.59308675433331, 4.0], [4.723929822505573, 3.5], [3.954573293361475, 0.5], [3.681389275490994, 4.0], [3.17725063345999, 4.0], [3.8760633906890263, 4.0], [3.3878481126446798, 4.0], [3.2220311122980365, 3.0], [3.772944645910706, 3.5], [4.632501482397647, 5.0], [2.4444409788688812, 3.0], [4.577596967330149, 5.0], [2.8247083916661877, 5.0], [1.8923974897580333, 3.5], [2.8797519806353447, 3.5], [2.2676531009609207, 5.0], [4.8363071697173226, 3.0], [2.650868306018049, 4.0], [4.146447108464683, 5.0], [3.3000885973624636, 4.0], [4.4199905757201545, 2.5], [4.227061476339178, 4.0], [3.8054619488838286, 4.0], [4.569993340621442, 2.0], [4.951780920438726, 3.0], [3.90051065816803, 2.5], [2.8766235433612017, 3.0], [3.8271454381005876, 3.5], [3.4765425290043175, 4.0], [2.4345085776227147, 4.0], [4.600123256218658, 5.0], [3.2686126356732133, 5.0], [2.6276028851720596, 2.0], [4.633091431691835, 3.5], [3.8058894269603307, 5.0], [2.7716052716298263, 4.0], [2.0567718673071025, 4.0], [4.661727186160608, 3.5], [4.521214098931081, 4.0], [3.2909861821667983, 1.5], [2.839139617691021, 4.0], [4.024132565973142, 4.5], [5.033920541729427, 4.0], [4.844616557373037, 4.0], [2.9838505499698225, 4.0], [4.869154378103803, 3.0], [3.5763900638735526, 4.0], [4.324928246967726, 4.5], [3.5423229358161827, 1.0], [5.1979589960204375, 2.5], [2.904976188000268, 4.0], [3.303956183793282, 2.0], [3.737952901929502, 2.0], [3.5295786110695158, 4.0], [3.506816022849156, 4.0], [4.323928862657706, 2.0], [3.9038877983304086, 4.0], [4.341484790748768, 2.5], [4.041641126898567, 5.0], [3.710508693361616, 1.0], [2.3490585933135035, 4.0], [5.487883417981044, 4.0], [4.122537735844585, 3.0], [3.0732776734764315, 3.5], [4.371732578670126, 2.5], [3.8979271412305185, 4.0], [2.8632793538921852, 5.0], [3.6351242472263423, 4.0], [3.901156168619565, 5.0], [4.422821378178145, 4.0], [3.987579690721395, 3.0], [3.3697669348678687, 3.0], [3.1576649841762956, 4.0], [3.9179641851282265, 4.5], [5.268200177288172, 3.5], [4.682970447679968, 3.5], [2.3639214032166773, 3.0], [3.3054592895912576, 4.0], [3.0096174824673967, 1.0], [4.913844154143792, 1.5], [5.174141154017811, 3.0], [4.328309454498935, 3.0], [4.986702289424289, 4.5], [3.3816315176195295, 4.0], [3.6778739433139584, 5.0], [5.902638899345901, 4.0], [4.457622082054641, 3.0], [2.7610251719043255, 4.0], [3.1827957649144443, 4.0], [3.0112638737283715, 2.0], [3.3456783857335735, 3.5], [4.096596169130137, 2.0], [4.756237006709172, 3.0], [3.8246547857282067, 3.0], [2.302659080908397, 3.0], [4.645791913636064, 2.5], [4.1709084376405805, 1.0], [4.707423242478215, 2.5], [4.657037131436626, 3.0], [3.328916375991461, 2.0], [3.6002189369195867, 4.0], [5.255437070521982, 4.0], [4.130981890175134, 4.0], [3.208564382690154, 5.0], [2.6955372889646054, 5.0], [4.716611732868028, 1.5], [2.699415404428968, 3.5], [3.790407200652751, 5.0], [4.023429497936545, 4.0], [3.181898854183373, 3.0], [4.158048308988115, 3.0], [4.02488073803285, 1.5], [3.511354975627876, 2.5], [6.00858396175533, 4.5], [4.235481291082899, 3.0], [4.756654656290165, 4.0], [2.7472264266656814, 2.5], [3.975232721884204, 5.0], [5.69992536218112, 3.0], [3.520619566591056, 3.0], [3.9491358060883597, 3.5], [3.2692423998229985, 3.0], [3.070862413102716, 2.5], [3.4426079127101903, 4.0], [3.7532339592471775, 3.5], [5.0872883911306825, 3.0], [3.663905615585345, 4.0], [2.8921040871586983, 2.0], [4.038383957352571, 5.0], [4.535586944531408, 3.5], [4.127366469558392, 5.0], [6.011428555888425, 3.5], [4.704875813202344, 4.0], [5.681195205401155, 3.0], [3.451982247843389, 1.5], [3.5568688057352174, 4.5], [2.2165842008473065, 4.0], [2.732935709956482, 3.0], [4.548149561397939, 4.0], [3.80936526098687, 4.0], [3.5523613039491226, 4.5], [2.652940964115985, 5.0], [3.518463429662368, 5.0], [4.37135683869896, 5.0], [4.413603037822834, 2.0], [4.626678672584053, 5.0], [2.445497579320204, 3.5], [3.9072895236008294, 3.0], [4.030361914370499, 5.0], [4.065993607173362, 3.0], [5.365063714451267, 3.0], [4.063536204762416, 4.0], [5.251245610415011, 4.0], [3.9112375029415025, 3.0], [2.8710417999951403, 4.0], [3.355848316408759, 4.5], [4.960263980715025, 5.0], [3.0373484858291047, 4.0], [4.051831344140333, 3.5], [4.767363185489513, 4.5], [5.0180126114824715, 3.0], [4.021744907514883, 2.0], [1.8133598763047485, 5.0], [4.660720453765392, 3.5], [4.1053537468209145, 0.5], [4.380559853391429, 4.5], [2.9849035709007254, 5.0], [5.0189155086229285, 4.0], [2.945541512661403, 5.0], [2.7634357868731207, 3.5], [3.904535230104094, 3.5], [3.0066275424446713, 3.0], [5.503584451808569, 3.0], [3.80614311937814, 2.0], [1.9251835530474797, 5.0], [4.738283109874405, 0.5], [3.445135426775542, 3.5], [3.3414846279334114, 3.5], [3.3537944595817306, 5.0], [3.6823206271284734, 5.0], [4.611874762419931, 1.0], [4.236699891190325, 4.5], [4.271241110289034, 4.0], [3.2932157278431675, 5.0], [3.480086686317403, 4.0], [1.82474004531684, 5.0], [4.551779665631442, 3.0], [2.907795695487899, 3.0], [4.086618029965369, 3.0], [3.1382770595447087, 2.5], [2.896323598284148, 3.5], [3.2583298240623777, 3.0], [2.887826356781546, 5.0], [2.5724635932278046, 2.0], [2.7914981944641233, 3.5], [5.923905642506257, 5.0], [4.392222458997006, 4.5], [5.334217668605267, 3.5], [4.089619876281166, 4.0], [5.1120225634834915, 1.0], [4.536932549741808, 5.0], [4.603132974148196, 0.5], [4.851793618950823, 4.0], [3.697580146010883, 4.0], [4.662697385817554, 3.0], [3.9674652208302024, 3.0], [3.6384786117493424, 4.0], [0.9511928432231781, 3.5], [5.055733150247291, 5.0], [2.48075410989871, 1.0], [4.214938905728222, 4.0], [4.144228746482947, 4.5], [3.206192125821791, 3.5], [4.231203116492579, 0.5], [3.182936791722377, 3.5], [4.605744111357298, 4.0], [2.8761091578466425, 5.0], [4.38857977381411, 4.5], [3.8846979559687402, 4.0], [3.7492016788008544, 5.0], [1.777973188965886, 5.0], [5.274962891560936, 4.0], [5.478560284049304, 3.0], [4.419173414935442, 3.5], [3.5465984380083704, 4.0], [3.9120524548070166, 4.0], [4.44528346176283, 4.0], [4.214832285679215, 3.5], [3.336250530806031, 4.0], [4.050440477036361, 3.5], [4.470493335875006, 5.0], [3.9154037231888394, 2.5], [4.394109631317528, 1.0], [2.8697388316184647, 1.5], [5.46450379786896, 1.5], [5.811986276181407, 5.0], [3.622701588351936, 3.5], [4.682283581646197, 3.0], [3.2077605333504082, 4.0], [2.7081278314298736, 5.0], [5.573168030303713, 1.5], [2.1083013697406954, 5.0], [1.7489833892307622, 4.5], [4.142472012150854, 3.0], [4.74795414302273, 2.0], [4.551232104445631, 4.0], [2.1808399218817502, 3.0], [3.803687418206613, 3.0], [4.892291695315503, 4.0], [0.7772435605961254, 3.5], [3.645248280874192, 4.0], [4.187730753711255, 4.0], [3.8151861591763754, 4.0], [5.036759131250601, 3.0], [4.311210796544328, 3.5], [4.387911543302478, 4.0], [4.0329459035063095, 4.0], [4.308130307540105, 3.0], [3.9013027529126822, 5.0], [5.967528765556218, 3.0], [3.033997331543731, 4.0], [4.432346431649969, 4.0], [5.045822896061083, 4.0], [2.793565580136828, 2.0], [4.388724540668847, 3.5], [3.600773049646226, 2.0], [3.4807959672372775, 3.0], [3.504976183813076, 3.5], [5.454019089624451, 5.0], [4.6987792597331115, 4.0], [3.47396164103939, 2.0], [4.82516892605193, 3.5], [3.0842331348664707, 5.0], [3.2838079637930755, 3.5], [4.700490109208017, 2.0], [4.498740883489393, 4.5], [3.244489321849659, 3.5], [3.331547175768944, 4.0], [4.661923537047251, 4.0], [2.7447660965167233, 4.0], [4.470010245614977, 4.0], [3.999629477361228, 3.5], [4.1816414751143105, 3.0], [4.869468729293563, 3.0], [4.288471956077274, 3.0], [4.673222608316279, 3.5], [3.9143688659667477, 5.0], [4.9916322083254006, 5.0], [2.8947691975740315, 4.0], [3.914456923546842, 4.0], [3.4894788997119908, 3.5], [4.0705766559953265, 3.5], [3.326706588878023, 3.5], [3.185928521150464, 0.5], [4.448334116207802, 2.0], [3.9374445469074453, 3.0], [2.9730195951626928, 5.0], [3.940734783900063, 2.0], [4.830952112214562, 4.0], [5.25327187956225, 3.0], [2.191425942956248, 5.0], [4.319295972607819, 4.0], [1.4937093460243227, 0.5], [5.545635350398427, 3.5], [1.810296018857668, 4.0], [4.08943577328656, 3.0], [4.446694180457171, 4.0], [4.388296801538859, 4.0], [5.074261884565513, 4.5], [3.558667374006117, 3.0], [4.056095406725006, 4.0], [3.101812484654038, 3.0], [2.583687656742394, 5.0], [3.3261877552888452, 4.0], [3.6837576545444177, 4.0], [3.1162227819479433, 2.0], [3.1830432910081994, 5.0], [4.2793120940324965, 2.5], [2.2464794268535435, 3.5], [4.0385767138288085, 3.5], [3.1234346964531317, 4.0], [4.363336200108847, 2.5], [3.879517019995065, 3.0], [3.0812478424431107, 3.0], [4.436141172855141, 4.0], [4.674580523548436, 3.5], [2.950280154346039, 4.0], [2.8321915114905507, 1.0], [2.389759331660759, 4.5], [3.9691843256324995, 3.0], [4.747200349494319, 1.0], [3.4188826596925375, 4.0], [4.968193042236624, 2.0], [4.074997258094019, 3.0], [3.809763777321244, 5.0], [3.236507699655641, 3.0], [3.5130408864313027, 3.5], [3.673794476338928, 4.0], [3.780992789535011, 4.0], [3.456172729255562, 3.0], [2.3501357429523067, 4.5], [4.856818362550262, 2.0], [2.7415450811810076, 3.0], [4.751300983826558, 5.0], [4.50764120639127, 1.0], [4.207171882023134, 4.0], [2.8047415743415747, 4.0], [4.385694344981944, 4.0], [4.544842089838498, 3.5], [2.600137077274623, 1.5], [4.213127491554325, 1.5], [4.1232612747659045, 3.0], [1.7841228788368149, 3.0], [3.914057753472274, 3.5], [3.0791815573494956, 4.0], [3.0676960217889007, 3.0], [3.5355343252972657, 4.0], [5.679679196674424, 3.0], [2.5083321407974584, 3.0], [2.8946140378664498, 4.0], [3.88178147242526, 4.0], [3.9822851366172265, 1.0], [4.461611201207908, 5.0], [4.734113704248649, 1.0], [1.754059743411699, 4.0], [4.853392377205417, 4.5], [4.264942114463242, 3.5], [3.929608057050534, 4.0], [4.017716512406552, 5.0], [3.0643477729479045, 3.0], [2.8756404247165186, 4.0], [5.931386143107745, 3.0], [4.606102999206327, 4.0], [4.177499303887423, 5.0], [5.411110311753712, 4.0], [3.9601211401590963, 5.0], [4.297892276379372, 3.0], [2.8429046729647682, 4.0], [6.03846704801864, 3.0], [3.712450887580041, 4.0], [2.5041917939688845, 4.0], [4.4130818880137985, 4.0], [4.100580613511245, 4.0], [1.760203529470123, 3.5], [3.0261153849771607, 5.0], [3.565241939702471, 1.5], [3.7523775453428994, 3.5], [2.928506430824997, 4.0], [4.631641353429213, 5.0], [3.004442175346084, 4.0], [4.374359874784605, 4.0], [3.837863357858045, 4.0], [3.363842907451297, 3.0], [3.2673225776592347, 1.0], [5.195967695898967, 3.0], [2.280267069541381, 4.0], [4.033331196250414, 4.0], [3.451225479530579, 3.5], [4.667025746447351, 4.5], [3.4529008717177665, 2.0], [3.8249730693287955, 3.5], [2.1237659904038506, 4.0], [4.905319643655123, 3.5], [2.7649887269485465, 3.5], [4.467342941776709, 3.5], [4.366268330286519, 3.5], [3.197410755444423, 1.0], [2.337439271671279, 2.0], [2.8903831282238333, 3.5], [3.2059083334474523, 4.0], [2.9854363227420917, 2.0], [3.391519485035173, 3.0], [2.970127369124595, 4.5], [6.148058175757638, 3.0], [3.70903404590975, 3.5], [3.298771675636867, 3.5], [4.523830065259618, 4.0], [3.8632381587541347, 3.5], [4.41270043245432, 4.0], [4.44651712383216, 5.0], [3.247603923519767, 5.0], [4.661151409224641, 4.0], [4.392696156751563, 3.0], [5.355895338922648, 4.0], [2.7324096089090064, 4.5], [2.768305315325012, 4.0], [5.91668775909577, 2.0], [3.346645751711793, 3.0], [3.861037649625576, 4.5], [2.88570048863914, 2.0], [5.623336460355174, 0.5], [4.381178171174898, 2.5], [3.822117518437205, 2.5], [3.9988680170695075, 4.0], [3.093920693866573, 4.0], [5.2453419548825515, 1.0], [6.113691311148743, 0.5], [4.237985808698384, 2.0], [4.415328209626716, 5.0], [3.6208613679064787, 4.0], [4.3113499272884015, 5.0], [5.311447269726042, 4.0], [2.7652879021662873, 3.5], [4.253185828010066, 2.5], [2.588254262940853, 3.5], [3.7249584338367456, 3.0], [3.689563754550323, 4.0], [2.786061256814428, 5.0], [3.058743966017622, 3.5], [5.207261232995941, 5.0], [3.958651063724098, 2.5], [3.9116358678726666, 3.5], [5.375844299458492, 5.0], [3.9574918977729823, 4.0], [4.677295956854092, 5.0], [4.426729412249565, 4.0], [3.041479252812192, 5.0], [2.408428855853176, 3.0], [3.1741967736631005, 3.0], [2.811072730921134, 4.0], [4.65618229180024, 4.0], [5.133673401972859, 3.0], [3.5135039473345153, 4.0], [3.0867781519639497, 3.0], [2.608699423969788, 3.5], [2.5456452350203493, 1.5], [5.420617650510275, 3.0], [3.144887637761358, 5.0], [4.211189300264587, 4.5], [3.856663117829989, 4.0], [3.2548218661419805, 2.5], [4.704351108231586, 3.5], [3.3893122454882296, 4.0], [3.998508138405576, 2.5], [4.472191773101347, 4.5], [4.119704609980185, 2.5], [4.423377267968223, 4.0], [3.73151071390566, 5.0], [1.7768440222833597, 4.0], [4.786117034542721, 2.5], [3.859776959970782, 4.0], [4.3324665848839805, 5.0], [3.441843806782963, 2.5], [5.397952437493406, 3.5], [4.565260721277929, 4.0], [3.2610475070443203, 3.5], [4.161118023423036, 2.5], [3.0907777160276955, 1.0], [3.443565968479341, 2.0], [3.8594986318372064, 5.0], [3.472976418997845, 5.0], [3.453172588840502, 2.5], [3.9607451602925283, 3.0], [2.2834700181881367, 2.0], [5.5162279299224855, 3.0], [2.9388597292716923, 4.0], [3.8850783293850735, 4.5], [4.187374864411092, 4.0], [5.157007593845483, 3.0], [3.00200860614202, 2.0], [4.6988991519286465, 3.0], [4.812278191380584, 3.5], [3.717510308522157, 5.0], [6.1451137959934075, 2.0], [2.607867543526947, 3.0], [4.415612589806529, 5.0], [2.3897072310570406, 4.0], [4.112124641208671, 3.0], [4.740435951743647, 1.5], [2.0104918829710003, 4.0], [3.044483264789402, 3.0], [2.8946066472755736, 3.0], [2.5591811837149763, 3.0], [3.852787384754125, 4.5], [3.4737317941086503, 2.0], [1.7951341881695269, 3.0], [3.010047175459139, 4.0], [1.655230717987399, 4.0], [5.426965616599767, 4.0], [3.9333338479173254, 4.5], [6.0963540324344905, 5.0], [3.2126305310643914, 4.0], [3.5062579164475602, 4.0], [2.2667736880653986, 5.0], [5.441700050840335, 4.0], [3.1444448247972883, 3.5], [4.805832313041642, 3.0], [4.702259491249063, 3.0], [5.089958777585116, 3.5], [3.9384151186944556, 1.0], [4.648163404530035, 3.0], [4.094829661298774, 2.5], [3.7229158588093063, 4.5], [4.402950023517476, 2.5], [2.962402945798374, 2.0], [4.912223504462949, 3.0], [3.9987392032632316, 3.5], [2.8227201550147516, 2.5], [2.268763172619805, 4.0], [4.646205387664261, 2.0], [4.802185170751707, 3.0], [3.4714205328537675, 5.0], [4.550227070714783, 4.0], [5.008456685814463, 5.0], [4.532520377735193, 5.0], [5.201252985678601, 4.0], [1.806749876908167, 4.5], [3.644626204794995, 3.5], [4.8726934985853765, 3.0], [3.6040665951755173, 3.0], [5.124906331113896, 4.0], [3.1255510697087594, 3.5], [2.277674803088135, 3.0], [3.9141268912064997, 4.0], [4.491917111862872, 3.5], [1.1665141058787427, 4.5], [4.324516130613725, 4.0], [3.655192987161276, 3.0], [2.94292823106532, 3.5], [4.358094676430275, 4.0], [3.398612613635286, 4.0], [3.64883270076888, 3.5], [5.058317228641775, 4.0], [4.084444176625759, 4.0], [2.9667911344156606, 3.5], [3.8853761400639257, 4.0], [3.930883622285198, 4.0], [4.3745956355770845, 2.5], [1.472031494550559, 4.0], [3.285057452589031, 4.0], [4.93074125439685, 4.0], [4.045562868525023, 2.0], [4.276700197963177, 4.5], [5.076921382157945, 2.5], [3.249574601561786, 4.0], [4.305338896191853, 4.0], [3.46827533177312, 3.0], [2.595600150175956, 4.0], [4.255584173016821, 3.5], [3.1946155215109378, 3.0], [4.38469254473322, 5.0], [3.160252107616385, 4.0], [3.8695116175777233, 3.0], [4.033286332759175, 3.0], [4.605157635658776, 4.0], [3.0182205203583674, 3.5], [3.3444849155402125, 4.0], [2.677609704653625, 1.5], [4.373135268053932, 5.0], [4.259792676937364, 5.0], [4.68962921465651, 3.5], [4.574501770849746, 4.0], [5.4194535632697125, 4.5], [3.27541512962449, 5.0], [4.6630643413621735, 4.5], [3.8392979841571613, 4.0], [4.045743722021943, 3.5], [2.6251235301781435, 4.0], [4.495756547780819, 4.0], [4.145741167375247, 4.0], [3.8632609614121582, 1.5], [4.15816757984292, 2.5], [2.2165003815816617, 3.0], [5.252636330923856, 2.5], [4.637627596357156, 5.0], [5.232697164008005, 4.0], [4.97034084601648, 3.0], [4.616826002327913, 3.0], [3.4843099822434316, 2.5], [3.7459906216543617, 3.5], [4.716024968484913, 4.0], [3.8020182621180676, 4.0], [5.499140989857337, 3.0], [4.1895245346736285, 4.5], [3.280574985945867, 5.0], [3.027208677734816, 1.0], [3.385260151859205, 3.5], [5.51673644583676, 5.0], [3.910841544702854, 4.0], [3.709492311752891, 3.0], [5.386216683674598, 4.0], [3.0613574125342344, 2.5], [3.5397647559888084, 5.0], [4.709202939540922, 5.0], [3.137127717750309, 4.0], [4.155911181951894, 4.0], [4.993765630490493, 5.0], [3.938132888627446, 4.0], [4.603796263740736, 4.0], [4.185280347435947, 4.0], [4.70425987912496, 3.0], [3.216790247609465, 3.5], [4.541680540829933, 4.0], [4.179120172905757, 3.5], [3.2086556918235685, 4.0], [3.4685770182917177, 5.0], [4.022628316221717, 5.0], [2.6696585852421744, 3.0], [4.422541590216159, 3.5], [4.132428963566859, 3.0], [4.332110713190731, 3.0], [5.042371257489199, 4.0], [2.9172628988469578, 4.0], [3.3316652710598973, 3.0], [3.367407061735344, 1.0], [5.487672833935556, 4.0], [4.750957265746844, 4.5], [2.8350084956821364, 3.5], [4.866460295487092, 4.0], [2.9942251817936603, 4.0], [4.765109334313414, 0.5], [3.3515230100547106, 3.5], [5.853480231965027, 2.5], [3.47009094414398, 4.5], [5.45910780574881, 2.0], [4.175772541776891, 3.0], [3.1750679587428983, 4.0], [4.973439776997516, 3.0], [3.0230198292300345, 3.5], [4.074171247332104, 3.5], [3.9605796286276473, 4.0], [3.0127570399909906, 2.0], [4.6030283238859075, 0.5], [5.423993322419381, 4.0], [3.409259237520618, 4.0], [4.287900536838223, 1.5], [5.738445345091172, 5.0], [4.5018060348677995, 3.5], [4.035781741612595, 5.0], [1.4526029676640366, 3.5], [2.4682418304646068, 4.0], [3.388639124528512, 3.0], [3.8779751903651394, 5.0], [5.233160050802476, 4.5], [5.678288949315518, 3.5], [4.464971730790181, 3.5], [3.229323898473868, 3.0], [4.718601974411252, 3.5], [3.5285496986580336, 3.5], [5.291663742784936, 3.5], [2.9553406532293405, 4.0], [3.5668968279607376, 4.0], [2.586535721934592, 3.5], [3.549008604131004, 3.5], [5.855097064516578, 1.0], [3.7337335204433444, 3.0], [4.5635412404255975, 3.0], [4.575109376853956, 2.0], [3.248533380313138, 5.0], [4.6208009196659665, 5.0], [3.293563756708189, 5.0], [4.706319762082637, 4.0], [4.662452567808067, 3.0], [5.3684625205652265, 4.0], [3.8699132136782852, 3.5], [3.499904790117146, 5.0], [6.084030809248253, 3.5], [4.208329560539381, 4.0], [4.2952042832334, 3.0], [3.674193515805983, 3.5], [3.8298735325759616, 4.0], [7.130905563547898, 4.0], [4.871177914480363, 3.0], [4.199972990171017, 5.0], [3.920492658738955, 2.5], [3.22124303575981, 3.0], [5.181626968254085, 4.0], [4.63743892728813, 5.0], [3.754213017769355, 4.0], [4.215055611804289, 5.0], [3.2333871350056507, 3.5], [3.4457929197074075, 3.0], [3.864129179354002, 3.0], [1.3403784854332206, 3.0], [1.7613034681483848, 4.0], [3.1001432408412977, 4.5], [4.726627748606734, 4.5], [3.681675323269301, 4.0], [4.689856355088848, 3.0], [5.18343416737233, 3.0], [4.808073837277111, 2.0], [6.4735395270040685, 3.0], [4.976374242828934, 5.0], [3.1229097552486467, 3.0], [3.965890261219207, 1.0], [3.8940437020299843, 4.0], [5.376175898523521, 4.0], [2.8250571609568795, 5.0], [3.551236748843173, 4.5], [5.278722046560578, 5.0], [3.593639469927141, 1.0], [4.5918813329388115, 1.0], [4.181146848780011, 4.0], [3.819806169139845, 3.5], [4.6600754784768625, 4.0], [4.869525263289606, 4.0], [5.223955106428733, 5.0], [4.1098859796253695, 2.5], [4.0362320077345055, 3.0], [4.303040886404664, 5.0], [4.170482052041189, 3.0], [3.8850291695195267, 3.0], [2.0336889241669476, 3.0], [4.713169769097915, 4.0], [3.651782131114735, 2.0], [2.7997303460427254, 4.0], [3.9414163261915682, 5.0], [1.4265077735068628, 5.0], [5.371696129660654, 3.0], [4.632522363064813, 3.0], [4.266821630353497, 4.0], [5.8864673619063765, 4.0], [4.699822427094286, 0.5], [3.9863320026150286, 4.0], [3.3520468482560237, 4.0], [4.904641862361271, 4.0], [3.668409192655372, 2.5], [3.9997380857672904, 2.5], [3.570967061895869, 4.5], [4.494984834886128, 3.5], [3.6029527976853575, 5.0], [3.415691489945606, 1.5], [5.075065293414467, 3.5], [2.1829059822432453, 3.0], [4.816742667140873, 4.0], [4.236044029364062, 3.0], [4.270311722545873, 4.0], [3.0785319537177704, 0.5], [4.069582021220313, 3.0], [4.362683261435924, 2.0], [3.7309160879929677, 5.0], [4.274426941140355, 2.0], [3.252059132823154, 5.0], [2.3966535424093682, 3.0], [5.68851373450599, 3.0], [2.4400990940812974, 3.5], [2.519909248493351, 2.5], [5.347363573260443, 3.0], [2.2037765192676253, 5.0], [5.2807039920376075, 4.5], [2.558646408171131, 2.0], [3.265736905736598, 1.0], [4.050917150282478, 3.5], [5.543483937013026, 2.0], [1.4280899954218338, 4.0], [5.0117425981227335, 3.0], [3.933197705869323, 5.0], [2.7384637086530264, 2.5], [4.068211081469512, 5.0], [6.098027887630065, 4.0], [3.498874266043387, 1.0], [3.5189462386746833, 3.0], [5.032735427598385, 4.0], [5.660454415176604, 3.5], [3.8003877076663306, 2.0], [3.4341903073527127, 4.0], [3.7711453465827707, 3.0], [3.7982057935883287, 3.5], [5.413541585903601, 0.5], [3.2700808884606944, 3.0], [1.3748441324189673, 3.0], [2.603990534023031, 3.5], [0.7027138849351292, 1.5], [4.483412215041229, 3.5], [5.21667550090623, 3.5], [5.126260176227977, 5.0], [4.496500389680794, 4.0], [5.151040253928457, 2.5], [4.948422604134726, 4.0], [4.688080128070645, 4.5], [3.8382402655151475, 3.5], [1.3401654483273426, 5.0], [4.999706232132485, 5.0], [3.728002109353922, 5.0], [2.6007389792431046, 4.0], [2.7462090267339136, 4.0], [5.289006050869798, 4.5], [3.0174056105092566, 3.0], [3.079457847917661, 4.0], [4.568832936524424, 4.5], [3.6625783392189883, 4.0], [5.180361684419724, 3.0], [2.8625764355526435, 1.5], [2.8781672062048194, 4.0], [5.377827644239839, 3.0], [4.778556443220454, 3.5], [1.5453215334164498, 5.0], [6.08255086294287, 4.0], [2.8337890172742317, 3.0], [2.555339486921211, 3.0], [3.4968177784155166, 4.5], [1.3405170198195484, 3.0], [5.718302415128899, 4.0], [3.669819840439592, 1.0], [3.5772588102042966, 2.5], [3.808783086883631, 2.0], [1.9570665457036571, 1.0], [5.397629914571758, 5.0], [2.706645046592633, 2.0], [4.800158880598309, 4.0], [4.371427968633916, 3.0], [3.7382301596569865, 5.0], [4.433077077085361, 2.0], [5.475687399725038, 4.5], [3.4869516143730634, 4.0], [4.165507552118709, 4.0], [3.9336241273067745, 1.5], [4.169640191265461, 4.0], [1.7248212759487873, 3.0], [1.9748957416284407, 4.0], [3.81347720508007, 4.5], [2.4425856943503614, 3.0], [3.9869104204428485, 4.0], [3.6447083056426237, 4.5], [4.695106481490817, 3.0], [4.2090908801912486, 4.0], [2.4482032644438267, 2.0], [4.228430327952273, 3.0], [3.8040678239959833, 1.5], [4.131997965056518, 3.5], [3.1453800434240913, 3.0], [4.800153616604795, 5.0], [4.949615315314688, 2.0], [4.378790546009189, 5.0], [4.48962150564771, 5.0], [4.5898637622359235, 3.0], [3.269998219288408, 3.0], [2.9901531403922528, 1.0], [4.53663252976814, 4.0], [4.6922276484858045, 4.5], [3.8601289708784163, 4.0], [3.138688789332261, 3.5], [2.8524382156721986, 4.0], [5.270989434676371, 3.0], [5.245794436763444, 5.0], [3.6327601893396806, 5.0], [2.8739189289326754, 4.0], [1.335553066227526, 3.5], [3.1569028198002362, 5.0], [2.8968883046631833, 2.0], [6.462731556441791, 5.0], [4.223346219012898, 3.0], [4.648382373226572, 3.5], [4.337382671389443, 4.0], [3.020542277135065, 3.5], [3.862774504817118, 1.0], [3.7310749365438354, 1.0], [5.378972554385135, 4.5], [4.630842557089519, 3.0], [4.553426959460962, 4.0], [3.8414473181843127, 4.0], [3.251993560489444, 5.0], [3.1756709404183043, 3.5], [4.113122612685145, 3.5], [2.3312275718021556, 1.0], [4.850267809178143, 3.5], [4.330864868443443, 3.0], [4.558964338703547, 4.0], [5.706818049637818, 3.5], [3.301008647746991, 3.5], [4.858698551185262, 4.0], [3.84002161287366, 4.0], [5.197738572371951, 4.5], [3.048718516615546, 3.0], [1.1446273533337117, 4.0], [5.705639632551263, 3.0], [5.269389172930712, 4.0], [4.14833403575474, 4.5], [4.0440712605813545, 3.5], [2.555187893009089, 2.0], [4.864813019488021, 3.5], [3.760968630854372, 3.0], [2.8620084480554833, 2.5], [5.14942152688387, 5.0], [5.5602790825115935, 3.5], [3.8891224623310183, 2.5], [4.17292776141693, 4.0], [4.168114701278736, 0.5], [3.7991745526599217, 1.5], [3.474982462912271, 4.0], [1.2932396622827245, 4.0], [4.6323064058451076, 3.0], [3.5284760605840852, 1.5], [3.4488017741278867, 3.0], [4.018794634790628, 2.0], [3.099313111352669, 3.5], [4.208206217620042, 3.0], [4.632279771646036, 5.0], [3.452445868665083, 5.0], [5.55893126083142, 4.0], [4.411373696142198, 3.0], [5.171477326525687, 3.0], [2.600666215304066, 4.0], [4.309491197954339, 2.0], [5.552467487095208, 4.0], [2.590011715379779, 0.5], [3.216025291776365, 2.0], [2.1637021566756034, 5.0], [3.846982906721104, 4.0], [5.182813990843064, 3.0], [4.235777418730842, 2.5], [3.629997522590894, 4.0], [4.057391274777269, 5.0], [5.446919555359717, 4.5], [3.7707349860352117, 3.0], [3.1956241988919802, 3.0], [4.471443690667987, 3.5], [2.6331177931292196, 4.0], [4.1773697335091775, 2.0], [3.64489948535639, 5.0], [6.398277942215929, 4.5], [2.809238082102108, 4.0], [3.209592663390951, 1.0], [3.5487752495530334, 2.0], [2.9025079930804107, 3.5], [3.397640554392295, 1.0], [2.7663039001350147, 4.0], [4.4577126204713995, 4.0], [2.472336838000135, 3.0], [3.6716337131457437, 3.0], [5.3915312923525525, 5.0], [3.221868075458571, 3.0], [5.4109713309570795, 5.0], [4.64230680969222, 1.5], [6.520880712360739, 4.0], [3.904350382816551, 2.0], [4.644789296492388, 4.0], [3.433800575981967, 2.5], [6.420194152689915, 5.0], [3.3258519731623264, 4.0], [3.497559858728764, 2.5], [3.859053077600052, 5.0], [2.973961337657343, 5.0], [3.9263497539809333, 5.0], [3.7474786408573446, 4.0], [3.0227156419013284, 5.0], [2.627044312216851, 3.0], [3.4649608393778943, 5.0], [3.6241479020520315, 5.0], [3.9803418506028327, 5.0], [3.1547516864237126, 4.0], [3.7930757063589997, 4.0], [4.28031471949924, 4.0], [3.350031218120409, 4.5], [3.9124550924446093, 1.0], [3.538720283048038, 5.0], [4.850211514318807, 3.0], [4.716842899892254, 5.0], [2.829381149938737, 1.0], [3.6825330071392224, 2.5], [3.7694514066569877, 4.0], [4.244461839062213, 3.0], [4.917621133676168, 4.0], [3.503538920807841, 3.0], [4.776814525935864, 4.0], [3.275537770096575, 5.0], [1.9147335874837392, 4.0], [3.4502692769017225, 4.0], [2.405396749214222, 3.5], [4.556311946289572, 3.5], [4.38370727239112, 3.0], [4.382279240284831, 2.5], [2.9333577894789546, 4.5], [4.318626030227134, 2.0], [3.5101899136314216, 5.0], [3.74939241449393, 3.0], [4.073266668048344, 4.0], [3.410539865519026, 4.0], [4.1997713093678914, 4.0], [3.3106325467171667, 0.5], [4.347708646365208, 4.0], [4.658654627049269, 4.0], [3.108675525722092, 4.5], [4.781523146380042, 3.5], [5.936595558082315, 1.0], [2.8387749188464633, 3.0], [2.767881718587548, 4.0], [1.3100243977139439, 3.0], [5.834168157827443, 4.0], [4.188563309382382, 3.0], [3.46841912928549, 3.0], [3.385502024458047, 3.0], [4.867800833910156, 2.5], [2.693875199290049, 4.0], [4.553222223857681, 3.5], [2.4611878857034646, 3.5], [5.359124410233507, 3.5], [4.820477084295955, 2.0], [3.477672701512641, 3.0], [2.999566092907143, 5.0], [3.583602617161131, 4.5], [3.626460658767572, 3.5], [3.842178215505956, 4.0], [3.7974764749250074, 4.0], [5.348451725250117, 2.0], [3.5673579816871177, 1.0], [4.477129040878838, 3.0], [3.0215447364847448, 3.5], [5.156561340109533, 4.0], [4.382989211627687, 4.0], [2.9981966582629536, 3.0], [2.9990223381214283, 2.0], [4.612086406957364, 3.5], [2.951220053695219, 2.0], [3.4345088461217874, 5.0], [3.612864282925616, 4.5], [5.924023323111076, 2.0], [3.36562319510545, 4.5], [3.209390748240608, 4.5], [4.445099119300282, 4.0], [4.849615230200339, 3.5], [4.440091739986014, 3.0], [3.87371192842373, 4.5], [2.6701959396446484, 3.0], [3.776938313465532, 4.0], [4.202865352420674, 4.0], [3.9264898156528267, 3.0], [3.6875289703983785, 3.0], [3.599971391870468, 5.0], [4.695577058456914, 2.0], [4.576148910432709, 2.5], [3.733637298118662, 3.0], [4.093335546838239, 5.0], [5.36389938998073, 3.0], [2.0136509998551553, 4.0], [3.6528866024738402, 3.0], [4.1009702111434985, 4.0], [3.8410864868203456, 4.5], [4.623420451005429, 5.0], [3.5928691303418825, 2.5], [3.1717045128083194, 3.5], [2.273952575368091, 4.5], [2.9914619497554873, 3.0], [4.863514880215294, 5.0], [3.1750800995114963, 3.0], [6.368702881572971, 3.0], [3.2328492287410997, 4.0], [5.2326125193614335, 3.5], [3.8527683876620427, 3.0], [4.710682838204933, 4.0], [3.8125978467439166, 5.0], [4.277739396845738, 2.5], [6.949360072958146, 4.5], [4.212970702582503, 3.0], [4.820500793505953, 2.5], [2.503798173232224, 4.0], [4.05793194007394, 4.0], [3.1644981839700344, 2.0], [4.592053379189315, 4.0], [5.421972788448543, 4.5], [4.192585563769436, 3.0], [3.2309816897283317, 0.5], [2.701535930267184, 2.0], [3.942034022056591, 4.5], [3.009388263451003, 3.5], [3.303035870901983, 2.0], [3.4971165373896946, 4.0], [2.1349056754984033, 2.0], [4.675129149912862, 4.0], [5.276272025428583, 3.5], [3.119743006321934, 3.0], [4.898553279173888, 4.5], [3.9076051626690202, 3.5], [5.064500786776801, 3.5], [4.776676535092882, 1.0], [5.105923463403437, 4.5], [3.726371357914288, 1.5], [5.445103949987898, 4.5], [4.288514684053672, 4.0], [4.815787541282566, 3.0], [2.8057340665578674, 4.5], [2.56732201515145, 3.0], [4.5014597615340275, 5.0], [3.4582808514206476, 3.0], [4.856193986823535, 3.0], [3.6067621375923693, 3.0], [4.63792941169956, 3.0], [3.0590523177014157, 3.5], [3.1742905820090352, 3.0], [4.608870043547656, 4.0], [1.8065716100408316, 2.5], [4.0472367380248375, 1.0], [3.398963219885265, 5.0], [5.213658947164461, 3.0], [3.556991245435819, 4.0], [3.7797046237259035, 3.5], [3.934810113552877, 5.0], [4.679342254278802, 3.5], [3.942481703848796, 4.0], [4.657461064268728, 2.5], [5.145006082243458, 1.5], [5.9349179532914444, 4.5], [5.25036727857331, 1.0], [3.971053468984153, 4.0], [3.6104843830932825, 4.0], [1.6458917252422023, 4.5], [4.986266074431766, 5.0], [3.455204552775521, 4.5], [2.525738706356202, 3.5], [3.76160828992897, 3.5], [5.172669026935755, 2.5], [4.464662391042273, 4.5], [4.884934454575204, 4.0], [5.001743880324712, 4.0], [4.373981025416567, 2.0], [4.734874035876626, 3.0], [5.31924991496007, 3.0], [4.416909683367977, 5.0], [3.468239491733569, 2.0], [3.8927103945893005, 3.0], [3.649357179419555, 1.0], [3.340399301224357, 3.5], [4.251789340533959, 3.0], [2.763168625432356, 5.0], [4.869862194026568, 3.5], [3.3836456473564525, 4.5], [2.8544889562959495, 4.0], [4.005962630805514, 4.0], [4.899782887890741, 1.5], [3.6299221998224014, 4.0], [4.574293565727501, 2.5], [6.3961281419882035, 4.5], [2.8748271088198925, 3.0], [4.033290411658588, 3.5], [3.9414875368721733, 0.5], [2.951496589408014, 4.5], [2.607698857964482, 3.0], [3.824577185387844, 4.0], [5.294730968254218, 5.0], [4.661420066948407, 3.0], [4.110011811517657, 4.0], [2.2002556606297197, 3.5], [3.657857823421373, 3.0], [3.3974195707342174, 2.0], [5.766624544122152, 3.5], [3.7934959561316157, 2.0], [5.268604757685788, 4.0], [4.3384413526236205, 4.0], [3.16739684791384, 4.5], [4.542208493614973, 4.0], [2.4344506979653784, 2.5], [3.5966693600587316, 3.5], [3.4210722134790914, 3.0], [3.400128490152319, 3.5], [2.567255064409534, 3.5], [3.414434504297432, 3.0], [4.056647308465897, 4.0], [4.607301756508466, 3.0], [3.478091500826808, 4.0], [3.1795152750495457, 4.0], [3.4485714937335397, 3.5], [4.203692533994322, 1.5], [2.9484103191528646, 5.0], [3.1497311366928824, 3.0], [3.6095009431911365, 4.0], [4.6852427329413375, 3.5], [4.005699813780212, 4.0], [1.4144085098153374, 4.0], [4.892686324182522, 4.0], [4.482937177102146, 3.5], [4.975310826447141, 2.5], [2.7363100362349813, 3.5], [4.799788047810706, 4.0], [3.7568062250316534, 5.0], [2.6417020052453863, 4.0], [2.782378072091664, 4.5], [5.125164455102453, 3.0], [3.528204054131698, 3.0], [4.069460962554937, 3.5], [3.804368388872008, 4.0], [3.716215184670698, 4.0], [2.9478782762542353, 4.5], [3.689458892625581, 4.0], [2.202294444945549, 4.0], [3.533756821643245, 5.0], [3.005214594551932, 4.0], [4.410676441887933, 3.5], [4.253317999929794, 3.5], [2.9002149773510513, 4.0], [4.394199031219479, 2.5], [3.52883633208347, 4.0], [3.811533113419315, 3.0], [3.9425844538076666, 4.0], [2.9209628625188704, 3.0], [5.598845962949218, 3.0], [4.613783851330347, 4.0], [4.166565814314432, 4.0], [3.046059020333938, 4.0], [3.3752117706114824, 4.5], [3.7231210635590224, 4.0], [4.55696554047304, 4.5], [4.2403528553466785, 4.0], [5.119066692966082, 4.0], [3.932048727061558, 3.0], [2.9000171948631266, 3.5], [4.235198093170384, 4.0], [2.6392080526780703, 4.0], [4.860358279848536, 3.5], [2.4924012021358055, 4.0], [4.229854375212465, 2.5], [2.828519621682512, 3.0], [1.9290978502233425, 4.0], [4.3698239902866005, 2.5], [3.9289909842522475, 2.0], [4.146293008961489, 4.0], [3.1802780244332456, 3.5], [3.477235197158762, 2.5], [3.666644194017339, 2.5], [3.641568030674432, 3.5], [5.955369346334797, 3.0], [4.179972656997661, 3.0], [3.389892386036862, 1.0], [3.917555638966049, 3.5], [4.239448104204727, 4.0], [5.170393997463709, 4.5], [5.144996402505349, 3.5], [3.977267519454978, 3.5], [5.098083675950459, 3.0], [3.5942128616916107, 3.5], [4.108768686764262, 2.0], [1.036349142745724, 3.0], [4.091071497558861, 3.5], [5.289303243153501, 2.5], [3.73109407403967, 5.0], [3.02503496077352, 2.0], [1.6224639267936123, 4.0], [4.785628403017683, 4.0], [4.064376832167851, 5.0], [3.496090853332903, 4.0], [3.6685509915963435, 4.0], [3.325342695625381, 4.5], [5.795692587168938, 5.0], [4.9860465604494, 4.0], [4.708584256729651, 4.5], [3.056967949528427, 3.5], [2.78029064552935, 4.0], [4.449442286020503, 4.0], [3.392873059899302, 2.5], [5.129396567163477, 1.0], [4.069006233939391, 5.0], [3.923314023617339, 3.0], [4.322615287016826, 2.5], [4.198129593529905, 1.5], [3.484492129850069, 3.0], [3.400749197422338, 4.0], [1.5188113788165105, 4.0], [2.5769618584473726, 4.0], [4.516354709140831, 2.0], [1.7143585238295758, 2.0], [4.059046913532703, 5.0], [3.443200862700067, 3.5], [4.124886742259594, 4.5], [5.550320814241457, 5.0], [5.008006018115253, 2.0], [3.6897933385140593, 4.0], [4.15351542108159, 2.0], [2.908779182405145, 4.0], [3.673192853801853, 4.0], [1.8856107408242964, 4.0], [3.441666771805847, 3.0], [3.786300649541721, 2.0], [4.04071768749922, 3.0], [4.275655460845371, 2.0], [3.8004398223280336, 3.0], [6.193461038589351, 4.5], [5.061867409984586, 3.0], [3.4412194295256207, 2.0], [2.3645432399623116, 3.0], [4.681992049863113, 4.0], [4.810270107810939, 3.5], [3.5093309888421778, 5.0], [3.186239358905003, 3.0], [5.545089733899006, 5.0], [4.4511826038723665, 5.0], [3.94820317165193, 3.5], [3.5946049446011745, 3.0], [2.792236431043875, 4.0], [4.475566071516986, 3.0], [2.813594011656031, 4.5], [2.818196850856488, 4.0], [2.7514248396606322, 4.0], [5.379666462054521, 4.5], [2.786071905636841, 4.0], [4.076213025579025, 5.0], [4.753172268174721, 4.0], [4.66748513517501, 5.0], [5.399302010175887, 4.0], [4.221350273853878, 2.0], [4.562626049910994, 5.0], [3.7510976078810065, 4.0], [2.559200473071806, 4.0], [4.17661928218165, 4.5], [3.8962372191650667, 3.5], [4.815521919933296, 4.0], [3.701528934136082, 4.0], [3.9669346887013526, 5.0], [3.1971172101434226, 4.0], [4.147065261570714, 5.0], [3.768202000368915, 3.0], [3.5436710685646737, 4.0], [5.0174864936813695, 4.0], [3.5359094252404217, 5.0], [3.735355514163832, 4.0], [2.513425278884492, 2.0], [3.9662381642203073, 3.0], [3.681043879019505, 4.0], [3.2868432396345457, 3.0], [5.715213337075244, 2.5], [4.338841345358768, 3.5], [2.8253281885025068, 0.5], [5.046496393861587, 1.5], [4.537128843272563, 3.0], [4.224300854205826, 4.0], [4.194949356228326, 4.0], [3.8669161601939175, 1.5], [3.21731804105031, 4.5], [3.25492443255245, 4.5], [5.340983330435637, 4.5], [3.4708107219952513, 2.0], [2.270265220627611, 3.0], [5.741126513700668, 3.0], [2.0641486831910565, 4.5], [3.4803239615854475, 4.0], [2.393149571446673, 2.5], [1.6111121547603224, 3.0], [3.6612079798627857, 2.0], [3.474356582344879, 4.0], [2.482511969580662, 4.0], [2.8987019168991663, 4.0], [4.4731702710428065, 4.0], [5.6371110026858355, 2.0], [4.325325904133035, 3.0], [3.757690959900439, 5.0], [3.740726585093754, 3.0], [3.2298868418780993, 5.0], [2.90503655943672, 4.0], [2.7705248116642465, 4.0], [3.8854720461403, 3.5], [4.126037515094903, 3.0], [4.460478670466913, 3.0], [5.110862058113465, 4.5], [3.3940613701399287, 4.0], [4.732581866466656, 0.5], [3.2452073689296017, 4.0], [3.9751563801779928, 5.0], [2.978935819360377, 2.5], [3.994669951645008, 2.0], [3.339483468159872, 4.0], [3.3085564946700905, 1.5], [2.990227338873749, 4.0], [2.850871966114751, 2.5], [4.487654808760696, 3.0], [5.1525416543077585, 3.5], [3.7805903532452554, 3.0], [2.993759386780281, 4.0], [3.3788005961265135, 4.0], [2.445197656750196, 3.0], [2.3907732364696375, 4.5], [3.5876006118382286, 4.0], [3.8470503667887814, 1.5], [4.192726262395812, 3.0], [4.934303264113369, 2.5], [3.5382608586062045, 2.5], [4.868210031407124, 4.0], [5.069733367132918, 4.0], [5.122266272284931, 1.5], [2.044793902838988, 2.0], [4.2336340479643155, 4.5], [4.235144286100013, 4.0], [3.4752105363418875, 3.5], [3.4837669226071792, 2.0], [6.560745975464657, 3.0], [4.461770740830223, 0.5], [3.4299855398048087, 5.0], [4.7475173379783255, 1.5], [4.579828404978238, 2.5], [3.7901301629958226, 4.0], [3.7647005483618603, 4.0], [5.561971718015715, 2.5], [6.020940331961763, 4.0], [2.9647382517705667, 2.0], [4.7680357633855035, 2.0], [3.1228218928634544, 2.0], [2.786862856202764, 3.0], [3.3251837159955664, 4.0], [4.492996536198295, 3.0], [3.1110401217980805, 4.0], [4.045519560517754, 3.0], [3.114567687775393, 5.0], [5.166238437124089, 5.0], [4.9586600751783525, 3.5], [3.4030230122137435, 3.5], [3.7976559846140336, 3.5], [5.78584693685229, 3.0], [4.489477392601016, 4.0], [3.0459276489942178, 4.0], [4.173686491786658, 2.0], [2.2866957029628128, 3.5], [2.915528554560499, 3.0], [1.7986274349173936, 3.0], [3.051703935911466, 2.5], [2.8541840160207443, 3.5], [3.837954683721602, 5.0], [2.0811166863741972, 5.0], [5.105592071125499, 1.0], [4.810865662683288, 2.5], [4.673210368076433, 3.0], [3.5716741905515197, 3.5], [2.765826207740485, 3.0], [4.18083231064831, 1.5], [4.154086710442812, 4.5], [2.9157776518077743, 3.0], [3.3583810242653143, 3.5], [3.554983150400473, 4.5], [3.1134472814825016, 4.5], [5.086247591200637, 4.0], [3.738380604050252, 4.0], [5.572107176539743, 5.0], [3.1975322969967794, 3.5], [5.972654553862238, 3.0], [4.699038792933101, 3.0], [3.674789805327543, 5.0], [3.8108756582416294, 2.0], [1.7058287998455772, 3.5], [3.2401943783938036, 5.0], [3.590245939278226, 2.5], [4.390324053807047, 1.5], [4.428705927226639, 5.0], [3.740451170673935, 3.0], [2.7065147196506376, 2.0], [2.224657333434666, 3.5], [4.097315743632965, 3.0], [3.5947428740322613, 3.0], [5.381479209536704, 3.0], [3.4630638083487426, 4.5], [5.223387356523833, 2.5], [3.3948792259495812, 5.0], [5.011142465684343, 5.0], [4.172015912900332, 2.0], [3.153284397702374, 5.0], [3.9081598083227242, 1.0], [4.5960695268118466, 4.0], [7.598570922859503, 3.0], [2.133067026868249, 4.5], [3.8446420842568094, 3.5], [3.5811915475064273, 4.0], [4.744194049227315, 2.0], [4.124844956923447, 3.5], [4.5198214014136315, 3.0], [3.2074007505991196, 4.0], [3.4086002750105466, 4.0], [3.5599722979130566, 0.5], [3.0981022445113897, 2.5], [3.080916634483081, 3.5], [2.457295992820538, 4.5], [3.5191525036337263, 3.5], [3.8507767093553893, 4.0], [3.0054766985159524, 4.0], [4.964044544152227, 2.0], [3.1704830683989624, 3.0], [3.427408500202512, 4.0], [3.755605293537708, 3.5], [5.280460730389723, 3.5], [3.4823912745507086, 5.0], [3.5901837697635766, 5.0], [3.6953160246545638, 4.0], [4.10551867173487, 5.0], [5.440904544454887, 2.0], [2.6183427882431847, 4.0], [3.147361096258456, 3.0], [4.556602181204562, 5.0], [4.583345830787112, 3.0], [4.021549189567632, 3.5], [3.3824837855986307, 4.0], [3.22763889737956, 4.0], [5.391724648893802, 4.0], [5.391099955017888, 4.0], [4.863719493659871, 3.0], [3.2807702969216455, 3.0], [4.350642716530634, 3.5], [2.4819620379211353, 4.5], [4.003888111992115, 4.0], [2.489893678503285, 2.5], [4.735597436274109, 0.5], [3.5695531657673705, 2.5], [3.576413961754755, 3.0], [3.6108407603294252, 3.5], [4.582348012341873, 3.0], [3.2908300101118053, 3.0], [6.172563249158433, 4.5], [3.8988276211174355, 4.0], [3.766873276857125, 2.0], [3.5895782276878214, 3.5], [4.2844447416960465, 5.0], [3.161452797652141, 3.0], [5.126598882519188, 3.5], [3.7949064995487474, 5.0], [5.861975815064163, 3.5], [4.056667245824512, 4.0], [3.0594393345980673, 2.5], [3.9418414394410752, 4.0], [4.0213473769853, 4.0], [5.459738343990834, 2.0], [2.2073237538946686, 2.5], [4.009468894188105, 2.5], [3.236568731469892, 2.0], [3.4357788445608346, 4.0], [3.800424368226311, 3.0], [2.5407805779297172, 3.5], [3.644456336406358, 5.0], [3.301642301839175, 5.0], [3.7448295130264704, 4.0], [3.932521387326531, 4.0], [3.0878316366907548, 5.0], [5.255583866534718, 3.0], [2.6195421071716205, 3.5], [4.711262825944633, 3.0], [3.5024694797761953, 2.0], [5.038277105188034, 3.0], [4.412973247140949, 3.0], [3.067500665598046, 4.5], [3.9346927686321966, 3.0], [4.517573914126412, 4.0], [3.156487106151582, 3.0], [3.7880831189020165, 3.0], [5.481962835003009, 3.0], [5.097448843589347, 5.0], [4.159681280120071, 5.0], [5.4629496763593455, 3.5], [3.893513982344441, 3.5], [4.094671756008171, 5.0], [5.920272006561487, 4.0], [4.262468070562653, 2.0], [3.4931849962526944, 4.0], [3.3967515318612342, 3.0], [6.292604548354915, 4.0], [4.846115890754547, 4.0], [2.749841113515336, 3.0], [3.292490085094132, 3.0], [3.8797241311068964, 3.0], [3.6427476135256724, 4.0], [3.1245805410216767, 3.0], [3.9433083037558756, 3.0], [4.566930066146365, 1.0], [4.362131273564684, 4.0], [3.6211277845887637, 4.5], [3.3832619965352304, 2.0], [3.6947986839013542, 5.0], [4.883903066573708, 2.5], [3.9245203984517216, 4.0], [2.9066955960963052, 4.0], [2.7685197209819616, 5.0], [4.525036123101095, 1.0], [4.181317258512594, 5.0], [6.122177340041962, 3.5], [3.681654455868625, 4.5], [3.242891294699392, 4.0], [4.29084765187237, 3.0], [3.414338772027566, 3.5], [3.4106583650964386, 3.0], [2.390714165667037, 4.5], [4.899746677516164, 4.5], [2.4026341062390113, 3.0], [3.0772991184784146, 4.0], [3.327131853496277, 2.5], [5.120900954786097, 3.0], [5.0432388867788145, 2.5], [6.081529669810199, 2.0], [4.885049535433513, 3.0], [5.776139765832102, 4.0], [4.905753032210329, 4.0], [6.095219087104893, 2.0], [4.960019653818941, 3.0], [2.2692954305307325, 3.5], [2.9059447090585877, 5.0], [2.6594877043082183, 3.0], [3.298419736733963, 5.0], [4.554544785818588, 1.5], [6.04191718751075, 0.5], [4.3124727800921505, 3.0], [4.523052250030189, 4.0], [4.195452964832895, 3.5], [3.9872930534601716, 5.0], [3.646264970672494, 3.0], [3.7823715505371553, 4.0], [2.6240473964303273, 5.0], [3.2379484152552434, 4.0], [4.206251136644183, 4.0], [6.095719991833686, 4.0], [3.3771731593889553, 4.0], [2.3496438695493977, 4.0], [4.03299357691504, 4.0], [3.407156788329644, 3.0], [3.7767586523341965, 3.0], [3.307571315318472, 3.5], [4.613764943582793, 2.0], [3.0616848847187117, 4.0], [5.486964335870828, 4.0], [3.7874136161496748, 4.0], [2.920277006353084, 3.0], [4.703785936125236, 5.0], [3.935215999554116, 3.0], [5.571715926173581, 4.0], [3.5169755070420736, 4.0], [4.444134610070353, 3.0], [5.099652504921309, 4.0], [3.302888680377795, 4.0], [3.2072584576955294, 3.0], [5.06642074488553, 4.0], [2.334148240038229, 2.5], [3.236544857971271, 4.0], [3.721404545118022, 2.0], [2.495422789016442, 4.5], [5.344066538265817, 3.0], [3.835502196845411, 4.0], [3.8684218038783404, 5.0], [2.6273837116968584, 4.5], [4.081490514584971, 3.5], [3.9675273716602817, 5.0], [2.7492005940544333, 4.0], [4.25929431894157, 2.5], [5.197233668218898, 3.0], [4.99274162857523, 5.0], [3.19303011243461, 4.0], [4.718554777997755, 3.5], [3.1823162978628896, 3.5], [3.5529970157674984, 2.0], [4.253438813119433, 5.0], [3.7533082546406686, 3.0], [3.596113420921963, 4.0], [3.8680481768683235, 2.0], [3.0136347809707087, 5.0], [2.4904801097188454, 4.0], [4.442492131736185, 3.0], [4.120315722095573, 4.5], [3.2298422271437928, 5.0], [2.981204987497783, 4.0], [4.954151591172812, 3.0], [5.7565715663127595, 2.5], [4.713161431308331, 4.0], [4.4074197397657855, 4.0], [3.306853149175812, 4.0], [3.113096523599443, 5.0], [3.0871127382594783, 2.0], [3.009190441570214, 5.0], [4.801200589145148, 1.0], [4.473245785125021, 3.0], [4.543042433726601, 1.0], [4.575189190531559, 4.0], [3.451641028362785, 5.0], [3.2704122486230567, 2.0], [3.6912945789364375, 3.0], [4.256275162278414, 5.0], [4.410497611297522, 3.5], [4.8166468280775865, 4.0], [4.153928099410708, 4.0], [3.34812679697317, 4.5], [3.5008121816321154, 3.5], [3.6975006291833012, 4.0], [3.4815216604604617, 3.0], [4.125501691180801, 4.0], [4.029307594669369, 2.0], [3.624578870849198, 4.5], [3.597486032012661, 4.0], [3.868262425672211, 2.5], [5.8683252662066225, 4.0], [4.065824683911621, 3.0], [4.8283329774877695, 4.0], [3.837865777223922, 3.0], [3.2905533058525376, 1.0], [4.701491621862849, 3.5], [4.290512586402432, 5.0], [3.3953209336032426, 2.5], [3.304615878458074, 1.5], [3.692762289108894, 3.0], [3.0914782667304275, 4.0], [3.5170595445534922, 0.5], [3.9109493900383074, 3.5], [4.433286149395529, 2.5], [3.0724406084850813, 3.0], [4.566700058470147, 3.0], [2.1326851245145746, 4.5], [1.3002126801895262, 5.0], [4.145269979754427, 4.0], [4.469654968436597, 4.0], [3.0221764776980886, 3.5], [3.0080841936962153, 4.0], [3.5940311563046796, 4.5], [5.292443490557305, 5.0], [2.6303296793206146, 3.5], [1.6359529491834406, 5.0], [1.6135612579990302, 2.0], [2.2791417859318455, 2.5], [3.890819259133383, 4.0], [4.02541840933918, 3.0], [5.591505235910164, 0.5], [0.7781610627981447, 3.0], [2.8376737058344492, 0.5], [3.327034999250451, 3.0], [3.3763457615220522, 5.0], [4.8002597433266825, 1.5], [3.4112152688875197, 4.5], [3.825025575632818, 3.0], [3.160310617450268, 2.0], [3.7468871480796273, 3.0], [3.471366797063618, 2.0], [4.079839316176037, 4.0], [3.295077392041978, 1.0], [5.319389799134721, 3.0], [3.4729667485353484, 4.0], [4.015876315206351, 3.5], [4.393062780009085, 5.0], [4.702664829056642, 3.0], [3.0394419401861454, 4.5], [4.0049663852347495, 4.0], [1.4716585852475046, 5.0], [3.7948387755772988, 4.0], [3.450864385633992, 3.0], [2.869650775587928, 4.0], [3.219621796263622, 4.0], [2.7673579390269465, 4.0], [3.8518945698198155, 3.0], [5.083791642818953, 2.0], [3.381959172173029, 4.5], [4.711977086994238, 4.0], [2.0951366690435074, 3.0], [3.1318373723653954, 1.0], [3.6971596381235203, 4.0], [3.1390416223715674, 5.0], [3.8844159678321835, 3.5], [4.398270434688942, 3.0], [3.728395535965987, 4.5], [3.472767557628525, 3.5], [2.8610825854667823, 3.5], [3.359624293286594, 3.5], [3.823339548576076, 2.0], [4.340141611872895, 2.0], [4.164854168237081, 3.0], [3.4154785213820427, 2.0], [3.230691126073694, 2.0], [2.808705000881222, 3.5], [4.958986489858583, 4.0], [4.6033721646183885, 0.5], [3.7343453612229074, 2.0], [3.035023644665059, 4.5], [4.5092925133497515, 3.0], [4.69323575148153, 4.0], [3.434780624144654, 3.0], [4.136689331325666, 2.0], [4.559006055207175, 5.0], [2.341882375466449, 3.5], [4.525471432057854, 3.5], [4.376361910644439, 3.0], [5.8047115432209555, 5.0], [5.691398783183446, 4.0], [4.161639532519103, 5.0], [4.484174566831868, 4.0], [4.868979273784692, 4.5], [3.952897832052674, 3.5], [1.7052853451188281, 3.5], [5.278484561868576, 3.0], [3.658148212340252, 3.0], [3.774690329334393, 3.0], [3.0738001726577022, 0.5], [2.8630443057473713, 4.5], [4.136369118424847, 3.5], [2.878937883133648, 3.0], [4.864848273627031, 4.0], [2.519543480475353, 1.5], [4.1765343443792595, 4.0], [3.5531558674316597, 3.0], [3.6205433874265456, 2.0], [4.196484649097191, 4.0], [3.860641080560303, 3.5], [4.314649134245007, 5.0], [4.742435373732954, 4.0], [3.4705294143025274, 3.0], [5.430985709374674, 4.0], [3.0276514742309044, 2.0], [5.089955277700034, 4.0], [3.910612590015722, 4.5], [2.4362880604021013, 4.5], [1.6762605344278647, 4.5], [3.334077845297164, 4.0], [2.7008128585115183, 5.0], [4.981124289625117, 3.0], [4.125837225418954, 5.0], [5.144218720992306, 4.0], [5.9223165480739, 3.5], [2.9619730113308793, 4.0], [4.228722147894001, 5.0], [2.9693555858286884, 3.0], [4.7783274446184985, 3.0], [2.054645011922994, 4.5], [5.169629117490147, 3.0], [4.690258917815473, 4.0], [2.950406414874428, 4.0], [5.062964818525629, 3.0], [3.5514597326820208, 4.0], [3.233231225717468, 3.0], [2.8628453994568126, 4.0], [4.481086793621839, 4.0], [5.09346640110095, 2.5], [4.657287142262533, 4.0], [4.572977103423924, 4.0], [3.7057542579362086, 3.0], [4.18548504715394, 5.0], [3.366336026094531, 4.0], [5.098929477130494, 5.0], [0.8596761774229108, 4.5], [3.5949460537478477, 2.0], [3.8379399614694227, 4.0], [3.047390270361108, 3.5], [3.8706850755720437, 2.0], [3.895194087113916, 4.0], [2.5424125021198933, 4.0], [3.0970393925834703, 2.0], [5.233065067447651, 0.5], [5.033502194427122, 2.0], [3.5123433849063432, 4.0], [3.229730401911327, 4.0], [2.664710746024424, 4.0], [4.727976667648407, 4.0], [3.651826851997069, 3.0], [5.192595032255591, 5.0], [4.187427939630365, 3.0], [4.841577166395582, 4.0], [4.6958858456246855, 4.5], [5.3356282620437465, 4.0], [4.980747217184978, 4.5], [4.006274614964219, 5.0], [4.628948103139282, 3.0], [3.3582102616810348, 3.5], [4.360390718443112, 3.5], [3.872989862961544, 2.0], [4.893668355774617, 4.0], [1.6212036218206927, 4.0], [2.8011955920912257, 5.0], [2.7026411669221275, 2.5], [5.008971943040137, 4.0], [3.2405238344969494, 4.0], [5.251482108294759, 2.5], [2.876480572110031, 3.5], [4.314795567699412, 2.0], [4.258856294191746, 4.0], [4.423927768365484, 4.5], [3.7218761616151124, 5.0], [3.3434510452611867, 3.5], [5.153027200711851, 2.0], [5.894715906299148, 4.5], [5.8470638862948325, 3.0], [3.3019145335856845, 3.0], [2.649764585249893, 4.0], [4.049050015120159, 3.5], [5.61705080416945, 5.0], [3.8032513237573395, 4.0], [3.00628671830726, 4.0], [4.4075910237380205, 1.0], [2.773713910583412, 4.0], [4.18895349647482, 4.0], [5.232768971399737, 0.5], [3.5588177515971973, 3.0], [4.745963470319116, 4.0], [4.338245067007701, 4.0], [3.221812605796263, 3.0], [3.5292268174828765, 3.5], [5.619921110860123, 4.0], [3.146148383126273, 2.0], [4.537206303618525, 2.0], [5.056661068379803, 3.0], [5.292894525676509, 5.0], [4.667131762044074, 4.5], [3.3739581636847453, 4.5], [4.809388251385936, 4.0], [3.48327995281737, 2.0], [4.8014603371084545, 4.0], [4.538186852535876, 2.0], [5.313895862683581, 4.5], [4.381612763201618, 3.0], [1.6941801045069325, 3.0], [4.545731228832748, 5.0], [4.461784486510889, 1.0], [4.584460241686056, 3.0], [3.6389390583813577, 3.5], [5.009032724371192, 3.0], [2.642764842163971, 4.0], [4.896339823015181, 4.0], [5.698811214522356, 4.0], [2.955311815222644, 1.0], [5.051179242074737, 3.5], [3.076446032123334, 4.0], [5.67246906302557, 4.0], [3.194932704343273, 3.0], [2.7517249711038994, 4.0], [4.723701068477473, 4.0], [2.1108738891549774, 3.0], [2.947280590384795, 3.0], [1.6505347245178672, 3.5], [5.493028714988572, 4.0], [4.031600001923375, 5.0], [3.5134157067292615, 3.0], [2.9265315564960255, 5.0], [4.0241951918288, 4.0], [4.811147204687542, 3.0], [4.461800343204272, 5.0], [2.979520294545938, 3.0], [3.857740082403402, 3.0], [3.132617698565921, 2.5], [3.813926224356553, 4.0], [4.68787805194453, 4.0], [3.7644956646517413, 4.5], [5.9019760449111125, 3.0], [0.7600223704443619, 0.5], [4.0915190189398025, 5.0], [4.634166012540216, 3.0], [4.71557503935322, 1.5], [3.4648922209852975, 1.5], [4.0081176723059215, 5.0], [2.509858189150889, 3.5], [4.745509276084575, 2.0], [3.8783397088575615, 2.0], [4.098039043335801, 4.0], [5.556647833185314, 4.0], [5.439379801283962, 3.0], [4.8329429122758425, 3.0], [2.554114318147168, 4.5], [2.1974286173342255, 3.0], [2.496095727506514, 4.0], [3.475414866082125, 5.0], [3.285811160272156, 2.5], [3.8098138873728735, 5.0], [3.7322840185378787, 4.0], [3.9465174566608385, 3.5], [3.260738662206867, 4.5], [3.9343230770691555, 5.0], [5.5840448355186005, 2.0], [4.8557525423528585, 4.0], [4.367380826594406, 3.5], [3.4335223361435983, 1.0], [3.1166624451687714, 2.5], [3.292261821384162, 2.0], [4.918259662755562, 5.0], [4.597495852393366, 5.0], [5.5770684321674056, 5.0], [5.505209902738702, 4.5], [3.688501491343596, 3.0], [4.889302684135288, 3.5], [4.975211881347724, 5.0], [5.610992415851517, 1.5], [4.00371118554754, 5.0], [4.983227936732029, 5.0], [2.8457551425376386, 3.5], [3.2708367365519995, 3.5], [3.4992214189335518, 4.0], [2.0569674635496806, 4.0], [2.1863587760254872, 2.5], [2.0553846256528616, 4.0], [4.460395899974233, 4.0], [0.9660823385576435, 4.5], [4.437587719266207, 3.5], [4.774897536815322, 3.5], [3.175229246826133, 4.5], [3.245901868803618, 3.5], [3.0563079519685394, 4.0], [3.631950604958682, 3.0], [1.901721070061157, 3.0], [4.319925332968669, 2.0], [2.3736616697042883, 3.0], [3.485306507029504, 4.0], [1.8107672041703982, 4.0], [3.2472481106288087, 4.0], [2.6880210227283348, 3.5], [2.9574386782814748, 4.0], [2.4120245551268793, 2.0], [3.785006459861867, 3.5], [3.7195969421117923, 2.0], [4.787886962300925, 4.0], [3.3094376999089747, 3.0], [4.418290209418555, 4.0], [3.435077124731386, 4.0], [2.707649507869351, 3.0], [4.03760046125899, 1.0], [3.6144002060287406, 5.0], [3.462561938771291, 5.0], [4.857781009966962, 5.0], [3.7749463402044405, 4.0], [4.112902563729078, 1.0], [3.7295658211363665, 3.5], [2.959394886511957, 4.0], [5.098928142191026, 5.0], [3.2235687857526494, 3.0], [2.1220023752807085, 3.5], [4.774529358768939, 4.0], [5.598615531422735, 3.0], [4.329891456392056, 0.5], [3.850975806242509, 4.0], [2.1839604145358518, 4.0], [3.0503986805862335, 2.0], [4.6380427624602785, 4.0], [4.567281732032046, 5.0], [2.822880354498164, 4.0], [3.0885284802666377, 5.0], [3.082732628814416, 4.0], [2.6369087811117615, 3.0], [2.8754509514784594, 4.0], [3.81270426203316, 3.0], [3.518988992360183, 3.0], [3.921092457801474, 4.0], [2.8881782593676735, 4.5], [2.4500920049274404, 3.0], [3.175003304749036, 4.0], [4.209489337809822, 4.0], [4.577356520170699, 3.0], [4.084455402526356, 3.5], [4.441268515948125, 2.5], [4.055081761884261, 4.0], [3.5613094610570943, 3.5], [4.1302047513178515, 3.5], [4.447812101890448, 4.5], [3.4514889471435426, 3.0], [4.612065246023165, 4.0], [4.178416257395772, 5.0], [3.658513952895079, 5.0], [2.8983346755362285, 3.0], [3.6717330137192388, 3.0], [3.939308307977154, 3.5], [5.843151057173132, 3.0], [3.471036371081466, 2.0], [2.917851741180575, 5.0], [4.653042541700858, 3.0], [4.154781732672788, 3.0], [3.533728772488165, 4.0], [3.4820279066047086, 5.0], [4.747089391465256, 3.0], [3.7430610604465016, 3.0], [3.1297300343557577, 3.0], [5.053846707883983, 3.5], [3.468225567771166, 4.0], [4.656091128552042, 3.0], [3.94368903225198, 3.5], [2.9923019363031487, 4.0], [4.248632161255512, 3.0], [2.352394887521549, 3.0], [3.3960281935695575, 4.0], [3.204485346152993, 5.0], [2.4653485749819506, 0.5], [3.0335477742179884, 5.0], [2.702988856531302, 4.0], [4.48886740847529, 3.5], [3.851882001582092, 3.5], [2.3663101166609826, 2.0], [3.3422272309117904, 4.0], [3.782108814268964, 5.0], [3.929627720872204, 4.0], [3.97577334406378, 3.0], [5.234576193878619, 4.0], [5.636776920565285, 4.0], [4.196199297346313, 4.0], [3.975544175952805, 2.0], [4.4683990596545105, 3.5], [3.3529416392073057, 3.5], [3.860938897764274, 3.0], [3.9219676107676666, 3.5], [4.739719051530122, 4.0], [3.983679762410909, 3.0], [3.393746347069122, 4.0], [4.12550626138763, 4.0], [3.7975875078141774, 3.5], [6.076421710776128, 2.5], [4.881584286417961, 2.5], [4.634650401629526, 3.0], [3.423136213905743, 4.0], [4.309075263281129, 1.0], [3.9688844566249797, 3.5], [3.0440409057580613, 3.5], [3.5717748354856154, 3.5], [3.713104405014972, 5.0], [4.941251177947104, 5.0], [3.194680542463796, 3.5], [3.074007221859947, 4.0], [4.07447297375595, 3.0], [2.65159279619788, 5.0], [2.1293227969552366, 3.0], [2.626704820444239, 3.5], [3.6622862732182533, 3.0], [3.883535677872974, 4.0], [3.4837710030453333, 2.0], [3.998990948191525, 3.0], [3.3313865788485875, 4.0], [3.756022023122625, 4.5], [7.070779459212221, 5.0], [5.259335085924859, 5.0], [2.8051888778313274, 3.5], [4.198005433647703, 4.5], [3.7198570660127954, 3.0], [5.351572113313885, 1.0], [5.006344955296062, 4.0], [4.664845313592796, 4.0], [4.042101688512891, 2.0], [3.8927051704032545, 2.5], [3.728289617776315, 4.0], [4.695230919963168, 5.0], [3.9830426490466486, 2.5], [2.292113377819463, 2.0], [3.632064090626109, 3.5], [3.3420624187124335, 3.5], [2.83189367214023, 4.0], [4.391263272251256, 4.0], [3.966652640130208, 5.0], [4.583848818268601, 2.5], [4.135379168939057, 4.0], [4.926701151733035, 3.0], [4.783386277944023, 5.0], [4.653385149279477, 4.0], [3.6396982146023635, 5.0], [3.2826515092949373, 3.0], [1.7842826730923842, 3.0], [3.4373272866677933, 4.0], [4.223928148922426, 2.0], [5.321859336850427, 4.0], [3.5729614019123086, 5.0], [3.790969020384602, 3.5], [4.8779637540993, 4.5], [2.7943512103502814, 5.0], [5.382494868344456, 3.5], [3.5404566265455246, 2.0], [4.002221027649223, 3.5], [4.066541541596493, 4.0], [5.19104593404052, 4.0], [5.500331232809926, 5.0], [5.817812923029807, 5.0], [4.83849644343835, 2.0], [4.786267568244861, 3.0], [2.4723868249298406, 4.0], [1.7100221363176678, 4.0], [3.8379358184794663, 4.0], [3.8762120832057114, 4.5], [3.1549302712704694, 5.0], [4.792908437237221, 4.0], [5.053917591685574, 1.5], [5.391969385761768, 2.5], [2.8975408161776772, 4.0], [4.259005679656207, 2.0], [3.7181278364780543, 3.0], [3.741196836883023, 2.5], [3.9031200189837962, 4.0], [6.08843451538493, 3.5], [2.5513883218631377, 4.0], [3.081987658476156, 5.0], [3.0330785422412885, 4.0], [3.942490136687256, 2.0], [3.4177140581714696, 5.0], [4.249485152826346, 3.5], [4.424736704468178, 4.0], [4.695533156493602, 4.5], [3.6269931932682806, 4.5], [2.7849273349242614, 4.0], [2.646846297478933, 3.0], [3.6108797979771055, 4.5], [3.8211412548170878, 4.5], [2.9406725781604144, 2.5], [4.187653825233479, 3.0], [4.062487560413647, 5.0], [5.15468390805977, 2.0], [4.035647591504252, 4.0], [2.990896126265122, 4.0], [3.7531471212793894, 3.0], [3.1365204087601515, 3.0], [3.440875507524266, 4.0], [3.130740642672293, 5.0], [3.841446060081105, 4.0], [2.917533462597799, 4.0], [4.5432212167528565, 2.5], [3.404593145904771, 1.5], [4.973013525262726, 3.5], [4.295943401326226, 3.0], [3.9037769908193627, 0.5], [3.3737299420138087, 2.5], [4.953307196496228, 5.0], [3.6873714080917708, 4.0], [3.2364751123263518, 2.5], [4.254473429687916, 4.0], [3.6325554687257537, 4.0], [4.829258997657402, 3.0], [2.401670421241264, 4.0], [3.309890373884507, 3.0], [3.657326044444595, 4.0], [4.404071056757559, 4.0], [5.631052377150765, 5.0], [4.244499859713562, 3.0], [2.9801371073918137, 4.0], [4.553704155051575, 1.5], [4.069518563105658, 4.5], [1.1788383301190428, 3.5], [3.7931794780183643, 5.0], [4.287694042673226, 3.0], [4.014832887616385, 4.5], [4.448334704720344, 2.0], [3.333574954221427, 2.5], [3.0783464618915857, 2.0], [4.119459192687881, 3.0], [3.8932382039889846, 2.0], [4.54095771755855, 3.0], [3.833581906494503, 4.5], [3.902164961465122, 3.0], [3.527809177421805, 5.0], [4.703676522534674, 5.0], [2.5998165172426004, 2.0], [3.7928879093884413, 4.0], [4.6388114449318465, 4.0], [5.34928059134359, 3.0], [4.840675476477293, 3.5], [3.59646400596361, 4.0], [5.031938985758048, 2.0], [3.044858834490556, 4.0], [4.581291150973515, 4.0], [4.636599404267926, 3.0], [3.8144378811585744, 3.5], [3.217398129698845, 1.0], [3.9531185277678054, 4.0], [3.837904123413224, 4.0], [3.647905788557703, 5.0], [2.64373775582001, 3.0], [4.574402858630507, 4.0], [4.7991335662579235, 4.5], [4.67292533410746, 4.5], [4.231845492398381, 4.0], [3.8018401776432844, 4.0], [4.665164234889067, 4.5], [2.9272283572599123, 3.0], [2.4063799860796835, 3.5], [3.778043217933019, 2.5], [3.014521767654171, 4.0], [3.425329916562574, 4.0], [2.0079372570511014, 3.0], [4.441692760464156, 5.0], [3.194339055163227, 4.0], [4.9379441598183895, 4.0], [5.051811463961018, 4.0], [4.09743027556711, 5.0], [4.319727414493382, 4.0], [3.4704418936174712, 3.0], [2.657069667411973, 3.5], [3.780972019892144, 3.5], [2.460231922827218, 4.5], [3.083242384693272, 3.0], [3.469495519638116, 4.0], [3.8280359130866772, 5.0], [3.6526773857755215, 0.5], [2.485857002902385, 5.0], [4.512740206536151, 3.0], [4.434156833303085, 3.0], [4.97747110285375, 3.5], [3.564651607052496, 3.0], [5.0016934906613155, 3.5], [1.7275676442095331, 1.0], [4.5789312550067995, 4.5], [4.262907763549831, 4.0], [2.049891120859017, 4.5], [4.597037923128392, 3.0], [1.9934905133328351, 3.5], [4.363599974182408, 3.0], [1.464668752665949, 3.5], [5.346614253531089, 4.5], [5.026944427286344, 2.5], [4.80611455367199, 4.0], [4.151890816373551, 3.0], [5.855795812495645, 4.0], [3.1711626468305774, 2.0], [3.1357189963376446, 1.5], [3.710917771802548, 4.0], [4.316081255078359, 3.5], [3.5673644917962726, 1.0], [4.3090357910207375, 3.0], [2.407681802774299, 4.0], [4.392658931447151, 3.5], [3.6105284423531003, 5.0], [4.441786034519312, 3.0], [4.697139414210431, 3.5], [2.7878848441908066, 2.0], [4.34486505486466, 4.0], [2.108884637417767, 4.0], [3.5613160585452226, 3.0], [3.7820467074979645, 5.0], [4.336123087236916, 3.0], [3.904947038613579, 3.5], [3.603250147457302, 3.0], [2.3503228567533916, 2.5], [2.9277431720816125, 3.0], [3.3160793778877022, 4.0], [3.7541958274039335, 3.0], [3.871936317687357, 3.0], [3.835651494916709, 3.0], [1.9142883956753556, 5.0], [2.60906961502727, 3.0], [4.097258604322638, 3.5], [2.4057718690169816, 3.5], [2.3127187107262555, 5.0], [3.56431742218285, 3.0], [3.1330782604826473, 4.0], [5.068076431789996, 2.0], [3.9026187009209763, 2.5], [3.6025671428430157, 2.5], [4.089832761502734, 2.5], [3.541880938883784, 5.0], [5.9557953160037655, 4.5], [2.2547555524536023, 5.0], [3.675739281738621, 4.0], [4.97509024468308, 3.5], [2.984252655991429, 4.0], [6.068759446861591, 4.0], [3.5423512789946807, 1.0], [3.971923873197393, 5.0], [3.750497505894353, 3.5], [4.045739764798542, 3.5], [1.9066742684662044, 2.0], [4.802910493060552, 0.5], [1.5111337172124337, 5.0], [3.2238332089799138, 4.0], [3.261688660549851, 3.5], [3.467312723397221, 4.0], [3.042569023834784, 4.0], [4.493298249288669, 4.0], [4.311789693658931, 4.5], [3.0110033960519926, 3.0], [4.568000183766834, 4.0], [4.637800866439884, 2.5], [3.541084626838598, 4.5], [3.0962610367446453, 5.0], [3.6445048980974213, 4.0], [3.161992092982677, 3.0], [2.909150373362672, 2.5], [3.820963177841511, 1.5], [1.263585876190574, 4.0], [4.333299172670996, 2.0], [2.8346258169380305, 5.0], [2.205880697364997, 2.5], [1.3152701726728184, 3.0], [3.6557776526639123, 2.0], [4.303821235765997, 2.5], [3.550390838760442, 1.0], [3.810992444075865, 4.0], [7.359474034806991, 4.0], [2.966158870952514, 3.5], [3.3633418607000634, 4.0], [3.507427581130685, 3.0], [2.387181200883543, 4.0], [4.783235432666697, 4.5], [2.1341830060836826, 4.0], [4.396434846577457, 2.5], [5.249062743340974, 5.0], [3.4478991356517934, 4.0], [4.118708883834601, 4.5], [3.0623940536234104, 5.0], [4.177236826402877, 3.0], [2.4232175741060575, 3.5], [4.803840508298862, 4.0], [3.1905673083716826, 3.5], [3.553943637368363, 3.0], [4.3567159790570535, 5.0], [4.369109798275467, 4.0], [4.0079161547637945, 2.0], [2.716707699802884, 3.5], [4.493891602690908, 3.0], [4.038983206323332, 2.5], [6.596464256262154, 3.5], [4.715027508242398, 4.0], [4.9337805875669725, 4.0], [3.410286900334347, 3.0], [3.62016970179315, 3.0], [4.445980096505791, 4.0], [4.259608063788896, 3.0], [3.7444346490787868, 3.5], [2.623157519978378, 4.5], [1.8597802192931967, 3.5], [5.889590499267582, 5.0], [4.490691621599251, 3.0], [2.9181022084532264, 2.0], [4.703229290035278, 3.5], [2.9512868237137924, 5.0], [3.584103648246981, 5.0], [4.655210437541689, 5.0], [4.42325697267446, 2.0], [4.2568327750048205, 2.0], [4.250180658950219, 3.0], [4.322105625069096, 4.5], [3.399894707067875, 3.5], [5.283737446501726, 3.0], [4.950721511028833, 4.0], [5.410052437570311, 3.0], [3.7269109818138086, 5.0], [4.187340955811591, 4.0], [4.03147814974225, 4.5], [4.376145727030618, 4.0], [3.5566120982517995, 3.5], [4.451468463087822, 4.5], [3.398558141395387, 4.0], [3.0140423684060567, 3.0], [5.777480322574897, 4.0], [4.161368802287143, 2.5], [4.402983026359301, 3.5], [3.774313230744089, 4.0], [3.574273241850482, 5.0], [4.183330973799701, 3.0], [5.170691608107011, 3.5], [3.4919338840559786, 2.0], [6.31752391942281, 2.5], [2.491137629856481, 5.0], [5.896708233494016, 4.5], [6.781691806483603, 3.5], [5.7086729525322335, 3.5], [3.3556102074019125, 2.5], [4.007440541498217, 3.0], [4.386335367803674, 1.5], [4.844705669051204, 3.5], [4.752283713640559, 2.0], [3.2879690002962763, 4.0], [4.204488817103742, 4.0], [2.9487070273442817, 3.5], [3.13970756521616, 3.5], [3.1826565960305424, 5.0], [4.9840512104431856, 4.0], [1.852897212894275, 2.0], [3.901803610141864, 5.0], [4.466016071121055, 4.0], [2.864519436818189, 4.5], [4.261780688532237, 3.5], [4.273634949407574, 3.0], [2.525436511096288, 2.5], [3.165651366858533, 4.0], [3.1353026648683264, 3.0], [2.9461370481103217, 4.5], [4.0558815651887725, 2.5], [2.6635303129261203, 4.5], [4.705603686128492, 3.0], [4.085483924173789, 2.5], [2.9653909977277504, 4.0], [5.165127503666714, 3.5], [3.3318039386150287, 3.5], [3.5631213773489296, 4.0], [1.6201181087529848, 4.0], [3.400837584425061, 5.0], [2.3110718236487195, 2.5], [3.7463446942570315, 1.0], [4.589564545220443, 2.0], [3.2948283805712264, 4.0], [3.64203373608965, 3.5], [2.9941448742344536, 4.0], [3.9562346142463083, 3.0], [3.900376017429803, 3.5], [4.5645166114505695, 1.0], [5.359973988767711, 3.0], [5.994618459490408, 4.0], [2.7552284448465287, 1.0], [3.1353648502537856, 3.5], [1.6035007495136269, 2.0], [2.8913321156664717, 3.0], [5.373712214725948, 4.5], [3.7311072707992556, 4.0], [1.359183926676244, 2.0], [3.7890768642183894, 2.0], [4.4884887298820315, 4.0], [3.278914702558885, 4.0], [4.643785031922767, 3.0], [4.526988941097271, 3.0], [5.782314951348467, 1.5], [3.984212328075153, 4.5], [3.694413027235931, 2.0], [1.9142322766218056, 4.0], [5.466826282160973, 2.0], [4.119433376819006, 4.0], [6.172218713162488, 4.0], [1.7173728437656326, 3.0], [5.37654571954909, 5.0], [4.543168016892571, 3.0], [5.030547767299894, 4.0], [2.856195705789379, 3.0], [3.987485785149238, 0.5], [5.524654891896173, 5.0], [5.188485334524406, 2.5], [4.7891368285973925, 2.0], [3.9490333858228666, 4.0], [3.316828505033492, 1.5], [4.069783627321048, 4.5], [4.548647739251206, 4.5], [4.742655061842679, 5.0], [3.608980453178281, 1.5], [3.9227103463239787, 3.0], [4.944080976737865, 4.0], [3.435698918952741, 2.0], [4.54693139212765, 3.5], [3.6862864866059617, 4.0], [4.178043592601155, 4.5], [3.6670799442339317, 2.0], [4.6526280224187495, 4.5], [4.343552412398083, 3.0], [5.204495305174507, 3.0], [3.6982523348606566, 4.0], [3.689353178314158, 3.5], [3.741631925713271, 5.0], [2.889655247977792, 3.0], [4.88773647523622, 3.0], [5.094142956524094, 4.0], [3.485899837398188, 4.0], [3.093777904365604, 3.5], [3.4811021720134967, 3.5], [3.961400894420863, 2.0], [3.7917142304444598, 5.0], [4.229611605460298, 3.0], [2.513049164185413, 2.0], [1.74055621044917, 5.0], [4.885012333464441, 4.0], [4.890652748661062, 3.0], [3.9742580254400375, 2.0], [3.9820720335165967, 4.0], [2.834629353960729, 5.0], [4.383529931459701, 4.0], [2.5190954966001975, 3.0], [3.775047305509689, 2.0], [3.096812859129419, 3.0], [3.707977201876115, 2.0], [3.1680585639120156, 2.5], [4.620358722856995, 3.0], [3.6846551915021144, 4.0], [3.1513642395021426, 5.0], [3.6006802044824417, 5.0], [3.7102698403528223, 1.5], [3.347880606393953, 2.5], [3.5731911644901624, 4.0], [2.896886704654698, 3.5], [3.50841097281776, 2.0], [4.7541923707795934, 3.5], [2.5248862760805357, 4.0], [3.7294514397119447, 4.5], [2.4306949675059033, 3.0], [3.019548038298121, 5.0], [3.139540533225889, 4.0], [4.498262362039658, 4.5], [4.482442319402723, 2.5], [5.358627147791317, 4.0], [3.206220565065426, 3.0], [2.823081256931337, 2.0], [4.716141074733871, 2.5], [3.5732723401857753, 4.0], [4.993144029957471, 1.5], [4.219703806152445, 4.5], [3.1236097970497334, 4.0], [4.377829042519187, 4.5], [3.7794865176355064, 3.0], [4.082449515453234, 5.0], [4.395386529539502, 5.0], [4.466098059769945, 3.0], [2.683474514425563, 3.0], [3.5174931042679383, 2.0], [3.3267016512450573, 2.5], [3.6355727794723127, 1.5], [2.7256732843053184, 0.5], [3.974491820482904, 2.0], [3.667370703660962, 4.0], [3.645855715458491, 4.0], [3.2407508731798425, 2.0], [3.0069100011532144, 3.0], [4.06204913536898, 2.0], [2.6320604503176654, 3.5], [4.563077979707607, 4.0], [3.2251147932090154, 4.0], [3.328185005074572, 4.0], [3.623054713130667, 4.0], [4.9864648720141105, 5.0], [2.378538168724384, 2.0], [3.3062929665074408, 3.5], [2.8667633471090155, 4.0], [4.295806173140209, 4.5], [4.365677631714796, 4.0], [3.775462991726507, 5.0], [3.7443974897996446, 5.0], [3.8491068511899367, 3.0], [3.557544007868178, 4.0], [3.5240755519880227, 4.5], [5.3586515458736015, 5.0], [5.5770886537866255, 3.5], [3.6771400413255115, 2.5], [2.7734173283564822, 5.0], [4.842154960467757, 3.0], [4.056359376915102, 3.5], [2.935620039864106, 3.0], [4.350387365720471, 4.0], [2.9668697311196306, 2.0], [3.4519277331798, 4.0], [3.2097243515284033, 4.5], [4.074283745781768, 4.0], [3.9177486795104506, 4.5], [5.155602328518694, 4.5], [3.457199987973011, 2.5], [3.8030211898037005, 3.0], [4.372935378365352, 4.0], [4.656232294451433, 3.0], [4.827785155655207, 4.5], [4.020865367121249, 2.0], [4.063399946296807, 3.5], [3.690844762616235, 4.0], [3.986937654305324, 3.5], [4.607139666780804, 3.5], [3.355643593900693, 3.5], [3.88525682700162, 3.0], [4.339871508276628, 2.5], [3.017080168922172, 3.5], [4.74577585444928, 4.0], [2.834793103482621, 4.5], [4.130050808624932, 3.0], [4.513722740068526, 1.0], [3.3348733774440626, 3.5], [3.335573809452741, 2.0], [5.055886407654712, 3.0], [3.9396249041959504, 3.5], [4.875919497009324, 4.0], [3.594150877498027, 4.0], [3.52872275734461, 3.0], [1.901093178610263, 2.0], [3.189792792261248, 3.0], [3.872275326509677, 4.5], [3.931040703085134, 3.0], [2.493735927704904, 4.0], [3.0611495436560996, 3.5], [3.7260650808614963, 4.0], [4.558632050416223, 4.0], [3.9603254211396317, 5.0], [2.6924425757668358, 5.0], [1.6840802916339226, 2.5], [4.3255702943472905, 4.0], [4.285510495916534, 5.0], [5.47826048807072, 1.0], [3.770008356222061, 3.0], [4.391146034684335, 4.5], [3.723009504944556, 3.5], [3.450014640215676, 3.0], [3.3970211867385847, 3.0], [4.550692212178368, 5.0], [3.353787980485553, 3.5], [4.401395937059472, 5.0], [4.709992553678549, 5.0], [2.440620178147586, 4.0], [3.8320197356872576, 2.5], [1.8084303300315325, 4.0], [4.16925496719633, 1.0], [6.004972743427306, 2.0], [4.573705862168656, 4.0], [4.207714062339325, 3.0], [4.280840180534715, 3.5], [3.687236640428229, 5.0], [6.285832927619815, 4.0], [3.2062228121830083, 4.5], [3.9374461336495137, 3.5], [4.397653583138686, 4.5], [5.132480330400309, 4.5], [4.231954551754184, 3.0], [3.9458390988903127, 3.0], [4.902829385892733, 3.0], [3.314631810815793, 4.5], [4.093852085496292, 2.5], [6.206387662270197, 3.5], [4.341659484010406, 4.0], [2.741115026800258, 4.0], [2.45988828629526, 3.0], [2.215432319987056, 5.0], [2.6075116255334185, 4.0], [5.2058583050234, 3.5], [4.867559388170883, 3.0], [3.651041930803033, 4.0], [3.297124208684461, 5.0], [3.6559817639953778, 2.5], [4.477576862836941, 4.0], [2.9836495100753804, 4.0], [4.246872199533207, 3.0], [3.039006595821987, 5.0], [4.338331551969212, 4.0], [3.5847219263489483, 3.5], [3.30733108054675, 4.0], [5.165859735845415, 5.0], [5.259261064818214, 3.5], [4.525809534047298, 4.0], [5.815095685802019, 4.5], [3.016761868348325, 4.0], [3.721035223980799, 3.5], [3.5283477515490653, 1.0], [3.7965186402960005, 5.0], [3.7037918552001234, 2.5], [3.0014494392575672, 3.5], [4.334647570088878, 3.5], [4.227203080458359, 4.0], [4.881718110973342, 3.5], [2.4045315258211892, 3.0], [3.7698177177642123, 3.5], [3.32437542881417, 4.0], [1.0516891499956462, 4.5], [4.50641833186092, 3.5], [2.6596021527552156, 3.0], [4.336295205211252, 3.0], [2.460697438883057, 3.0], [4.002248084385148, 2.5], [4.460732504554688, 3.5], [0.9342270971641978, 4.0], [2.498510332201389, 5.0], [3.1972877724360442, 3.5], [4.796106655413962, 5.0], [3.630174114769527, 4.5], [4.7184080343669, 4.5], [4.14841907336559, 2.0], [4.3698921509623645, 5.0], [1.8851445536084661, 5.0], [2.463875688657891, 4.5], [3.3381401447957675, 1.5], [5.506462286110247, 5.0], [3.127153145606985, 3.5], [4.51963873703854, 5.0], [2.586978136092642, 4.0], [2.583931906282562, 3.5], [5.544097560876925, 2.0], [4.3999487371892165, 2.5], [3.3312692887756943, 4.5], [5.375213389041341, 1.5], [3.2534995389933457, 4.0], [2.6227964866239484, 1.5], [4.222778252948526, 1.0], [3.9533600488726948, 4.0], [3.943236729618944, 3.0], [2.2403161564199032, 4.5], [4.7779125769429385, 3.0], [5.000344023691601, 4.0], [4.3875144084144875, 4.0], [4.830376653689152, 4.0], [5.798308554770875, 3.0], [5.621238552656432, 4.5], [2.6537545187699405, 5.0], [3.293799625119061, 3.0], [3.344756704423745, 3.0], [4.165184820242243, 2.0], [4.3448979345130345, 4.0], [5.9990179312768435, 3.0], [5.468180568343576, 5.0], [5.218829660682949, 5.0], [2.0739008725849906, 2.0], [4.332919488848791, 3.0], [4.141607311120146, 4.5], [4.135395767242562, 4.0], [5.0597804005154545, 5.0], [4.7672412797023425, 4.0], [3.1765716520286955, 4.0], [3.733706647105567, 1.5], [3.198427796185979, 3.5], [4.439859200406272, 4.0], [5.3359925386863445, 5.0], [4.581139439303714, 4.0], [3.4410819242008848, 3.5], [5.079195226866527, 5.0], [2.319768933080314, 3.0], [5.307238802946409, 4.0], [5.175199213222739, 1.5], [4.428464786564062, 3.5], [2.091018920731967, 1.0], [3.801812369041223, 5.0], [4.969691208876273, 3.0], [4.034483676850195, 4.0], [5.441050782743574, 4.5], [4.5519963059317385, 4.0], [3.448803552104031, 4.5], [4.3229627986688755, 3.5], [2.876546913795814, 3.0], [3.7577845127071465, 3.0], [3.7391101606377934, 4.0], [3.7901533165130323, 4.0], [2.578532998409956, 2.0], [5.015702854950448, 2.5], [4.178454244031005, 2.0], [3.691216273231491, 3.0], [4.068133812639712, 3.5], [4.221786306410474, 4.0], [3.7176890342392825, 2.5], [2.6382267872459852, 3.0], [3.245284308397564, 1.0], [4.012355895092919, 4.0], [2.9259490872108103, 3.0], [4.271728181893325, 3.0], [3.02059564817662, 4.0], [4.30770730960368, 3.0], [2.5319901582322375, 3.0], [3.847757395737787, 3.5], [3.6581320080690505, 2.0], [2.854389753943319, 4.0], [3.3841166655035093, 4.0], [2.5622581878271524, 4.0], [4.082919022205732, 2.0], [3.431126665503147, 3.0], [3.299412576752018, 3.5], [3.7685743986007396, 3.5], [2.4633826538154717, 4.0], [3.126580935417319, 5.0], [2.679229125184158, 5.0], [4.454003086055104, 0.5], [4.638824382865951, 4.0], [3.6053320210532958, 3.5], [5.87384855812957, 3.0], [4.940549840805784, 4.0], [3.9465076360553044, 3.0], [4.634334444416525, 4.0], [3.914603948892314, 5.0], [4.684562682243449, 4.5], [2.275309539399266, 3.0], [4.559602441653654, 4.5], [6.927483295077392, 3.0], [3.7172161373176373, 3.0], [4.304270390670013, 2.0], [5.174792875521897, 3.0], [4.903296278027435, 3.0], [5.0006356541757135, 3.5], [3.2832894468873706, 5.0], [3.393968203435181, 4.0], [2.6844180085041556, 4.0], [5.1676183025738265, 3.0], [3.497221992761251, 1.0], [4.848167635685068, 5.0], [3.215445758995288, 3.5], [3.879738279737405, 4.5], [2.777674077688674, 2.0], [3.040621915841097, 4.0], [3.9927171398587338, 3.0], [3.333268785611067, 3.5], [1.405163326968813, 5.0], [3.7770118717183205, 4.0], [4.375493766797343, 5.0], [4.8924146639265675, 2.0], [4.657652528561379, 5.0], [3.8635397366928177, 3.5], [5.058872762940902, 3.5], [3.828504520115249, 3.5], [4.375397559396347, 3.5], [3.5132602207641455, 4.0], [1.0265367878987004, 3.0], [4.152977064294888, 3.5], [5.501244930370777, 5.0], [5.109351567897592, 4.5], [3.634006471833298, 5.0], [3.415281904864469, 3.5], [2.906169541645055, 3.5], [3.0614504413195514, 2.5], [3.1339728351592435, 4.0], [3.60928834767067, 3.0], [5.224329299731177, 2.5], [2.865447014021641, 3.5], [5.490239797651016, 3.0], [1.997318022373075, 2.0], [1.3380638006183896, 4.0], [4.134940602767817, 4.0], [2.91462942579089, 3.0], [3.503135091546938, 2.0], [4.687395516069925, 3.0], [2.8881585086393495, 2.0], [2.7503545953768533, 4.5], [4.820227026183038, 3.5], [5.535012701484754, 2.0], [3.174487346538109, 4.0], [5.569634842331694, 4.0], [3.5375761820499227, 4.5], [6.793902331895135, 3.5], [3.6567047455569686, 4.0], [4.775503838032683, 3.5], [3.361512421306315, 4.0], [4.336271926559354, 3.5], [4.12635189470487, 4.0], [4.579693595631991, 4.0], [3.159961271240538, 5.0], [2.8389530044158344, 4.5], [3.4048400191890678, 1.0], [4.20880602144874, 2.5], [4.074541709569571, 1.0], [1.5283700367827806, 2.0], [4.073631706237554, 4.0], [3.958147282861783, 3.0], [4.372661719236036, 1.5], [4.087662482646714, 2.5], [2.16595269416552, 4.0], [3.4299267815806163, 4.0], [5.252275401981783, 4.5], [5.368942961213915, 4.0], [4.389453195279421, 3.0], [4.604996818267393, 2.0], [3.972612885398703, 2.0], [4.341720826173673, 4.5], [5.241219660021174, 1.5], [5.675113608244651, 5.0], [4.117091117001046, 3.5], [4.037643349286752, 4.0], [3.757736970522825, 4.0], [3.6991965480767863, 3.0], [4.2331360933891355, 1.5], [2.7939383099498776, 1.5], [4.283116195841701, 5.0], [4.38139896428525, 4.0], [5.142631442729236, 2.0], [2.6383243258487825, 5.0], [5.727917681883453, 2.5], [0.862815081373674, 3.0], [2.877455187353728, 2.5], [3.05515799856784, 4.0], [3.9443525165733715, 4.5], [3.4464264987574307, 3.0], [4.282351419719397, 2.5], [5.154542168503855, 5.0], [4.545298178037529, 4.0], [1.9915566504507478, 4.0], [4.65399660740969, 4.0], [3.810454045255411, 3.5], [3.263555629488238, 4.0], [4.21763376363277, 5.0], [4.168241445237659, 3.5], [3.2372452191630217, 5.0], [4.160137539374352, 1.5], [5.426725331069192, 1.5], [2.2527930284359887, 3.0], [2.184874188690831, 5.0], [3.5849963262079245, 3.0], [5.166332444496652, 4.5], [3.8618544686609075, 3.0], [2.3015476385309905, 4.0], [4.374982221047293, 2.5], [4.377703177063861, 4.0], [2.0783383413434544, 5.0], [5.207614902267417, 5.0], [5.023151528709395, 4.0], [2.444123682539103, 3.0], [3.3246031260846607, 2.5], [4.277930138428673, 3.5], [3.4474558710412047, 3.0], [-1.2144442249937057, 4.0], [4.567185113668376, 5.0], [3.028992662108124, 2.0], [4.945935038985553, 4.0], [3.81174931340043, 3.0], [2.5892194103629964, 4.5], [3.026214478610847, 3.0], [4.68663022408364, 5.0], [4.68566535972022, 4.0], [2.613780827440226, 2.0], [2.923757205175441, 3.0], [4.544677609588697, 2.5], [4.141948061835363, 3.0], [4.015935234034549, 4.0], [4.190481127991647, 4.5], [3.9808922273321796, 4.0], [4.347466554291146, 3.5], [4.077305594600318, 4.5], [5.910563735317134, 3.0], [5.0860254214083485, 2.5], [3.2538627245951623, 4.0], [2.6307980820663492, 4.0], [4.891456404775425, 4.5], [4.537462690529461, 5.0], [2.547979043395904, 4.5], [2.4815940470842883, 5.0], [4.64092614623827, 5.0], [4.311767986181513, 4.0], [5.917889727518016, 5.0], [3.223019507449134, 4.5], [4.144188302765721, 2.0], [3.9764948906778823, 5.0], [4.792171674457474, 3.0], [2.511720208720367, 5.0], [4.5915639003594535, 0.5], [4.424192294733549, 3.0], [3.193244731170217, 5.0], [4.480395207989533, 4.0], [3.199867668803669, 2.0], [4.517472436699175, 3.5], [4.3658883671340005, 3.5], [3.7797418496332638, 3.0], [4.89661917320256, 3.5], [3.3090161597911902, 3.0], [3.135484566899187, 4.0], [4.490287761945268, 4.0], [3.3779295135597494, 5.0], [4.122096504871728, 2.0], [4.874826911120241, 3.0], [3.3066223481966595, 5.0], [3.3555810471332506, 5.0], [4.629859255514603, 4.5], [3.6209689472306854, 5.0], [4.299037492251217, 4.0], [5.410086533238277, 3.0], [4.914089014204155, 5.0], [3.843806023836741, 3.5], [1.9962076390089507, 5.0], [4.115421608525671, 3.5], [3.971723700596752, 5.0], [3.8736867643722843, 3.0], [4.2907116721112954, 4.5], [4.900195133550551, 3.5], [3.0216789014300405, 1.0], [4.077505724649822, 3.5], [3.192037511844254, 3.5], [3.3765573797700212, 4.0], [4.715281469835504, 4.5], [4.270995257265536, 3.0], [3.9438551256562793, 1.5], [5.617153454994099, 3.0], [5.508891220064514, 1.5], [3.407323783689722, 3.5], [3.7727251158020483, 4.0], [3.617134300085484, 3.5], [4.530534098063789, 4.0], [5.134689388235161, 4.5], [4.572564084328825, 3.0], [6.333665853341231, 5.0], [3.412592608875458, 5.0], [5.157119232204786, 4.0], [5.4831280606405866, 5.0], [3.240368200350622, 4.0], [3.9895790623186422, 3.5], [4.606566112522429, 3.0], [3.141531540635294, 5.0], [4.992100539936997, 1.5], [3.8385954070246657, 3.0], [3.493883205119249, 4.0], [4.819129312043099, 3.5], [4.382799685518475, 2.0], [3.5227940008967824, 2.5], [4.982778515877336, 4.0], [5.6108625222034565, 4.0], [3.1216962074831787, 5.0], [5.526058785604415, 2.5], [3.0663062919100454, 4.0], [3.4571797435091662, 3.5], [2.3566280811941653, 5.0], [3.1586493387708297, 2.0], [4.218150994430247, 4.5], [3.6348093954221703, 4.0], [3.2341404711876667, 2.0], [2.6372528548630245, 3.0], [2.4077215511732755, 5.0], [2.747429981865695, 3.0], [3.0491919199791044, 3.0], [2.8407949065699873, 4.0], [3.5293286924116587, 3.0], [3.1628556457803096, 3.0], [4.213396726853286, 3.0], [3.2695283766961882, 4.0], [4.092097765171108, 2.0], [3.818180893085769, 4.5], [5.347443728602413, 2.5], [5.892442803397069, 2.5], [5.48539895599479, 2.5], [3.953885049986945, 3.0], [4.094584485367212, 1.5], [3.997745602936533, 3.5], [3.613668748202087, 3.5], [3.975951668331912, 4.5], [5.726967096458798, 2.5], [4.478260630087646, 4.0], [3.0176342023523053, 2.0], [3.3852744534334898, 3.5], [5.718118117428842, 4.0], [3.197292287976633, 2.0], [6.762021379037688, 5.0], [2.553707628598872, 5.0], [2.3976694097358955, 3.0], [4.47928256500489, 4.0], [4.796105095351267, 3.5], [3.9116437284182366, 1.5], [3.016750329370394, 5.0], [3.316149233934446, 5.0], [5.568443660177123, 4.0], [4.465788828080014, 3.0], [6.10293000590238, 4.5], [4.698440824186982, 2.0], [1.0340031555372944, 5.0], [3.7833626552189163, 3.5], [3.2524667823555986, 2.5], [3.8970341491611977, 3.0], [3.6100495199474705, 4.5], [4.367642981256946, 4.0], [4.192408824585611, 5.0], [3.513181837435669, 4.0], [6.410711503308644, 3.5], [-0.21389039369663793, 5.0], [2.180823856743645, 3.5], [3.248054635488566, 2.0], [3.8703789946213734, 4.5], [3.317494331115035, 3.0], [3.8342015338430406, 3.0], [3.095586552874921, 4.5], [1.9491765427404608, 1.0], [3.905194149801994, 2.0], [5.418213080099918, 0.5], [2.8347296968371234, 0.5], [4.254878143179382, 2.5], [5.214440022076531, 3.5], [3.9573283819593064, 4.0], [2.1665212817388677, 4.0], [3.728518690343687, 3.0], [3.6012864280684616, 2.5], [4.268125117612835, 3.0], [4.140465665749222, 2.0], [4.3934814561363815, 2.0], [4.258694358883291, 3.0], [3.274057786590099, 4.0], [5.320892424609842, 4.5], [2.961479387809821, 4.0], [2.48030988518052, 3.0], [3.70901217753348, 4.0], [5.518993381303208, 3.5], [2.8961916249683513, 2.5], [4.357568144930137, 5.0], [3.169976849357016, 3.0], [2.6764161996810922, 3.0], [4.8815155584745415, 3.5], [4.75025698707538, 2.5], [2.413298453851251, 4.0], [5.153239285800503, 5.0], [3.5063454863448653, 5.0], [3.0825719649752146, 3.5], [3.581981286883368, 3.0], [4.016683662651633, 3.0], [4.595445927947151, 4.5], [3.2594002188446933, 3.5], [2.3141544138045185, 3.0], [2.828362069092858, 2.0], [2.7800001854795555, 4.0], [3.276401148377648, 4.0], [2.0158926689923136, 4.0], [4.646960520114479, 4.0], [3.1728566769960826, 3.5], [3.183743154475649, 2.5], [4.054976680785594, 5.0], [4.509057622276164, 3.5], [4.431194485646702, 3.0], [3.8054517451209957, 3.0], [3.276629502771295, 4.0], [5.432277934449678, 3.5], [3.973722944148963, 4.0], [1.3234059854995273, 4.0], [2.82529320874824, 3.0], [5.7089741262942155, 4.0], [3.8700367684640047, 3.0], [4.975470195064586, 2.5], [4.922057889921892, 4.0], [1.9805695600912072, 4.5], [5.2389425278096, 3.5], [4.6446922234083035, 4.0], [3.216004945249334, 4.0], [4.505546480533914, 4.5], [3.4984380609165626, 3.0], [1.835262524510626, 4.0], [4.384856994129013, 3.5], [3.542457900939774, 4.0], [5.877397920991721, 4.0], [5.404647863547166, 2.5], [3.0709469570925734, 3.0], [6.103268924456269, 4.0], [3.1920613589894136, 5.0], [4.853807458831899, 4.0], [2.383819171908387, 4.0], [3.5109358508755757, 2.0], [4.87413329426423, 5.0], [3.1965837060012716, 3.0], [5.975150192742935, 2.0], [5.081378780564443, 4.0], [4.314501046638603, 2.0], [3.8100569951307266, 4.0], [3.4398407782248803, 3.5], [4.39336521779024, 4.5], [4.060218530163775, 5.0], [3.8929579538849612, 4.0], [3.309680309120758, 4.0], [4.254199796398855, 4.0], [3.892796816353649, 4.0], [3.5795304232798446, 4.0], [3.612466501451051, 4.0], [4.851258900873933, 5.0], [4.336169020034856, 4.0], [4.200323673803056, 2.0], [3.834182987231216, 4.0], [4.016513220169047, 3.0], [4.97987614135885, 4.5], [3.944150896868814, 4.0], [3.022067502410967, 2.0], [4.437545508107286, 4.5], [4.720880725042581, 4.0], [4.6129581963777015, 5.0], [2.0583346807621536, 4.0], [4.750944930954463, 3.5], [1.1252593394696229, 4.0], [2.167936962000865, 4.0], [3.642033269935211, 4.0], [3.3310951831585958, 4.0], [3.3366475389915182, 3.0], [3.0725596415986525, 2.5], [2.8422447807986813, 5.0], [3.311010616042647, 5.0], [3.5737615258125017, 2.5], [3.7176818104990477, 3.0], [3.0891853634118784, 4.5], [3.0688060269865143, 3.5], [2.6082058318623726, 3.0], [3.5304597649986875, 4.5], [2.8037391175806716, 3.5], [3.216337325232439, 3.5], [6.102365626717324, 4.0], [4.392325263252418, 3.0], [1.47140993405294, 2.0], [5.004409663468076, 1.0], [5.303340664439304, 2.0], [5.690611900764513, 4.0], [5.315352296898529, 3.0], [4.722251375069455, 4.0], [3.753104787355723, 3.0], [4.187195310771888, 3.5], [4.034791976464558, 4.0], [3.1906120815428194, 1.0], [6.186478508827962, 2.5], [6.045037481117471, 5.0], [4.48730979273536, 3.5], [5.680866029416818, 4.0], [3.8740650182591607, 3.5], [3.3861643934439556, 4.5], [3.000847042354775, 3.0], [4.552130781159488, 3.0], [4.889396371017105, 3.0], [5.311019623943949, 4.0], [4.4712646836428105, 3.0], [3.567827372586403, 5.0], [3.5478553016662375, 4.5], [5.179654470294734, 2.0], [0.5004737356358328, 3.0], [3.7131635934914162, 4.0], [6.053088260753228, 4.0], [3.8692470882886982, 3.0], [3.52291861359891, 3.5], [3.4067612580808286, 5.0], [4.460630814956398, 2.5], [3.4667337279533172, 4.5], [4.395884255488863, 3.5], [4.750665724634987, 4.0], [5.0470501401175625, 1.0], [4.184865049900129, 2.5], [3.526881117901841, 5.0], [3.4091426885440357, 2.0], [3.5430631334225144, 3.0], [4.289004837200647, 4.0], [3.671822452986061, 3.0], [4.082691916672027, 3.5], [2.9876803962838725, 2.0], [4.989393549600613, 3.5], [3.934588880674632, 2.0], [1.5491819328271328, 5.0], [3.069367313794255, 3.0], [4.749342221060223, 4.5], [4.29253889182187, 4.0], [3.7871948451524147, 2.5], [4.545811447439892, 4.5], [5.401160460443125, 5.0], [3.2282287554088205, 0.5], [3.5598023747681364, 2.0], [4.5215713601653045, 4.0], [3.707109639763518, 3.0], [3.0565139562242543, 4.5], [2.6082196078417588, 3.5], [4.688871686742317, 4.5], [2.8883376592845393, 4.5], [2.507203600149818, 4.0], [2.164235000927852, 0.5], [3.634698717164678, 3.5], [4.202791466741361, 4.5], [2.090126341079116, 4.0], [2.585272876285611, 2.5], [2.761538307974785, 3.5], [3.361807492967501, 3.5], [4.055161537991166, 5.0], [3.40020976560566, 4.0], [3.0363361255374772, 4.0], [1.9787036718343773, 2.0], [1.8858273329202022, 4.0], [5.209972430566176, 4.0], [3.0287033213791856, 3.5], [3.4639822815393773, 2.0], [2.4286408486733437, 5.0], [2.917213501174601, 5.0], [3.314046213296489, 1.5], [3.3188565865283794, 4.0], [2.253246119618949, 4.0], [2.269409107096837, 1.5], [6.4633576357521925, 3.0], [4.672576509316951, 5.0], [0.9121420841727204, 4.0], [5.019164483760197, 3.0], [4.08544133396548, 2.5], [3.8952841171394885, 3.5], [4.508336232817395, 3.0], [4.091875481981793, 2.0], [4.314014045535546, 2.0], [4.05085005986281, 5.0], [2.718733960745876, 3.0], [1.279640900711179, 3.0], [6.210815096381389, 2.0], [3.746875347470066, 2.5], [3.6836438339675555, 3.0], [3.750889325871277, 4.0], [2.1790699563405918, 4.5], [2.7632901553248868, 2.0], [3.532375445932835, 3.5], [4.521557647866883, 5.0], [3.78999057111207, 5.0], [5.3081559050048375, 4.0], [4.387964541976063, 3.0], [3.751534945217762, 5.0], [4.553078534739248, 4.5], [3.311110612124516, 3.0], [3.6917056706689584, 5.0], [2.8565893762084107, 5.0], [4.277745925632075, 2.5], [3.701752259191888, 3.5], [4.5342136888695075, 4.5], [4.705975739550641, 3.5], [5.400356365075583, 5.0], [1.1534776663055406, 5.0], [3.449175501081857, 5.0], [3.925424078229195, 5.0], [3.962531599268506, 1.5], [4.701341601501897, 5.0], [3.875837003242937, 3.5], [3.1520949603046566, 5.0], [2.406030097234101, 4.0], [2.9377523476408918, 5.0], [4.41296975819283, 2.5], [4.121129734467404, 4.0], [4.756662891571351, 5.0], [4.55623225693074, 2.0], [3.9039384097990064, 5.0], [3.6653811229957887, 5.0], [3.4938348972565048, 2.0], [1.8026977233198862, 3.5], [3.4873752478188638, 1.5], [3.5653332782036276, 2.5], [4.634503501380888, 3.5], [4.215240698788791, 4.0], [5.154637837921395, 4.0], [4.807190668463204, 1.0], [3.0131333319570954, 4.0], [3.461425061740201, 5.0], [5.209402197052406, 4.0], [2.160962427061095, 0.5], [4.177519127315232, 2.0], [3.1824233314483608, 3.0], [4.703732671586881, 5.0], [4.418812820922909, 4.0], [2.00536393957198, 3.0], [2.736817047136814, 4.0], [3.5900149413720785, 2.5], [5.481343350931399, 3.0], [4.573931804762573, 2.0], [4.334120558948304, 4.5], [3.4934957823928054, 4.0], [5.014231788703403, 5.0], [3.225928930637757, 4.5], [2.617593146996567, 2.5], [5.0350232978787295, 2.5], [3.5218944481890855, 4.0], [3.6093648660761533, 4.0], [3.8965004613414633, 2.5], [4.273957173025758, 3.5], [3.648329902813038, 3.0], [4.787890906838475, 4.0], [4.0588516232975085, 4.5], [3.2152913244001144, 4.0], [5.0092630559268505, 3.0], [3.8083566906110327, 5.0], [4.291278228579641, 4.5], [2.789037840770869, 3.0], [3.9062576561695312, 5.0], [3.8297129684970495, 3.0], [3.5931768325346605, 3.5], [5.278558336491713, 3.0], [4.227502479614121, 4.0], [4.077044670622739, 2.5], [4.693827415753013, 4.0], [1.0891894919519611, 5.0], [4.007199401854138, 4.0], [4.647000663768694, 1.0], [3.1360697947467577, 3.5], [4.476855790953808, 5.0], [1.7742036860123336, 3.0], [4.2941788275296915, 2.0], [4.33853858899374, 4.0], [4.156577682289085, 3.5], [2.384087117572921, 3.5], [4.5478052533213935, 4.0], [3.3297712841947877, 4.0], [3.336952976301435, 3.0], [4.163018761621178, 5.0], [1.515160190944077, 3.0], [4.343710902649926, 3.0], [5.027996729128507, 5.0], [3.3739101489781196, 3.0], [3.2056177864535105, 2.5], [3.3051434471771786, 4.0], [2.4405567452437653, 0.5], [3.9515115336307503, 2.0], [4.07417028680541, 5.0], [4.320281672540624, 5.0], [3.4831021960191118, 4.0], [4.115297029573237, 4.0], [3.5353882817539914, 3.0], [2.2232242357745484, 5.0], [3.7748972603116373, 3.5], [4.950161507815675, 3.5], [2.904114689466155, 4.0], [4.301845650816134, 3.5], [4.060738634380283, 3.0], [3.983089663247198, 4.0], [2.7613879995739805, 4.0], [3.3954177262128433, 2.0], [3.7883973676499845, 4.0], [2.4600677596158875, 2.0], [4.248434998465406, 4.0], [3.973512212249412, 3.5], [3.603434437603628, 4.5], [3.8849851333034295, 4.0], [4.667153123421414, 4.0], [4.693718311295857, 3.0], [3.450061485879903, 1.5], [3.345360114699499, 4.0], [3.2531509753465744, 3.5], [4.426047662781913, 4.0], [3.925187085027836, 4.5], [3.126778390838796, 3.0], [3.899802757151765, 3.0], [4.238379703595275, 3.5], [3.4711045609699758, 3.0], [3.9794683024095803, 4.0], [2.7582670972008043, 4.0], [4.301723564845797, 4.0], [4.666644883243259, 4.0], [3.7543102551656014, 4.0], [2.569632343359434, 4.0], [3.048828096160038, 3.5], [6.08121214562078, 2.0], [3.292865401475294, 3.0], [6.1761985773343975, 3.5], [6.159450723113505, 4.0], [3.279980853612781, 3.0], [4.234360158476545, 2.0], [5.507935171296808, 4.0], [3.2902841719698537, 4.0], [4.50097749256037, 3.5], [3.2009710535291336, 3.5], [4.378592670231239, 3.5], [4.958298210767503, 3.0], [4.282103620368693, 2.5], [3.665690779956718, 4.0], [4.5320744644758895, 3.5], [1.831573170867054, 4.5], [3.5051556901660224, 2.5], [2.319850146655568, 1.0], [3.733880296844171, 2.0], [4.595495264980566, 4.0], [3.4686820948846564, 4.0], [5.001899534500426, 2.0], [2.782098197809779, 4.0], [4.7998566937075235, 4.0], [3.9179760491232987, 4.0], [4.095997141141911, 4.0], [5.430188474363733, 4.0], [2.5756887219777633, 4.0], [5.3474615253584, 4.0], [4.213337075849624, 4.5], [4.318101011452931, 4.0], [3.6399517501076057, 2.5], [5.156888481943816, 3.0], [3.8451641100001863, 3.0], [5.513940444074256, 5.0], [3.9003256327583284, 4.0], [5.780045527470434, 4.0], [6.9937914797942895, 4.0], [4.542244695313442, 5.0], [4.06287514441979, 4.0], [4.6802145027898305, 4.0], [4.747882150432306, 4.0], [2.9524401557305433, 5.0], [4.384189935185001, 2.5], [4.277134752496722, 4.0], [4.724057356670347, 4.5], [4.6877185242798864, 4.5], [2.3727631895490697, 5.0], [4.868620307579899, 4.5], [3.620017644918403, 3.0], [1.2761766893790465, 3.0], [3.497406123823274, 3.5], [6.109819968776742, 3.0], [4.3656275777277, 3.0], [2.9130720916035555, 4.0], [3.6314177701775434, 2.5], [1.2960818510555687, 3.0], [3.11187290837317, 3.0], [2.5545935372290525, 3.0], [3.4173796414278863, 4.0], [2.273073834274673, 4.0], [2.905246139430051, 5.0], [4.365364876745879, 5.0], [1.90341540516544, 4.0], [3.5305652605770903, 4.5], [3.8721511661029093, 4.0], [4.299743954587912, 4.0], [3.883461343490569, 3.0], [3.9902446873787594, 2.0], [5.566105093928569, 5.0], [3.690286428222819, 5.0], [3.5882684001416205, 2.0], [4.35603769734206, 3.5], [4.880004299412391, 4.0], [5.270732348427926, 2.0], [3.830071045044631, 2.5], [6.58271927879825, 4.0], [4.0881024582633705, 1.0], [4.353388134801871, 3.0], [5.42621751828411, 2.0], [3.970677875938342, 4.0], [1.840209726689713, 3.5], [1.538739570270945, 3.0], [3.118541941515763, 4.0], [4.422418513491515, 3.5], [4.372172235242631, 5.0], [4.192359872864839, 4.0], [3.9305080346408547, 3.0], [-0.24859360998418942, 2.5], [4.2664901075342145, 5.0], [2.629347326969343, 5.0], [1.843926014303086, 3.0], [2.6332924471386763, 3.5], [4.037957305480322, 4.0], [4.040465771480603, 3.0], [4.26549385219484, 4.5], [2.3172894370780814, 3.0], [4.586062940940268, 4.0], [3.97959753481983, 4.0], [4.214748815427222, 3.0], [3.82325479733542, 4.5], [2.5482415168986665, 3.0], [2.9301757259801713, 4.0], [3.693234064534829, 4.0], [3.335301578146627, 3.5], [5.414715612869144, 3.0], [3.5662401821658567, 5.0], [4.238453040073868, 4.0], [2.0081015774182043, 3.5], [4.616759994242028, 5.0], [3.6905433954070994, 5.0], [6.7672445452960375, 3.0], [4.088475635297984, 4.0], [4.315409328012621, 4.0], [4.993460702520652, 4.0], [3.192428264919518, 3.0], [4.189144449852361, 3.5], [4.430751273930233, 1.0], [5.810057609377169, 5.0], [4.857730357649635, 3.0], [4.570339795442678, 4.0], [1.7148237234314008, 4.5], [4.180658810109052, 4.0], [2.623664922742515, 5.0], [4.912576316043799, 2.0], [2.9741634176631857, 5.0], [5.1407546726696385, 3.0], [2.729735259174856, 5.0], [3.3140806492286705, 4.0], [4.5838222992680535, 1.5], [5.197552056714429, 4.0], [3.465880976074063, 4.0], [3.382323891737339, 4.0], [4.825549860097673, 4.0], [4.379066917153036, 3.5], [3.020038187952013, 3.0], [2.9220659822212194, 3.0], [2.974282206592964, 5.0], [5.384877142695915, 2.0], [2.8277392237926624, 4.0], [4.342218039159766, 4.0], [3.878698356224817, 2.0], [4.084127825732649, 0.5], [3.5378902773635956, 3.0], [2.185122192926067, 3.0], [3.862703939767328, 5.0], [3.2805119441493993, 4.0], [3.6932225458768895, 2.0], [4.039785426748429, 5.0], [4.203072737355453, 3.0], [4.8518488764067405, 4.0], [3.722392422023889, 5.0], [4.85594788776246, 3.0], [3.347566372400583, 4.0], [4.917098877320028, 4.5], [3.114200043251671, 3.0], [3.7694006549812147, 4.0], [3.6576894407262555, 5.0], [3.456308365012895, 4.0], [3.7775829875527958, 4.0], [3.727571495797579, 3.0], [4.212212081441768, 3.5], [2.753606477015579, 3.5], [3.8987862679468184, 4.0], [4.7751561630264225, 5.0], [2.0515733278904795, 2.5], [4.8834962970398745, 3.0], [4.182619881372882, 4.5], [3.002226644474594, 4.0], [5.0721642365247055, 3.5], [3.4844317346184694, 4.5], [3.564126137974705, 3.0], [3.991523504726638, 3.0], [5.05044075479521, 3.0], [2.5459090694969033, 5.0], [4.829055471648416, 4.0], [1.3570581568078544, 3.0], [4.8826250443269155, 4.5], [2.8551995595732316, 2.0], [4.401888204663915, 1.0], [3.8821256797301493, 5.0], [5.036216493170334, 4.0], [4.5326006912157935, 3.5], [3.9664715862006537, 5.0], [2.5587315994591946, 3.0], [1.869658522796302, 4.0], [2.320342643144494, 2.0], [3.9973361073397826, 4.0], [4.4421622966743195, 2.0], [2.901440500706718, 3.0], [3.524973581941802, 5.0], [1.521211163655358, 3.0], [5.686836946133142, 4.0], [5.364110663710134, 3.5], [3.3205123352185715, 4.5], [5.516680163747203, 4.5], [3.497153676789587, 5.0], [4.970813474905854, 4.5], [3.7549680862692827, 2.5], [1.5194542673689544, 4.5], [5.587062139714164, 2.5], [3.7570710568779644, 3.0], [5.7708021291798755, 3.5], [4.464804422132687, 3.0], [3.481036084546306, 4.0], [3.9843594353364353, 4.0], [4.657398523984521, 2.0], [2.762482226651404, 3.0], [4.501716487976713, 4.0], [4.11239201992555, 3.0], [2.315617238403303, 2.0], [2.5139433004808893, 4.0], [2.9478491472920068, 3.0], [4.71690357443075, 4.5], [1.9767302929733304, 4.0], [4.778072725133118, 5.0], [4.989007911387226, 4.0], [1.7631271165624822, 3.5], [3.4229173964256483, 2.5], [4.5437975133896895, 4.0], [4.105089416417343, 1.0], [6.232530509923344, 5.0], [4.317292837905726, 4.0], [3.043143769704009, 3.0], [2.8463558480004476, 3.5], [3.0268397840718895, 3.0], [3.036231568245284, 2.0], [5.073285250532084, 4.0], [3.0504306446874003, 2.5], [1.8648720321339602, 1.0], [4.7365051102770375, 3.0], [2.7041998661835724, 3.0], [4.27924060704636, 4.0], [4.0977742399752595, 4.5], [4.252313840321044, 2.0], [4.3988541354562445, 2.0], [4.402887980544934, 4.0], [4.405980397451973, 4.0], [2.188573461326735, 3.0], [4.12049972054961, 5.0], [4.791780177818469, 2.0], [4.020480851507709, 3.0], [3.6308898902937594, 5.0], [1.8825442996544295, 3.0], [1.932087004443289, 1.0], [2.866345595492592, 5.0], [2.4063213304677884, 4.0], [3.6220984705415673, 4.5], [2.7275653180280792, 3.5], [2.5328266200545424, 5.0], [1.4126300982789524, 3.5], [4.737040837976067, 3.0], [2.7604039201870476, 4.0], [4.272350586723471, 1.5], [5.584815190939126, 2.5], [4.842654076939046, 3.5], [3.910231239494819, 3.0], [6.814898619268038, 2.0], [3.8159975052677066, 3.0], [3.9537779148513006, 4.5], [3.4442135692625326, 4.5], [3.394282462884595, 4.5], [3.793691195288819, 3.5], [4.134492633932004, 5.0], [2.546629539196358, 4.0], [2.6882854758564316, 3.0], [4.025558498562296, 3.5], [4.6674829115914, 3.5], [4.204886933331403, 3.5], [4.571603124957762, 2.0], [4.2648341524398665, 2.0], [3.1473695454410984, 4.0], [3.2220810384672296, 3.0], [5.915806578388672, 3.5], [3.0656960848707224, 3.0], [3.7518354923660606, 3.0], [3.510988146767435, 3.0], [4.422560208911508, 5.0], [4.581848451857055, 2.5], [2.3335185279883244, 4.5], [3.2497014388873473, 4.0], [3.6962566999302977, 3.0], [4.183044325346862, 2.0], [2.685869028832671, 2.5], [3.191726000078498, 5.0], [4.332015418898151, 4.0], [4.093862714297949, 2.5], [3.7489232517964854, 5.0], [3.8818254187819465, 4.0], [2.3930955146032713, 2.5], [1.115733734845231, 5.0], [4.914905235092176, 3.0], [4.118072998004148, 4.0], [5.555989400088091, 4.0], [2.8398086510770812, 2.0], [2.73339401467196, 2.5], [3.5685163071407016, 4.0], [3.212472436982345, 3.0], [4.118898025070552, 3.0], [3.9147659828073693, 4.5], [3.9438694597459487, 5.0], [4.604164528139297, 4.5], [4.860320158168392, 5.0], [4.037641915788913, 5.0], [2.879839668114538, 4.0], [3.3858932518972713, 5.0], [4.429486945923741, 4.0], [2.970627597136579, 3.0], [5.395539215695828, 1.5], [4.768643322172598, 2.0], [1.8731517787658156, 4.0], [3.790538212611956, 4.0], [4.7670491682228455, 3.5], [3.974893901188865, 5.0], [3.192933093097444, 3.0], [3.3288326177093044, 1.5], [2.814433509938256, 2.5], [3.938606358633085, 5.0], [4.632998546796916, 4.0], [3.4528734418473874, 4.5], [3.5943746136359467, 3.0], [4.323736400067002, 4.0], [4.616326195540805, 1.0], [2.509668176971879, 2.0], [2.5819874962816236, 5.0], [3.465389750294897, 4.0], [4.709237687625292, 5.0], [2.794730420223363, 4.0], [3.708966008804733, 4.0], [4.384180236160279, 4.0], [1.9766083975107909, 3.0], [4.418049217411544, 5.0], [4.131098173426208, 4.0], [3.8199488299778004, 3.0], [3.579139328865413, 3.0], [5.003774233586549, 3.0], [4.042523809107516, 2.0], [3.919794441077965, 3.0], [3.4007143777479203, 4.5], [2.9366237032530633, 0.5], [3.0108573617588386, 4.5], [4.904787251997752, 5.0], [3.994291421683809, 5.0], [3.95373710180411, 1.5], [3.6474530001754024, 2.5], [0.8197657939472385, 5.0], [3.6601908353624437, 2.0], [3.7469389482602553, 4.0], [4.626022031624731, 5.0], [3.0091263664658627, 5.0], [2.956091303981059, 4.0], [4.956286630967188, 3.0], [3.9252571629907194, 5.0], [3.58268127748825, 5.0], [5.177314661575652, 4.0], [4.154988746104202, 3.0], [3.6055582701808784, 5.0], [3.8078208263875286, 4.0], [4.848279139542905, 5.0], [4.308311044962552, 2.5], [2.7266634692093006, 5.0], [3.8041807168300465, 5.0], [3.2535739237777572, 4.0], [4.937520381225089, 4.5], [3.504025118673256, 4.0], [2.830149752389689, 4.5], [0.8214535144708524, 5.0], [5.798257767998467, 4.0], [5.782267951339914, 5.0], [2.4186653490114822, 2.5], [5.244591984602887, 5.0], [5.132617688625968, 3.5], [3.3267893614690225, 4.0], [3.5965004506205425, 4.0], [2.6670031691531624, 4.0], [3.374841150478568, 3.0], [2.854402564975889, 4.0], [1.8160354263088943, 2.5], [5.15392690483228, 5.0], [2.9391968520905833, 4.0], [3.551974332786047, 2.5], [5.332454765785423, 3.0], [4.044203361307756, 3.0], [5.254283604270502, 3.0], [1.8988376686782595, 4.5], [5.0175182534218665, 2.0], [3.861481846365152, 5.0], [4.11267005292666, 2.0], [1.4440193108278268, 3.0], [5.070886940269394, 3.0], [3.7703169755098647, 5.0], [5.210308986559744, 3.0], [2.9572393967206945, 4.0], [4.140495242566545, 4.0], [5.311293259646314, 2.0], [4.69559392894798, 5.0], [5.124506524137923, 4.5], [3.6257763276530994, 4.5], [4.661532781724523, 2.0], [3.6739538377650818, 2.0], [4.9765107125176975, 3.5], [2.9636892865773508, 4.0], [3.9087611242004674, 0.5], [2.2039581340555374, 3.0], [3.089534794821947, 4.5], [4.393961976082022, 4.0], [4.328885044024405, 4.0], [4.9322053138530215, 3.0], [4.061102624423998, 3.0], [3.291496788308148, 3.5], [2.584089522745368, 5.0], [4.016574006357538, 3.0], [3.0791663603146677, 4.5], [4.429569323183361, 5.0], [5.167782363779808, 4.5], [3.8052576758627916, 4.0], [4.792037559608387, 4.0], [4.454754320813432, 2.5], [3.2716741132254983, 4.0], [5.343369550928939, 0.5], [5.471126059557281, 4.0], [4.371854022863443, 4.5], [3.199338463677101, 3.0], [2.1268380596328655, 2.0], [7.58704165521444, 5.0], [5.338131315102559, 4.0], [4.003221338902617, 4.0], [6.2979509932473645, 4.0], [5.388817572844917, 2.0], [3.397154498772291, 3.0], [3.570740317216998, 3.0], [4.528864119528707, 4.5], [2.8632641777974452, 5.0], [2.3786386960353765, 4.0], [4.829514787252996, 4.5], [3.336616174430714, 3.0], [5.704370733122581, 4.0], [3.0597694459901836, 4.0], [2.7861986933056366, 2.0], [2.0152486216028365, 3.0], [4.573074492881562, 4.0], [4.65214043149585, 2.0], [3.0352423213308826, 4.5], [1.6697077705432055, 2.0], [5.326103555973833, 3.0], [3.6645870463293737, 4.0], [4.85423743573316, 4.0], [4.252345877445777, 4.5], [4.105465200857935, 5.0], [3.6687013866251275, 4.0], [4.180726061127407, 4.0], [4.593181107188314, 4.5], [1.3207437045120367, 3.0], [3.561458576619237, 2.0], [3.3599981582948772, 2.5], [4.443118198693056, 3.5], [4.28980640862457, 3.0], [2.62047690120897, 4.5], [4.456361230915638, 1.0], [3.512333615359019, 1.5], [4.3017375681934285, 3.5], [4.474149757137825, 4.0], [2.9571178562767377, 3.5], [3.604449889600466, 4.0], [2.3631196461492987, 0.5], [3.8683211673730122, 3.5], [4.3155618529880435, 4.0], [5.172253100184586, 4.0], [3.27193318270932, 3.0], [3.2107995273718233, 1.5], [2.6898793926953424, 3.0], [4.52382650291981, 5.0], [4.484412255184218, 4.0], [2.503942076103367, 4.0], [4.056156410231558, 4.0], [5.027250692446234, 4.0], [4.886229298779481, 4.0], [4.030683490485679, 1.5], [4.104220881346484, 3.0], [2.92268677330285, 4.5], [3.322618934458673, 2.0], [3.927880361177696, 3.5], [4.166785841180117, 4.0], [4.1216763526600815, 5.0], [3.413116417648951, 3.5], [3.6787287345570516, 3.0], [3.712751070470142, 4.0], [3.8374678649512637, 4.5], [3.2584245910257112, 4.0], [4.40118769583896, 4.5], [3.376795771147082, 3.5], [2.0730745624073115, 5.0], [2.8369684803072923, 3.0], [2.810138515464207, 3.0], [3.971653688988743, 5.0], [2.1581270948496907, 3.5], [2.609344597368969, 4.5], [3.574198279300693, 2.0], [5.417012344393268, 3.5], [3.7313986048607357, 2.5], [4.196375603662656, 2.5], [4.329551024528358, 2.5], [3.306608363690885, 4.0], [3.651651120182654, 4.0], [4.692939955400208, 3.5], [3.590444309507795, 2.5], [2.7367371692343627, 4.0], [2.72552558609911, 5.0], [4.065129130243211, 3.0], [4.255503709194112, 5.0], [4.191997582350604, 5.0], [3.3450052776645776, 2.5], [4.119279859360044, 3.5], [2.576375913272487, 4.0], [5.965106405661162, 3.5], [4.057836420351435, 4.0], [4.477359172801186, 5.0], [2.848856567429231, 4.0], [4.344123498112379, 2.0], [4.621801120983505, 5.0], [2.314553305500249, 4.0], [6.176720641314307, 4.0], [3.5043794771278196, 3.5], [3.7854649578542854, 2.0], [3.613822040845955, 4.5], [4.048437872236893, 4.0], [4.713669147665431, 3.0], [3.9742434387900825, 2.5], [3.3337612284222002, 4.0], [3.6671530773238734, 4.0], [3.3260628080158696, 3.0], [2.7927394810163477, 2.0], [4.570203775213532, 2.0], [4.085367234182868, 4.0], [4.371504887634768, 5.0], [0.6158309890781781, 3.0], [3.267330302480508, 2.0], [3.621864417346075, 4.0], [3.6681548116190577, 4.0], [4.388899014347954, 4.0], [3.0309824975184907, 4.0], [4.044900534443237, 3.5], [4.612734239048861, 2.0], [4.245598327311422, 3.5], [4.36446329180769, 4.0], [3.5644027846223163, 3.0], [3.5396409708409555, 2.5], [3.29139363523554, 4.0], [3.918967628729772, 3.0], [4.085886032727374, 2.0], [2.0828545180918536, 1.0], [3.263638148322178, 3.5], [4.185896052749603, 5.0], [4.268674503941208, 4.0], [4.685446835502118, 3.0], [5.514868396733755, 3.0], [2.7127828184317484, 5.0], [3.939487429947401, 5.0], [4.443052650851462, 3.5], [5.16993124173034, 4.0], [4.311232183002329, 4.0], [5.005009489032709, 3.0], [1.5668242691713634, 2.0], [3.218665072480338, 3.5], [3.877732068347158, 5.0], [3.216886043941293, 3.5], [3.0414831964306517, 5.0], [4.6193009380941445, 3.5], [4.003510715510804, 3.5], [3.6111216585795627, 3.0], [3.5604997698094927, 4.0], [2.9563024335488186, 4.5], [2.8765247428488716, 2.5], [4.759750259815633, 3.0], [3.464201063118587, 5.0], [4.560897580599677, 4.0], [6.687719849530916, 3.5], [4.023290239859459, 5.0], [4.255165678911716, 4.0], [3.7160972335320026, 3.0], [6.029135434318833, 5.0], [5.5967596093981795, 4.0], [4.151657122922196, 5.0], [3.7013346093674606, 3.0], [2.659046585984341, 3.0], [3.5180089847681373, 3.0], [5.206427025152347, 4.0], [4.042028465549599, 4.0], [4.7513027708137825, 4.5], [3.7845417106655597, 3.0], [4.129922619375347, 4.0], [2.1368511553671334, 4.5], [3.3270998825753813, 4.0], [3.9929791506346244, 5.0], [4.808738364196842, 4.0], [1.9178235073556522, 4.0], [4.18303251367436, 2.0], [3.8804734747467946, 3.0], [3.453412664455174, 4.0], [5.748921148100198, 4.0], [5.481041955574022, 4.0], [4.771697940498411, 3.0], [5.127823582470856, 5.0], [4.440505500949937, 4.5], [4.073589764923424, 5.0], [3.749930879634708, 3.0], [3.7907694507883156, 3.0], [3.934104022165407, 4.0], [4.197296810903382, 2.0], [3.5066934377836407, 3.5], [5.414605118513155, 4.0], [3.6093855416885186, 3.5], [5.6835551636286725, 2.5], [3.637214167666187, 3.0], [3.7533633864799154, 4.0], [3.2663781039078987, 3.0], [5.914097888051855, 4.5], [4.820034685055541, 2.5], [4.479931736520805, 3.0], [3.3314384909263866, 4.0], [2.19305654899652, 5.0], [2.3194551344774537, 3.5], [4.2937953769921196, 4.0], [4.272465139836129, 1.0], [3.9200621359731054, 5.0], [4.334944390385438, 2.5], [1.4854099826741685, 4.0], [4.896264023741715, 4.0], [4.817212406685671, 3.5], [3.76532499335674, 3.5], [4.61877684239009, 5.0], [3.3125147169885136, 4.0], [4.372194309899033, 3.0], [3.3454171947255418, 4.0], [4.1638182590178525, 1.0], [2.5392342336592617, 5.0], [2.4246958351074013, 4.0], [3.5369924425377666, 4.0], [3.5930468866973184, 2.0], [4.547993120126317, 2.5], [1.7807183965825741, 3.5], [5.210776822278719, 4.0], [3.8407040738810325, 3.0], [4.052520875475878, 5.0], [2.946936575365914, 3.0], [4.338171316213722, 5.0], [4.294781648111571, 4.0], [3.9639601822113195, 4.0], [4.600023027421311, 4.5], [3.8239049203207336, 1.0], [3.8059961064046286, 2.5], [3.524357103135284, 5.0], [2.9724601802404567, 4.0], [3.5787866986706836, 3.0], [3.3873550934523373, 3.0], [2.4828365068448734, 3.0], [2.549927550073555, 4.0], [3.3765154821552, 5.0], [3.204335013041857, 3.5], [4.896946436983026, 3.0], [2.7323950121983427, 3.0], [3.0779323448656872, 2.5], [3.4022820658220216, 5.0], [4.526591013864799, 4.0], [2.7376820971048734, 3.0], [3.494304275386656, 3.5], [4.9724092006140275, 4.0], [3.95271356518114, 4.5], [2.4188232529348763, 4.0], [2.620568436503938, 4.0], [2.993381324610391, 4.0], [4.453456170502258, 2.5], [4.1973160524078255, 4.0], [5.13904698967354, 3.0], [5.133168342439698, 3.5], [2.5693065078195376, 4.0], [4.905341935254693, 3.5], [4.538443351652841, 5.0], [2.3206054536173326, 2.0], [2.71414900765601, 4.0], [4.613194642625366, 5.0], [4.302454809662107, 3.5], [3.0360179051460556, 4.0], [2.4127282244693804, 4.5], [3.218757534511768, 2.0], [4.579387198144689, 5.0], [3.974721172773569, 3.5], [3.6282226426948667, 3.0], [3.7843766028628214, 3.5], [2.385799942407595, 2.5], [2.172236964261468, 2.0], [3.098877739236204, 4.0], [3.9233302922130755, 3.0], [2.509340613071076, 3.0], [3.0554855788258, 4.0], [3.7545362098033204, 4.0], [4.672504097562279, 4.0], [2.685777950957108, 5.0], [1.7451021894216672, 5.0], [3.588905391493495, 5.0], [4.073335733116335, 4.5], [3.566854247492682, 3.5], [2.0952331482452586, 3.0], [4.421282350084839, 2.5], [4.4667343244636415, 0.5], [4.942257052784232, 5.0], [4.07993937524337, 4.0], [3.562312420390955, 3.0], [3.2684503711056903, 4.0], [3.9411828774248656, 2.0], [3.709581142028591, 3.0], [4.114127608675643, 4.5], [3.2824305894915575, 3.0], [4.416938440571706, 4.0], [4.535905386350596, 5.0], [2.289179521050255, 3.5], [3.843540066143819, 1.0], [4.25973922312951, 3.0], [4.496988858755438, 5.0], [2.363589479262996, 4.0], [3.9563337901064983, 5.0], [4.946487664601124, 3.5], [2.527146525887425, 2.0], [6.035093796183497, 5.0], [3.1029374251494484, 4.0], [4.550091558740446, 2.0], [4.250050588297597, 3.5], [1.9612293737859763, 3.0], [2.5006631210509522, 3.0], [3.2963373278092845, 5.0], [3.5784498919177095, 2.0], [4.470592900338895, 3.0], [5.609842648294291, 3.5], [2.067471340332335, 3.0], [2.862113690237458, 3.5], [2.0913756994683292, 4.5], [3.5250561241703187, 2.0], [2.8330333074128906, 3.0], [4.2744320610014555, 1.5], [4.404067686182133, 3.5], [4.181797474180488, 5.0], [4.30060961845235, 4.0], [3.018305115155138, 4.5], [4.896945758874845, 4.0], [3.0253446163083977, 4.0], [2.3747636129590233, 4.5], [2.850055366799257, 5.0], [2.322535498010617, 3.5], [4.620598602032332, 3.5], [2.888299001879007, 3.5], [3.2938985849653597, 3.0], [2.605613018342582, 3.5], [2.632690053087151, 3.0], [3.962214567163706, 4.5], [4.055922357226371, 5.0], [3.1986406838372017, 4.0], [3.2506260124414115, 3.5], [4.1240524697187695, 1.5], [5.652147813307833, 4.5], [4.754082489324183, 3.5], [2.4756074508348274, 4.0], [3.0279628185980294, 3.0], [3.5614171043590415, 4.0], [3.3461054004707234, 2.5], [2.7656292354400307, 4.0], [4.3118227090529135, 3.5], [3.5817356792121418, 4.0], [4.724759417530251, 5.0], [3.9409711977627597, 5.0], [2.671856861291712, 3.0], [3.157323389992759, 3.5], [4.202846145751159, 3.0], [5.5612440455184196, 2.5], [3.518878734088021, 3.0], [1.3690358574848542, 4.0], [3.4092713260472096, 4.0], [5.045622778641758, 1.0], [4.460833357272414, 5.0], [5.6850401155523125, 4.0], [2.9236000876202466, 5.0], [4.406689122301118, 4.0], [3.17994840345828, 3.0], [3.1262449917377015, 2.0], [3.1419361023241605, 2.5], [4.979593057439791, 5.0], [4.929096848395714, 4.0], [4.193460060921998, 3.0], [4.240858321311113, 3.5], [3.5492290097352392, 0.5], [3.777068455274798, 3.5], [5.674305603024978, 5.0], [4.148915871281375, 3.5], [3.989798628941248, 4.0], [4.0412940724042175, 1.0], [3.0426850133389625, 4.5], [3.9209260704869022, 4.0], [5.272730834560437, 3.0], [3.7082991531599268, 2.0], [5.506867739475226, 4.0], [4.143883817446007, 1.5], [4.503291195982093, 3.0], [3.8865322590921574, 5.0], [4.257994684316167, 3.0], [4.069118557559556, 4.0], [4.447994066527526, 3.0], [1.4928208009132402, 4.0], [5.490387449486478, 5.0], [2.8427483964273383, 5.0], [2.6198782526606514, 3.0], [3.0881066704616322, 4.0], [4.041320267731973, 1.0], [4.773130274132887, 5.0], [4.927340674535082, 2.5], [4.597165846928205, 4.0], [4.533587924781344, 3.0], [4.630119549901143, 3.5], [4.569652938488104, 4.5], [3.832179636349402, 1.0], [3.701956679082651, 3.0], [2.9581639635479107, 5.0], [5.643974930600849, 4.0], [2.828045232826664, 3.0], [3.61893353004674, 5.0], [3.954970904495142, 2.0], [3.6455815727242102, 5.0], [3.759379706491756, 4.0], [3.1699304988685193, 4.0], [2.5334791144761293, 4.0], [2.7459572418412437, 4.5], [2.1486090268096847, 2.0], [3.2702844253846464, 4.0], [4.610923739799781, 2.5], [3.648647700237562, 4.0], [2.4468171962725473, 4.0], [3.3611204722339907, 3.0], [2.477628662090772, 3.5], [4.478742627201913, 4.0], [2.5038153134087584, 5.0], [3.785788214168414, 3.0], [5.344073451555079, 3.0], [3.4334147379349416, 4.0], [4.200535630680874, 5.0], [4.244338319542534, 3.0], [6.105344260322248, 0.5], [3.832765928893789, 1.0], [4.5880246673761045, 3.0], [4.323522572443646, 3.0], [3.875600695481252, 3.0], [3.660449762289025, 3.5], [4.774994955097449, 3.5], [3.7242948263885274, 3.5], [4.954055528883336, 3.0], [2.3495937423795565, 3.5], [3.7982224976445216, 4.0], [2.5464728530873395, 2.5], [3.2527161431166065, 1.0], [2.2246354745693733, 4.0], [5.706543478046319, 2.5], [3.501575977518014, 2.0], [5.063479030695186, 3.5], [3.2819161224710642, 4.0], [2.5498955801230236, 5.0], [2.8241098172137833, 5.0], [2.9206091319816845, 5.0], [3.3480309714935665, 3.0], [3.6116691936021694, 3.5], [2.8002772215156386, 4.5], [3.0013058820890848, 3.0], [3.880952866890218, 0.5], [3.70404705454566, 4.0], [3.4922016118475656, 4.5], [5.890467040667845, 4.0], [2.8420482708721244, 3.0], [4.962767699715909, 4.5], [4.724582021440539, 3.5], [5.250267864574534, 5.0], [4.187756221261528, 2.5], [3.266052861488802, 3.0], [4.44194120058379, 5.0], [3.295278348765382, 5.0], [3.938748551392124, 4.5], [4.221721838844987, 4.5], [6.136691083973382, 4.0], [3.1676171540849527, 4.0], [3.2136051860067396, 4.5], [4.74503943136952, 4.0], [6.087918605388139, 3.5], [2.299755121113224, 5.0], [3.4657177594419943, 4.5], [4.2090200613382365, 3.5], [3.477340707747481, 2.0], [3.408127971405566, 5.0], [4.205921969334917, 3.0], [4.319698870934492, 2.0], [3.587552908174045, 4.5], [3.918093673887605, 5.0], [3.866742164454304, 4.5], [4.054153434806381, 4.5], [3.9348829034169985, 5.0], [3.5128277463902458, 5.0], [4.461285400860113, 2.5], [3.6647422934082, 5.0], [1.0749647599758323, 3.5], [3.057550391544881, 4.0], [4.0104678429248795, 3.0], [3.8720584112353356, 3.0], [3.543216250213958, 3.0], [3.6408599547491183, 4.0], [3.475489206872883, 4.0], [5.546973884312836, 4.0], [3.8698022883862824, 2.0], [4.2158831591114945, 3.0], [5.198770065005743, 4.0], [4.54098173703393, 2.5], [3.889811447524609, 3.5], [4.81994780999619, 1.5], [3.933545311695449, 4.0], [5.304155008488672, 4.0], [3.237633237349244, 4.0], [2.900756554632268, 4.0], [1.9526691595632875, 4.5], [4.685428707696098, 3.0], [4.145071975693927, 4.0], [5.284225374789686, 4.0], [2.8995392149203667, 4.0], [4.657062576663512, 1.5], [3.4635672099462713, 4.0], [2.0470915163125345, 2.0], [4.077945467017079, 4.0], [3.863388309210846, 4.5], [3.9003684074461056, 4.0], [3.0416538804695477, 3.0], [2.822036062148879, 2.5], [4.843392604399803, 2.0], [3.4010577238821034, 3.0], [3.319693443039217, 4.0], [5.54601286753989, 4.0], [4.916232563968851, 4.0], [5.8856383023059005, 3.5], [3.8619468418020118, 2.0], [4.326089265410857, 5.0], [2.2312625256777046, 3.5], [3.5149429993092625, 3.0], [2.5969721735149784, 4.0], [4.326264954279521, 4.5], [1.9179731301035485, 3.0], [4.1397802659990655, 3.5], [3.389386729303256, 4.5], [4.49931919513005, 3.0], [3.3388454113295243, 4.0], [2.788926775320855, 4.0], [3.860472931241424, 4.0], [4.4247527981985115, 4.5], [2.196212699993557, 5.0], [2.9794599580867156, 4.0], [3.6250227928722185, 3.5], [2.503173548507949, 4.0], [4.489003191579803, 4.0], [4.206924299935343, 3.5], [3.245074737361643, 4.5], [3.3678061746024315, 0.5], [4.026348683752822, 4.5], [5.058331269601243, 5.0], [4.782772586583646, 3.5], [3.7326935635551295, 4.0], [3.211729336716195, 1.0], [3.9861922696084915, 4.5], [3.3642087035497994, 3.0], [4.792757809754237, 4.0], [2.472657424347923, 0.5], [2.6565539015937922, 2.5], [3.17228891913919, 2.0], [3.5459789897159144, 4.0], [3.1883044595182883, 3.0], [3.279557854356619, 5.0], [2.3591911317176417, 5.0], [3.480696183645795, 2.5], [4.963136041323847, 3.5], [4.874210715327112, 2.5], [3.5277246257882813, 5.0], [4.51186654747288, 4.0], [2.950217036028442, 2.5], [3.3491632735846744, 2.5], [4.6143480973828925, 5.0], [5.397542572281102, 3.0], [5.097377580094613, 5.0], [2.7198747976482514, 1.0], [4.463727650116744, 4.0], [3.289109957142737, 4.0], [4.3542203741153855, 4.0], [5.607173493174737, 4.0], [3.8387394858653154, 4.0], [3.390548014375946, 3.0], [4.378827485369156, 4.5], [4.116911562084231, 4.5], [3.351535444870741, 4.5], [5.815282992495791, 4.0], [5.780164471277213, 3.5], [4.367698849193835, 4.0], [3.4944357083778588, 3.0], [3.7943129663317507, 2.0], [3.5016668982644483, 3.0], [3.8213661240697783, 4.0], [3.1242135400836086, 2.5], [4.22210519329081, 4.0], [3.104846438868828, 4.0], [4.718527619028304, 3.0], [3.538492490532486, 0.5], [4.53832923359431, 3.5], [4.275462454462692, 4.0], [5.7349343136632465, 4.0], [3.3300910668589903, 5.0], [3.187988305499075, 3.0], [3.137065887381236, 4.0], [2.547836070437254, 5.0], [4.440288546296544, 4.5], [5.46843019793673, 4.0], [3.5354340465754337, 4.0], [4.297196065921566, 5.0], [2.8552141254411127, 5.0], [4.154146124373066, 4.0], [4.310051876849445, 3.5], [3.9583976652099424, 1.0], [2.8015517265429004, 4.0], [6.019728755812376, 4.0], [2.765971441225972, 5.0], [3.4304390088506334, 4.0], [3.3201854456615663, 4.0], [4.933191262504763, 3.5], [4.1764693088689615, 2.0], [2.7947097872332036, 3.5], [2.8889453575372093, 3.0], [4.389610885633477, 4.5], [4.5225555664782355, 3.0], [1.6909523325008737, 3.0], [2.545283352625844, 4.5], [3.7660789559268566, 4.0], [2.798749268932679, 3.0], [3.8853094563852717, 4.0], [2.8967643210120517, 3.5], [3.604097110962116, 3.0], [4.320660095309841, 4.0], [3.7767545865179204, 3.0], [4.240798797379019, 5.0], [4.07838996430486, 5.0], [3.2974200960700575, 5.0], [5.0099345613425506, 5.0], [2.853860038422111, 3.0], [4.059980897798346, 3.0], [4.920048105177115, 4.5], [2.5542340157661063, 3.5], [2.8040658002896914, 4.0], [4.355641308968004, 4.5], [4.4445513157639125, 5.0], [4.327753638040207, 4.0], [4.769794689414244, 4.5], [4.402247841850378, 4.0], [4.0066718199166536, 4.0], [3.208859562545484, 3.0], [4.699840697237276, 3.5], [5.343146900408922, 3.5], [3.072564018210099, 4.0], [3.4777105253391336, 2.0], [5.6179410267937, 3.5], [4.923655911805251, 2.0], [3.8470990429385954, 2.5], [5.357972707358634, 2.5], [3.1490430938194796, 4.0], [5.01866109101773, 0.5], [4.383861319052925, 3.0], [4.164448599771592, 4.5], [4.018027050848728, 3.0], [1.5425604601702505, 5.0], [4.685573307999627, 3.0], [3.546458465775364, 2.5], [2.7598017226110514, 3.0], [4.582778027020837, 4.5], [3.4148894460302914, 4.0], [3.4478407136331812, 3.5], [2.5591277246447883, 5.0], [3.3491003522466674, 4.0], [2.5139053134890785, 4.0], [1.4315460919642442, 4.5], [3.5754207734505146, 3.5], [4.9945821516048285, 3.0], [5.254913020050622, 4.5], [3.4888990290255437, 4.0], [4.4604798294067765, 3.0], [4.758345509649338, 2.0], [2.826087744659606, 2.0], [5.150214839601549, 3.5], [2.179428886064192, 3.0], [5.448050487142202, 2.0], [3.066162374361839, 4.0], [4.776095146780337, 1.5], [3.0900366485314894, 4.5], [3.7742865922944113, 5.0], [2.928460158683965, 3.5], [3.16089640886915, 3.0], [6.400294482256461, 4.0], [3.574080828587235, 3.5], [2.978690502448802, 4.5], [6.336907417628769, 5.0], [3.6509726630321198, 3.0], [3.955336559857188, 3.5], [4.316774168634286, 4.0], [3.7230729622655905, 3.0], [5.200438389956454, 0.5], [4.617912973256054, 2.5], [3.8453410599662083, 2.0], [4.123720622462554, 4.0], [3.886928911116542, 3.0], [3.8388615153907724, 3.5], [4.092952573606015, 4.0], [3.4791586767189306, 4.0], [5.326668649530096, 4.5], [2.9136111842796213, 2.5], [4.6554040928253375, 5.0], [2.5544939269631852, 0.5], [2.716355276705937, 4.0], [4.069967619725684, 2.0], [3.7479635486959366, 2.5], [5.0576530159482855, 4.0], [3.416127780036479, 0.5], [2.8205689194176524, 4.0], [4.047664618173342, 3.0], [5.520313153452079, 4.0], [3.942478602914233, 3.0], [5.480179519544851, 4.0], [4.001103589001341, 2.0], [5.0927264501458085, 3.0], [3.673174999192632, 4.5], [3.62063777566117, 3.5], [3.3592361278953375, 3.0], [4.178942473045452, 5.0], [3.712702660520887, 4.0], [4.006811716494004, 5.0], [5.546266609094116, 4.5], [3.1044515487416415, 5.0], [3.208072805013512, 2.0], [5.3390869132387575, 5.0], [4.2051630570463265, 5.0], [6.058537494409757, 3.5], [3.902282843041598, 2.0], [3.481592352766888, 3.0], [3.5229839386564503, 2.0], [3.873387453932957, 4.0], [4.677315971567583, 2.0], [2.6410456809202265, 5.0], [4.310983092635473, 3.5], [4.671048437775046, 3.5], [5.097207578558891, 4.0], [3.831838060842858, 3.0], [3.4899511182051337, 3.0], [4.305839822699158, 3.0], [3.9987226218154195, 4.5], [3.8398053890409436, 2.0], [4.087121436328436, 4.0], [4.0957594880655, 3.5], [4.706913842011284, 3.5], [4.297737886245977, 3.0], [3.7344961248677984, 2.5], [3.548797506161305, 1.0], [3.5381288445268044, 3.5], [4.7466403943471684, 4.0], [3.7699203074576713, 3.5], [5.5024854058045864, 3.0], [4.884499785902912, 4.5], [3.7577858770387653, 3.0], [4.307376452866659, 4.0], [2.750878755861633, 4.0], [4.234605052229081, 2.0], [3.3502214195352953, 3.0], [4.877361565514124, 3.0], [3.5861639770456915, 4.0], [3.970412940524839, 4.0], [4.516291090798532, 5.0], [2.936733629765256, 4.0], [3.313086306611419, 4.5], [3.0639688269445653, 3.5], [3.4078257457587786, 3.0], [5.159952223744286, 1.0], [2.492926758624222, 5.0], [3.74977955516109, 1.0], [4.82042366522693, 2.0], [2.2381739210278018, 4.0], [4.055999080488268, 5.0], [5.804010791348723, 4.0], [3.4975946652142826, 2.0], [3.4344425762576294, 4.0], [4.329067140773538, 1.0], [3.702877917727642, 4.0], [2.6392760965843003, 5.0], [4.778776862017382, 2.0], [4.977944705821016, 4.0], [3.668545975465011, 3.0], [3.9982134589114184, 2.5], [1.7685339337367703, 4.0], [5.470777517356098, 3.0], [3.3610205826304433, 4.5], [3.9126106772451505, 2.0], [1.7959498288741078, 0.5], [3.6817520140971762, 2.0], [3.995810743392809, 3.5], [2.66606816088971, 4.0], [3.8680330788354436, 4.0], [3.9189138562041137, 0.5], [4.09899843988461, 5.0], [3.433892202976471, 1.5], [4.716496583888893, 4.5], [1.6345599270388298, 4.0], [3.367453848529285, 4.0], [4.75882399059584, 4.5], [4.464320755402652, 2.0], [4.699953005195014, 3.0], [4.149342961195568, 3.0], [3.1089603411492774, 5.0], [4.870802213017318, 3.0], [3.0403208635649803, 4.0], [3.63340252119996, 3.5], [4.589656451317119, 5.0], [4.292108583924652, 5.0], [4.466915471679396, 5.0], [2.414785061239103, 4.0], [2.6039635677938526, 2.0], [4.115497339477185, 4.0], [6.544930856823133, 4.5], [3.1795750675833903, 2.0], [3.9315329928433536, 4.5], [3.0882901240408995, 3.0], [4.218936237141262, 3.5], [4.376410892252518, 4.0], [3.482963607854861, 5.0], [4.023254353027638, 4.0], [4.723030373657151, 3.0], [2.9387278773015097, 3.0], [3.459490774946238, 5.0], [3.07474662707997, 2.5], [4.76215529224602, 2.5], [2.3223948486646733, 3.0], [4.474943357408362, 2.0], [4.173210186097032, 4.0], [3.854305846382015, 3.5], [4.049411333218056, 3.0], [3.1414524253866523, 5.0], [4.701863443482015, 4.5], [5.206440615218837, 4.5], [3.4919880591195787, 4.0], [4.501367679509428, 2.0], [3.8869109506318065, 4.5], [4.144518695977934, 5.0], [3.872318208177326, 4.0], [3.4802311905397163, 4.0], [3.291591356917408, 4.0], [3.2882662884712115, 4.0], [2.8935109342217107, 3.5], [4.359544286007017, 2.5], [4.976003781864911, 1.5], [5.829812086922887, 4.0], [3.8989689991179484, 2.0], [2.924748851747344, 2.0], [3.3786872451176477, 2.0], [3.1330473520565874, 5.0], [4.313258185364146, 4.5], [3.5103487716610853, 4.0], [2.7084852398551864, 2.0], [3.4818861135791, 3.5], [3.171268736462954, 4.0], [3.84587250135492, 0.5], [3.465921863840802, 3.5], [2.2101670675214486, 3.5], [2.0664241373269294, 3.0], [3.4589400206507848, 3.5], [5.4957812278916816, 4.0], [3.9629000601088875, 3.0], [3.6505243690133113, 1.0], [3.5901796008875544, 4.0], [4.831722271610954, 4.0], [5.856489828335461, 4.0], [2.205865312022125, 4.0], [2.1789918655047384, 5.0], [3.2087812146993455, 4.0], [2.8138063399032345, 5.0], [2.3908789071024596, 1.5], [4.031377814567902, 2.0], [5.158520824988975, 4.0], [4.218179938532149, 1.0], [4.729809301963622, 2.0], [3.8988897846813195, 2.5], [3.913193308962782, 4.0], [3.037658712850553, 4.0], [4.129122538768988, 4.0], [5.183798873822717, 3.0], [3.3080896307769376, 3.0], [3.968096831179717, 5.0], [3.2087548129947603, 5.0], [4.484797171297091, 3.5], [3.8669975860589823, 4.0], [4.567083981533041, 3.0], [3.697080109920414, 3.0], [4.86955254009755, 4.5], [5.629665559692086, 3.0], [4.103234299632139, 1.0], [4.510652010676034, 3.0], [2.6883347187643034, 4.0], [3.7959425813766337, 4.0], [3.8227197938109874, 3.0], [3.6573234476373893, 3.5], [4.702835627819044, 5.0], [3.3207908846889653, 4.5], [2.9918893905269073, 4.0], [3.8147428612983747, 3.0], [3.2799729083272147, 2.5], [3.81463197196406, 4.5], [3.4545432356319288, 1.0], [5.183505466423268, 4.0], [3.013760372243461, 4.0], [1.7574427035965825, 1.0], [2.7249870431279266, 3.5], [3.885894249506897, 1.5], [4.691294870393426, 5.0], [4.436473226215202, 4.0], [4.713227162377708, 1.0], [4.746307101073005, 4.0], [3.9891145440909668, 3.0], [4.876291581243549, 4.0], [5.057576813818287, 3.0], [3.554409481424554, 2.5], [4.7826284166941395, 4.0], [3.0622645198193066, 5.0], [4.081102542997976, 4.5], [2.609033465244562, 1.5], [3.9206968143442222, 3.5], [3.5044247736579806, 3.0], [5.20699551777861, 1.0], [3.7917819721180934, 3.0], [2.9670021266247715, 4.5], [4.201716877747959, 5.0], [3.5369656185078724, 4.0], [3.6665964989703337, 4.0], [4.453468187344769, 3.0], [2.669972865325281, 3.5], [5.934827141359452, 4.0], [3.552415898526494, 3.5], [2.5778521994623214, 3.5], [5.914459175864511, 4.0], [3.2513854768547654, 4.0], [4.535433055565424, 2.5], [3.7161495335509995, 3.0], [3.345071528683346, 3.0], [4.343544763134239, 1.0], [3.5275354932596494, 3.0], [4.968238464781515, 4.0], [3.962851555080515, 4.0], [4.429391100068283, 3.0], [3.74532151109958, 4.0], [3.4343273158026904, 2.0], [3.240921111418238, 4.5], [3.1319609939884336, 5.0], [3.556339003822367, 5.0], [3.837347348625583, 4.0], [1.5609548616299675, 5.0], [2.6643856622299915, 1.0], [1.8919796562763742, 0.5], [2.892465250497742, 3.0], [4.949148299225323, 3.0], [2.710054879509802, 4.0], [1.6114933973180219, 4.0], [3.425964485082311, 5.0], [4.1210823571266495, 4.5], [6.038509165214227, 3.0], [4.488773327595036, 4.5], [4.12896698253456, 2.0], [3.4813157028479145, 1.0], [4.433302385544497, 2.5], [3.5069517504714476, 5.0], [3.732492525429007, 4.0], [3.0101348768956635, 1.0], [5.525541990976775, 4.0], [6.0896390690252105, 4.0], [2.500801097797325, 4.5], [4.603256839133313, 4.0], [3.519349496216369, 3.0], [3.046475084907852, 4.0], [4.666129928695839, 4.0], [4.605357044561797, 1.5], [3.624742437672796, 4.0], [3.968102995320606, 5.0], [3.604401008940419, 3.5], [3.6413400782287573, 4.0], [4.14421789939729, 4.0], [4.367606319365778, 3.5], [3.7045123178409063, 3.0], [4.525321014422142, 3.5], [3.1196605907390524, 4.0], [3.6213955243500924, 4.5], [3.666532963117048, 2.0], [4.78398139630156, 3.0], [2.9003573507582625, 3.5], [5.459830180490327, 4.0], [4.647542167053042, 4.5], [1.6627872310536698, 3.5], [4.530962900197385, 5.0], [3.5978634218970345, 3.5], [3.1160942885625644, 3.0], [4.554880516240947, 3.5], [4.9211256603025895, 4.0], [3.8339094634706825, 4.5], [2.52740401204988, 1.0], [3.931892682078277, 2.5], [4.243686406620206, 4.5], [4.695184643527616, 0.5], [2.351850904141202, 2.5], [3.622242939406193, 4.0], [2.8423917752866896, 4.0], [3.048058561115677, 2.0], [3.252114832219402, 4.5], [4.997399983497721, 4.5], [3.2784014319075196, 5.0], [3.5503423967363914, 3.0], [4.161393333492241, 2.5], [3.524774654403175, 4.5], [5.13051019950746, 3.0], [3.6450430858179175, 4.0], [4.3946818340519425, 4.0], [2.5206330865324076, 4.0], [1.9893203374093538, 2.0], [4.536178693418624, 3.0], [4.500423820594691, 4.5], [3.497342788944219, 4.0], [3.9067343586154735, 4.0], [5.42245735463745, 1.0], [3.7271847800484754, 4.0], [4.270863508736905, 4.5], [3.1668925930125016, 4.0], [3.423723357066324, 4.0], [5.210732366247557, 4.0], [4.207636351403455, 3.0], [4.306317318258289, 4.0], [5.752105332096042, 4.0], [5.078810978193711, 4.0], [5.904204979109288, 3.0], [3.7566021244104086, 2.5], [3.1265407641926166, 5.0], [2.5894585738904596, 2.5], [4.57876041871254, 4.0], [3.84254296473825, 3.0], [3.517881109593024, 4.0], [3.940363275277091, 4.0], [3.5148010523305713, 3.5], [5.397908897363837, 2.0], [2.7638420900727305, 2.0], [3.73537012770916, 2.0], [3.426468515987877, 4.0], [4.771966954583463, 2.5], [4.005469403685982, 4.0], [2.501559548141096, 3.0], [4.347679164690021, 5.0], [6.185415522120641, 5.0], [4.728938194737818, 5.0], [2.4141117185874075, 5.0], [4.183530132229404, 4.0], [2.9988430323308304, 3.0], [4.904377177755831, 4.0], [3.2936623323323384, 3.0], [4.917218374058087, 4.5], [5.08870342002852, 5.0], [2.5613531508701017, 3.5], [4.963624944730563, 4.0], [4.910604485843312, 4.5], [3.491548386926343, 1.0], [5.704993920066201, 3.0], [2.7681261005296554, 4.5], [3.923121872958828, 3.5], [4.648629840255414, 4.0], [3.9732309369859506, 3.0], [3.5104599770995093, 0.5], [5.12444885068544, 2.0], [4.2943415233026565, 4.0], [3.6513209143283047, 2.0], [2.821257458848904, 5.0], [4.9134728420268745, 5.0], [4.577107037969278, 4.5], [4.269243602476584, 3.0], [2.391418226732301, 3.5], [4.650921958922241, 4.0], [4.658460150857107, 3.5], [3.612550810199132, 4.0], [2.282982262962497, 3.0], [2.930175594205288, 4.0], [3.944382911124875, 4.5], [3.0624856872556947, 4.0], [3.6757725560576153, 4.5], [3.214266093831302, 2.5], [4.000678958259271, 3.0], [4.244450840363142, 3.0], [4.492918519695873, 3.5], [2.6672744946088964, 2.0], [3.018927365699268, 4.5], [4.882265110630856, 3.5], [3.798654468557375, 1.5], [0.8549722759791302, 1.5], [4.488337635484498, 2.5], [4.130659876792377, 3.0], [3.780129357687617, 5.0], [5.231309152881785, 3.0], [3.472847523284431, 4.0], [4.035458556538387, 4.0], [5.936440095050531, 2.0], [3.931401976773256, 5.0], [4.008945297342648, 4.0], [1.4700188975117303, 3.0], [3.1715893918224447, 2.0], [3.4896464756722554, 4.0], [5.202698764837131, 3.0], [3.375426210455538, 4.0], [3.0925411244101513, 2.0], [3.9082978144982636, 4.5], [2.978236034771126, 5.0], [3.9318458249170125, 4.5], [3.6389101873904357, 5.0], [3.9523043879597273, 3.5], [3.785271328246254, 3.5], [3.5621676994201286, 4.0], [2.340518381101394, 4.0], [4.902552123089969, 4.0], [2.3170515573294193, 4.0], [4.012908638285133, 3.5], [2.216154616735575, 3.0], [3.9334583925252935, 3.0], [5.302959127585204, 5.0], [3.3144908965996125, 5.0], [3.6555985648822267, 4.0], [4.763734006502737, 3.0], [4.931801302444264, 3.0], [5.685280422788202, 4.0], [5.200364105801044, 3.0], [4.2877313306503435, 4.5], [3.7737443889490723, 3.0], [4.441899430476476, 3.0], [3.236972368576497, 3.5], [2.4367808583340484, 3.0], [5.460923276868543, 4.5], [3.936069590070185, 3.5], [3.0297841625320148, 5.0], [3.947446456791448, 4.0], [3.5346322156287453, 2.0], [3.7018890731433682, 3.5], [2.705095800373665, 3.0], [4.749887933149876, 0.5], [3.4597371946884525, 5.0], [3.8105421088285327, 5.0], [2.500839920779335, 4.0], [3.685380669855718, 5.0], [2.9331064610611843, 4.0], [4.981061304225478, 3.0], [4.006329645047433, 3.0], [4.483828832256764, 3.5], [3.1777026473172403, 3.5], [3.3545252351599912, 3.0], [3.8756984020372545, 3.0], [5.415397843190383, 1.0], [3.9945325873261206, 2.0], [4.8079476163710035, 4.0], [2.7055946654637864, 3.0], [2.6595491936046867, 4.0], [3.6440611918852683, 4.0], [3.0834451231671745, 4.0], [4.653729941556296, 3.5], [4.362807703139206, 3.0], [2.881542035138682, 4.5], [3.2671655010885345, 3.0], [4.198486907823351, 3.0], [4.735441476808359, 4.0], [2.3049325339801725, 4.0], [4.274349982182801, 3.5], [2.7426695885088654, 5.0], [3.3955626520556756, 3.5], [5.511659992611101, 5.0], [4.901064167157311, 1.5], [5.156212357403465, 4.5], [3.641321658352278, 3.0], [3.070044096608217, 3.0], [3.4622684831536112, 4.5], [2.9984982070371213, 3.0], [3.41583488515267, 4.0], [5.35958764266316, 3.5], [3.1711162750273165, 3.0], [3.8083959733589405, 4.5], [3.69103155513978, 4.0], [4.1666818715492795, 4.5], [5.187020861241496, 1.0], [4.589482831777213, 3.0], [3.0255305114751616, 3.0], [3.014044165798326, 3.5], [4.1744725968879575, 0.5], [7.280711908168223, 2.0], [5.464635665340406, 2.0], [3.7090488240895696, 5.0], [1.1475134960633946, 3.5], [2.082916784556304, 4.0], [3.950383360097037, 4.0], [4.258162213641114, 4.0], [3.897078819197122, 4.0], [4.635941365549696, 4.5], [2.852253740141999, 3.5], [2.3926072886822776, 3.0], [5.446529955161191, 3.5], [4.178573496757281, 5.0], [3.895747052932727, 2.0], [4.532348196803267, 4.0], [5.096528524957351, 4.5], [4.872460682949768, 4.0], [4.591472650543514, 4.5], [4.0721667952676945, 3.0], [4.075942711525572, 4.0], [3.8962191111510975, 4.0], [2.7324166416529763, 5.0], [3.586902431623204, 4.0], [3.926198553428102, 5.0], [4.146206902629764, 4.0], [3.956383297723671, 4.0], [2.9784393278934127, 3.0], [4.5637526429428075, 5.0], [5.6392558611965, 4.0], [1.9519145019167212, 5.0], [3.6925550508223393, 4.5], [4.181222532941382, 3.0], [2.0123123925697732, 3.5], [4.224572136739177, 3.0], [3.6070055034276605, 5.0], [3.282333404130793, 4.0], [4.181046363878862, 3.0], [3.4249732637707755, 3.0], [3.647261976041801, 2.0], [2.809234365263851, 2.0], [4.143032736532958, 1.0], [3.5524623160150455, 5.0], [5.916919357394944, 3.5], [2.951308206931665, 5.0], [4.16270504069038, 4.0], [3.107037538888255, 2.5], [4.489495657298486, 4.5], [3.564797105542582, 3.0], [3.0365086473270795, 4.0], [4.866374765514544, 3.5], [5.793217952960061, 3.0], [1.6538786506454113, 4.0], [2.599094672453942, 3.0], [4.312548861883857, 2.5], [2.4679370072114284, 3.0], [4.459792403719554, 4.0], [5.720836633256967, 2.5], [2.280421453284483, 3.0], [3.1514383762572864, 4.5], [3.9441889599767093, 4.0], [4.72847324556934, 3.0], [3.584093526922345, 4.0], [3.820922829365195, 2.0], [4.465989596677721, 3.0], [2.2513285409255914, 3.0], [3.0350161353617278, 5.0], [4.283675878416011, 3.0], [3.3000312746476137, 4.0], [4.007173618224534, 3.5], [3.655246957493304, 3.5], [2.341190248832499, 4.5], [3.6886033778464693, 5.0], [4.403941858276378, 3.0], [4.278394260766369, 3.5], [1.9369365653637325, 3.0], [5.171582154894405, 4.0], [4.491934734209798, 3.5], [2.489730289172421, 3.0], [3.6794878411609817, 4.0], [3.38318121841859, 5.0], [2.987158421971131, 4.5], [2.322435795975023, 4.0], [4.265268588181812, 4.0], [5.201879173611321, 4.0], [5.144968721181263, 3.0], [3.901641825044978, 4.0], [2.820715117403657, 3.0], [3.2685538715625873, 2.0], [4.105145673231043, 4.0], [4.027978471446038, 4.0], [3.2034602749152876, 4.5], [2.7797295381715443, 4.0], [5.143694769433924, 3.5], [4.290868644676323, 3.5], [3.978387510282106, 3.0], [4.257319250195532, 4.0], [4.769144858629721, 4.0], [2.6946073249246685, 2.0], [4.150059360919532, 4.5], [3.54916042816727, 5.0], [3.0287798887425597, 4.5], [3.86199057884984, 5.0], [2.9962059518100035, 3.0], [1.5716186485384638, 3.0], [3.132203192331056, 3.0], [2.6215149757154754, 4.5], [5.353322992984853, 1.0], [4.00820714568331, 3.5], [4.078752776752332, 3.5], [3.984306496191403, 5.0], [3.5360955558719964, 4.0], [2.1766365507929266, 2.5], [4.426145928448062, 4.0], [3.211149634757406, 2.5], [4.181578284095404, 3.0], [3.0069215852042417, 3.0], [2.9555948411887942, 4.0], [4.455998536664072, 3.0], [4.688254364312537, 2.5], [4.290294382625948, 2.0], [4.319958155003299, 4.0], [4.3693451695860865, 4.5], [4.76317161943789, 4.5], [4.953493999569711, 3.5], [4.257277973591344, 2.5], [2.9044011358575084, 4.5], [5.323934984263558, 3.0], [2.6442960480613684, 3.0], [5.972471871675576, 4.0], [3.8902137142684547, 3.0], [5.132926341438763, 4.0], [2.892459690219855, 4.5], [3.66095498374006, 3.0], [3.9344346581440433, 3.0], [3.690127519398549, 4.0], [2.756643823115977, 3.0], [3.947112469808072, 3.0], [4.090400214438824, 4.5], [3.455500813151868, 4.0], [3.4008890649803654, 3.0], [4.839143372046705, 0.5], [3.125599326574089, 3.0], [4.41363824848325, 3.0], [4.9171654835427665, 5.0], [2.8851598903733477, 3.0], [5.180976368648764, 4.0], [2.7986170502855963, 4.5], [2.133736134268874, 4.0], [3.26444703531296, 3.0], [3.487465209698262, 3.0], [4.680945835040198, 1.0], [5.097519979598246, 3.5], [4.636070699678767, 3.5], [4.366437003232645, 4.5], [4.300947000314306, 3.5], [3.148439218889522, 2.5], [3.9353224665965842, 4.5], [5.724388361703389, 1.5], [2.4655773875067455, 5.0], [3.3464728210506447, 2.0], [5.849283532299705, 4.0], [4.7230120958159985, 4.0], [3.5362392258880866, 3.0], [2.6195955410282616, 3.5], [3.244279066393025, 4.0], [4.3672058117293515, 3.0], [4.0635416935061475, 2.0], [3.699652595041633, 4.0], [3.501050441172396, 2.0], [4.377187415729924, 4.0], [1.151771060507889, 3.5], [4.417823699284268, 4.0], [4.698844819347961, 2.5], [4.896998906424245, 4.5], [2.6280047700430855, 3.0], [3.4858824567832642, 3.0], [4.529755265456453, 3.0], [2.8733230941033465, 2.0], [2.704405675707515, 4.0], [3.8623831289671307, 0.5], [5.142961960938513, 1.0], [4.510090818375505, 3.5], [4.7411527941074, 1.0], [4.279741083076886, 3.5], [6.612310094077985, 3.0], [2.893295516516975, 3.5], [4.053122765995048, 5.0], [4.690856039903452, 3.5], [3.9888825479764964, 2.0], [3.8763065605950424, 4.0], [3.1758034258247596, 0.5], [3.5155049732524506, 0.5], [2.973512067807079, 2.0], [5.6272163803222455, 1.5], [4.3525242725339925, 4.5], [4.191636943095599, 3.0], [4.190905559561199, 4.0], [5.134310811204589, 1.0], [3.6231273063666594, 5.0], [4.813769436989333, 2.0], [2.239923836853043, 3.0], [4.019665591074756, 3.5], [2.475219074116654, 3.5], [3.7827373355913494, 3.0], [1.8168637906630005, 2.0], [3.3786764177498534, 3.0], [3.7350744821741975, 4.0], [3.5952673828561617, 4.0], [6.017105381088812, 3.0], [3.45108505324901, 2.0], [3.290729504079793, 3.0], [2.6525703909952667, 3.0], [1.2287892112149335, 4.0], [3.9181577028982306, 4.5], [3.1226496809583333, 4.0], [4.548670608990899, 4.0], [3.305184285173996, 4.0], [3.3716787298291684, 1.5], [2.271583976363956, 3.5], [4.663703177261958, 4.0], [2.190837360131791, 4.0], [2.8691442141799306, 3.5], [3.874681072797538, 4.0], [5.288352161016399, 2.5], [5.106810289037341, 3.5], [4.632561592693989, 3.5], [3.674300219691515, 3.0], [3.3620350991309316, 4.5], [3.035747342667176, 4.0], [4.387672090161499, 3.0], [2.7853823539559457, 3.0], [3.9085193116189556, 3.0], [5.746466787542175, 4.0], [3.332864643895466, 3.5], [2.7268775035762576, 5.0], [3.3962592818111283, 4.0], [5.634470626103154, 4.0], [2.7197215915320476, 3.5], [4.914655187793301, 4.5], [3.5382915214505277, 5.0], [2.6925086848988617, 4.0], [5.1669476728842225, 3.5], [3.5865407897279353, 4.0], [3.4554199087643402, 4.0], [1.8193690708570236, 4.0], [2.6193821496310794, 5.0], [2.7867111587996996, 2.5], [4.813571458020679, 3.5], [4.213710229272687, 5.0], [4.455133360659007, 3.0], [3.6811542172690537, 1.0], [3.869336472534989, 2.5], [5.609636071835655, 4.0], [5.880913526736863, 4.0], [4.465002240916404, 3.0], [1.6275889737610152, 3.0], [4.214936837311399, 1.5], [4.41588343856338, 1.0], [2.959855520168424, 4.0], [2.9214674397971985, 4.0], [4.366518155185515, 4.5], [5.295733508659848, 4.0], [2.3682770553424177, 2.0], [3.520595489815728, 3.0], [2.4552382392031102, 4.0], [4.3261833804561185, 5.0], [4.9491830382365105, 4.5], [4.6389684294415465, 4.5], [2.8178868943139106, 3.0], [4.458993132881615, 4.0], [3.1544208461839616, 1.0], [0.8762389667085124, 3.5], [4.9237771251368, 4.0], [3.842454850537884, 3.0], [4.753298103645046, 3.0], [5.6205336914474735, 0.5], [4.9777068418363335, 4.0], [3.5411301124563725, 2.0], [4.12000848273071, 1.0], [1.171498500325704, 2.0], [2.9814004836023726, 4.5], [4.990294737794675, 5.0], [3.76897565948306, 3.0], [2.7256798189311784, 3.5], [3.755315705523541, 4.0], [3.831712757373676, 2.5], [5.355196134420107, 4.0], [3.2081891743244113, 5.0], [3.4511335109804273, 5.0], [3.920262187512149, 2.5], [5.971204227522007, 3.0], [5.121330985014387, 4.5], [2.882398341964209, 4.0], [3.009963842841344, 4.0], [5.174508987176698, 5.0], [2.1765289690082623, 4.0], [4.113400359031974, 4.0], [4.078068608540239, 5.0], [1.9050723155503695, 3.0], [4.693854842400039, 4.0], [4.087384185471265, 3.5], [4.056552285686012, 5.0], [2.805121893019688, 3.0], [3.9922263945444607, 2.5], [1.6583344628862657, 3.5], [2.8935425863001982, 3.5], [2.682987900180453, 3.0], [3.1829163460649963, 4.0], [3.433696460129529, 2.5], [3.7984881177920733, 2.5], [3.312417991846849, 5.0], [3.0625027886435405, 4.0], [3.522307255288696, 4.0], [4.777778163921463, 1.5], [5.35769938399439, 4.0], [5.992019979825531, 2.0], [0.10586269131573144, 4.0], [3.804593347157326, 4.0], [4.378362318991293, 4.0], [3.437456503639488, 3.5], [3.97848896839712, 5.0], [3.404513726719248, 3.0], [2.8427845745186997, 3.0], [3.7820102578844876, 3.5], [4.594112457373131, 4.5], [2.200414552610719, 5.0], [3.7028634747429203, 3.0], [3.904818560908389, 3.5], [2.9106752807635394, 2.5], [4.2162295801574885, 5.0], [5.671052678607541, 4.0], [3.814646472701599, 4.5], [3.233955455365839, 4.0], [5.0709122271507, 5.0], [5.792812615793305, 4.0], [1.745524262260041, 3.0], [3.187325812157271, 1.5], [3.775837461177104, 5.0], [3.2651651084676563, 4.0], [4.078092040288588, 2.0], [3.300763168595659, 4.0], [3.7746583606927935, 4.0], [2.2074841036946635, 3.0], [2.9753994092238596, 4.0], [4.781491482404268, 4.0], [4.627918094690786, 3.5], [3.907336810721635, 3.0], [4.188764824920981, 4.5], [4.542274729555658, 3.5], [3.3986040521836345, 4.0], [4.277504324534742, 3.5], [3.301554064404298, 3.5], [3.6638372681262226, 3.5], [5.373423574209008, 0.5], [5.69815119019295, 4.0], [4.161479289114423, 5.0], [4.842098759985053, 3.0], [6.440865124721441, 4.0], [2.629129119496877, 1.5], [2.5597471227647017, 5.0], [3.3335496136118006, 3.5], [2.9341942599894004, 5.0], [2.853966924733167, 3.0], [4.502793461241552, 3.0], [4.43384867354326, 3.5], [5.1164140383667025, 2.0], [4.768486933856652, 3.0], [3.1564320555313246, 5.0], [3.5723051541349933, 3.0], [4.144620352108125, 3.5], [4.558774486581831, 4.0], [3.5746591042684224, 3.0], [3.14034484035565, 3.0], [5.561288610282926, 5.0], [5.901726842511987, 5.0], [0.9332282717205553, 5.0], [3.109460021390995, 4.0], [3.9241593761932503, 3.0], [2.8322141278753556, 4.0], [3.964644911895559, 4.0], [4.125795374745128, 3.0], [4.364384301080667, 4.5], [4.459275592504934, 5.0], [4.53558738901415, 4.0], [3.3164157853198817, 4.0], [3.935567209954441, 2.5], [2.771168890209705, 5.0], [3.6272709711378446, 2.0], [5.696079338517255, 1.5], [5.301019551837913, 4.0], [4.739260146172466, 3.5], [3.674091583865419, 5.0], [4.711720004857426, 4.0], [5.752132716854211, 3.0], [4.611234575375442, 4.5], [3.5588746147338073, 3.5], [2.7355220479959086, 3.0], [3.716428576952048, 2.0], [3.8608363567032367, 4.0], [4.721727397198845, 4.0], [4.274706849562028, 4.5], [2.9467627852882834, 2.0], [4.071120822282184, 1.5], [2.2046592291917935, 3.5], [3.7247140030164037, 3.0], [3.8997155276031363, 4.0], [3.0989033933826526, 4.5], [2.9021398124570754, 3.0], [3.533759601288005, 4.0], [4.445988636209332, 4.0], [4.0021331559944295, 3.0], [4.957923841152422, 3.0], [5.062306493104439, 1.5], [3.9789519262419972, 5.0], [2.6031622935436447, 3.0], [3.717090872350997, 4.0], [3.9392421656891066, 3.5], [5.425553721854209, 4.0], [4.506367562128202, 3.5], [4.1533194569552805, 2.5], [3.4728590027510813, 3.0], [4.503862694217781, 3.0], [3.660482744203583, 3.0], [3.57546811923142, 4.5], [2.587290415797752, 5.0], [5.0686273207792665, 4.0], [2.544568027658581, 1.0], [4.301971385978706, 2.5], [3.9016130800495046, 2.5], [5.160164457994984, 3.0], [4.691083637400635, 0.5], [4.021997370663141, 2.0], [4.008419643321053, 3.5], [4.369223249135334, 4.5], [4.089400407528804, 5.0], [4.299177685440006, 4.0], [1.8121565533356117, 3.0], [3.5265537607535475, 3.5], [5.038282717297229, 4.5], [4.691845782374777, 1.0], [3.955864917866059, 4.5], [3.4738742246700163, 2.5], [3.744048907974008, 3.0], [3.3201211075299217, 5.0], [3.894675530183888, 4.0], [2.823284567638399, 5.0], [3.6224595226142666, 2.0], [4.025040120828414, 4.5], [5.632139254852815, 4.0], [3.6605212671103993, 5.0], [3.5356916993971725, 3.0], [4.972184993363171, 4.5], [2.3269224790547396, 1.0], [4.597716146238466, 5.0], [3.9918960432426758, 5.0], [4.743685977011133, 4.5], [1.620350398615137, 3.0], [4.427549674952867, 3.0], [3.9499653861218316, 3.5], [4.021116410021953, 5.0], [2.329041187831136, 4.5], [3.9492446478826713, 3.0], [3.9685944801981488, 3.0], [4.13237669514008, 3.0], [2.6029004168712087, 4.0], [2.8973969729394566, 2.0], [3.558534154874109, 4.0], [2.2528290413218133, 4.0], [3.2464568500498534, 4.0], [4.263894842571597, 3.0], [3.726913827053259, 4.0], [3.5130486880588365, 3.5], [4.091900072687372, 4.5], [4.308074866641679, 4.0], [2.933369786070366, 4.0], [3.756212556522091, 4.0], [4.252873444989502, 2.0], [4.89078324126051, 4.0], [2.553438064442525, 3.5], [3.9009126585554244, 3.5], [4.326281668423319, 5.0], [4.12257190505656, 3.0], [4.7612096185237345, 4.5], [4.838392055921447, 2.5], [4.898034521794344, 4.0], [5.679927836795086, 3.0], [3.6072491951643073, 2.0], [3.4698968862423563, 5.0], [2.363874681350897, 4.0], [2.5432220333762596, 3.5], [3.903405057201675, 1.0], [2.994981897878631, 4.0], [2.5429056790537645, 4.5], [4.319236813025014, 2.5], [4.713296048994762, 3.5], [3.4603672947275497, 2.5], [3.064433659186689, 4.5], [3.1279436723034597, 3.5], [4.690565400682521, 4.0], [3.4188971611412833, 5.0], [4.8384142252142555, 4.0], [3.353363232823794, 4.0], [3.667073891756345, 3.5], [4.436781218432242, 0.5], [3.7115021057616033, 3.0], [4.403438671655884, 4.5], [4.326057800807085, 4.0], [6.000000849008927, 4.0], [2.2494029159745534, 3.0], [4.832436234692342, 4.0], [5.03500859263813, 3.5], [2.759375660675059, 3.0], [3.8537856211338726, 3.0], [3.8160970323854557, 4.0], [2.9029628833199377, 4.5], [3.677162913791972, 0.5], [5.557060884218995, 3.5], [2.7348069861453337, 3.0], [4.284617020622606, 2.5], [3.9825831172716972, 3.0], [2.835810124517386, 1.0], [4.0245275595192185, 3.5], [4.503995442944509, 1.0], [4.633216085346649, 1.0], [4.090896623420092, 4.0], [3.6574052881269723, 3.0], [2.570866963038678, 1.0], [3.7985446705903487, 4.0], [3.8442517069244886, 4.0], [5.611464277430918, 5.0], [4.070055247481337, 3.5], [2.5309220579708214, 4.0], [4.450852992632212, 4.0], [4.634812576331191, 2.5], [3.544282855140831, 4.5], [2.006952580602183, 5.0], [5.334609618388539, 3.0], [4.517976224097063, 3.0], [3.6114743316734543, 4.0], [2.547760549498795, 4.0], [6.943292036349959, 4.0], [3.485506460216573, 3.5], [1.515928995786436, 4.5], [4.561600524691443, 2.0], [3.2933719367603165, 4.0], [3.3499465380527047, 4.0], [4.571733589423825, 5.0], [3.842458806380325, 2.0], [4.977811000663201, 3.0], [4.168630732983207, 3.5], [4.089087349561111, 4.5], [3.2925739109139593, 3.0], [5.846727945878275, 2.0], [4.231519929793603, 4.0], [3.049543816192517, 4.0], [1.7131511268203081, 3.5], [4.1730789285337595, 3.5], [3.4624539953780205, 4.0], [3.946865277432727, 3.0], [4.6087633784075175, 3.5], [3.159564100240869, 3.0], [4.6422962135029655, 3.5], [3.605456179360913, 3.5], [5.502384045793301, 1.0], [4.29809085909137, 2.0], [2.229922365646395, 3.0], [6.17335394400691, 4.0], [3.1982502696463175, 3.0], [4.566931888581219, 4.0], [4.3188913464066365, 4.0], [3.6575955461337224, 3.0], [4.398099819519524, 1.0], [3.5531551382279227, 2.0], [2.5710655449760296, 4.0], [3.6563105555179436, 2.0], [3.724156221962729, 3.5], [3.950847055723347, 2.0], [5.256196123458031, 4.0], [4.486378910508074, 4.5], [3.669451437715042, 4.0], [3.849068336651, 3.0], [4.873013761947822, 5.0], [5.7302745322172965, 3.0], [4.13774235739836, 5.0], [3.6050344370939666, 2.0], [3.6384998729411664, 4.0], [2.1112077887093847, 4.0], [3.5837379186140983, 2.0], [3.5008677834132995, 5.0], [5.984889097495127, 2.5], [4.803865135715404, 3.0], [4.3278119439940035, 4.0], [5.647064827390207, 4.5], [4.866965782960777, 3.5], [3.9605940911646456, 3.0], [4.468708098351291, 5.0], [3.462647154278359, 3.5], [4.474591393933279, 3.0], [4.088722417063622, 4.0], [3.27151456535787, 3.0], [4.481863550158114, 5.0], [3.667955615055534, 3.5], [3.9778286374047354, 5.0], [4.442430580196671, 3.0], [4.617742867794298, 5.0], [2.727142593099923, 4.5], [2.945059882076805, 3.0], [5.5785244976229595, 5.0], [4.020266661844581, 4.5], [4.852243548996819, 3.5], [2.6741831681123815, 1.5], [3.7294662517913557, 3.0], [4.49455831161738, 4.0], [3.563189796117846, 3.0], [4.328188941809649, 3.0], [2.7275711637151763, 5.0], [3.921780421997137, 4.0], [5.433707420158221, 1.0], [3.378711966729171, 4.0], [4.461014711506832, 3.5], [3.9161640707239367, 4.0], [5.407351337983693, 4.5], [3.6575717161142904, 5.0], [4.019504844422466, 4.0], [5.116642932074136, 5.0], [3.1013223853778253, 4.5], [1.7489120876630877, 3.0], [3.5667629995509023, 2.0], [4.032455601739022, 3.5], [3.5283039070386555, 3.0], [4.510534186915224, 4.0], [4.144459734901341, 3.0], [3.189622103452765, 3.5], [3.5942988035764953, 2.0], [4.926839544981755, 3.0], [3.541928362220269, 4.5], [5.332968888152655, 4.0], [2.1670656084310993, 3.5], [5.069352627136768, 5.0], [3.096353793570642, 4.0], [3.9890979307768073, 3.0], [2.8968853245644763, 1.5], [3.85457258481093, 5.0], [2.984141493097393, 2.5], [4.767779907806903, 4.0], [2.528611426544447, 3.0], [4.338355796393819, 4.5], [3.7504368404782316, 3.0], [2.963552104999207, 2.5], [4.571898790583539, 4.0], [3.4325675366808643, 4.5], [6.399589498539054, 4.5], [4.533040066135922, 3.0], [3.4574751945404323, 3.5], [3.33079176493454, 2.0], [5.699841711250877, 4.5], [4.376851048493789, 4.0], [4.82749476708375, 4.0], [4.523788543688507, 3.0], [3.393688443252439, 3.0], [3.430642850099157, 4.0], [4.190749208138083, 4.5], [2.688862203044355, 3.0], [3.6296827876885622, 4.0], [2.1158166744254454, 4.0], [3.5069737690718945, 3.0], [3.5328614885829395, 1.0], [2.5422146208389287, 3.0], [3.6372704823934052, 5.0], [4.028944842223191, 2.5], [3.3306338921450744, 4.0], [4.41342451977744, 2.5], [4.355334915619822, 3.5], [4.584347102106939, 3.5], [4.661838910173968, 2.0], [2.1038070131409072, 3.0], [4.67274873334219, 4.0], [3.121127180554844, 3.0], [3.9741968932681395, 3.5], [4.72137248146074, 3.0], [2.246470531673542, 3.0], [3.3170830414985573, 4.0], [4.343594562990595, 3.5], [4.4649236624587, 2.5], [3.386843678597147, 3.0], [3.539114929466534, 4.0], [4.281314649363331, 3.0], [4.094984008860648, 3.0], [3.2468874240527468, 3.0], [3.8043377550051334, 4.0], [4.984064559192297, 4.0], [3.5904331530534055, 5.0], [3.5337067358268808, 5.0], [4.689495754221814, 2.5], [1.741959410093833, 4.0], [3.884925811972351, 5.0], [4.858506032961989, 3.5], [5.309942687166136, 4.0], [3.65105754375543, 3.0], [4.59154139282268, 3.0], [3.2045058294831077, 5.0], [2.866659363831888, 2.0], [4.359594922843884, 3.5], [5.411643635159607, 4.0], [2.985653173807283, 3.0], [2.649816807433892, 1.5], [3.868272205430755, 5.0], [3.5085966060718983, 3.0], [3.097065677312683, 4.0], [4.841287054430917, 3.5], [4.760099646701236, 1.5], [5.392452513124097, 4.5], [2.654584671874379, 2.5], [4.65186709120436, 4.5], [4.890467931722599, 5.0], [5.01789970047595, 1.5], [5.012160561411362, 5.0], [1.2887586138295932, 2.0], [3.520144055048386, 2.0], [3.8550112394094507, 1.0], [3.3925042165033115, 2.5], [5.07903109811998, 3.0], [2.361772788716515, 3.5], [4.5281307167417175, 4.5], [3.442898462241481, 4.0], [3.122862927174375, 3.0], [4.391130868575222, 4.0], [1.8844824540843947, 4.0], [4.805543523232116, 4.0], [4.8997483140736655, 5.0], [3.695043707899939, 2.5], [3.6989523649660243, 4.5], [4.7513353266286185, 3.0], [5.3543952869935865, 3.5], [4.218655623005959, 4.5], [4.6883153522089165, 4.0], [4.456397418422879, 2.5], [3.81570150561308, 4.0], [2.2062546452247505, 3.0], [4.105923395391991, 5.0], [3.2464507398056415, 5.0], [3.1248815332108557, 4.0], [1.671679554076456, 3.5], [4.5519991049629525, 3.5], [4.703212674920051, 3.5], [4.9592321082380035, 3.0], [3.6663943464882744, 2.5], [3.274070043703184, 2.0], [3.520718769200923, 3.5], [4.259670205303601, 3.5], [5.114356063815563, 3.5], [4.5313688244675925, 3.0], [4.382503639126169, 4.0], [5.328621671157817, 4.0], [4.68471512059329, 3.0], [5.331234846347165, 4.0], [4.681888316626611, 3.0], [4.8002697185415215, 3.0], [3.9239844941923074, 3.0], [3.55220529588245, 3.5], [4.446709794456141, 4.0], [4.079112085478666, 4.0], [5.3690565594360065, 3.5], [5.062950088522077, 3.0], [3.9761528226555534, 3.0], [5.103214015907723, 5.0], [4.3141433789642125, 3.0], [3.044082984897134, 3.0], [3.097237596076969, 3.5], [3.988265111729938, 5.0], [5.2558483927810755, 5.0], [4.822233553005424, 5.0], [4.890178080553359, 4.5], [2.8409600167965103, 4.0], [5.399061596412667, 4.0], [0.5477168426546597, 4.0], [1.7834213223995221, 5.0], [5.032014477595458, 5.0], [4.354400182119146, 1.0], [4.685818980262356, 4.0], [4.823016198426855, 3.0], [4.25669993472149, 4.0], [3.881133001507267, 3.5], [3.5472535235973153, 3.5], [4.126699853181886, 5.0], [3.8934853485985954, 2.5], [3.3979809200235955, 4.5], [3.6214251669479944, 3.0], [5.10074998101185, 4.0], [4.00472091894414, 3.0], [4.15730901524383, 3.0], [2.942453493437303, 0.5], [3.6906778790490233, 4.0], [3.70920065297495, 4.0], [4.5427448754062585, 3.5], [3.3068172884180376, 4.0], [4.497539577174407, 4.0], [5.014282586373448, 4.0], [2.558044885290038, 4.0], [3.7800805523008343, 2.0], [3.762843502589274, 3.0], [4.246796422760705, 3.0], [3.893836229070648, 4.5], [2.888567631546112, 4.0], [2.3437461096477494, 3.0], [4.565039021539648, 3.0], [4.733944243570808, 3.0], [4.949876640677447, 3.5], [4.102051653430785, 3.0], [5.078292403572743, 2.5], [5.193790999077609, 5.0], [3.8571230077608756, 5.0], [4.560917833728267, 4.0], [5.386906658228822, 2.5], [5.0970058678353585, 2.0], [3.7779183769534574, 4.0], [4.6033830746224025, 3.5], [5.279938937674964, 5.0], [3.975601322519851, 3.5], [3.337067515415531, 4.0], [3.888776228277671, 4.0], [2.932900184595569, 4.0], [4.737291246055855, 4.0], [4.7271125642269665, 4.0], [2.4410540603940145, 3.5], [2.5821584541581286, 3.5], [5.224460592377706, 3.0], [3.990027258055843, 1.0], [3.7067604151833398, 4.0], [3.285126397547264, 3.0], [1.4686736132288754, 3.0], [3.6193296867955396, 4.5], [5.320588880707679, 2.0], [0.6277911973569995, 3.5], [1.6470347815479076, 3.5], [3.3010509400940387, 2.5], [5.028309600181563, 4.0], [3.7631132360399993, 3.0], [4.093319268628065, 3.0], [3.537779364133388, 1.5], [3.5895175080959336, 5.0], [4.839996554539667, 4.5], [4.795318976478693, 4.0], [5.654182103463331, 3.5], [4.564113085034448, 5.0], [3.7961729869360314, 3.5], [3.935222132976819, 3.5], [2.6009733251740608, 3.0], [4.272946998898734, 3.0], [2.3159223269370726, 2.0], [3.22117231686527, 3.0], [3.5135838637736616, 2.5], [2.8075436843017587, 4.0], [4.611659719343973, 2.5], [4.331961877997329, 4.0], [4.421319694793429, 4.0], [3.073992031324517, 4.0], [2.3961947278025053, 3.5], [4.924793088231844, 5.0], [1.6382661666371585, 3.0], [3.455330329048901, 3.5], [3.7367519800267774, 3.0], [6.750975538726862, 4.0], [5.4410458869988085, 3.5], [3.3625189346694766, 5.0], [4.166029280001544, 4.0], [4.799890624099356, 3.0], [3.6347943521353554, 4.0], [2.210260369607973, 5.0], [4.011397361742197, 4.0], [4.20777525279975, 4.0], [3.90949369340436, 2.0], [5.6456303658725355, 3.0], [2.5541487461912946, 5.0], [2.7487202194166076, 4.0], [4.299822147660186, 4.0], [3.695938605762807, 2.0], [3.4189674066336617, 4.0], [3.5034249843118594, 4.0], [0.4962888863116727, 4.0], [3.645570669895597, 3.0], [5.087262832746598, 3.5], [4.308433743465265, 3.0], [2.9985684629578566, 3.0], [3.2372275207724446, 4.5], [3.840277762497837, 4.0], [6.167879368542123, 3.0], [4.499586291127138, 3.0], [2.9333359252644486, 3.5], [4.493888593972007, 3.0], [4.464600951001718, 3.5], [3.223796474501571, 3.5], [4.653169820047171, 4.0], [5.517638106101558, 1.0], [3.889266714624473, 3.0], [3.405519987712123, 4.0], [3.824579367705895, 4.0], [3.098297104581033, 5.0], [2.897204673224727, 3.0], [5.651016977593584, 3.0], [4.250935886492357, 2.0], [4.32342386975161, 5.0], [1.9066707989475176, 3.0], [3.175171594781012, 3.0], [2.470172150307322, 5.0], [5.750051783703106, 4.0], [3.6834797533469668, 3.5], [3.9128181580207273, 3.5], [5.21910565351807, 4.0], [2.711346716820943, 3.0], [2.8068965841140323, 4.5], [4.203424301601681, 3.5], [3.005444217075987, 3.0], [3.704549654447024, 5.0], [4.466164276256749, 2.5], [5.118658801796488, 4.0], [4.227655008036582, 4.0], [4.004295479880438, 4.5], [3.1498973091395226, 2.5], [2.928446926897941, 4.0], [3.496714327411955, 2.5], [2.7111528785823173, 4.0], [4.301936598979295, 1.5], [3.3672182017051604, 3.0], [2.306842011803941, 4.0], [3.9514053035149987, 3.0], [3.9262022443931333, 3.0], [4.088422049078329, 2.0], [3.40069658023331, 4.0], [3.0850706609943668, 3.0], [3.3853485560455145, 5.0], [3.600218683158564, 4.0], [3.668535714102547, 3.0], [2.1396881884495587, 5.0], [5.293124988923446, 5.0], [5.828580128740597, 5.0], [4.515852189815127, 4.0], [5.460461233086151, 3.0], [4.031448877830315, 4.0], [2.1958869579628573, 3.5], [4.721586702320342, 4.0], [4.072808376264323, 5.0], [3.7931831025467075, 3.5], [3.958277766985353, 4.0], [3.3475333172538897, 4.0], [2.6676040963582226, 4.0], [4.924997444967525, 1.5], [4.048650782167594, 2.0], [5.030305167940989, 3.0], [2.7436723617898595, 1.5], [2.5805083421846113, 4.0], [4.031213952526892, 4.0], [2.2799136710341434, 5.0], [3.351431044473382, 5.0], [3.6838873903461424, 3.0], [3.2770236987319654, 3.0], [3.7333664193724245, 3.0], [3.206994350961215, 5.0], [4.635126921948498, 4.5], [2.4453640634673826, 4.0], [4.447347247771653, 4.0], [2.7318441182202142, 4.0], [3.837280656826967, 3.0], [3.9699000724527154, 2.5], [5.552815657210134, 3.5], [3.393541871862438, 4.0], [3.950002022883092, 2.0], [3.816174410961301, 4.0], [5.407040337536659, 3.5], [4.279980621632658, 4.0], [4.456839482668278, 5.0], [3.247820346767102, 4.0], [3.09199042969416, 2.0], [3.723625591835662, 2.0], [3.0602294686835982, 4.0], [5.997133560171735, 5.0], [3.8062739709203095, 3.5], [5.140909753799238, 3.5], [3.748830909555826, 4.0], [4.9884832898121525, 4.0], [2.4173705476180176, 4.0], [3.3249354833076024, 5.0], [4.380643731709939, 4.5], [5.490234028522733, 4.0], [3.545212216326666, 4.5], [5.770481584911125, 5.0], [3.2675679933391626, 4.0], [4.436466867629556, 3.0], [4.741864574759237, 2.0], [1.967014568980748, 2.5], [2.7027394361597965, 4.5], [3.592685403165776, 1.0], [2.557908477914158, 3.0], [2.409345015514578, 2.5], [3.4811244531040373, 4.0], [5.062088556824433, 2.0], [2.845893189544212, 5.0], [3.4922677625092318, 3.0], [4.944260113632434, 4.5], [5.176717878490617, 3.0], [5.383006346953975, 4.0], [3.664605732732271, 5.0], [4.134699908049749, 3.0], [5.523082555892538, 3.0], [2.4181485315404623, 5.0], [6.310901482687402, 4.5], [4.013899021048929, 4.5], [4.5801688303538075, 3.0], [3.4040290273957825, 5.0], [4.5541161600333515, 1.0], [3.700222769708144, 3.0], [2.7035624300498546, 5.0], [5.615496423017419, 3.0], [2.95538696262757, 3.0], [3.953342358820444, 5.0], [4.9607323048116925, 3.5], [5.414655030922887, 3.5], [4.350414689912972, 3.0], [4.251836035959309, 4.5], [4.2810463258497125, 4.0], [4.293940351893592, 4.0], [4.364375549638746, 4.5], [2.5982962874378495, 4.0], [2.7228686516447693, 4.0], [5.2485251711021315, 4.0], [2.190822740572631, 3.0], [2.5084281509101167, 4.0], [4.524296629982614, 5.0], [3.793453027967171, 3.5], [3.295082361612006, 2.5], [4.886758920833836, 3.5], [3.534970787597735, 3.0], [4.330161185081312, 3.0], [4.415558496885673, 2.0], [3.713063740670744, 4.0], [4.150458366907667, 3.0], [2.6553319052215687, 4.0], [4.221056829691696, 4.5], [1.799411832009932, 3.0], [2.7986619695707464, 3.0], [4.122128527249858, 2.0], [5.6160941957308905, 4.0], [2.7954810484000228, 3.5], [5.337686550531959, 5.0], [4.891251387208106, 4.0], [3.8352899051126217, 4.0], [3.1316904199685762, 4.5], [3.4101594276152403, 3.5], [4.536839892093011, 4.0], [4.836668353470523, 4.0], [3.6666987391745356, 2.0], [4.214607520198117, 4.0], [4.02152527220995, 2.0], [4.861249201399322, 3.0], [2.623596529385462, 3.5], [4.145299166580136, 5.0], [3.4381150197721455, 3.5], [4.336832779642737, 5.0], [3.7750139594984864, 4.0], [4.122200836156329, 3.5], [2.7620640887281303, 4.5], [3.49974840386617, 2.0], [4.312358082014957, 4.0], [4.192422524047648, 4.5], [3.5776043135151263, 4.0], [2.9109815955446163, 5.0], [3.141327027354721, 3.0], [4.094734320909194, 3.0], [5.195016443425282, 4.0], [4.092172326956236, 3.0], [3.2743208057253432, 5.0], [3.3902575038728493, 3.5], [1.7759042025012308, 4.0], [3.347423189688355, 4.5], [3.5415943655781685, 3.5], [3.7189563963715426, 4.5], [4.25935493884317, 4.0], [4.270265126238035, 5.0], [3.249886197966845, 4.5], [5.588410022092361, 5.0], [2.783700111345847, 3.0], [3.708685883804644, 2.5], [3.9252211347311152, 4.5], [5.07941139721785, 1.0], [3.855090071652524, 3.0], [5.023150617554314, 3.0], [3.465135345612272, 4.0], [2.906582107266133, 3.5], [3.1542071668796545, 4.0], [3.7708118767209764, 1.0], [3.222907202180595, 5.0], [4.4606387781608685, 4.0], [3.0807593629056385, 3.5], [4.13386685098475, 4.5], [3.2099782373751276, 2.5], [3.8378011683901776, 3.0], [3.9956596984763335, 2.5], [3.4039877971032793, 3.0], [3.6399369912114126, 3.0], [5.014706063226462, 0.5], [4.556387620296022, 4.0], [2.8328432358538547, 5.0], [3.9388202669836483, 2.0], [3.5770476439720476, 4.0], [2.545605748943029, 4.0], [3.7150637527215857, 4.5], [3.326726179292658, 3.0], [4.1245617997802535, 4.0], [3.3812715099182262, 4.5], [2.142798174300804, 3.5], [2.927049095692167, 4.0], [3.235988331258159, 4.0], [3.139554166094806, 4.0], [3.421574847859135, 3.5], [1.3311377202008101, 2.0], [3.326291661603383, 4.0], [2.554669940633292, 3.5], [3.724306755900386, 3.0], [5.088702235382545, 2.0], [4.246856837381408, 3.0], [3.74576610243172, 2.5], [4.748200545625459, 5.0], [3.945858557959646, 3.5], [4.126463134707015, 4.0], [3.8506489136031776, 5.0], [4.2785115096280055, 4.0], [3.7043409017191262, 4.0], [3.030446829806548, 3.0], [4.180151797743586, 0.5], [4.317302577698163, 2.5], [3.0953244150757753, 3.5], [2.9685531933975, 3.0], [5.187943429056303, 0.5], [3.3133605121757133, 3.0], [3.79839962027492, 4.0], [4.343266307582641, 3.0], [4.154496489758454, 4.5], [7.696634440793992, 5.0], [3.9526409291442435, 4.0], [5.013085866474167, 4.5], [2.402795925758067, 3.5], [4.182234839476617, 4.0], [3.9178931763848253, 4.5], [4.786232722404635, 4.0], [1.7923915120487117, 4.0], [3.1359849983993566, 3.0], [4.9089085423803125, 4.5], [4.872791362816432, 3.5], [2.8924117674950005, 3.5], [3.8185981179154393, 3.0], [4.463781478345055, 3.0], [4.890770830072472, 1.0], [3.729828186573051, 4.0], [5.612454915400302, 3.5], [3.5679665484442067, 4.0], [4.2940467366979975, 5.0], [3.2094922603816407, 4.0], [5.539007857119997, 4.5], [3.531553787066605, 3.0], [4.094376958613461, 4.0], [3.9789842420903927, 3.0], [4.245193373718211, 3.0], [2.8805478601902395, 2.0], [3.9218613760574375, 3.5], [4.127536106851473, 4.0], [3.284130930765109, 2.5], [4.540112077145672, 4.0], [3.48065440088161, 3.5], [4.125026129495995, 2.0], [3.3764372047971016, 5.0], [2.780105877620649, 4.5], [2.8851361946517273, 2.0], [4.74400486035663, 2.0], [5.1859008853096995, 4.5], [4.372320777113839, 5.0], [3.8503244541348653, 4.0], [4.05139269884056, 4.0], [3.6449272007269986, 5.0], [5.7624890666324236, 4.0], [4.515762725221763, 3.0], [4.181622655376029, 3.0], [3.393356478297601, 4.0], [3.375398812246107, 3.0], [5.0040631070982755, 3.0], [3.8061046999567676, 4.5], [3.657990006705799, 2.5], [3.777054299266504, 3.0], [5.744447166085121, 4.0], [6.015864480898999, 3.5], [5.211734753429304, 2.5], [4.495564740029048, 3.0], [4.100462890275847, 4.0], [4.364185039272654, 4.0], [3.4044657523214874, 3.0], [3.910547057681055, 3.5], [1.8550585189640172, 5.0], [2.1540725773900427, 4.0], [4.508886027485214, 4.0], [4.45391448262969, 4.0], [3.2455432311183405, 4.5], [4.027603518651795, 5.0], [2.1942910096269035, 5.0], [4.733329773483607, 2.0], [4.149515341924581, 5.0], [4.084013845251363, 1.5], [3.5807292979558163, 5.0], [3.2025478054034533, 3.0], [3.8367063479454258, 3.0], [6.45820911621728, 2.0], [2.026468259129712, 1.0], [2.0337149862252732, 4.0], [4.4941693624621575, 4.0], [3.456887366693315, 4.0], [3.445715525401442, 4.0], [3.093875262337287, 1.5], [2.3930398670351916, 4.0], [3.252607446657097, 3.5], [2.9970725237915823, 4.0], [3.2983741824443173, 4.5], [3.2477830645938477, 3.5], [3.15637271466217, 3.0], [1.8862986481399193, 3.0], [4.715592205843865, 3.5], [5.023074396728205, 4.0], [3.3464303960717845, 3.5], [4.573009018500968, 2.5], [2.292909117876837, 4.0], [3.444394176282321, 4.0], [3.7006830299404827, 3.0], [4.834984960753595, 3.0], [5.579155008703788, 4.0], [4.0236065290009195, 4.0], [4.270425709112344, 4.0], [4.835992311872936, 1.0], [3.1849539327409375, 4.0], [1.9336848961128534, 5.0], [5.042307389983298, 5.0], [3.4119394019483282, 2.0], [3.394377723247593, 4.0], [4.317324321416146, 5.0], [2.9031414754621543, 3.0], [4.206848277924164, 3.0], [2.867708793632099, 4.0], [4.682717119977995, 1.0], [5.05638205189572, 0.5], [4.863878056015793, 3.5], [3.867801497666187, 2.0], [4.661977252714922, 4.0], [1.821994336888118, 4.0], [4.57414966237903, 3.0], [3.959022225935065, 3.5], [4.397503568069013, 1.0], [2.9593060927353516, 4.0], [2.4572720366927996, 3.5], [3.5625081161586274, 5.0], [3.7338022359997973, 3.5], [4.384934664324761, 3.5], [3.483389172978188, 3.5], [4.420318803665981, 4.0], [3.1999992484268427, 3.5], [2.4823528412227267, 2.0], [3.5647695965410287, 5.0], [4.329226094578729, 3.0], [4.607304963031694, 3.5], [3.026773129491217, 5.0], [4.899409772141265, 3.0], [3.2786952631733013, 3.5], [5.3705196244880575, 4.0], [3.8161388687972133, 4.0], [4.528134145792753, 4.5], [4.194768062165728, 4.0], [4.968704943416824, 4.5], [2.2685885084023583, 3.0], [6.344683021882253, 4.5], [4.65537183354398, 3.0], [4.332089827313603, 3.0], [5.206294134564255, 4.5], [3.0275033326541636, 4.0], [3.1630963557878817, 2.0], [3.46906618809636, 5.0], [4.269155789669252, 2.0], [4.240923091736565, 4.5], [4.1463791290031144, 3.5], [2.7801776289019204, 4.0], [2.6204893718031723, 4.0], [4.286650710931754, 3.0], [3.5539587460261477, 3.0], [5.480358721006909, 4.5], [4.860500287356308, 5.0], [3.333811499530941, 4.5], [4.06449615444864, 3.5], [4.50159005629521, 4.0], [3.1861779292564036, 2.0], [2.393513689126394, 4.0], [5.081595067746978, 3.0], [5.174840949229661, 2.0], [2.6275086165481745, 4.0], [3.1590644540352457, 4.0], [4.717311296099514, 3.5], [4.114719984039838, 4.5], [3.7165567682794824, 3.0], [4.054213893827848, 3.5], [2.993078753251152, 4.0], [4.135843501270359, 3.0], [4.824059394763757, 4.0], [4.823449901120144, 4.0], [4.342746410744149, 3.5], [3.569875049552978, 5.0], [3.6664065744805283, 3.0], [5.870431777913505, 2.0], [4.499087145719114, 4.0], [3.206422234235272, 5.0], [6.376980700339909, 2.5], [4.095778289639767, 4.0], [3.4966935062352755, 5.0], [2.1542023378130164, 3.5], [5.23829753812271, 5.0], [3.3707254201522754, 5.0], [2.3117383156528994, 2.5], [4.525675147374334, 2.0], [3.2152105803457265, 4.0], [3.699227617298069, 3.5], [4.951218856265256, 3.0], [3.6019905713172324, 4.0], [2.8870524580138057, 3.0], [4.6335524891776805, 4.0], [3.5010943458161763, 1.0], [4.396961963909301, 2.0], [3.557700464436057, 4.0], [3.615478907370654, 2.5], [4.2790437311956415, 4.0], [4.65315487402625, 3.0], [5.531577909861415, 1.0], [4.000015106494785, 4.5], [2.483779248433928, 2.0], [3.345143633119469, 4.0], [4.643249362260158, 3.0], [2.0631726983569774, 4.0], [5.339447219905915, 2.5], [2.7804090147953877, 0.5], [3.8841135449263806, 3.0], [4.7346482854975696, 3.5], [2.4590944990998658, 5.0], [3.6481370150180386, 4.5], [3.3143097405417485, 4.0], [4.574663673352125, 2.0], [4.904593021999607, 3.0], [2.897137808043573, 3.5], [2.936934674471613, 3.5], [4.953612675816126, 5.0], [5.101185816741284, 4.0], [2.9555589762464507, 2.5], [3.7887188866478128, 5.0], [3.450309106708225, 3.5], [5.442360432099789, 3.5], [4.234186544225437, 4.0], [3.391435052271459, 3.0], [3.7720077424373444, 5.0], [4.318056557406906, 4.0], [1.85740187936943, 5.0], [4.134492510165446, 2.5], [3.7445283803514764, 4.0], [3.2300378836856494, 4.0], [2.6587390292365676, 3.0], [2.883573381185238, 4.0], [4.106770557006024, 3.5], [4.777003983096873, 4.5], [3.908179131272206, 3.5], [3.288740805908031, 4.0], [2.4969661520328152, 3.0], [4.668530760218694, 3.0], [3.9254822784009287, 4.0], [3.329243542294035, 4.0], [4.242188965429246, 4.5], [2.460439941766361, 4.0], [5.409014031443668, 5.0], [5.075443261874513, 3.5], [4.45667917331983, 4.0], [4.719813690303615, 3.0], [4.2812389922572605, 3.0], [2.111671008899631, 5.0], [5.289046057472189, 4.0], [4.790454441723059, 3.0], [5.290783179797457, 4.0], [3.544591957318127, 2.5], [4.858799336048472, 3.0], [4.531050239492242, 3.5], [3.7627634351263803, 3.5], [3.732826114357085, 3.0], [3.332190749566884, 4.0], [5.006610684035928, 4.0], [4.5971255990214965, 3.5], [4.215248528632246, 4.0], [3.0736526684395136, 4.5], [3.9899635271225082, 5.0], [5.340584521866001, 3.0], [3.754858264775791, 2.5], [3.5699842118205907, 4.0], [3.016596895675244, 1.5], [4.656358044729198, 3.5], [3.9735739291596905, 3.0], [4.3133327248832325, 4.5], [3.2426610536813185, 5.0], [1.849556135645461, 4.0], [4.751825643328745, 5.0], [2.9211706175982797, 4.0], [2.522983356453197, 3.0], [3.6870707980653528, 2.5], [3.7907751689733997, 4.0], [3.4157801269395884, 3.5], [4.5398810022961005, 2.0], [3.5297912940670724, 4.0], [4.739850822169872, 4.0], [3.306111034586996, 5.0], [2.264744924325076, 4.0], [4.353021903309846, 3.5], [1.8009471549623444, 3.0], [5.071088057193199, 5.0], [4.318467370336862, 4.0], [4.13821824470909, 4.5], [0.616099286789895, 4.0], [3.4465730866451674, 4.0], [2.712080468490502, 3.5], [4.349211310232793, 4.0], [3.920229448136334, 1.5], [5.23750938750937, 5.0], [4.134738547663788, 4.0], [5.54998388595507, 3.5], [3.7693248235008925, 2.0], [2.9821589939810758, 4.0], [4.734043980086219, 2.5], [4.081800310130348, 4.0], [3.44206966360741, 2.0], [3.0626989892875502, 3.5], [3.8181193179312265, 5.0], [3.2855482695348743, 4.5], [2.0619501097568853, 4.0], [4.79722687038371, 3.5], [3.337347816169047, 4.5], [3.9733268761584934, 4.5], [2.656557063751303, 2.0], [4.55844247343383, 3.0], [4.563315665855097, 4.0], [3.754734315487458, 2.5], [2.8703281371258687, 4.0], [2.2447934084461356, 5.0], [4.853441297346282, 3.5], [3.33678556668942, 4.0], [4.99991135966307, 3.5], [2.511674469023424, 2.0], [3.207183540348677, 3.0], [4.416720431611999, 4.5], [3.6820650882078225, 4.0], [5.36336966212297, 3.0], [3.945089751652479, 3.5], [2.578526054077054, 4.0], [3.06182715950657, 2.5], [4.5143700677220195, 3.0], [3.76852923148233, 3.5], [3.538839363307864, 4.0], [4.729450003813712, 1.0], [2.800919709996166, 2.5], [2.9456697138010592, 3.5], [2.7434380803352885, 4.0], [4.5600445583098015, 4.5], [3.411937628511683, 4.0], [3.6851979441632934, 2.5], [3.73372404595039, 4.0], [3.7373972549549532, 4.5], [3.0311056294862295, 5.0], [3.2665752223880973, 3.0], [4.421833607506748, 2.5], [2.8053794343760883, 5.0], [3.3758949803023333, 3.5], [3.5417443369574393, 2.0], [3.275317541800425, 4.0], [3.5458188989395123, 4.0], [4.405800523485022, 3.5], [3.931629375969192, 5.0], [3.4776056155495034, 5.0], [3.092316991420617, 4.0], [4.84243636001658, 4.0], [2.4845397522912327, 3.0], [2.636809329834062, 3.0], [4.048483372855032, 2.5], [3.4572149248912467, 4.5], [2.8816850280787167, 3.5], [4.332456322170966, 3.0], [2.537761276153238, 5.0], [4.281706337042653, 4.0], [3.422586956806649, 3.0], [3.526162416871056, 5.0], [4.5641284588790985, 3.0], [4.57642403163508, 3.0], [3.950390718466469, 4.0], [3.9764026977825053, 4.5], [5.535406407746567, 2.0], [4.141234262367869, 4.0], [4.357396459876103, 2.5], [3.9153846142171322, 4.5], [3.874062911135971, 4.0], [2.5491486406473816, 3.0], [4.256716955136896, 4.5], [3.9899993923906525, 2.0], [2.691048734198932, 0.5], [2.848544556983898, 4.5], [2.851947026193781, 5.0], [5.148517375849077, 3.0], [4.940964853971132, 2.5], [5.228825108875287, 3.5], [4.153612057924378, 4.5], [4.911208147911141, 4.0], [3.9947392673460613, 0.5], [3.686243218548931, 5.0], [3.7810633994107454, 3.0], [3.576513426768492, 5.0], [3.3816101552127065, 3.0], [2.922301623807699, 4.0], [4.3955024665501705, 3.0], [4.897242030036094, 2.5], [3.291159151917055, 4.0], [3.801689521022571, 0.5], [2.425495656466236, 4.0], [2.9732895862091646, 4.0], [3.4927470335867046, 2.0], [3.6531669121497194, 4.0], [3.7826674239113856, 3.0], [3.677482682835025, 4.0], [3.513920061401924, 2.0], [5.450709067937224, 1.0], [4.685503379816268, 4.0], [4.9595426877551185, 3.0], [4.800764842527485, 2.0], [2.192444180994675, 3.0], [2.3404742860559744, 4.5], [4.103422458216275, 5.0], [1.066072432202492, 1.0], [3.6507353696148166, 4.0], [2.3223693460242685, 4.0], [3.413247672682334, 2.0], [5.367128640158839, 3.0], [3.8644514447581475, 3.5], [3.868181648518243, 5.0], [3.410315788533596, 2.0], [4.0747516927027165, 3.5], [7.424332985401774, 3.5], [5.468917858536384, 2.0], [4.893628839610097, 0.5], [4.824210040027606, 3.5], [3.13368141567137, 5.0], [1.3385109738727023, 1.0], [4.7925747999133925, 3.5], [4.165427734216487, 3.5], [3.979123411186509, 4.0], [2.4085234920043357, 4.0], [5.612813172073718, 4.0], [2.982438943213006, 2.0], [3.104727227437878, 3.0], [4.999496241282774, 2.5], [2.67971208932903, 3.0], [4.682749640669268, 3.0], [3.191542243846734, 3.0], [4.7047856737376526, 3.0], [5.610152056789919, 3.0], [3.2344445574622536, 3.5], [2.6291584113385547, 3.0], [5.084055854602547, 3.0], [2.652144664812346, 3.5], [3.2024381528419354, 3.0], [3.076352307816828, 4.0], [2.68773236566942, 4.0], [3.9600718406308584, 3.5], [3.107666531630965, 2.0], [2.4168178462540864, 1.0], [3.1747952611274397, 3.0], [3.7235861825207253, 2.0], [2.766618854658016, 5.0], [3.00345022932063, 3.5], [4.367181903939903, 3.0], [4.003379524930555, 3.5], [4.817501252263772, 4.0], [4.6302718671770045, 5.0], [3.6801668827930425, 4.0], [2.556149881654461, 4.0], [3.4546612821071276, 1.0], [4.032753578452249, 4.0], [4.2621531274614455, 4.0], [3.9945995737173745, 4.0], [4.303556977371248, 4.5], [1.6259403407505924, 4.0], [4.5583627791325, 5.0], [3.4994922574886793, 3.5], [3.574449482587255, 4.5], [3.4610898552514118, 4.0], [0.9943229008583524, 3.5], [4.171123031546598, 5.0], [4.528806535590435, 5.0], [4.092978620605273, 5.0], [5.485315517054569, 5.0], [4.431856202608725, 5.0], [3.762069309758008, 1.0], [4.523709302883193, 4.0], [4.944821533471615, 2.0], [5.060552343257279, 3.5], [2.5466376843767247, 3.0], [2.9589014773097744, 3.5], [3.428984851971012, 4.0], [3.272862458745712, 2.5], [4.5579168769929534, 2.0], [5.0416492976009675, 5.0], [4.087608822779278, 4.0], [3.7281770225952022, 1.5], [3.5854304910030184, 3.0], [3.2055448791237726, 4.0], [2.9687770021233177, 3.5], [4.748231388528729, 2.0], [4.274215086468358, 4.5], [3.7452227408933827, 5.0], [5.6584255896331985, 3.5], [4.275393565694861, 1.0], [4.872837640062763, 5.0], [4.095233788506336, 2.5], [3.2188498717385783, 3.0], [2.0632480912566598, 4.5], [3.289584182084671, 4.0], [2.8224039336337805, 4.5], [2.485252663219413, 4.0], [3.652570844270817, 5.0], [3.5144935085320363, 4.5], [2.9750578685404525, 4.0], [2.478047596481797, 4.0], [2.295664785353745, 4.0], [3.6377351591569638, 3.5], [5.758170025807816, 4.0], [1.7959643336375, 4.0], [3.920182031372598, 4.5], [1.684897192125137, 3.0], [3.699344797117187, 5.0], [4.7686833333360426, 5.0], [4.016512515159046, 3.0], [4.089117423765702, 3.5], [4.6174192176425795, 2.0], [4.984067996104281, 4.0], [3.455865939447769, 3.0], [4.77464970267816, 4.0], [4.552095006885504, 4.0], [3.491801631347798, 3.0], [3.586599042534702, 5.0], [3.4361748816620925, 3.0], [5.393847916267306, 4.5], [2.4262119117476564, 3.0], [4.163663018093595, 0.5], [2.9955439712149956, 2.5], [4.85288778801751, 5.0], [4.019878589308, 2.0], [3.0975261000469145, 4.0], [5.094327433728505, 4.0], [4.189047007532211, 4.0], [2.9694712057875146, 2.5], [2.183063010106256, 3.0], [4.525675067499397, 4.0], [3.068523199021914, 4.0], [4.31495769107378, 3.0], [4.302180918558337, 4.0], [3.188315460617837, 4.0], [3.273400663090149, 4.0], [4.734770541612083, 3.0], [3.638237858152051, 2.0], [4.865542662787934, 4.0], [3.941277902037233, 3.5], [4.040492743292704, 5.0], [2.5816174559581997, 5.0], [2.7680356529475314, 3.0], [4.327314051753609, 3.5], [4.271018099841122, 3.5], [3.701695740903694, 3.0], [1.1683309660660846, 4.0], [5.191219972595636, 1.0], [5.15770975002493, 3.5], [4.98516512918227, 3.0], [2.1791745431797356, 4.0], [2.9658681708011843, 4.0], [4.2734835611163255, 3.0], [3.7399850154433825, 5.0], [4.747868646032496, 3.5], [4.567811061405591, 5.0], [3.8234143518141392, 5.0], [3.779564223871962, 2.0], [3.7375331714445403, 3.0], [4.361346471245809, 3.0], [1.7887538970575412, 4.0], [4.418817945882537, 1.5], [4.5362739602810525, 5.0], [4.057164293479204, 5.0], [0.9745080375131034, 5.0], [3.4017344725149368, 2.0], [3.68676173088384, 2.5], [6.320945682989807, 1.5], [3.8698771071043905, 4.0], [4.240765922966196, 5.0], [2.2970343110138245, 4.0], [4.285690517032982, 3.5], [4.5197785572541775, 2.5], [3.826106464010598, 3.5], [4.414925841329981, 2.5], [3.6953858041332683, 5.0], [3.0980963848515057, 3.0], [4.42209009527863, 3.0], [5.164946587941816, 1.5], [5.581397236249071, 3.0], [4.542781793518944, 1.5], [0.9012161120838812, 5.0], [3.7082379584048444, 4.5], [5.3682992086022585, 4.0], [2.9410782344909547, 3.0], [3.2758285427088247, 4.0], [4.4809465597146305, 3.0], [2.7955262015666644, 5.0], [3.6818430950359815, 4.0], [4.572381792960727, 2.5], [3.7370155495291724, 2.0], [2.4238121540229356, 2.5], [4.97361805089278, 3.0], [4.277065195569593, 2.0], [4.978041457265443, 4.0], [2.995600111394821, 3.0], [3.2699593316769398, 3.5], [3.4707998294363476, 4.0], [5.4022620149049985, 2.5], [2.021954066602219, 2.0], [3.3977429672793718, 4.5], [4.386224726441748, 5.0], [2.7680681981959996, 5.0], [4.738712274196348, 3.5], [3.904302940754807, 4.0], [5.538085598115082, 3.5], [5.247978066778101, 3.0], [4.058955024914968, 5.0], [4.1302670695559955, 3.5], [4.493454420021495, 4.0], [2.758040999727992, 3.5], [3.8440497759296304, 4.5], [4.372640399743583, 3.0], [4.194765724698082, 3.5], [2.8963271103683095, 5.0], [4.5557623979138695, 4.5], [3.048163906035975, 3.5], [4.169980497729958, 5.0], [3.16951298207904, 1.0], [3.8498983504160655, 3.5], [2.3132208943087185, 5.0], [1.5484073555776934, 3.0], [4.4037826364882715, 3.0], [4.060639890160344, 4.0], [4.854103224584957, 5.0], [4.801056145951333, 5.0], [4.908766939923951, 1.0], [5.080727614047181, 4.5], [3.89876404346599, 4.5], [5.028787235121673, 4.5], [4.864293460156858, 4.0], [3.416695828381852, 3.5], [3.488325091048799, 4.5], [4.051473566332014, 3.0], [4.630016206830931, 2.0], [2.7105212546309283, 4.0], [5.265367180781813, 5.0], [3.5104960612993263, 3.0], [3.5963586900350166, 5.0], [4.565668410147332, 3.5], [4.493157546779772, 3.0], [5.212926139471881, 4.0], [3.8545327963571934, 4.5], [4.038529814387283, 4.5], [4.718384260115511, 2.5], [3.678082078498807, 4.0], [5.496086543555541, 3.5], [2.0656755357558305, 2.0], [4.038167225693469, 3.0], [4.561599415254635, 4.5], [4.695803711118429, 3.5], [2.4478309984879, 4.5], [3.426261475718694, 4.0], [3.700010826850723, 3.0], [4.396783270389121, 3.0], [4.972489610081158, 2.5], [1.2590606563306743, 3.5], [4.104419546710218, 4.0], [3.6279708949996223, 4.5], [4.337841675223236, 4.0], [4.82609839793584, 5.0], [4.247462058073572, 4.5], [2.1873074510071153, 4.0], [3.9242678333706147, 4.0], [4.163488711168098, 5.0], [2.7523505179285777, 2.0], [3.170568089733359, 5.0], [4.396607861277888, 4.5], [4.737776234505448, 3.0], [3.7488483452863206, 3.0], [4.316671350909686, 2.5], [5.449440507565058, 5.0], [4.204291855375197, 4.0], [3.420427196989069, 3.5], [4.112612418811162, 4.0], [3.105953233551493, 5.0], [4.442338271480253, 2.5], [4.387668503138727, 2.5], [3.853687827757306, 3.0], [5.1722851233086224, 3.0], [4.325160018674354, 4.0], [3.992735664571536, 3.5], [3.105553268279134, 4.0], [2.7220106508943944, 5.0], [2.9546136220226753, 2.0], [4.64886129179953, 4.5], [4.141934960236734, 5.0], [5.999309219463731, 5.0], [5.523145551751867, 4.0], [4.545565639862382, 1.0], [4.114438611227928, 3.0], [3.790230942234762, 4.0], [5.529959464160225, 2.0], [3.510659337144684, 5.0], [4.469060424735355, 4.0], [3.8732551992009663, 2.5], [2.9137740000740138, 0.5], [3.4853352289918504, 2.5], [3.7021480674079483, 2.0], [4.421850826616775, 2.0], [4.095720691893908, 4.0], [6.127866007042957, 3.0], [3.6506677098538733, 4.0], [3.685867809673559, 4.0], [3.6897236024044093, 5.0], [5.59441528197283, 4.5], [3.880005155396609, 3.5], [4.50365018538504, 4.0], [2.7516999093179546, 5.0], [3.3997869876461975, 2.0], [4.226892412934507, 5.0], [3.097077615754171, 4.0], [3.9466026981849542, 4.0], [4.217646978086957, 4.0], [2.272967081189044, 1.5], [2.9112710100923245, 2.0], [5.739813170481764, 3.5], [6.0468431293214335, 3.0], [5.777768400404857, 3.0], [4.140096064332394, 1.0], [3.700287274870267, 4.0], [4.058997225619907, 2.5], [2.394188422086215, 1.5], [3.0618804987551465, 4.0], [2.880100085598398, 3.0], [6.316600559122608, 0.5], [4.0126447763260975, 4.0], [2.2983480610375806, 4.5], [3.61475363080909, 5.0], [3.148247082048136, 4.5], [3.376020328610822, 0.5], [4.054567917745385, 3.0], [3.941456557105174, 3.0], [4.560109246763324, 3.5], [3.494668709882454, 3.0], [4.581370601597101, 2.0], [3.965204104500502, 3.0], [5.657108469571092, 4.0], [3.1751933726019046, 3.5], [5.480643364131701, 3.0], [3.552132728235017, 4.5], [4.13614461379709, 4.0], [1.2033481228315746, 4.5], [4.079898884952725, 3.0], [3.1560732074236273, 4.5], [4.2136520673744355, 3.0], [4.91000791282326, 3.0], [1.9313277829672169, 3.0], [4.456281530567983, 3.5], [4.364082137455716, 3.0], [2.9974493777058115, 2.0], [5.225308046403003, 2.0], [3.5839978836925885, 3.0], [3.9491179641056657, 4.0], [3.902841866097273, 5.0], [3.932070567079965, 3.5], [3.861356970233498, 3.0], [3.8877357961330206, 4.0], [4.657974428201317, 3.5], [1.654634736793502, 3.0], [5.600304183841585, 5.0], [3.911619755169212, 4.0], [4.1895697676365575, 2.5], [2.6859764037004057, 0.5], [3.292875956979294, 3.0], [5.406124725313313, 4.5], [3.085420670188711, 4.0], [3.513309421228144, 3.0], [3.2807087375923665, 4.5], [2.847747712671082, 3.0], [4.902112051547504, 2.0], [3.1666404358708866, 4.0], [3.975537836726993, 5.0], [5.468368326083653, 4.0], [2.979000854909111, 3.0], [4.176799693602962, 4.0], [5.27807338043765, 4.5], [4.5431141100690065, 4.0], [1.8862767330095078, 4.0], [4.127266243040704, 2.5], [4.9949530143368435, 3.0], [5.361162345514345, 4.0], [4.847744202503392, 2.0], [3.755017546764429, 4.0], [3.599157941115191, 3.5], [4.146509674517995, 2.5], [4.45369892793474, 4.0], [2.980573601561403, 4.0], [3.3088177815126936, 4.0], [4.37576364293078, 4.0], [2.5496338210878857, 4.0], [5.225681489752065, 0.5], [3.329891625322627, 1.0], [3.4849561691278588, 4.0], [4.6431767300881805, 5.0], [3.789163144421376, 3.0], [4.168220828356131, 5.0], [4.574145715407367, 3.0], [4.958896725548397, 2.0], [4.925254668445589, 4.0], [4.296510224088351, 3.0], [3.776714980212703, 2.0], [4.447836192973103, 3.0], [2.3937357195776987, 4.0], [3.5711258186545525, 4.0], [4.219544546999065, 3.0], [4.770901549359321, 3.0], [4.308379370273382, 4.0], [3.88429867697946, 3.0], [2.912861681030443, 4.0], [4.388192758480066, 4.5], [4.49373489510534, 4.5], [3.075003195461914, 3.0], [5.012106086407921, 2.5], [2.5746488688509688, 3.0], [3.585449854435598, 3.0], [5.203282678095733, 4.0], [2.3841849827279007, 5.0], [3.3362207887052526, 5.0], [1.92941538745592, 4.5], [3.3754802470615632, 4.0], [4.237764377921202, 3.0], [3.3570756989239983, 3.5], [4.342517734886981, 4.0], [2.6241232059379613, 4.5], [4.080166362153047, 4.0], [3.4236937268201686, 1.0], [5.809914363748564, 5.0], [2.443974274734172, 3.0], [4.538520083792354, 1.0], [3.3777613309735317, 3.0], [4.369204794972098, 3.5], [3.6676430973368097, 4.5], [5.498796874536464, 4.0], [4.126851107231077, 4.0], [4.50777268940246, 4.0], [2.312311630790143, 4.5], [4.292742774626305, 3.5], [1.533441913647696, 5.0], [4.352157530819314, 2.5], [1.9678641251622764, 5.0], [3.9507635859054853, 3.0], [3.6808535540915663, 4.0], [3.948582196395826, 5.0], [2.807132777785109, 3.0], [4.570931438495017, 4.0], [4.632554729128041, 3.0], [4.032076303452117, 5.0], [3.828617424826164, 4.0], [4.271919535074263, 5.0], [4.246560682045839, 4.0], [3.0690182256009795, 4.0], [3.557809012669626, 4.0], [3.9036531300460267, 2.0], [5.044206858708356, 4.0], [3.5380186776472433, 3.5], [4.124755634300002, 2.5], [3.9810842182373545, 1.5], [4.92066196982032, 3.0], [4.686466233934538, 3.0], [3.23597527201509, 4.0], [3.6735547539170708, 0.5], [3.8638652605859, 5.0], [5.833728149364588, 3.0], [3.584300458021022, 4.0], [3.7569356752015692, 3.5], [5.168243529372165, 3.5], [3.302271715349289, 3.0], [4.32975090165947, 3.0], [4.445024348372626, 4.0], [1.754826675059307, 4.0], [3.6545645915174565, 4.0], [3.1698749456919315, 4.5], [3.1444740926699786, 0.5], [4.215115693742476, 3.0], [2.898554355034567, 3.0], [4.159526275350179, 3.0], [3.2889007735109357, 3.0], [3.00994482184146, 3.0], [2.921567176149045, 4.0], [3.7350774510925286, 3.0], [4.166926525125141, 1.5], [3.594477414098999, 4.0], [4.072598733829841, 4.0], [3.495384064691052, 1.0], [4.620705645479264, 3.5], [2.7305885557084495, 4.0], [3.4756374130947347, 4.5], [4.2083367437678065, 4.0], [2.6828778260446042, 4.0], [3.8700394966858838, 3.0], [2.0483352379377244, 3.0], [5.657326191680302, 3.5], [4.189385075048335, 4.5], [4.56531961928803, 2.0], [3.3091663375302214, 4.0], [3.1338227439890765, 4.0], [2.90401392117676, 5.0], [4.429116014465407, 4.0], [3.011359258716935, 5.0], [3.985092829524153, 3.5], [4.574329682090092, 3.0], [3.764868248979467, 3.5], [3.0280262652730823, 5.0], [3.459213005703509, 3.0], [3.1248184663800616, 5.0], [2.7215976399348745, 1.0], [2.782163669349109, 4.0], [3.439444483800235, 5.0], [4.824119893041136, 3.0], [5.4935361590177445, 5.0], [3.60430705948022, 5.0], [3.5417085112248294, 2.0], [1.9458872263346587, 3.0], [4.619016565738476, 4.0], [2.725356503905266, 5.0], [6.794236012016146, 4.0], [3.742763777700351, 3.0], [3.171216044959887, 3.0], [3.5091650992466583, 3.0], [4.462759936204127, 3.5], [3.8872931298352547, 3.0], [3.9188536370508364, 5.0], [3.286268246863513, 4.0], [2.268132947215146, 4.0], [3.3134536384600373, 1.5], [4.026255946003112, 3.5], [4.816676871717067, 3.0], [3.6257643939136783, 4.0], [4.12797358434922, 1.0], [3.8958147924943636, 2.0], [3.23725808294717, 5.0], [3.637916656366429, 3.0], [3.4388452858276115, 2.0], [4.06387012325887, 3.5], [3.2313724432246946, 3.0], [4.808436237582734, 3.0], [4.6713706068824585, 3.5], [2.9630695737712456, 4.5], [4.7414063185216815, 5.0], [4.304120756390228, 1.5], [1.9299813271422086, 4.5], [4.986760943631598, 4.0], [4.017415489338476, 0.5], [3.7439391395033543, 2.5], [3.6703686529903767, 5.0], [3.868356559614409, 2.0], [2.430884904982517, 3.0], [4.249766865868111, 3.5], [3.9988261480132854, 5.0], [1.1577678089219499, 5.0], [4.579594324673021, 3.0], [3.1424996442170414, 4.0], [3.3534222621637175, 3.0], [2.813414798560768, 4.5], [3.7117425195421743, 4.5], [4.927817321108934, 3.5], [4.073994389003205, 5.0], [2.912357233975499, 3.0], [2.79345374967101, 3.0], [3.244280501617239, 3.0], [4.430639478823088, 5.0], [5.003966869759861, 1.0], [3.21765089661715, 4.0], [3.8710237077220295, 4.0], [3.1362992155675373, 3.0], [4.178394509576126, 3.0], [3.8822767047609528, 3.0], [4.32829127155572, 3.0], [3.845400759952586, 3.0], [3.589614625905011, 3.5], [4.412358430604089, 1.5], [3.6759787190981914, 3.0], [4.61735966380244, 5.0], [4.619231303109005, 4.0], [2.613626885479238, 4.0], [4.405200335419369, 4.5], [4.840519066000295, 4.5], [3.1869354331001345, 3.0], [2.09176561942025, 4.0], [4.21429819239058, 4.0], [1.5413045439061575, 3.5], [6.362445449187677, 4.0], [4.098792591038219, 5.0], [3.3338063424159063, 3.0], [4.620987724734934, 2.0], [2.3440993382186366, 4.0], [5.931787155886456, 2.5], [4.722078899167685, 4.0], [4.2958898584656575, 4.5], [3.083514928644861, 4.0], [5.537485664464235, 2.5], [3.5764005929601748, 3.0], [3.9780623734250855, 3.5], [4.71896697083262, 4.0], [4.02191236633707, 3.0], [4.322668539976942, 5.0], [3.7844961202807, 3.0], [4.180075691284097, 4.0], [4.09868671897406, 3.5], [4.725699303673508, 2.5], [3.4559030175806384, 2.5], [3.9253270609213073, 3.0], [2.267594497643337, 3.0], [5.039054218056036, 5.0], [4.495063055684049, 5.0], [3.975191901330379, 4.0], [4.609365388123023, 4.5], [3.972502274955657, 3.0], [4.361084180544276, 2.5], [3.1868271164722586, 2.0], [4.521512483798532, 2.5], [4.906450427099824, 4.5], [3.1642040817097192, 1.0], [4.141846534502122, 2.0], [2.9126048770812427, 2.5], [4.545477196106666, 4.5], [5.33865692256518, 4.0], [3.337937816842687, 5.0], [3.744826115457813, 3.5], [4.542384915967038, 4.0], [3.5918837819981655, 3.0], [4.9648874498997415, 4.0], [5.3115562795109765, 2.0], [5.609823582896472, 1.0], [4.279305883974316, 3.5], [5.51910638340084, 2.5], [4.051923356439111, 3.0], [4.561324607524945, 3.5], [2.8700671235809225, 3.0], [6.109588785960628, 2.5], [4.55990815911551, 1.5], [5.0634917345721435, 3.5], [4.4525176986012225, 1.5], [4.683079950305755, 0.5], [3.8601476064361195, 2.5], [5.040457345088305, 3.5], [3.58122070025731, 4.0], [4.038990921067582, 4.0], [2.587998973252337, 3.5], [2.9000317148069645, 5.0], [3.354235895197841, 4.0], [6.1402994650790355, 0.5], [4.125106491724103, 3.0], [2.662659239856076, 5.0], [3.0082661389791294, 4.0], [5.725246311474655, 3.0], [3.8306565688564476, 3.5], [5.742377690979875, 4.0], [3.559388594578569, 3.5], [2.47459084185352, 4.0], [1.8870457079726681, 4.5], [4.0474587948914404, 3.0], [1.0040657716758463, 4.0], [2.7613515831004887, 3.5], [3.9586711627776525, 2.0], [3.7238317071091465, 3.0], [3.8709672001304405, 1.0], [3.2946448586313752, 4.5], [4.634097055451794, 2.5], [3.9251591757003115, 1.0], [2.593463754062959, 5.0], [1.8163953289165193, 4.5], [5.01414549762107, 0.5], [3.7109752882933082, 3.0], [2.6619458401259046, 3.5], [2.3610633979761744, 2.0], [3.3276546833571503, 4.0], [3.6976822670677048, 2.0], [2.3823455349928637, 3.0], [3.7731411247201105, 3.0], [5.162371077353866, 5.0], [3.9675887823271343, 2.5], [3.303691692369833, 4.0], [4.696060030744141, 4.0], [2.952237474161067, 0.5], [2.503608565697726, 2.0], [3.897902151147801, 4.0], [2.7210613493475027, 4.0], [3.687834389199225, 3.5], [4.579703451445307, 2.5], [3.855116795004701, 4.5], [4.434032155681616, 2.5], [5.023059761611805, 3.0], [4.397271374314999, 3.0], [2.7754001632015015, 5.0], [4.311841423730505, 2.0], [3.5086345001956696, 4.0], [2.6595453724770413, 2.0], [3.8834259246776854, 3.0], [4.163164137024154, 1.5], [3.9967624922587035, 4.0], [4.927750771500171, 2.5], [2.1631140682400214, 3.0], [2.9939503983621023, 4.0], [3.859864574932403, 2.5], [4.908605433767701, 2.0], [3.2747491368887776, 4.0], [3.6059719990051855, 4.5], [3.8908811844802953, 3.0], [4.803372176447864, 3.5], [2.613531518752161, 2.0], [3.185550127364334, 3.5], [5.769089219135931, 2.0], [5.898956278349584, 4.0], [3.363135792964297, 2.5], [2.717636130913339, 2.5], [5.512447315423158, 3.0], [5.173815323576209, 3.5], [4.773952576153618, 3.0], [4.159725792255519, 3.0], [4.338365506250259, 4.0], [4.444685247879167, 5.0], [5.143783373201317, 5.0], [3.6241850016189177, 3.0], [4.854246910949613, 4.0], [4.908970632907838, 4.0], [3.1701681700644597, 4.5], [4.238657361094205, 5.0], [3.504091316525372, 3.5], [1.3903428359830878, 5.0], [3.8191726063705898, 4.0], [3.646038147441112, 3.0], [4.35664639213832, 3.5], [2.3009143920657813, 4.5], [4.307589367017155, 2.0], [4.499677236979571, 3.0], [4.366614249086994, 3.0], [2.160267631211401, 3.5], [3.017042116519018, 3.5], [2.4596764700367264, 3.0], [4.120468284605592, 0.5], [0.7230523482866341, 1.5], [3.7782625014649196, 3.5], [3.8977200435104895, 5.0], [3.5596102405060805, 4.5], [3.610394143106939, 3.0], [3.7965649043480347, 4.0], [3.1607716901826026, 3.5], [2.410666702085021, 3.5], [3.4947295389017965, 1.0], [1.4793030680805128, 3.5], [4.291682985484968, 4.0], [3.5150224561072747, 0.5], [4.507143125032457, 3.0], [3.993033791939627, 3.5], [3.848258712388468, 3.5], [4.390589862639928, 3.5], [4.314131623162065, 3.0], [4.94702618311645, 4.5], [2.7617242312865864, 1.5], [4.8254548699148, 1.5], [4.032142049051664, 4.5], [4.232869197335132, 5.0], [5.96903096734088, 5.0], [3.3523963042504814, 3.0], [2.5742800804242796, 3.0], [3.2931610968536944, 5.0], [3.383109176406193, 4.0], [5.050479398027144, 3.0], [4.150911999119665, 2.0], [4.676814273048806, 5.0], [2.6760828850127227, 5.0], [4.704482273331838, 3.0], [4.619895603050953, 3.0], [3.5337795353031507, 3.5], [3.8253074497626, 3.0], [3.891147193636073, 4.0], [2.2906242173061524, 3.5], [3.962505735460103, 5.0], [4.563644622287621, 3.5], [2.9783336609549793, 4.0], [3.301170891544541, 3.5], [3.9801042305999323, 4.0], [2.614783468734662, 4.0], [1.386007695265997, 4.5], [3.3763807310660505, 4.0], [5.385096170037568, 4.5], [4.74333670420981, 5.0], [3.2843843034165423, 4.5], [3.743016917781882, 4.5], [4.366922945264225, 3.0], [5.032603957153494, 3.5], [4.015324636894709, 4.0], [6.689361473049163, 4.0], [4.308266085216687, 5.0], [4.187420734685904, 2.0], [3.6247279054583337, 3.0], [3.4086583816798224, 2.0], [4.203134814827227, 5.0], [5.035051898128058, 4.0], [4.331737326185031, 1.0], [4.152206391820081, 3.0], [3.1697213864811444, 2.0], [4.512701796749561, 3.0], [4.572546921552135, 5.0], [4.6044154064292275, 5.0], [5.051513573616192, 2.5], [4.055847265763281, 3.0], [3.0519887996068724, 3.5], [4.412506949429459, 3.0], [3.699570832601587, 4.0], [4.46851279444636, 4.5], [5.739176024339709, 4.0], [3.6407541292689576, 5.0], [4.664325632777271, 4.0], [5.477653698646775, 5.0], [3.4056671679198534, 5.0], [3.6921914363456603, 2.0], [4.1326053151712125, 3.5], [3.2877408464427185, 5.0], [4.6889245129166195, 3.5], [3.721863803248327, 2.0], [2.8558042436333815, 3.5], [4.206236417819352, 1.5], [2.1902860422475223, 3.0], [3.3853357645763635, 3.5], [2.9018833891646008, 3.0], [4.491777472957325, 1.5], [4.57032406313673, 3.5], [4.254070533213683, 2.5], [3.56336998559076, 4.0], [3.108053426212442, 2.0], [5.264877267390265, 4.0], [3.576201640140082, 3.5], [0.8461839519672385, 4.0], [3.3725736403769706, 3.0], [4.088738130885731, 5.0], [4.81583563787031, 3.5], [5.576334229558555, 5.0], [3.379315603209116, 4.5], [6.47282859414027, 4.0], [4.756642815287266, 3.5], [2.6651059958863974, 3.0], [4.6724748707505075, 4.5], [5.904613468482968, 5.0], [4.162248369850265, 5.0], [4.5447164786342595, 2.5], [2.0413901703215602, 4.0], [3.9512950099448, 3.0], [4.123023489047938, 2.0], [3.7419528309803893, 3.0], [3.6775433477294697, 4.0], [5.382167898811752, 1.0], [3.184622704647591, 4.0], [4.036124939550025, 4.5], [4.4602676889964705, 5.0], [4.305657307909774, 4.0], [5.145265311142591, 3.5], [4.19355369040988, 3.0], [5.417416824000423, 3.0], [6.0247428569392785, 3.5], [3.884968410105569, 3.0], [2.670738648038253, 2.0], [4.095797097095755, 5.0], [4.917000356834351, 4.0], [3.1390868028648886, 5.0], [4.787413734607632, 4.0], [4.076459281667114, 3.5], [4.864950071504471, 3.5], [3.47752640726641, 3.5], [3.9870980054199885, 5.0], [3.5667553725840326, 3.0], [3.0036734429167176, 3.5], [4.833675289443729, 4.0], [3.415071363949279, 4.0], [5.033391714894913, 4.0], [3.844305537651006, 3.0], [5.640358688286913, 4.5], [3.653675910454369, 4.0], [3.1257721444682947, 3.0], [4.814750560021872, 5.0], [4.352191240823266, 2.5], [4.868390356071221, 5.0], [4.848579236435155, 2.0], [3.302658421824077, 4.0], [3.3147807770809576, 3.0], [4.07525026030786, 3.5], [5.417302554656269, 2.0], [4.258738845028985, 0.5], [2.612971430806998, 3.0], [2.191339452275227, 1.0], [1.1698989521738612, 5.0], [2.685854583680491, 3.5], [1.1160966799840608, 3.0], [4.54664140418836, 1.0], [3.6191006232761587, 3.0], [5.82680397694738, 3.0], [5.131512202373631, 2.5], [4.943255814575319, 4.0], [4.192138736828334, 3.5], [3.227348360405679, 0.5], [4.761085279318488, 3.5], [3.493052208726261, 4.5], [3.946289430981544, 5.0], [3.3960859191562953, 2.0], [2.615243226639771, 1.0], [2.57611534202328, 4.5], [3.4503056234708933, 5.0], [2.4210055371212564, 4.5], [3.637864930801466, 4.0], [3.213917240273332, 4.0], [3.474261043911178, 1.5], [3.4217991616472307, 3.0], [4.9251729368705774, 3.0], [3.835814264832486, 3.0], [3.8535766170991868, 4.5], [4.313801972587431, 4.5], [2.8131471652545774, 3.0], [4.69965394328882, 4.0], [3.016796364861221, 3.5], [4.517501529928204, 3.0], [3.844444956696468, 2.5], [5.380098699786698, 5.0], [3.2695187395738174, 4.0], [4.486708158136823, 4.5], [3.863991749604678, 4.0], [3.796056590960488, 2.0], [1.4028500116508913, 3.0], [3.678042756934741, 3.5], [5.129271873055498, 5.0], [3.2633099766578977, 4.0], [4.49083664600877, 4.5], [2.417249148834961, 3.5], [3.3104281432129894, 3.5], [4.798720441747584, 4.0], [4.316444720794555, 4.0], [3.451734792050316, 4.0], [2.8706092765174374, 4.0], [4.1365956525109375, 4.0], [4.658088080694369, 3.5], [3.3914434028963703, 4.0], [4.295058186986796, 5.0], [2.1300458261116137, 5.0], [4.003413169245798, 5.0], [3.153512143151461, 1.0], [3.263928355327626, 0.5], [4.329333796223345, 4.0], [1.9322741886823795, 3.0], [2.747900535982919, 4.0], [3.507682281057152, 3.0], [3.5503732452770653, 5.0], [5.570558472933082, 5.0], [0.6694518209334838, 1.0], [4.39544491069019, 2.5], [3.2648741546114466, 3.5], [4.723904206221247, 2.5], [3.5162302540615147, 2.0], [5.388966866513737, 4.0], [4.775538358037375, 2.5], [1.7359537555238915, 4.5], [3.3859984704432007, 5.0], [4.884079854886052, 3.0], [3.913548418459925, 3.0], [2.955161777283052, 3.0], [5.642199201393203, 3.0], [2.3592100271980927, 1.5], [3.8257381694902426, 2.5], [5.3522490016022894, 2.5], [4.922735920761007, 1.0], [4.373170631586618, 4.0], [4.044299430682109, 4.0], [3.657441941685962, 4.0], [3.1070404307807156, 3.0], [4.150151726954998, 3.5], [4.9431737111372165, 5.0], [4.788272455954375, 4.0], [2.6963205820293257, 4.0], [4.698595456544776, 4.5], [3.532071674136801, 5.0], [5.049324863020822, 3.0], [3.9596809658768217, 3.0], [2.8095221348548374, 1.0], [3.632817060741819, 3.5], [3.114799306304208, 2.0], [4.022105115212378, 4.0], [2.641638394486406, 4.0], [4.572825449334834, 3.5], [2.9413898509975813, 4.5], [3.4845664244261827, 3.5], [3.3038501789358246, 4.0], [4.6578436231299065, 0.5], [3.9307335916943567, 4.0], [2.6165148337369435, 4.0], [4.135581631712065, 3.0], [2.721880381965211, 3.0], [2.7776342041496873, 2.5], [2.7451570835195356, 3.0], [3.2106199999133813, 2.5], [4.915009130686276, 3.0], [4.827135986891151, 3.5], [3.5747327547155323, 2.5], [3.904509990221036, 4.0], [4.1185116051609265, 4.0], [3.5392961741659237, 3.0], [3.422857255894805, 4.0], [2.729231293111514, 1.0], [2.557865081038359, 1.0], [3.0391831213197205, 3.0], [3.9436396782754715, 4.5], [4.464432766440736, 4.5], [3.981937659683838, 5.0], [5.4576738364164274, 2.5], [2.727913911629553, 5.0], [3.1384853751618627, 5.0], [4.549804992128588, 0.5], [2.6465705626108194, 3.5], [2.903448216811297, 3.5], [3.616463148342044, 4.0], [3.233997685599429, 3.0], [3.8425201153232593, 4.0], [3.7427695331188464, 0.5], [4.10416568102195, 5.0], [2.4375712543864534, 4.0], [4.031932099975049, 4.5], [2.597192304510155, 5.0], [3.721589786720162, 4.0], [3.5316748781014446, 3.0], [5.635553652310275, 4.0], [3.444525106369229, 3.5], [3.4740888787138813, 3.5], [3.129963539506618, 3.0], [4.971715035766082, 5.0], [5.7574954279096975, 2.0], [4.383371438669691, 4.0], [2.9343939078860335, 5.0], [4.467102699140193, 2.0], [6.105248037379958, 3.5], [3.303398756766574, 2.5], [2.579339877408691, 3.0], [2.388895488137837, 1.0], [1.2660929034345838, 2.0], [4.174206479020462, 3.5], [1.5907415788936874, 3.0], [4.191804636739993, 3.5], [5.167603415465308, 2.0], [1.1591080518777495, 3.5], [3.6530267548501016, 3.5], [3.7405780507203676, 4.0], [3.317225662482883, 4.0], [3.1676807105305422, 2.0], [3.9596691994943765, 4.5], [4.82715211843753, 4.0], [2.174606667404094, 4.0], [3.115115172538163, 4.0], [4.041532004510653, 4.0], [3.118317638120335, 1.0], [4.851242067618085, 5.0], [3.604563302017366, 3.0], [4.6754262766189685, 5.0], [5.4924090352588255, 3.0], [1.9301212054535544, 4.0], [4.791514621979044, 4.0], [-0.10754557171802982, 5.0], [2.825508889220832, 4.0], [4.053369080251778, 4.0], [2.910017279789479, 5.0], [6.704854213490512, 4.5], [3.8868967805507397, 4.0], [3.338194643998864, 4.5], [1.8533563699228561, 4.0], [2.899344220067899, 5.0], [4.386733933225377, 3.0], [3.8483690218101176, 4.0], [4.266515401429489, 4.5], [4.173572062805908, 4.0], [2.5161215699242, 3.0], [3.6617148974352607, 5.0], [3.6087463677372837, 4.5], [3.34406089522772, 4.5], [3.4260339215736986, 4.0], [3.482918004619669, 3.5], [4.247363559118189, 3.0], [4.373986178152619, 5.0], [5.094710617181961, 4.0], [2.864037780075954, 5.0], [4.738713718921022, 5.0], [3.554544396455603, 4.0], [2.928797147303935, 4.5], [5.412523537583677, 2.0], [4.451720901063904, 4.0], [3.4098873944507306, 4.0], [4.604737080494125, 3.5], [3.21737537960172, 5.0], [2.126470611166698, 3.0], [3.200478120294131, 5.0], [2.8068504371589644, 4.0], [4.0889387234256995, 3.0], [5.014051349675908, 5.0], [5.11121235556626, 4.0], [4.8055123686247265, 4.0], [3.439052148610642, 2.0], [4.882520548283432, 2.5], [6.350747339586536, 4.5], [4.237054343942263, 2.5], [4.948700098180888, 2.0], [3.134236655007072, 4.0], [3.6156865758726977, 2.0], [3.484398621721187, 4.0], [3.7334389710914224, 4.5], [4.719760354259242, 4.0], [1.9347110477745548, 3.0], [2.8325981796513853, 2.0], [4.502082848189297, 4.5], [2.6768602710738407, 3.0], [4.295211147331211, 5.0], [4.559611131705157, 4.0], [5.631055285776663, 4.0], [4.21061521524646, 3.0], [3.831444062760736, 4.5], [4.764124462592643, 1.0], [3.319936750369544, 5.0], [3.1218931586885095, 5.0], [3.0286531811475923, 2.0], [2.6936742278922092, 3.5], [5.018509708074907, 4.0], [2.968197943348584, 4.5], [4.696452101063909, 3.0], [2.167512693029732, 4.0], [4.052820183734575, 3.0], [3.488029449545397, 4.0], [4.370335001704895, 4.0], [3.3040731074284797, 5.0], [5.181834217422332, 0.5], [4.1069209928777735, 4.0], [4.63120998172928, 3.0], [4.902358859531622, 4.0], [5.546064765415339, 4.0], [4.519071437132357, 4.0], [3.694344704671495, 3.0], [2.2020541051521194, 3.5], [4.157150881624405, 4.0], [4.515984520181922, 4.5], [3.276468527302352, 3.0], [4.484417571322929, 3.5], [4.322251332068874, 4.0], [3.3403635845462007, 3.0], [4.230365265606614, 2.0], [2.5753039313651938, 2.0], [2.502887219023119, 4.5], [3.842292375226102, 4.0], [3.9752228498657893, 4.0], [3.7918651584770604, 4.0], [2.8916884526074482, 3.0], [4.69498174779582, 3.5], [4.065700546355449, 4.0], [4.613739073504608, 2.0], [5.858778068795426, 4.0], [4.212151138328114, 4.0], [4.648219296546263, 3.5], [3.040589479194713, 4.0], [6.35674956574522, 5.0], [3.1125001969224475, 4.5], [3.842592977815612, 2.0], [4.281625706435357, 4.0], [3.52441212678249, 4.0], [2.091415069766786, 3.5], [3.6494430243428715, 5.0], [3.5592884070508557, 2.0], [3.7361049754401154, 3.0], [4.660197856624678, 3.0], [3.725609355096644, 0.5], [5.145754757856944, 4.0], [3.9684147295868923, 3.0], [3.3717724222143577, 3.5], [4.35611178495737, 4.5], [6.453663869077595, 3.0], [2.803714982055973, 3.5], [3.035435185730585, 3.0], [4.215143991571485, 4.0], [2.6874300854262922, 4.0], [5.007708212737511, 4.5], [2.6610794530068107, 2.5], [4.718682012994917, 3.0], [4.791842887451837, 2.0], [3.6426420169757607, 4.5], [3.575104381326219, 4.0], [5.086234301711264, 1.0], [1.9961962571905083, 4.0], [4.619893451765716, 1.5], [5.0467229066447015, 3.0], [4.324766828318264, 4.5], [2.944064443980353, 1.0], [2.9258465536481846, 5.0], [4.8850210280259345, 4.0], [3.423253668400331, 4.0], [2.53481804381517, 4.5], [3.3239818410404163, 1.0], [3.458231600233808, 4.0], [3.3281717510200353, 5.0], [4.490357768357562, 2.0], [2.22199066039552, 3.0], [1.0390236891187172, 4.5], [2.573063590064744, 3.5], [3.478980758941465, 5.0], [2.0796181743247053, 4.0], [4.592582372737746, 4.0], [3.6015078210252183, 3.0], [3.9710162857919853, 1.0], [5.431069544333921, 4.0], [3.5554053362719205, 5.0], [3.622088537774247, 3.5], [5.412508015830428, 3.0], [3.33968742261789, 3.0], [5.664105563596809, 3.0], [3.1306984816974492, 4.5], [5.978500322857159, 5.0], [5.688797488188146, 3.0], [3.4313800984934453, 2.0], [3.1163122000715853, 4.5], [3.3066305054271936, 4.5], [4.263478056725662, 4.5], [4.840505129967566, 3.0], [4.510570612811688, 4.5], [4.613669510937221, 3.0], [4.397954630370788, 4.5], [3.8650661785978246, 4.0], [4.308788317124925, 4.0], [4.922505081030991, 4.0], [4.199572019969245, 0.5], [3.09602090133369, 4.0], [2.629956089449812, 2.0], [3.6940671476800477, 2.5], [3.537839896256848, 4.0], [4.362050692743012, 5.0], [4.7342925682543395, 4.0], [3.8296934990489055, 3.0], [2.1751473618838135, 4.0], [4.469769896650678, 2.5], [5.981180997068616, 4.0], [4.875383092641278, 3.5], [4.347392561133194, 5.0], [2.8375222899190056, 3.5], [4.254772921544926, 2.0], [4.6544185554757815, 5.0], [3.603303843039211, 3.0], [3.464878310344284, 4.0], [2.2641415991259826, 3.5], [6.735126337332128, 3.5], [3.612740502680352, 2.0], [2.9993145514734247, 4.0], [5.70032549306262, 1.0], [3.322967491448811, 4.5], [3.3670270634118427, 5.0], [2.852791799502967, 3.5], [1.2454444302370302, 4.0], [3.703895141720982, 3.0], [2.299594659579339, 3.5], [3.4213880635101175, 4.0], [4.424334694626803, 1.5], [5.090661865931131, 3.5], [1.824166292784656, 2.0], [3.715536518412262, 2.0], [3.880775883423178, 3.0], [4.983769711758757, 1.0], [5.985492461621209, 4.0], [4.771068753122661, 5.0], [3.7141533379028107, 3.0], [3.515026628746768, 3.5], [3.093720294967768, 3.0], [3.848720383562714, 2.5], [4.911542215265727, 3.0], [2.7625387680013596, 1.0], [4.537945478285323, 1.0], [2.748445544226366, 4.0], [4.189611036106747, 4.0], [3.9908760115153865, 3.0], [2.9453268747295143, 4.0], [4.507293352962412, 2.5], [4.466843674438013, 3.0], [3.3134785688705346, 0.5], [3.639650198964787, 2.0], [2.9516403138568674, 3.5], [4.131210582880847, 5.0], [2.4392114225260353, 4.5], [3.428699737646062, 4.5], [2.9876068663951694, 3.0], [4.145684671512073, 3.5], [5.144169642661159, 3.0], [3.643647262721901, 4.0], [2.9759684018401433, 1.5], [4.632633740216851, 3.5], [6.164328517329482, 3.5], [4.9868088609216406, 3.0], [5.639582915072498, 4.5], [4.09092695944081, 5.0], [4.414035918728703, 3.5], [4.123811254954032, 4.0], [4.954047627945289, 4.0], [3.617254368564159, 3.0], [5.941900254771433, 1.0], [5.08575220324288, 3.0], [5.261362883517733, 2.0], [4.42590931702417, 2.0], [5.5087199095222354, 4.5], [5.858090511218152, 3.5], [2.1766920752183054, 4.0], [3.152106957790029, 4.5], [1.4074827706048547, 4.0], [2.46295803385839, 3.0], [3.8988954712319313, 4.5], [2.9280995288976506, 1.0], [4.810745416856408, 3.5], [4.030766461922762, 2.5], [3.9712338218512904, 4.0], [2.3060929370925414, 1.5], [3.525850871827549, 4.5], [3.6714753807079705, 3.5], [4.252587472348565, 4.0], [5.037216930505297, 3.0], [1.4344328609626873, 4.0], [2.2657816242388127, 0.5], [3.0595150289813735, 2.5], [3.248792153307891, 2.0], [2.4415044875031815, 1.0], [6.017432199651538, 4.0], [2.379787322233062, 4.5], [5.498606684323736, 4.0], [1.8267473852748897, 2.0], [3.9228163640377796, 4.0], [4.812852030804943, 5.0], [3.8343057896882304, 4.0], [5.559717215402262, 3.0], [4.613661660692265, 2.5], [2.8032517457238195, 4.0], [5.038355906261395, 3.0], [4.528897569602307, 4.5], [2.9677923733073883, 5.0], [3.6402555125407865, 4.0], [4.654067041876161, 2.5], [4.52810446044376, 4.0], [6.254767353069054, 5.0], [5.292952015931472, 4.0], [3.791399844685168, 4.5], [3.7549672437670125, 3.0], [3.02180697878491, 4.0], [2.6889560378055775, 5.0], [4.086792654172782, 3.0], [2.1375730995863735, 2.0], [3.7441696443639874, 3.0], [1.5752342529428442, 5.0], [3.2261753311054138, 3.0], [2.9539162046120064, 2.5], [3.1871956978382054, 3.0], [3.7522956522970676, 3.0], [2.705886814536183, 3.0], [5.052874547407971, 2.5], [2.3154420997789726, 3.0], [4.438060864436864, 4.0], [3.9051273209144073, 2.5], [4.863316383247416, 5.0], [4.600974799708872, 4.0], [3.90855435335447, 2.0], [2.1686509245631584, 3.0], [4.584957032513082, 1.0], [5.410090964211301, 2.5], [5.312673513097742, 4.0], [3.2388211216876726, 4.0], [3.7679385619048835, 2.0], [3.649837494940386, 1.0], [5.39371127247459, 5.0], [5.017865390824548, 3.0], [4.045791141605534, 3.0], [4.769988577602501, 5.0], [4.937042215045556, 4.0], [3.799997162066112, 4.0], [4.114398886437721, 2.5], [2.502823412283841, 2.5], [3.580933185876193, 3.0], [4.92385557851086, 4.0], [3.3384251903910886, 4.5], [5.1746781688962, 4.0], [4.138469835424892, 2.5], [4.928172749503194, 2.0], [6.192026109665275, 3.0], [2.2462609771855324, 5.0], [3.5704117230371586, 3.0], [3.9910770762851673, 3.0], [4.179172614901996, 3.0], [4.174204748454748, 2.0], [5.5970186445057575, 3.0], [5.2095833966852725, 5.0], [3.458375243572028, 4.0], [4.803016512789604, 5.0], [4.268906047210229, 4.5], [4.835599076566817, 4.5], [2.8683903875564214, 2.0], [3.390680399148399, 3.0], [3.773821484425964, 3.5], [5.095753278156634, 4.0], [2.7787404598917393, 4.0], [2.2749277218347057, 3.5], [4.001088287720689, 5.0], [4.75693794801144, 3.0], [2.40171105229945, 3.0], [4.455523804832179, 2.0], [5.521153890822133, 3.0], [2.5233710019278566, 2.0], [2.4582052058453745, 4.0], [5.547842438669159, 4.5], [2.8437633526623247, 3.0], [3.309320690171454, 3.0], [3.733952418594988, 3.5], [5.071262762189585, 5.0], [3.675811970208317, 4.0], [3.5733695751515335, 3.0], [4.828193316433469, 3.5], [4.070414371010418, 3.5], [4.320715020219955, 2.0], [6.496568235060155, 3.0], [4.169638704562599, 3.0], [5.695424336802983, 4.5], [2.7574692061866353, 3.0], [2.7164599953927193, 3.0], [3.9333217661144384, 5.0], [2.770831593294279, 3.5], [5.685459764647122, 5.0], [1.5380692379561738, 3.0], [3.8430091032192055, 2.0], [5.967282635893982, 4.5], [5.845028159874578, 4.5], [3.8861542669094917, 3.5], [5.80961823022904, 4.5], [4.13585687093459, 4.0], [2.8867347593458774, 4.0], [3.7370229933382304, 4.5], [3.757818815389287, 2.0], [4.698921636303079, 3.5], [3.370038272192523, 2.5], [4.878258581460736, 3.0], [3.8454514393370753, 4.0], [3.4075884797935747, 4.0], [3.9025607901864263, 3.0], [3.523225538749316, 3.0], [4.387659648037381, 2.0], [3.756533594934132, 1.5], [2.7954219927437314, 3.5], [4.962131585411521, 5.0], [2.53173505902398, 1.0], [4.006404102860746, 3.5], [4.137298360695586, 3.5], [3.3500223591971663, 4.0], [3.13365782874736, 5.0], [4.325362976459839, 2.5], [3.020844143678558, 3.0], [2.864084841091028, 3.0], [3.657246831465848, 2.5], [2.7880975647628903, 3.0], [3.02141661298934, 2.5], [4.902617867954566, 4.5], [1.5184064546059954, 4.0], [3.317512175844751, 3.0], [3.165729912454591, 1.5], [4.168131764859648, 4.0], [3.687535098384789, 3.5], [3.829579927383079, 4.0], [4.6118044435491505, 5.0], [4.566697024148841, 5.0], [4.114604297839461, 4.0], [5.213713924497615, 4.0], [3.606193282006717, 3.0], [3.8870136857595106, 2.5], [3.2684778124798086, 2.5], [5.5481840869399806, 5.0], [4.4479576367313785, 3.5], [3.518709409288849, 3.5], [2.540351788909087, 4.5], [3.7599552198995836, 3.5], [2.1591004690871913, 4.0], [5.696744981884641, 3.0], [3.766380630129596, 3.0], [3.77362193053914, 5.0], [2.9409508661495387, 3.0], [3.35845674033763, 4.5], [4.715203730839719, 4.0], [4.678383224375106, 3.0], [4.794610596344258, 2.5], [3.4475729567772357, 4.5], [3.1779734624562823, 5.0], [4.382435435069046, 4.0], [4.847341673665664, 5.0], [6.37487856534926, 4.0], [6.109842364061507, 2.5], [4.997632592676195, 2.5], [3.8992617540478807, 4.0], [3.567285402279307, 1.0], [4.2925146102579905, 3.0], [2.4635726275237513, 4.0], [1.9120890193016749, 4.0], [3.669590270498541, 4.0], [3.3795981755027453, 4.0], [2.942992333472447, 4.5], [2.3413395880382835, 3.0], [3.6824118499807392, 5.0], [4.189427293886432, 3.0], [3.462590675800494, 3.0], [4.284198709900481, 5.0], [1.67851072717883, 3.5], [4.131505930834059, 2.0], [5.45793063430975, 4.5], [3.413434032328461, 1.5], [4.780398268901805, 3.5], [3.7712919482843876, 4.0], [5.262233380578514, 4.0], [3.3548917779346605, 5.0], [4.8511799953948485, 3.0], [3.083631522021046, 5.0], [2.710294355765288, 4.0], [6.122602008129861, 4.0], [3.966264121181742, 5.0], [3.894997130474688, 4.0], [3.658451418555788, 4.0], [4.7735419159685994, 4.5], [3.858246066874948, 3.0], [3.8176127355189915, 3.5], [2.8609780700383207, 3.5], [3.128927819677777, 5.0], [4.3284857747788585, 3.5], [2.2813901824641, 0.5], [5.747331392005057, 5.0], [3.1215826752142815, 5.0], [3.9215623497989527, 4.0], [2.9012189190198745, 4.0], [3.2119854618535264, 2.0], [4.5795963574756, 3.0], [3.9289101333242953, 5.0], [5.090970137232259, 3.5], [3.403554181269402, 3.0], [4.641362303181359, 3.5], [3.372476231195949, 3.0], [3.187720427247476, 3.0], [1.9761904894681561, 4.0], [4.590995883917637, 3.0], [4.18975932130358, 0.5], [3.935197772680166, 4.0], [3.8366012068163915, 3.5], [3.024055053565979, 3.0], [4.332309665008633, 3.5], [4.217038381056369, 5.0], [2.441825847021508, 4.0], [4.438411731133169, 5.0], [6.638998323645641, 1.5], [3.8855720155044935, 4.0], [3.9397060534203967, 2.5], [1.9680861158438057, 3.5], [3.462530491611732, 3.5], [4.982427076944939, 3.0], [1.9831169222223115, 5.0], [3.3657642101275353, 4.5], [2.6836849635918103, 2.0], [3.4914042954293643, 2.5], [3.926497258043846, 4.5], [5.181523646404522, 3.5], [2.639809344327182, 3.5], [3.812278868767982, 5.0], [4.128700735296812, 5.0], [2.4648912986482565, 3.5], [6.03186215192864, 2.0], [3.357369200070526, 3.5], [3.856450163004396, 4.5], [3.521441229718393, 4.0], [4.244325604082342, 4.0], [4.917249784462064, 4.0], [4.24599585883479, 5.0], [4.035087323292108, 4.0], [4.315608762099692, 4.5], [5.3971091812655, 4.0], [3.260784319906077, 3.5], [4.906260485371324, 3.5], [3.993635803436771, 3.0], [3.671608202606589, 4.0], [4.4774266220432235, 4.0], [4.306747837721503, 4.0], [1.5117698975468659, 5.0], [2.771934861040427, 3.0], [3.085512639272576, 4.0], [2.6285356955320243, 4.0], [3.2481136157117265, 2.0], [2.851526373574563, 2.0], [3.888418456254987, 2.5], [3.1405623223485075, 2.0], [2.498022935840675, 4.0], [4.71773376889351, 3.0], [5.603611562442651, 4.0], [1.874412992024238, 2.0], [2.5150897892052724, 4.0], [5.483509423191945, 3.0], [3.43576060665271, 5.0], [3.451098723689076, 4.0], [3.365749155558835, 4.0], [3.1488047887574684, 1.0], [2.7870379575043263, 3.5], [3.420986149441476, 5.0], [3.7615162687651402, 3.0], [4.30423870974295, 4.0], [4.714689567287134, 3.5], [2.9962342882671904, 4.0], [5.874001917863573, 4.0], [3.099141855672934, 3.5], [3.062311005497795, 5.0], [3.9770234509723448, 5.0], [5.146847116551782, 5.0], [4.285140849136725, 4.0], [4.13871110985493, 1.5], [3.4436469747006306, 5.0], [2.672439861244836, 3.0], [2.4481098456357873, 3.0], [3.0894092685210004, 4.0], [4.552570964326887, 3.0], [3.4354536914373837, 2.0], [3.1132359325220373, 0.5], [2.0186510755560447, 4.0], [3.9901175561516626, 2.0], [4.43852595874513, 3.0], [6.5674836446496165, 3.0], [4.792924568762453, 3.5], [3.8613281429128605, 4.0], [2.8818616664407544, 4.5], [3.610674764248945, 2.0], [5.755392317318706, 4.5], [3.4839623525006207, 1.0], [3.391931587217266, 2.5], [4.770610590427211, 0.5], [3.0432693480607718, 3.0], [7.075697291557197, 3.5], [5.966859588849345, 4.5], [3.7738512365903074, 3.0], [5.714405631606829, 3.0], [4.884589984421331, 2.0], [3.489102829791258, 5.0], [3.129401879384422, 5.0], [4.299208694204116, 4.0], [4.079137294310047, 4.0], [2.4368615426403224, 2.0], [3.553714408926494, 4.5], [4.843620319769807, 0.5], [3.499823876837169, 5.0], [3.0159365936475213, 2.5], [4.061324981131267, 4.0], [3.231545296541973, 5.0], [5.272637258065703, 3.5], [4.431646141044721, 3.0], [3.461649659721063, 3.0], [4.423652048407978, 2.5], [5.243618535285806, 3.5], [4.171698455826372, 3.5], [4.572420595448414, 3.5], [2.0466984630519027, 2.5], [5.273026182615945, 4.0], [3.4881083033384725, 3.0], [3.4000920886903794, 4.5], [4.836069605894146, 4.0], [4.186320560160507, 1.5], [3.3464991435324385, 3.5], [3.3743628082993977, 3.0], [4.193966093711829, 3.0], [3.1912076818917456, 3.0], [1.858262641311132, 5.0], [2.725101585018992, 3.5], [5.644034618709603, 3.5], [4.3214470427159934, 2.0], [4.208056548638485, 3.0], [5.0601727957424085, 4.5], [3.862178471285386, 5.0], [4.7577264898822325, 2.5], [3.8567924873949395, 4.0], [3.552960644262685, 4.5], [3.9647893223513417, 3.5], [3.6192706596822317, 4.5], [3.227447340943074, 3.0], [3.29294152111501, 4.5], [2.6106918244155866, 5.0], [4.8898019814184455, 5.0], [2.9866203900152835, 3.0], [4.0775492776737154, 4.0], [3.6615717331348283, 3.5], [3.2637711518808383, 4.0], [4.17338898128946, 1.5], [1.1648190314270823, 4.0], [4.317535200048303, 3.0], [3.123003514444709, 4.5], [0.47880692014823656, 4.0], [4.054345187649921, 3.5], [2.7138693177076427, 3.0], [4.580630138529845, 1.0], [3.5070533607243175, 4.0], [4.690169524108752, 2.0], [4.00241245315756, 3.0], [2.582840196986269, 5.0], [3.446888038414508, 5.0], [2.987401408822908, 4.0], [4.0666949864099164, 2.5], [3.9112831525179184, 3.5], [3.0870814383843728, 4.0], [3.391153648549511, 5.0], [0.7450714034337398, 2.0], [4.304195254837892, 3.0], [5.12557535780114, 2.5], [3.071531919223379, 3.0], [4.019589462938483, 2.0], [3.03820575597687, 3.5], [3.8367384839622023, 5.0], [3.8740944365278485, 4.0], [2.291324402850661, 4.0], [4.150265192320156, 4.0], [3.424927022819912, 4.0], [5.032318861566018, 1.5], [4.289121643839199, 5.0], [4.242374118450344, 3.5], [3.2437003710078463, 3.0], [3.3073975892251193, 4.5], [4.0740131867387985, 3.5], [2.1763841646765543, 5.0], [3.4104883327185185, 3.0], [3.511996461429679, 4.0], [3.781304737800028, 5.0], [3.3563777734587146, 2.0], [3.6448249776727306, 4.0], [3.7199250584486743, 3.5], [3.7448729351837318, 4.0], [4.03655223793341, 4.0], [4.843893392438938, 3.0], [4.536023449133464, 3.5], [4.740023507129615, 3.0], [4.707618563827674, 4.5], [3.2672776218505066, 4.5], [3.376134717805049, 0.5], [3.9490451357646004, 4.0], [2.5639457298647534, 3.0], [2.784913694433656, 5.0], [3.4549638527323756, 4.0], [4.908143285400302, 2.0], [3.938553485847556, 4.0], [3.1293258820375427, 5.0], [3.2267880805411435, 5.0], [4.604812395528283, 4.0], [4.292145611589627, 5.0], [5.3152710064862445, 3.5], [4.441605425057024, 4.0], [4.313517873802687, 4.5], [4.725925221818353, 3.0], [3.7870919259567697, 2.0], [4.3334978638928545, 3.0], [2.84254555378723, 1.0], [3.3119603698451274, 4.5], [4.099265921004389, 3.0], [5.593324755624594, 4.5], [4.6744338456310075, 2.5], [4.4029656068134555, 4.5], [5.154259191919922, 3.5], [3.8861959477939525, 5.0], [2.78929480131433, 5.0], [3.475717404453737, 3.5], [4.0779945823994295, 2.5], [3.294839846574062, 2.5], [1.329990392592791, 2.0], [3.8191889429039128, 4.0], [4.671896858262979, 4.5], [4.189698518888488, 3.0], [3.8266935765196757, 4.0], [3.9222106267371077, 5.0], [3.4077907269059793, 3.5], [5.004444556842907, 4.0], [3.774219559261271, 5.0], [4.344395024979796, 4.0], [2.9370917843045965, 5.0], [5.058182354834615, 4.0], [5.84428840854457, 2.0], [4.524567063116132, 3.0], [3.6626287900600825, 3.0], [4.300971537651596, 0.5], [3.463833547919348, 5.0], [2.997300412528694, 1.0], [5.47972225271866, 2.0], [2.361558448117114, 1.0], [2.06368751305718, 2.0], [5.296465835704765, 5.0], [1.9719048385862377, 4.0], [2.9489733761282313, 3.0], [1.824780254491543, 1.0], [4.791670612786238, 2.0], [3.7387923266630967, 4.0], [4.41730867661155, 3.0], [3.4026859197067463, 4.0], [3.8078606086866307, 4.0], [0.438033636723188, 2.5], [5.153274228670962, 4.0], [2.3032850278570205, 3.0], [4.310067072360583, 4.0], [4.7354927448519, 5.0], [4.842450084607099, 5.0], [4.674510669311261, 4.5], [4.4050518061825965, 3.0], [3.2602113973823146, 4.0], [2.4443781178858104, 2.0], [1.7792608400294407, 3.0], [2.557511922385647, 5.0], [2.7845318465327824, 1.5], [3.483167443136091, 3.0], [4.728376613613074, 3.0], [3.9131045515765397, 4.0], [4.01204334108401, 3.5], [3.4811557507444117, 2.5], [1.8445233575232207, 3.0], [2.810847383084995, 1.0], [4.463292885619584, 3.0], [3.0619740902068444, 4.0], [3.8785976417686463, 5.0], [4.605447964052383, 4.5], [3.45208829943148, 0.5], [5.761714200829894, 1.0], [4.801649342978635, 5.0], [3.9328017862561158, 4.5], [3.6180395839910604, 1.0], [5.542436364327854, 4.5], [4.287728071711308, 4.0], [4.210926053926716, 4.0], [4.189030960155654, 1.5], [4.815584634020926, 3.5], [4.226873679304519, 4.0], [2.677838187038626, 3.5], [3.093788345011263, 4.0], [3.7096664781613278, 4.0], [3.469254523768125, 1.0], [3.533566719949429, 4.0], [2.4241000760797107, 2.5], [3.50720158443503, 2.5], [2.8437597498585943, 4.0], [4.803799567799188, 5.0], [3.4248707247103627, 4.0], [4.0287932365099, 4.5], [3.001330135260972, 4.0], [4.969411658987638, 3.0], [3.304032095969915, 4.0], [4.625708914777567, 3.0], [4.971798250169525, 4.0], [2.815513634999499, 5.0], [3.2546281960360126, 3.5], [3.495590216759324, 3.0], [4.227617870284408, 3.0], [3.864204071520327, 5.0], [4.868980947212755, 4.0], [5.024331662699951, 5.0], [5.461505798658507, 4.5], [5.871137772343782, 5.0], [4.029706675998809, 3.5], [5.308250494630826, 3.0], [4.37942307258674, 3.5], [3.7671060769808706, 5.0], [5.76291135047488, 4.5], [5.102633821127864, 1.0], [2.7778368260441764, 3.5], [5.565605412405138, 3.5], [3.7908430875589954, 1.0], [3.322731066787291, 0.5], [4.728563033988721, 2.5], [4.122051369527094, 5.0], [1.5151341089518833, 3.0], [3.9196757447053265, 1.0], [4.344105774840795, 3.5], [4.941610544637382, 3.5], [4.768110271465764, 4.0], [2.3409113588726678, 2.0], [4.057908768028398, 4.0], [4.136477419322489, 3.0], [4.220294017764802, 3.0], [4.179238186307282, 4.0], [3.609586861407182, 3.5], [3.7704619963271413, 2.0], [4.75062292438739, 4.0], [4.121108598667232, 3.5], [5.642088284459154, 5.0], [3.358764039180973, 4.0], [4.194821835456686, 1.0], [4.815400777517834, 2.0], [2.45298319808076, 5.0], [5.224592944282696, 3.5], [5.055919143714977, 3.5], [4.901602007873823, 2.0], [4.213318473965543, 5.0], [2.545489209240502, 3.5], [4.489097517393026, 4.5], [5.15788908735658, 1.0], [2.4264202367600713, 3.0], [2.789846803232926, 3.5], [4.8794246671888155, 3.0], [3.587928586223506, 1.0], [3.7799106769267556, 2.5], [3.7092733048962123, 4.0], [3.719857198954347, 4.5], [2.444808800808778, 2.0], [3.849002458767616, 5.0], [4.351790307734969, 3.0], [3.888597261899811, 3.0], [3.694407858001733, 3.5], [4.70456233326552, 4.0], [3.5435616879550587, 4.0], [3.871619964045791, 4.0], [5.557661215678008, 4.0], [2.8790725144322344, 5.0], [2.5019164776879235, 2.0], [5.66098781900534, 3.5], [5.958666759855052, 5.0], [2.8626804121358402, 2.0], [3.4497037198141, 4.0], [3.9031821350630933, 5.0], [4.176045057142691, 3.5], [2.7614670629046483, 5.0], [3.5949014534912718, 4.0], [3.545190050807157, 4.0], [4.959849442442875, 3.5], [2.8562768038694797, 5.0], [4.087773898615275, 4.0], [2.8168434808541916, 3.0], [3.78570486589738, 4.0], [3.6061694956741834, 4.0], [3.849549725090578, 5.0], [4.7786774432567185, 3.5], [4.593445223409739, 5.0], [3.5277834664368997, 5.0], [4.186550497009738, 4.0], [4.4797230517302635, 3.5], [3.9094331973750407, 3.0], [4.383237685815863, 4.0], [4.182054643181928, 1.0], [5.012444549756732, 5.0], [3.9067981030562384, 4.5], [4.0657303440783235, 3.5], [2.7944460648692635, 5.0], [4.898757037874264, 4.5], [4.552114335417739, 5.0], [3.4750707800839162, 3.0], [5.368503530176083, 5.0], [4.845319214307541, 3.0], [4.033072171077961, 4.0], [4.010121497415149, 1.5], [2.493495952556131, 3.0], [3.8175986066574294, 3.0], [3.113669207541272, 3.0], [3.6383465959774224, 2.5], [4.5544175638136, 2.0], [5.340348484539126, 3.5], [6.43598037474708, 5.0], [3.93618983363869, 1.0], [3.9515302229843305, 2.5], [3.712753921667347, 4.0], [3.3598015251019717, 4.0], [3.2126650933640413, 4.5], [3.1464181548180634, 3.0], [3.179648112713149, 5.0], [6.660185470285257, 3.0], [3.460579475894226, 4.0], [2.1832452296951588, 2.0], [4.341634106190075, 3.5], [5.287418649224141, 4.0], [5.661691920947269, 4.5], [3.8411652449008162, 4.0], [4.19015528016365, 3.5], [4.798159033660687, 0.5], [5.206339703688812, 3.5], [4.9297266950819925, 3.0], [2.8785699754441683, 5.0], [3.8266955544265153, 3.0], [4.194912805743293, 2.0], [4.087292680347501, 4.0], [3.5790985320922726, 5.0], [4.537577785441097, 4.0], [2.9560765938609426, 2.0], [3.1244965565719314, 4.0], [4.816386893753009, 4.0], [2.9423402719776615, 4.0], [4.706656051994155, 5.0], [4.025120639573534, 1.0], [3.204046561381565, 2.5], [3.5460629370147907, 3.0], [5.030027972512843, 1.5], [3.3349518656385566, 4.0], [1.7414475358737536, 3.5], [3.044136492079202, 4.5], [2.727856618208829, 4.0], [4.762105712914692, 4.0], [4.258883391842624, 5.0], [3.9898395209122413, 3.5], [3.777943407473409, 3.5], [3.824362222483223, 3.5], [3.2871552720808284, 4.0], [3.439724022553618, 4.0], [4.573256089961058, 4.0], [5.155284324916904, 4.0], [4.409717003184395, 3.0], [2.668472014371598, 3.5], [5.100601487791073, 5.0], [5.043895623616575, 3.0], [5.39078621220849, 3.0], [4.395508379870953, 2.0], [4.11570854808314, 3.0], [3.433343561238145, 2.5], [3.4939308445603365, 4.0], [5.414967393352937, 3.0], [3.813895195079583, 3.5], [3.164513316051583, 2.5], [1.999116506665335, 3.0], [5.087323532879924, 4.0], [3.7916226637641994, 2.0], [2.834404742985918, 5.0], [2.9218844637770993, 3.0], [5.066462733700685, 3.5], [3.4959297062577126, 3.0], [4.240731307233701, 3.0], [4.791741795363801, 2.5], [4.043749852956094, 4.0], [1.7332167391804758, 5.0], [3.599225637240495, 4.0], [2.4013489736204656, 3.0], [4.591167430789461, 3.0], [3.521185959459906, 4.5], [3.4383252775880973, 5.0], [4.496703252944216, 3.5], [4.860996008124971, 3.5], [4.177432209741135, 3.0], [4.971198468667918, 4.0], [5.498937970589795, 5.0], [3.7532141477202443, 1.0], [3.8676336380524123, 3.5], [4.945814952969742, 3.0], [2.9967263473428436, 4.0], [3.341482682239415, 2.0], [2.7863632282309028, 3.0], [4.041885081449503, 4.0], [3.4237089833898344, 5.0], [3.687732639037212, 3.0], [5.175016309027032, 3.5], [4.166044416958747, 3.0], [4.6963209688595, 3.0], [4.6215867161093325, 4.0], [3.1044123188640853, 3.5], [5.146701278900521, 4.0], [4.442766191208112, 4.0], [2.9558439399077328, 2.0], [2.848193792411125, 3.0], [2.5052140554807822, 2.0], [4.343766707631463, 5.0], [3.9761599842434103, 4.5], [5.327993593994595, 5.0], [3.931900631381118, 4.0], [3.917292368493453, 3.0], [3.92080642017299, 3.0], [4.447537379744915, 3.5], [4.187022116080948, 2.5], [2.531357084182034, 4.5], [3.461771739230787, 2.0], [5.066630627695907, 2.0], [3.299255916243757, 3.0], [4.074932188257912, 3.0], [4.088660873838469, 3.0], [2.533875568942104, 3.0], [4.615496732196885, 5.0], [2.659109958151871, 3.0], [3.9437995304778575, 4.0], [4.444349367267951, 4.5], [3.067714747295438, 3.0], [4.820474643248835, 2.0], [2.1946688093468616, 4.0], [2.528948933544715, 3.5], [3.471612312955875, 4.0], [3.7458854136601776, 3.0], [4.2966766694921485, 3.0], [1.5145784391268213, 3.0], [4.023318704127862, 3.0], [3.315518322944486, 4.0], [5.4451846942732836, 4.0], [3.0094649890465908, 2.5], [5.197668560698753, 3.0], [3.6390998035521287, 3.0], [2.111533672629635, 0.5], [4.146699475646412, 5.0], [3.890700033772754, 5.0], [2.5944468292293257, 5.0], [4.76829559024927, 5.0], [2.7810629987503623, 3.5], [4.733547811158257, 3.0], [3.724157979522955, 2.0], [6.136292861980532, 4.5], [4.357887518391234, 3.5], [6.520762882251985, 5.0], [5.773064099807291, 3.0], [3.9537456146750745, 1.5], [4.245293521998341, 5.0], [3.7176480900634994, 2.5], [3.970042474091751, 0.5], [1.929432857441509, 2.5], [3.5484393214561702, 3.0], [6.846366869381292, 4.5], [4.588644285121856, 2.5], [5.287843240894212, 5.0], [2.535054110506621, 3.0], [3.601127586174355, 4.0], [4.253530691718944, 3.5], [4.116061442418268, 4.0], [4.943761560321763, 4.0], [3.5283959298597507, 3.0], [2.5773890243864863, 3.0], [3.688729601577894, 4.0], [2.72464941893639, 4.5], [2.715421177941214, 3.0], [3.4285749487802013, 4.5], [4.625587302632188, 2.0], [4.337253394745711, 4.0], [3.8808058022603515, 2.0], [3.6797046506314386, 4.0], [3.9382525420201797, 3.0], [3.530828920940504, 3.0], [2.722188566898274, 3.0], [2.7028772207722045, 5.0], [3.7598168435726387, 4.0], [2.95285169534395, 3.5], [4.1347744661802555, 3.5], [3.293280450243883, 3.0], [4.587558235274283, 3.0], [3.169112531348944, 1.0], [2.248315198428136, 3.0], [4.933537918478301, 4.0], [2.835306663922724, 3.0], [2.8593469567082557, 5.0], [3.3391571801967035, 4.0], [1.871584460155045, 4.0], [2.222666222078871, 3.0], [2.9031681963535094, 3.0], [4.563079487834404, 4.0], [5.046308409559995, 0.5], [5.287102857068471, 4.0], [4.0338062189434165, 4.0], [3.340866673058603, 3.0], [2.0012021364209454, 3.0], [5.763247192185244, 3.0], [4.665729211073288, 5.0], [2.4842328465438164, 4.0], [3.8779871649894466, 2.0], [4.532870202979855, 4.0], [3.5604541827657314, 1.0], [3.319885672762436, 3.0], [3.258416769445605, 4.0], [3.8227903485742476, 3.5], [2.8670094293976205, 5.0], [2.97544544368969, 4.0], [3.899521131870345, 3.5], [5.078014156022207, 3.0], [3.507070866897973, 4.0], [4.154932576995531, 4.0], [2.8150731219626457, 4.5], [5.101148403229026, 3.0], [4.425293029537808, 2.0], [4.899475139709356, 4.0], [4.529259663265429, 3.0], [4.027959755505217, 3.5], [5.273110305694338, 3.0], [4.408132816718641, 4.5], [3.558050417468205, 3.0], [2.8417578247999558, 3.0], [2.7382730716497448, 4.0], [3.6548268048927914, 4.5], [5.270172800732514, 5.0], [3.6999384161611, 2.0], [3.5598473874344934, 4.5], [1.6679237750698226, 3.5], [3.511113006832609, 3.0], [2.9405466738451453, 5.0], [3.6088462014024176, 0.5], [4.738003662925669, 3.0], [4.077940208803395, 0.5], [4.249582325920302, 5.0], [5.371874310606168, 4.0], [3.7198750908564886, 3.0], [4.045547217892992, 1.0], [4.381535923213533, 5.0], [4.662888270310384, 4.0], [5.640266887191449, 3.5], [2.174375145913541, 5.0], [5.129708593473819, 4.0], [3.1186478103427255, 4.0], [2.558608651606971, 3.0], [3.485396443202723, 5.0], [2.796450602188951, 2.5], [4.699254743865634, 4.5], [5.38340626316452, 3.5], [3.8315630023793625, 3.5], [3.1418775500415985, 5.0], [4.221468405642945, 1.0], [4.608190083480128, 3.0], [3.0201163413020136, 5.0], [3.6774373812753516, 3.0], [3.3119949973732337, 4.0], [3.778067693297543, 4.0], [3.8665711931004276, 4.0], [4.8173929578185035, 2.5], [3.8532634822356346, 2.0], [1.873970802405046, 5.0], [3.79660073961803, 4.0], [2.5892277474521386, 4.0], [6.14333394364252, 1.0], [3.6400348146573642, 3.0], [3.0549500591393266, 4.0], [4.859117078619342, 0.5], [3.6937650977540986, 2.0], [4.227364054828529, 4.5], [3.1091056929160716, 3.5], [4.882889068809937, 5.0], [4.597770183229648, 3.5], [6.416445417406606, 4.5], [2.8234093427600078, 5.0], [2.131392436317786, 3.0], [3.5479964447070196, 4.0], [4.129812743839986, 2.0], [3.3644483110918584, 4.0], [3.7361753590519093, 3.0], [4.6823007512685395, 4.0], [4.0231363770022375, 4.0], [4.4166418910609515, 2.0], [1.6376206385658543, 2.0], [3.7805907973340496, 4.0], [3.82632145781733, 3.0], [3.3827217071878444, 4.0], [4.0658291619397975, 5.0], [5.568216850850622, 4.0], [5.158188168852994, 3.0], [5.377241274775321, 4.0], [2.083893412290379, 4.0], [3.5965872060201156, 2.5], [3.9561319748878363, 4.5], [4.56722183316646, 3.0], [2.4466943124790115, 3.5], [3.4148403525125084, 4.0], [5.161936861806001, 5.0], [4.472108583532267, 4.0], [3.4902662354378773, 3.0], [5.105088078688215, 2.5], [2.183354046960263, 1.0], [2.7203861223852606, 3.5], [4.918919263047495, 3.0], [4.254882549704076, 4.0], [2.151696294666432, 4.0], [3.1408870119795784, 4.0], [3.6305751144509313, 4.0], [4.726719321891707, 3.5], [4.56288041921567, 3.0], [3.362755245549115, 5.0], [2.5588669660569185, 3.0], [3.8845511530973362, 3.0], [1.7847789993796765, 2.0], [3.192489895576649, 4.0], [2.263051062675256, 3.0], [3.1614207358098385, 4.0], [2.802006683143829, 3.0], [4.008201446923327, 4.0], [5.655395371463784, 3.5], [5.616003032396767, 5.0], [4.341022760010944, 4.0], [4.457070730500109, 1.0], [1.5699574745814104, 4.0], [5.896356375641397, 4.5], [3.645400141137647, 3.0], [2.9318314702221446, 4.0], [5.424483474006319, 4.0], [4.280956522833227, 3.0], [1.2191020351417234, 4.0], [3.32636211626628, 2.5], [3.7639152696460805, 4.0], [4.482511363761903, 2.5], [4.646916389792077, 0.5], [2.74678376444588, 3.0], [4.957292584217527, 2.5], [5.014890171897112, 3.5], [3.1675259385725587, 5.0], [3.5102624752194704, 5.0], [3.5291217170879348, 3.0], [4.5307795791577385, 5.0], [5.354151918375593, 4.0], [3.9915340957508607, 3.5], [4.387231538834901, 3.0], [4.57101161245226, 1.5], [2.7210378371070325, 3.0], [4.100314317315264, 3.0], [3.8076185656257615, 4.5], [3.8414541309148227, 2.0], [2.787118557638471, 3.5], [4.936409278444759, 3.0], [3.869114889798925, 2.0], [2.708132803103855, 3.0], [2.6721060570800628, 4.0], [4.1336569948334265, 3.0], [4.340586004291427, 2.5], [4.829623386344992, 2.0], [3.1725281127617895, 3.0], [3.779011460127709, 2.0], [5.123264015573054, 4.5], [4.967691075281689, 2.0], [5.740026557212985, 4.0], [2.9842826604041974, 5.0], [2.648267954527364, 4.5], [5.409338848053156, 2.0]]\n"
          ]
        }
      ]
    },
    {
      "cell_type": "code",
      "source": [
        "X_test['predicted_mf'] = predicted_ratings"
      ],
      "metadata": {
        "id": "29YJ3T1BQMm8"
      },
      "execution_count": null,
      "outputs": []
    },
    {
      "cell_type": "code",
      "source": [
        "X_test.to_csv(\"x_test_ensemble.csv\")"
      ],
      "metadata": {
        "id": "fQ2gdzLD07IP"
      },
      "execution_count": null,
      "outputs": []
    },
    {
      "cell_type": "markdown",
      "source": [
        "Training Data for the Ensemble will look something like this:"
      ],
      "metadata": {
        "id": "u8MuOBEoxMY-"
      }
    },
    {
      "cell_type": "code",
      "metadata": {
        "id": "uvDZbuQEwyoQ",
        "colab": {
          "base_uri": "https://localhost:8080/",
          "height": 363
        },
        "outputId": "6dc2c04f-fffe-4c7c-92da-7b5c6a81615b"
      },
      "source": [
        "ratings_df = pd.read_csv('ensemble_all_data.csv',index_col=False,usecols=['ubcf_rating','ibcf_rating','predicted_mf', 'rating'])\n",
        "ratings_df = ratings_df[['ubcf_rating','ibcf_rating','predicted_mf', 'rating']]\n",
        "ratings_df = ratings_df.rename({'rating':'actual'}, axis=1)\n",
        "ratings_df.head(10)"
      ],
      "execution_count": null,
      "outputs": [
        {
          "output_type": "execute_result",
          "data": {
            "text/html": [
              "<div>\n",
              "<style scoped>\n",
              "    .dataframe tbody tr th:only-of-type {\n",
              "        vertical-align: middle;\n",
              "    }\n",
              "\n",
              "    .dataframe tbody tr th {\n",
              "        vertical-align: top;\n",
              "    }\n",
              "\n",
              "    .dataframe thead th {\n",
              "        text-align: right;\n",
              "    }\n",
              "</style>\n",
              "<table border=\"1\" class=\"dataframe\">\n",
              "  <thead>\n",
              "    <tr style=\"text-align: right;\">\n",
              "      <th></th>\n",
              "      <th>ubcf_rating</th>\n",
              "      <th>ibcf_rating</th>\n",
              "      <th>predicted_mf</th>\n",
              "      <th>actual</th>\n",
              "    </tr>\n",
              "  </thead>\n",
              "  <tbody>\n",
              "    <tr>\n",
              "      <th>0</th>\n",
              "      <td>3.833333</td>\n",
              "      <td>3.916667</td>\n",
              "      <td>3.126491</td>\n",
              "      <td>4.0</td>\n",
              "    </tr>\n",
              "    <tr>\n",
              "      <th>1</th>\n",
              "      <td>4.500000</td>\n",
              "      <td>NaN</td>\n",
              "      <td>3.789080</td>\n",
              "      <td>4.0</td>\n",
              "    </tr>\n",
              "    <tr>\n",
              "      <th>2</th>\n",
              "      <td>4.333333</td>\n",
              "      <td>3.833333</td>\n",
              "      <td>4.113301</td>\n",
              "      <td>4.0</td>\n",
              "    </tr>\n",
              "    <tr>\n",
              "      <th>3</th>\n",
              "      <td>4.166667</td>\n",
              "      <td>4.250000</td>\n",
              "      <td>4.061168</td>\n",
              "      <td>5.0</td>\n",
              "    </tr>\n",
              "    <tr>\n",
              "      <th>4</th>\n",
              "      <td>4.500000</td>\n",
              "      <td>4.583333</td>\n",
              "      <td>3.069620</td>\n",
              "      <td>5.0</td>\n",
              "    </tr>\n",
              "    <tr>\n",
              "      <th>5</th>\n",
              "      <td>4.333333</td>\n",
              "      <td>NaN</td>\n",
              "      <td>4.377103</td>\n",
              "      <td>3.0</td>\n",
              "    </tr>\n",
              "    <tr>\n",
              "      <th>6</th>\n",
              "      <td>4.333333</td>\n",
              "      <td>NaN</td>\n",
              "      <td>3.073135</td>\n",
              "      <td>5.0</td>\n",
              "    </tr>\n",
              "    <tr>\n",
              "      <th>7</th>\n",
              "      <td>4.000000</td>\n",
              "      <td>4.333333</td>\n",
              "      <td>3.222274</td>\n",
              "      <td>4.0</td>\n",
              "    </tr>\n",
              "    <tr>\n",
              "      <th>8</th>\n",
              "      <td>4.500000</td>\n",
              "      <td>NaN</td>\n",
              "      <td>2.536811</td>\n",
              "      <td>5.0</td>\n",
              "    </tr>\n",
              "    <tr>\n",
              "      <th>9</th>\n",
              "      <td>4.500000</td>\n",
              "      <td>NaN</td>\n",
              "      <td>1.652030</td>\n",
              "      <td>5.0</td>\n",
              "    </tr>\n",
              "  </tbody>\n",
              "</table>\n",
              "</div>"
            ],
            "text/plain": [
              "   ubcf_rating  ibcf_rating  predicted_mf  actual\n",
              "0     3.833333     3.916667      3.126491     4.0\n",
              "1     4.500000          NaN      3.789080     4.0\n",
              "2     4.333333     3.833333      4.113301     4.0\n",
              "3     4.166667     4.250000      4.061168     5.0\n",
              "4     4.500000     4.583333      3.069620     5.0\n",
              "5     4.333333          NaN      4.377103     3.0\n",
              "6     4.333333          NaN      3.073135     5.0\n",
              "7     4.000000     4.333333      3.222274     4.0\n",
              "8     4.500000          NaN      2.536811     5.0\n",
              "9     4.500000          NaN      1.652030     5.0"
            ]
          },
          "metadata": {},
          "execution_count": 60
        }
      ]
    },
    {
      "cell_type": "markdown",
      "source": [
        "Handling Sparsity: Replace NaN values with zeros"
      ],
      "metadata": {
        "id": "U5jGE1EWySsF"
      }
    },
    {
      "cell_type": "code",
      "metadata": {
        "id": "_o2bI3uAwyoQ",
        "colab": {
          "base_uri": "https://localhost:8080/"
        },
        "outputId": "961b9593-63bb-49f5-fc6c-57c96dbcaa33"
      },
      "source": [
        "X_train = ratings_df.dropna()\n",
        "X_train.shape"
      ],
      "execution_count": null,
      "outputs": [
        {
          "output_type": "execute_result",
          "data": {
            "text/plain": [
              "(26420, 4)"
            ]
          },
          "metadata": {},
          "execution_count": 61
        }
      ]
    },
    {
      "cell_type": "code",
      "source": [
        "ratings_df = pd.read_csv('x_test_ensemble.csv',index_col=False,usecols=['ubcf_rating','ibcf_rating','predicted_mf', 'rating'])\n",
        "ratings_df = ratings_df[['ubcf_rating','ibcf_rating','predicted_mf', 'rating']]\n",
        "ratings_df = ratings_df.rename({'rating':'actual'}, axis=1)\n",
        "X_test = ratings_df.dropna()\n",
        "X_test.shape"
      ],
      "metadata": {
        "id": "COUl00P45Hza",
        "colab": {
          "base_uri": "https://localhost:8080/"
        },
        "outputId": "dce38ecd-cea9-41a2-fc42-f2000ce9def5"
      },
      "execution_count": null,
      "outputs": [
        {
          "output_type": "execute_result",
          "data": {
            "text/plain": [
              "(5562, 4)"
            ]
          },
          "metadata": {},
          "execution_count": 62
        }
      ]
    },
    {
      "cell_type": "markdown",
      "source": [
        "Convert to a Supervised Learning format: X, y"
      ],
      "metadata": {
        "id": "YSyCqKSFzGk1"
      }
    },
    {
      "cell_type": "code",
      "source": [
        "y_true = X_train['actual']\n",
        "X_train = X_train.iloc[:, :-1]\n",
        "y_true_test = X_test['actual']\n",
        "X_test = X_test.iloc[:, :-1]"
      ],
      "metadata": {
        "id": "AqBIy6FazB8l"
      },
      "execution_count": null,
      "outputs": []
    },
    {
      "cell_type": "markdown",
      "source": [
        "Evaluation using Mean Square Error(MSE)"
      ],
      "metadata": {
        "id": "y65o2ae1y5Zl"
      }
    },
    {
      "cell_type": "code",
      "metadata": {
        "id": "xCU7OxPLDHBg"
      },
      "source": [
        "def mse(y_true, y_pred):\n",
        "  return np.mean([(y_true[i] - y_pred[i])**2 for i in range(len(y_pred))])"
      ],
      "execution_count": null,
      "outputs": []
    },
    {
      "cell_type": "markdown",
      "source": [
        "### Mean"
      ],
      "metadata": {
        "id": "9uHS8mYUzssq"
      }
    },
    {
      "cell_type": "code",
      "source": [
        "y_pred = X_test.mean(axis = 1)\n",
        "# test accuracy\n",
        "print(mse(list(y_true_test), list(y_pred)))"
      ],
      "metadata": {
        "id": "i5_ueRY5zuPG",
        "colab": {
          "base_uri": "https://localhost:8080/"
        },
        "outputId": "22895401-8c24-4bf4-9f97-cc3ac25438c9"
      },
      "execution_count": null,
      "outputs": [
        {
          "output_type": "stream",
          "name": "stdout",
          "text": [
            "0.8728088405802404\n"
          ]
        }
      ]
    },
    {
      "cell_type": "markdown",
      "source": [
        "### Ordinary Least Squares (OLS)"
      ],
      "metadata": {
        "id": "Y962JnNsyea4"
      }
    },
    {
      "cell_type": "code",
      "metadata": {
        "id": "oPEOma76A6jJ",
        "colab": {
          "base_uri": "https://localhost:8080/"
        },
        "outputId": "dbcf3392-25c8-4a74-9e53-5379d483db9a"
      },
      "source": [
        "OLS = linear_model.LinearRegression(fit_intercept=False) # handle intercept explicitly\n",
        "OLS.fit(X_train,y_true)"
      ],
      "execution_count": null,
      "outputs": [
        {
          "output_type": "execute_result",
          "data": {
            "text/plain": [
              "LinearRegression(fit_intercept=False)"
            ]
          },
          "metadata": {},
          "execution_count": 66
        }
      ]
    },
    {
      "cell_type": "code",
      "source": [
        "# Predicted labels from the model, test accuracy\n",
        "y_pred = OLS.predict(X_test)\n",
        "mse(list(y_true_test), y_pred)"
      ],
      "metadata": {
        "id": "ua6eooKszZLG",
        "colab": {
          "base_uri": "https://localhost:8080/"
        },
        "outputId": "2a6ccd2e-8000-488b-8611-bb70c94bff29"
      },
      "execution_count": null,
      "outputs": [
        {
          "output_type": "execute_result",
          "data": {
            "text/plain": [
              "0.6870202588939546"
            ]
          },
          "metadata": {},
          "execution_count": 67
        }
      ]
    },
    {
      "cell_type": "markdown",
      "source": [
        "### Gradient Boosting Regressor"
      ],
      "metadata": {
        "id": "9A__lElJzStt"
      }
    },
    {
      "cell_type": "code",
      "metadata": {
        "id": "0S-ccbhUV8NS",
        "colab": {
          "base_uri": "https://localhost:8080/"
        },
        "outputId": "df452531-8ab0-4a14-f409-de4e24a06d65"
      },
      "source": [
        "gbrt = GradientBoostingRegressor(max_depth=2, n_estimators=3, learning_rate=1.0, random_state=42)\n",
        "gbrt.fit(X_train, y_true)"
      ],
      "execution_count": null,
      "outputs": [
        {
          "output_type": "execute_result",
          "data": {
            "text/plain": [
              "GradientBoostingRegressor(learning_rate=1.0, max_depth=2, n_estimators=3,\n",
              "                          random_state=42)"
            ]
          },
          "metadata": {},
          "execution_count": 68
        }
      ]
    },
    {
      "cell_type": "code",
      "metadata": {
        "id": "jQ2mcDCEFUhU",
        "colab": {
          "base_uri": "https://localhost:8080/"
        },
        "outputId": "a86ce96e-fd97-48c3-88cc-e8bf28b520e6"
      },
      "source": [
        "y_pred = gbrt.predict(X_test)\n",
        "print(mse(list(y_true_test), y_pred))"
      ],
      "execution_count": null,
      "outputs": [
        {
          "output_type": "stream",
          "name": "stdout",
          "text": [
            "0.7500779289715223\n"
          ]
        }
      ]
    },
    {
      "cell_type": "markdown",
      "source": [
        "### Support Vector Machine (SVM)"
      ],
      "metadata": {
        "id": "MP_qRToEzixI"
      }
    },
    {
      "cell_type": "code",
      "metadata": {
        "id": "H-k4c06hWAgQ",
        "colab": {
          "base_uri": "https://localhost:8080/"
        },
        "outputId": "cb3b40f7-7a9d-4b32-ab70-2ec16b5a2078"
      },
      "source": [
        "model = SVR(kernel='linear')\n",
        "model.fit(X_train, y_true)"
      ],
      "execution_count": null,
      "outputs": [
        {
          "output_type": "execute_result",
          "data": {
            "text/plain": [
              "SVR(kernel='linear')"
            ]
          },
          "metadata": {},
          "execution_count": 72
        }
      ]
    },
    {
      "cell_type": "code",
      "metadata": {
        "id": "MtimwnZDYYnq",
        "colab": {
          "base_uri": "https://localhost:8080/"
        },
        "outputId": "c5af3490-e29f-4410-d3ca-a273435c5236"
      },
      "source": [
        "model.predict(X_test)\n",
        "print(mse(list(y_true_test), y_pred))"
      ],
      "execution_count": null,
      "outputs": [
        {
          "output_type": "stream",
          "name": "stdout",
          "text": [
            "0.7500779289715223\n"
          ]
        }
      ]
    },
    {
      "cell_type": "code",
      "source": [],
      "metadata": {
        "id": "eXURHvsBiLm_"
      },
      "execution_count": null,
      "outputs": []
    }
  ]
}